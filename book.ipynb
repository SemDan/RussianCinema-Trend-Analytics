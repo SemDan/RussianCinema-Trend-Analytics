{
  "cells": [
    {
      "cell_type": "markdown",
      "metadata": {
        "id": "sIfNaMOxgFyK"
      },
      "source": [
        "## Исследование данных о российском кинопрокате\n",
        "\n"
      ]
    },
    {
      "cell_type": "code",
      "source": [
        "import matplotlib.pyplot as plt\n",
        "import pandas as pd\n",
        "import numpy as np"
      ],
      "metadata": {
        "id": "hWSPbL9lPlWZ"
      },
      "execution_count": 145,
      "outputs": []
    },
    {
      "cell_type": "markdown",
      "source": [
        "### Описание данных\n",
        "\n",
        "Таблица mkrf_movies содержит информацию из реестра прокатных удостоверений. У одного фильма может быть несколько прокатных удостоверений.\n",
        "\n",
        "- title — название фильма;\n",
        "- puNumber — номер прокатного удостоверения;\n",
        "- show_start_date — дата премьеры фильма;\n",
        "- type — тип фильма;\n",
        "- film_studio — студия-производитель;\n",
        "- production_country — страна-производитель;\n",
        "- director — режиссёр;\n",
        "- producer — продюсер;\n",
        "- age_restriction — возрастная категория;\n",
        "- refundable_support — объём возвратных средств государственной поддержки;\n",
        "- nonrefundable_support — объём невозвратных средств государственной поддержки;\n",
        "- financing_source — источник государственного финансирования;\n",
        "- budget — общий бюджет фильма;\n",
        "- ratings — рейтинг фильма на КиноПоиске;\n",
        "- genres — жанр фильма.\n",
        "\n",
        "Обратите внимание, что столбец budget уже включает в себя полный объём государственной поддержки. Данные в этом столбце указаны только для тех фильмов, которые получили государственную поддержку.\n",
        "Таблица mkrf_shows содержит сведения о показах фильмов в российских кинотеатрах.\n",
        "\n",
        "- puNumber — номер прокатного удостоверения;\n",
        "- box_office — сборы в рублях."
      ],
      "metadata": {
        "id": "xsdNF19ajp15"
      }
    },
    {
      "cell_type": "markdown",
      "metadata": {
        "id": "3bSlkCsbgFyL"
      },
      "source": [
        "### Шаг 1. Откройте файлы с данными и объедините их в один датафрейм.\n",
        "\n",
        "Объедините данные таким образом, чтобы все объекты из датасета `mkrf_movies` обязательно вошли в получившийся датафрейм.\n",
        "\n",
        "<div id=\"accordion\">\n",
        "    <div class=\"card\">\n",
        "        <div class=\"card-header\" id=\"headingThree\">\n",
        "            <button class=\"btn btn-link collapsed\" data-toggle=\"collapse\" data-target=\"#collapseHint_0\" aria-expanded=\"false\" aria-controls=\"collapseHint_0\">Подсказка</button>\n",
        "        </div>\n",
        "        <div id=\"collapseHint_0\" class=\"collapse\" aria-labelledby=\"headingThree\" data-parent=\"#accordion\">\n",
        "            <div class=\"card-body\">\n",
        "Обратите внимание на тип данных столбца, по которому будете соединять датафреймы. Тип данных этих столбцов должен быть одинаковым в обоих датафреймах.\n",
        "            </div>\n",
        "        </div>\n",
        "    </div>\n",
        "</div>"
      ]
    },
    {
      "cell_type": "code",
      "execution_count": 146,
      "metadata": {
        "id": "dw87FlzMgFyM"
      },
      "outputs": [],
      "source": [
        "df_movies = pd.read_csv('mkrf_movies.csv')\n",
        "df_shows = pd.read_csv('mkrf_shows.csv')"
      ]
    },
    {
      "cell_type": "code",
      "source": [
        "print(f'df_movies: {df_movies.shape} \\n df_shows: {df_shows.shape}')"
      ],
      "metadata": {
        "colab": {
          "base_uri": "https://localhost:8080/"
        },
        "id": "MUUlPr0cQH5G",
        "outputId": "59d864c9-002f-44bd-b61f-c7b6409e6fa1"
      },
      "execution_count": 147,
      "outputs": [
        {
          "output_type": "stream",
          "name": "stdout",
          "text": [
            "df_movies: (7486, 15) \n",
            " df_shows: (3158, 2)\n"
          ]
        }
      ]
    },
    {
      "cell_type": "code",
      "source": [
        "df_movies.head()"
      ],
      "metadata": {
        "colab": {
          "base_uri": "https://localhost:8080/",
          "height": 660
        },
        "id": "Md3FYck0P6z6",
        "outputId": "0bc83b80-5ead-4946-ed68-f18afe416dc4"
      },
      "execution_count": 148,
      "outputs": [
        {
          "output_type": "execute_result",
          "data": {
            "text/plain": [
              "                  title   puNumber           show_start_date            type  \\\n",
              "0      Открытый простор  221048915  2015-11-27T12:00:00.000Z  Художественный   \n",
              "1  Особо важное задание  111013716  2016-09-13T12:00:00.000Z  Художественный   \n",
              "2          Особо опасен  221038416  2016-10-10T12:00:00.000Z  Художественный   \n",
              "3          Особо опасен  221026916  2016-06-10T12:00:00.000Z  Художественный   \n",
              "4          Особо опасен  221030815  2015-07-29T12:00:00.000Z  Художественный   \n",
              "\n",
              "                                         film_studio production_country  \\\n",
              "0  Тачстоун Пикчерз, Кобальт Пикчерз, Бикон Пикче...                США   \n",
              "1                              Киностудия \"Мосфильм\"               СССР   \n",
              "2  Юниверсал Пикчерз, Кикстарт Продакшнз, Марк Пл...                США   \n",
              "3  Юниверсал Пикчерз, Кикстарт Продакшнз, Марк Пл...                США   \n",
              "4  Юниверсал Пикчерз, Кикстарт Продакшнз, Марк Пл...                США   \n",
              "\n",
              "            director                                           producer  \\\n",
              "0      Кевин Костнер          Дэвид Валдес, Кевин Костнер, Джейк Эбертс   \n",
              "1          Е.Матвеев                                                NaN   \n",
              "2  Тимур Бекмамбетов  Джим Лемли, Джейсон Нетер, Марк Е.Платт, Яйн Смит   \n",
              "3  Тимур Бекмамбетов  Джим Лемли, Джейсон Нетер, Марк Е.Платт, Яйн Смит   \n",
              "4  Тимур Бекмамбетов  Джим Лемли, Джейсон Нетер, Марк Е.Платт, Яйн Смит   \n",
              "\n",
              "                 age_restriction  refundable_support  nonrefundable_support  \\\n",
              "0    «18+» - запрещено для детей                 NaN                    NaN   \n",
              "1  «6+» - для детей старше 6 лет                 NaN                    NaN   \n",
              "2    «18+» - запрещено для детей                 NaN                    NaN   \n",
              "3    «18+» - запрещено для детей                 NaN                    NaN   \n",
              "4    «18+» - запрещено для детей                 NaN                    NaN   \n",
              "\n",
              "   budget financing_source ratings                     genres  \n",
              "0     NaN              NaN     7.2     боевик,драма,мелодрама  \n",
              "1     NaN              NaN     6.6              драма,военный  \n",
              "2     NaN              NaN     6.8  фантастика,боевик,триллер  \n",
              "3     NaN              NaN     6.8  фантастика,боевик,триллер  \n",
              "4     NaN              NaN     6.8  фантастика,боевик,триллер  "
            ],
            "text/html": [
              "\n",
              "  <div id=\"df-db2a2ba8-c5d3-4945-b460-debf572620cf\" class=\"colab-df-container\">\n",
              "    <div>\n",
              "<style scoped>\n",
              "    .dataframe tbody tr th:only-of-type {\n",
              "        vertical-align: middle;\n",
              "    }\n",
              "\n",
              "    .dataframe tbody tr th {\n",
              "        vertical-align: top;\n",
              "    }\n",
              "\n",
              "    .dataframe thead th {\n",
              "        text-align: right;\n",
              "    }\n",
              "</style>\n",
              "<table border=\"1\" class=\"dataframe\">\n",
              "  <thead>\n",
              "    <tr style=\"text-align: right;\">\n",
              "      <th></th>\n",
              "      <th>title</th>\n",
              "      <th>puNumber</th>\n",
              "      <th>show_start_date</th>\n",
              "      <th>type</th>\n",
              "      <th>film_studio</th>\n",
              "      <th>production_country</th>\n",
              "      <th>director</th>\n",
              "      <th>producer</th>\n",
              "      <th>age_restriction</th>\n",
              "      <th>refundable_support</th>\n",
              "      <th>nonrefundable_support</th>\n",
              "      <th>budget</th>\n",
              "      <th>financing_source</th>\n",
              "      <th>ratings</th>\n",
              "      <th>genres</th>\n",
              "    </tr>\n",
              "  </thead>\n",
              "  <tbody>\n",
              "    <tr>\n",
              "      <th>0</th>\n",
              "      <td>Открытый простор</td>\n",
              "      <td>221048915</td>\n",
              "      <td>2015-11-27T12:00:00.000Z</td>\n",
              "      <td>Художественный</td>\n",
              "      <td>Тачстоун Пикчерз, Кобальт Пикчерз, Бикон Пикче...</td>\n",
              "      <td>США</td>\n",
              "      <td>Кевин Костнер</td>\n",
              "      <td>Дэвид Валдес, Кевин Костнер, Джейк Эбертс</td>\n",
              "      <td>«18+» - запрещено для детей</td>\n",
              "      <td>NaN</td>\n",
              "      <td>NaN</td>\n",
              "      <td>NaN</td>\n",
              "      <td>NaN</td>\n",
              "      <td>7.2</td>\n",
              "      <td>боевик,драма,мелодрама</td>\n",
              "    </tr>\n",
              "    <tr>\n",
              "      <th>1</th>\n",
              "      <td>Особо важное задание</td>\n",
              "      <td>111013716</td>\n",
              "      <td>2016-09-13T12:00:00.000Z</td>\n",
              "      <td>Художественный</td>\n",
              "      <td>Киностудия \"Мосфильм\"</td>\n",
              "      <td>СССР</td>\n",
              "      <td>Е.Матвеев</td>\n",
              "      <td>NaN</td>\n",
              "      <td>«6+» - для детей старше 6 лет</td>\n",
              "      <td>NaN</td>\n",
              "      <td>NaN</td>\n",
              "      <td>NaN</td>\n",
              "      <td>NaN</td>\n",
              "      <td>6.6</td>\n",
              "      <td>драма,военный</td>\n",
              "    </tr>\n",
              "    <tr>\n",
              "      <th>2</th>\n",
              "      <td>Особо опасен</td>\n",
              "      <td>221038416</td>\n",
              "      <td>2016-10-10T12:00:00.000Z</td>\n",
              "      <td>Художественный</td>\n",
              "      <td>Юниверсал Пикчерз, Кикстарт Продакшнз, Марк Пл...</td>\n",
              "      <td>США</td>\n",
              "      <td>Тимур Бекмамбетов</td>\n",
              "      <td>Джим Лемли, Джейсон Нетер, Марк Е.Платт, Яйн Смит</td>\n",
              "      <td>«18+» - запрещено для детей</td>\n",
              "      <td>NaN</td>\n",
              "      <td>NaN</td>\n",
              "      <td>NaN</td>\n",
              "      <td>NaN</td>\n",
              "      <td>6.8</td>\n",
              "      <td>фантастика,боевик,триллер</td>\n",
              "    </tr>\n",
              "    <tr>\n",
              "      <th>3</th>\n",
              "      <td>Особо опасен</td>\n",
              "      <td>221026916</td>\n",
              "      <td>2016-06-10T12:00:00.000Z</td>\n",
              "      <td>Художественный</td>\n",
              "      <td>Юниверсал Пикчерз, Кикстарт Продакшнз, Марк Пл...</td>\n",
              "      <td>США</td>\n",
              "      <td>Тимур Бекмамбетов</td>\n",
              "      <td>Джим Лемли, Джейсон Нетер, Марк Е.Платт, Яйн Смит</td>\n",
              "      <td>«18+» - запрещено для детей</td>\n",
              "      <td>NaN</td>\n",
              "      <td>NaN</td>\n",
              "      <td>NaN</td>\n",
              "      <td>NaN</td>\n",
              "      <td>6.8</td>\n",
              "      <td>фантастика,боевик,триллер</td>\n",
              "    </tr>\n",
              "    <tr>\n",
              "      <th>4</th>\n",
              "      <td>Особо опасен</td>\n",
              "      <td>221030815</td>\n",
              "      <td>2015-07-29T12:00:00.000Z</td>\n",
              "      <td>Художественный</td>\n",
              "      <td>Юниверсал Пикчерз, Кикстарт Продакшнз, Марк Пл...</td>\n",
              "      <td>США</td>\n",
              "      <td>Тимур Бекмамбетов</td>\n",
              "      <td>Джим Лемли, Джейсон Нетер, Марк Е.Платт, Яйн Смит</td>\n",
              "      <td>«18+» - запрещено для детей</td>\n",
              "      <td>NaN</td>\n",
              "      <td>NaN</td>\n",
              "      <td>NaN</td>\n",
              "      <td>NaN</td>\n",
              "      <td>6.8</td>\n",
              "      <td>фантастика,боевик,триллер</td>\n",
              "    </tr>\n",
              "  </tbody>\n",
              "</table>\n",
              "</div>\n",
              "    <div class=\"colab-df-buttons\">\n",
              "\n",
              "  <div class=\"colab-df-container\">\n",
              "    <button class=\"colab-df-convert\" onclick=\"convertToInteractive('df-db2a2ba8-c5d3-4945-b460-debf572620cf')\"\n",
              "            title=\"Convert this dataframe to an interactive table.\"\n",
              "            style=\"display:none;\">\n",
              "\n",
              "  <svg xmlns=\"http://www.w3.org/2000/svg\" height=\"24px\" viewBox=\"0 -960 960 960\">\n",
              "    <path d=\"M120-120v-720h720v720H120Zm60-500h600v-160H180v160Zm220 220h160v-160H400v160Zm0 220h160v-160H400v160ZM180-400h160v-160H180v160Zm440 0h160v-160H620v160ZM180-180h160v-160H180v160Zm440 0h160v-160H620v160Z\"/>\n",
              "  </svg>\n",
              "    </button>\n",
              "\n",
              "  <style>\n",
              "    .colab-df-container {\n",
              "      display:flex;\n",
              "      gap: 12px;\n",
              "    }\n",
              "\n",
              "    .colab-df-convert {\n",
              "      background-color: #E8F0FE;\n",
              "      border: none;\n",
              "      border-radius: 50%;\n",
              "      cursor: pointer;\n",
              "      display: none;\n",
              "      fill: #1967D2;\n",
              "      height: 32px;\n",
              "      padding: 0 0 0 0;\n",
              "      width: 32px;\n",
              "    }\n",
              "\n",
              "    .colab-df-convert:hover {\n",
              "      background-color: #E2EBFA;\n",
              "      box-shadow: 0px 1px 2px rgba(60, 64, 67, 0.3), 0px 1px 3px 1px rgba(60, 64, 67, 0.15);\n",
              "      fill: #174EA6;\n",
              "    }\n",
              "\n",
              "    .colab-df-buttons div {\n",
              "      margin-bottom: 4px;\n",
              "    }\n",
              "\n",
              "    [theme=dark] .colab-df-convert {\n",
              "      background-color: #3B4455;\n",
              "      fill: #D2E3FC;\n",
              "    }\n",
              "\n",
              "    [theme=dark] .colab-df-convert:hover {\n",
              "      background-color: #434B5C;\n",
              "      box-shadow: 0px 1px 3px 1px rgba(0, 0, 0, 0.15);\n",
              "      filter: drop-shadow(0px 1px 2px rgba(0, 0, 0, 0.3));\n",
              "      fill: #FFFFFF;\n",
              "    }\n",
              "  </style>\n",
              "\n",
              "    <script>\n",
              "      const buttonEl =\n",
              "        document.querySelector('#df-db2a2ba8-c5d3-4945-b460-debf572620cf button.colab-df-convert');\n",
              "      buttonEl.style.display =\n",
              "        google.colab.kernel.accessAllowed ? 'block' : 'none';\n",
              "\n",
              "      async function convertToInteractive(key) {\n",
              "        const element = document.querySelector('#df-db2a2ba8-c5d3-4945-b460-debf572620cf');\n",
              "        const dataTable =\n",
              "          await google.colab.kernel.invokeFunction('convertToInteractive',\n",
              "                                                    [key], {});\n",
              "        if (!dataTable) return;\n",
              "\n",
              "        const docLinkHtml = 'Like what you see? Visit the ' +\n",
              "          '<a target=\"_blank\" href=https://colab.research.google.com/notebooks/data_table.ipynb>data table notebook</a>'\n",
              "          + ' to learn more about interactive tables.';\n",
              "        element.innerHTML = '';\n",
              "        dataTable['output_type'] = 'display_data';\n",
              "        await google.colab.output.renderOutput(dataTable, element);\n",
              "        const docLink = document.createElement('div');\n",
              "        docLink.innerHTML = docLinkHtml;\n",
              "        element.appendChild(docLink);\n",
              "      }\n",
              "    </script>\n",
              "  </div>\n",
              "\n",
              "\n",
              "<div id=\"df-4fa64587-b54a-4ec2-8b48-bb997a61e387\">\n",
              "  <button class=\"colab-df-quickchart\" onclick=\"quickchart('df-4fa64587-b54a-4ec2-8b48-bb997a61e387')\"\n",
              "            title=\"Suggest charts\"\n",
              "            style=\"display:none;\">\n",
              "\n",
              "<svg xmlns=\"http://www.w3.org/2000/svg\" height=\"24px\"viewBox=\"0 0 24 24\"\n",
              "     width=\"24px\">\n",
              "    <g>\n",
              "        <path d=\"M19 3H5c-1.1 0-2 .9-2 2v14c0 1.1.9 2 2 2h14c1.1 0 2-.9 2-2V5c0-1.1-.9-2-2-2zM9 17H7v-7h2v7zm4 0h-2V7h2v10zm4 0h-2v-4h2v4z\"/>\n",
              "    </g>\n",
              "</svg>\n",
              "  </button>\n",
              "\n",
              "<style>\n",
              "  .colab-df-quickchart {\n",
              "      --bg-color: #E8F0FE;\n",
              "      --fill-color: #1967D2;\n",
              "      --hover-bg-color: #E2EBFA;\n",
              "      --hover-fill-color: #174EA6;\n",
              "      --disabled-fill-color: #AAA;\n",
              "      --disabled-bg-color: #DDD;\n",
              "  }\n",
              "\n",
              "  [theme=dark] .colab-df-quickchart {\n",
              "      --bg-color: #3B4455;\n",
              "      --fill-color: #D2E3FC;\n",
              "      --hover-bg-color: #434B5C;\n",
              "      --hover-fill-color: #FFFFFF;\n",
              "      --disabled-bg-color: #3B4455;\n",
              "      --disabled-fill-color: #666;\n",
              "  }\n",
              "\n",
              "  .colab-df-quickchart {\n",
              "    background-color: var(--bg-color);\n",
              "    border: none;\n",
              "    border-radius: 50%;\n",
              "    cursor: pointer;\n",
              "    display: none;\n",
              "    fill: var(--fill-color);\n",
              "    height: 32px;\n",
              "    padding: 0;\n",
              "    width: 32px;\n",
              "  }\n",
              "\n",
              "  .colab-df-quickchart:hover {\n",
              "    background-color: var(--hover-bg-color);\n",
              "    box-shadow: 0 1px 2px rgba(60, 64, 67, 0.3), 0 1px 3px 1px rgba(60, 64, 67, 0.15);\n",
              "    fill: var(--button-hover-fill-color);\n",
              "  }\n",
              "\n",
              "  .colab-df-quickchart-complete:disabled,\n",
              "  .colab-df-quickchart-complete:disabled:hover {\n",
              "    background-color: var(--disabled-bg-color);\n",
              "    fill: var(--disabled-fill-color);\n",
              "    box-shadow: none;\n",
              "  }\n",
              "\n",
              "  .colab-df-spinner {\n",
              "    border: 2px solid var(--fill-color);\n",
              "    border-color: transparent;\n",
              "    border-bottom-color: var(--fill-color);\n",
              "    animation:\n",
              "      spin 1s steps(1) infinite;\n",
              "  }\n",
              "\n",
              "  @keyframes spin {\n",
              "    0% {\n",
              "      border-color: transparent;\n",
              "      border-bottom-color: var(--fill-color);\n",
              "      border-left-color: var(--fill-color);\n",
              "    }\n",
              "    20% {\n",
              "      border-color: transparent;\n",
              "      border-left-color: var(--fill-color);\n",
              "      border-top-color: var(--fill-color);\n",
              "    }\n",
              "    30% {\n",
              "      border-color: transparent;\n",
              "      border-left-color: var(--fill-color);\n",
              "      border-top-color: var(--fill-color);\n",
              "      border-right-color: var(--fill-color);\n",
              "    }\n",
              "    40% {\n",
              "      border-color: transparent;\n",
              "      border-right-color: var(--fill-color);\n",
              "      border-top-color: var(--fill-color);\n",
              "    }\n",
              "    60% {\n",
              "      border-color: transparent;\n",
              "      border-right-color: var(--fill-color);\n",
              "    }\n",
              "    80% {\n",
              "      border-color: transparent;\n",
              "      border-right-color: var(--fill-color);\n",
              "      border-bottom-color: var(--fill-color);\n",
              "    }\n",
              "    90% {\n",
              "      border-color: transparent;\n",
              "      border-bottom-color: var(--fill-color);\n",
              "    }\n",
              "  }\n",
              "</style>\n",
              "\n",
              "  <script>\n",
              "    async function quickchart(key) {\n",
              "      const quickchartButtonEl =\n",
              "        document.querySelector('#' + key + ' button');\n",
              "      quickchartButtonEl.disabled = true;  // To prevent multiple clicks.\n",
              "      quickchartButtonEl.classList.add('colab-df-spinner');\n",
              "      try {\n",
              "        const charts = await google.colab.kernel.invokeFunction(\n",
              "            'suggestCharts', [key], {});\n",
              "      } catch (error) {\n",
              "        console.error('Error during call to suggestCharts:', error);\n",
              "      }\n",
              "      quickchartButtonEl.classList.remove('colab-df-spinner');\n",
              "      quickchartButtonEl.classList.add('colab-df-quickchart-complete');\n",
              "    }\n",
              "    (() => {\n",
              "      let quickchartButtonEl =\n",
              "        document.querySelector('#df-4fa64587-b54a-4ec2-8b48-bb997a61e387 button');\n",
              "      quickchartButtonEl.style.display =\n",
              "        google.colab.kernel.accessAllowed ? 'block' : 'none';\n",
              "    })();\n",
              "  </script>\n",
              "</div>\n",
              "    </div>\n",
              "  </div>\n"
            ],
            "application/vnd.google.colaboratory.intrinsic+json": {
              "type": "dataframe",
              "variable_name": "df_movies",
              "summary": "{\n  \"name\": \"df_movies\",\n  \"rows\": 7486,\n  \"fields\": [\n    {\n      \"column\": \"title\",\n      \"properties\": {\n        \"dtype\": \"string\",\n        \"num_unique_values\": 6772,\n        \"samples\": [\n          \"\\u041c\\u0430\\u043b\\u0435\\u043d\\u044c\\u043a\\u0438\\u0435 \\u043b\\u044e\\u0434\\u0438\",\n          \"\\u0412\\u0434\\u0440\\u0435\\u0431\\u0435\\u0437\\u0433\\u0438_\",\n          \"\\u041c\\u043e\\u043d\\u043e\\u043b\\u043e\\u0433 \\u0432 4-\\u0445 \\u0447\\u0430\\u0441\\u0442\\u044f\\u0445. \\u0410\\u043b\\u0435\\u043a\\u0441\\u0430\\u043d\\u0434\\u0440 \\u041a\\u0430\\u043b\\u044f\\u0433\\u0438\\u043d\"\n        ],\n        \"semantic_type\": \"\",\n        \"description\": \"\"\n      }\n    },\n    {\n      \"column\": \"puNumber\",\n      \"properties\": {\n        \"dtype\": \"string\",\n        \"num_unique_values\": 7484,\n        \"samples\": [\n          \"111019015\",\n          \"124003519\",\n          \"111001416\"\n        ],\n        \"semantic_type\": \"\",\n        \"description\": \"\"\n      }\n    },\n    {\n      \"column\": \"show_start_date\",\n      \"properties\": {\n        \"dtype\": \"object\",\n        \"num_unique_values\": 1965,\n        \"samples\": [\n          \"2019-10-26T12:00:00.000Z\",\n          \"2011-11-18T12:00:00.000Z\",\n          \"2017-03-21T12:00:00.000Z\"\n        ],\n        \"semantic_type\": \"\",\n        \"description\": \"\"\n      }\n    },\n    {\n      \"column\": \"type\",\n      \"properties\": {\n        \"dtype\": \"category\",\n        \"num_unique_values\": 8,\n        \"samples\": [\n          \"\\u0410\\u043d\\u0438\\u043c\\u0430\\u0446\\u0438\\u043e\\u043d\\u043d\\u044b\\u0439\",\n          \" \\u0425\\u0443\\u0434\\u043e\\u0436\\u0435\\u0441\\u0442\\u0432\\u0435\\u043d\\u043d\\u044b\\u0439\",\n          \"\\u0425\\u0443\\u0434\\u043e\\u0436\\u0435\\u0441\\u0442\\u0432\\u0435\\u043d\\u043d\\u044b\\u0439\"\n        ],\n        \"semantic_type\": \"\",\n        \"description\": \"\"\n      }\n    },\n    {\n      \"column\": \"film_studio\",\n      \"properties\": {\n        \"dtype\": \"string\",\n        \"num_unique_values\": 5490,\n        \"samples\": [\n          \"\\u041e\\u041e\\u041e \\\"\\u041a\\u0438\\u043d\\u043e\\u0441\\u0442\\u0443\\u0434\\u0438\\u044f \\u0410\\u0437\\u0438\\u044f-\\u0444\\u0438\\u043b\\u044c\\u043c\\\"\",\n          \"\\u0411\\u0443\\u0435\\u043d\\u0430 \\u0412\\u0438\\u0441\\u0442\\u0430 \\u0418\\u043d\\u0442\\u0435\\u0440\\u043d\\u044d\\u0448\\u043d\\u043b \\u0424\\u0438\\u043b\\u043c \\u041f\\u0440\\u043e\\u0434\\u0430\\u043a\\u0448\\u043d, \\u0424\\u0438\\u043b\\u044c\\u043c\\u0448\\u0442\\u0438\\u0444\\u0442\\u0443\\u043d\\u0433 \\u0421\\u0435\\u0432\\u0435\\u0440\\u043d\\u044b\\u0439 \\u0420\\u0435\\u0439\\u043d-\\u0412\\u0435\\u0441\\u0442\\u0444\\u0430\\u043b\\u0438\\u044f, \\u041c\\u0438\\u0441\\u0442\\u0435\\u0440 \\u0411\\u0440\\u0430\\u0443\\u043d \\u0418\\u043d\\u0442\\u0435\\u0440\\u0442\\u0435\\u0439\\u043d\\u043c\\u0435\\u043d\\u0442, \\u0411\\u044d\\u0440\\u0444\\u0443\\u0442 \\u0424\\u0438\\u043b\\u043c\\u0441\",\n          \"\\u041f\\u043e\\u0442\\u0431\\u043e\\u0439\\u043b\\u0435\\u0440 \\u041f\\u0440\\u043e\\u0434\\u0430\\u043a\\u0448\\u043d\\u0437, \\u042d\\u043f\\u0441\\u0438\\u043b\\u043e\\u043d \\u041c\\u043e\\u0443\\u0448\\u043d \\u041f\\u0438\\u043a\\u0447\\u0435\\u0440\\u0437, \\u0421\\u043a\\u0430\\u0439\\u043e\\u043d \\u0424\\u0438\\u043b\\u043c\\u0437 \\u041b\\u0438\\u043c\\u0438\\u0442\\u0435\\u0434, \\u042e\\u041a \\u0424\\u0438\\u043b\\u043c \\u041a\\u0430\\u0443\\u043d\\u0441\\u0438\\u043b\"\n        ],\n        \"semantic_type\": \"\",\n        \"description\": \"\"\n      }\n    },\n    {\n      \"column\": \"production_country\",\n      \"properties\": {\n        \"dtype\": \"category\",\n        \"num_unique_values\": 950,\n        \"samples\": [\n          \"\\u0424\\u0440\\u0430\\u043d\\u0446\\u0438\\u044f-\\u0418\\u043d\\u0434\\u0438\\u044f\",\n          \"\\u0418\\u0442\\u0430\\u043b\\u0438\\u044f - \\u0411\\u0435\\u043b\\u044c\\u0433\\u0438\\u044f - \\u0424\\u0440\\u0430\\u043d\\u0446\\u0438\\u044f\",\n          \"\\u0421\\u0428\\u0410 - \\u041e\\u0431\\u044a\\u0435\\u0434\\u0438\\u043d\\u0435\\u043d\\u043d\\u044b\\u0435 \\u0410\\u0440\\u0430\\u0431\\u0441\\u043a\\u0438\\u0435 \\u042d\\u043c\\u0438\\u0440\\u0430\\u0442\\u044b\"\n        ],\n        \"semantic_type\": \"\",\n        \"description\": \"\"\n      }\n    },\n    {\n      \"column\": \"director\",\n      \"properties\": {\n        \"dtype\": \"string\",\n        \"num_unique_values\": 4811,\n        \"samples\": [\n          \"\\u0414\\u0430\\u043d\\u0438\\u044d\\u043b \\u0410\\u0443\\u0433\\u0443\\u0441\\u0442\\u0443\",\n          \"\\u0410.\\u041c\\u0430\\u0447\\u0435\\u0440\\u0435\\u0442\",\n          \"\\u0422\\u043e\\u043d\\u0438 \\u0413\\u0438\\u043b\\u0440\\u043e\\u0439\"\n        ],\n        \"semantic_type\": \"\",\n        \"description\": \"\"\n      }\n    },\n    {\n      \"column\": \"producer\",\n      \"properties\": {\n        \"dtype\": \"string\",\n        \"num_unique_values\": 5349,\n        \"samples\": [\n          \"\\u042d\\u043b\\u0438\\u0437\\u0430\\u0431\\u0435\\u0442 \\u0411\\u044d\\u0439\\u043a\\u0435\\u0440, \\u041a\\u0430\\u0439\\u043b \\u041a\\u0435\\u0440\\u043d\\u0430\\u043d\",\n          \"\\u041a\\u0440\\u0438\\u0441\\u0442\\u0438\\u043d \\u0411\\u0435\\u0440\\u0440, \\u0411\\u0440\\u0430\\u0439\\u044d\\u043c \\u0422\\u0435\\u0439\\u043b\\u043e\\u0440\",\n          \"\\u0421\\u0430\\u043d\\u0434\\u0440\\u043e \\u0410\\u0433\\u0438\\u043b\\u044f\\u0440, \\u041b\\u0443\\u0438\\u0441 \\u0423\\u0440\\u0431\\u0430\\u043d\\u043e, \\u041c\\u0430\\u0440\\u0435\\u043d \\u042d\\u0434\"\n        ],\n        \"semantic_type\": \"\",\n        \"description\": \"\"\n      }\n    },\n    {\n      \"column\": \"age_restriction\",\n      \"properties\": {\n        \"dtype\": \"category\",\n        \"num_unique_values\": 5,\n        \"samples\": [\n          \"\\u00ab6+\\u00bb - \\u0434\\u043b\\u044f \\u0434\\u0435\\u0442\\u0435\\u0439 \\u0441\\u0442\\u0430\\u0440\\u0448\\u0435 6 \\u043b\\u0435\\u0442\",\n          \"\\u00ab0+\\u00bb - \\u0434\\u043b\\u044f \\u043b\\u044e\\u0431\\u043e\\u0439 \\u0437\\u0440\\u0438\\u0442\\u0435\\u043b\\u044c\\u0441\\u043a\\u043e\\u0439 \\u0430\\u0443\\u0434\\u0438\\u0442\\u043e\\u0440\\u0438\\u0438\",\n          \"\\u00ab12+\\u00bb - \\u0434\\u043b\\u044f \\u0434\\u0435\\u0442\\u0435\\u0439 \\u0441\\u0442\\u0430\\u0440\\u0448\\u0435 12 \\u043b\\u0435\\u0442\"\n        ],\n        \"semantic_type\": \"\",\n        \"description\": \"\"\n      }\n    },\n    {\n      \"column\": \"refundable_support\",\n      \"properties\": {\n        \"dtype\": \"number\",\n        \"std\": 24916555.26364432,\n        \"min\": 0.0,\n        \"max\": 180000000.0,\n        \"num_unique_values\": 34,\n        \"samples\": [\n          3500000.0,\n          110000000.0,\n          7346881.0\n        ],\n        \"semantic_type\": \"\",\n        \"description\": \"\"\n      }\n    },\n    {\n      \"column\": \"nonrefundable_support\",\n      \"properties\": {\n        \"dtype\": \"number\",\n        \"std\": 59980117.923300624,\n        \"min\": 0.0,\n        \"max\": 400000000.0,\n        \"num_unique_values\": 75,\n        \"samples\": [\n          25000000.0,\n          225000000.0,\n          40000000.0\n        ],\n        \"semantic_type\": \"\",\n        \"description\": \"\"\n      }\n    },\n    {\n      \"column\": \"budget\",\n      \"properties\": {\n        \"dtype\": \"number\",\n        \"std\": 188588333.1151583,\n        \"min\": 0.0,\n        \"max\": 2305074303.0,\n        \"num_unique_values\": 290,\n        \"samples\": [\n          211810247.0,\n          47200000.0,\n          112000000.0\n        ],\n        \"semantic_type\": \"\",\n        \"description\": \"\"\n      }\n    },\n    {\n      \"column\": \"financing_source\",\n      \"properties\": {\n        \"dtype\": \"category\",\n        \"num_unique_values\": 3,\n        \"samples\": [\n          \"\\u041c\\u0438\\u043d\\u0438\\u0441\\u0442\\u0435\\u0440\\u0441\\u0442\\u0432\\u043e \\u043a\\u0443\\u043b\\u044c\\u0442\\u0443\\u0440\\u044b\",\n          \"\\u0424\\u043e\\u043d\\u0434 \\u043a\\u0438\\u043d\\u043e\",\n          \"\\u041c\\u0438\\u043d\\u0438\\u0441\\u0442\\u0435\\u0440\\u0441\\u0442\\u0432\\u043e \\u043a\\u0443\\u043b\\u044c\\u0442\\u0443\\u0440\\u044b, \\u0424\\u043e\\u043d\\u0434 \\u043a\\u0438\\u043d\\u043e\"\n        ],\n        \"semantic_type\": \"\",\n        \"description\": \"\"\n      }\n    },\n    {\n      \"column\": \"ratings\",\n      \"properties\": {\n        \"dtype\": \"category\",\n        \"num_unique_values\": 94,\n        \"samples\": [\n          \"4.5\",\n          \"6.7\",\n          \"3.9\"\n        ],\n        \"semantic_type\": \"\",\n        \"description\": \"\"\n      }\n    },\n    {\n      \"column\": \"genres\",\n      \"properties\": {\n        \"dtype\": \"category\",\n        \"num_unique_values\": 742,\n        \"samples\": [\n          \"\\u0443\\u0436\\u0430\\u0441\\u044b,\\u0444\\u044d\\u043d\\u0442\\u0435\\u0437\\u0438,\\u0442\\u0440\\u0438\\u043b\\u043b\\u0435\\u0440\",\n          \"\\u0444\\u044d\\u043d\\u0442\\u0435\\u0437\\u0438,\\u0431\\u043e\\u0435\\u0432\\u0438\\u043a,\\u0442\\u0440\\u0438\\u043b\\u043b\\u0435\\u0440\",\n          \"\\u043a\\u043e\\u043c\\u0435\\u0434\\u0438\\u044f,\\u043f\\u0440\\u0438\\u043a\\u043b\\u044e\\u0447\\u0435\\u043d\\u0438\\u044f,\\u0444\\u044d\\u043d\\u0442\\u0435\\u0437\\u0438\"\n        ],\n        \"semantic_type\": \"\",\n        \"description\": \"\"\n      }\n    }\n  ]\n}"
            }
          },
          "metadata": {},
          "execution_count": 148
        }
      ]
    },
    {
      "cell_type": "code",
      "source": [
        "df_movies.info()"
      ],
      "metadata": {
        "colab": {
          "base_uri": "https://localhost:8080/"
        },
        "id": "cl3feIMVdXJp",
        "outputId": "91c2e662-bc9f-4c26-eeae-a5202ad070bb"
      },
      "execution_count": 149,
      "outputs": [
        {
          "output_type": "stream",
          "name": "stdout",
          "text": [
            "<class 'pandas.core.frame.DataFrame'>\n",
            "RangeIndex: 7486 entries, 0 to 7485\n",
            "Data columns (total 15 columns):\n",
            " #   Column                 Non-Null Count  Dtype  \n",
            "---  ------                 --------------  -----  \n",
            " 0   title                  7486 non-null   object \n",
            " 1   puNumber               7486 non-null   object \n",
            " 2   show_start_date        7486 non-null   object \n",
            " 3   type                   7486 non-null   object \n",
            " 4   film_studio            7468 non-null   object \n",
            " 5   production_country     7484 non-null   object \n",
            " 6   director               7477 non-null   object \n",
            " 7   producer               6918 non-null   object \n",
            " 8   age_restriction        7486 non-null   object \n",
            " 9   refundable_support     332 non-null    float64\n",
            " 10  nonrefundable_support  332 non-null    float64\n",
            " 11  budget                 332 non-null    float64\n",
            " 12  financing_source       332 non-null    object \n",
            " 13  ratings                6519 non-null   object \n",
            " 14  genres                 6510 non-null   object \n",
            "dtypes: float64(3), object(12)\n",
            "memory usage: 877.4+ KB\n"
          ]
        }
      ]
    },
    {
      "cell_type": "code",
      "source": [
        "df_shows.head()"
      ],
      "metadata": {
        "colab": {
          "base_uri": "https://localhost:8080/",
          "height": 206
        },
        "id": "pHuBotomP-PS",
        "outputId": "29d0980c-25c4-43c3-d643-87b04dc8c773"
      },
      "execution_count": 150,
      "outputs": [
        {
          "output_type": "execute_result",
          "data": {
            "text/plain": [
              "    puNumber    box_office\n",
              "0  111000113  2.450000e+03\n",
              "1  111000115  6.104000e+04\n",
              "2  111000116  1.530300e+08\n",
              "3  111000117  1.226096e+07\n",
              "4  111000118  1.636841e+08"
            ],
            "text/html": [
              "\n",
              "  <div id=\"df-20f2f794-6067-44d5-8cf9-c865d995f381\" class=\"colab-df-container\">\n",
              "    <div>\n",
              "<style scoped>\n",
              "    .dataframe tbody tr th:only-of-type {\n",
              "        vertical-align: middle;\n",
              "    }\n",
              "\n",
              "    .dataframe tbody tr th {\n",
              "        vertical-align: top;\n",
              "    }\n",
              "\n",
              "    .dataframe thead th {\n",
              "        text-align: right;\n",
              "    }\n",
              "</style>\n",
              "<table border=\"1\" class=\"dataframe\">\n",
              "  <thead>\n",
              "    <tr style=\"text-align: right;\">\n",
              "      <th></th>\n",
              "      <th>puNumber</th>\n",
              "      <th>box_office</th>\n",
              "    </tr>\n",
              "  </thead>\n",
              "  <tbody>\n",
              "    <tr>\n",
              "      <th>0</th>\n",
              "      <td>111000113</td>\n",
              "      <td>2.450000e+03</td>\n",
              "    </tr>\n",
              "    <tr>\n",
              "      <th>1</th>\n",
              "      <td>111000115</td>\n",
              "      <td>6.104000e+04</td>\n",
              "    </tr>\n",
              "    <tr>\n",
              "      <th>2</th>\n",
              "      <td>111000116</td>\n",
              "      <td>1.530300e+08</td>\n",
              "    </tr>\n",
              "    <tr>\n",
              "      <th>3</th>\n",
              "      <td>111000117</td>\n",
              "      <td>1.226096e+07</td>\n",
              "    </tr>\n",
              "    <tr>\n",
              "      <th>4</th>\n",
              "      <td>111000118</td>\n",
              "      <td>1.636841e+08</td>\n",
              "    </tr>\n",
              "  </tbody>\n",
              "</table>\n",
              "</div>\n",
              "    <div class=\"colab-df-buttons\">\n",
              "\n",
              "  <div class=\"colab-df-container\">\n",
              "    <button class=\"colab-df-convert\" onclick=\"convertToInteractive('df-20f2f794-6067-44d5-8cf9-c865d995f381')\"\n",
              "            title=\"Convert this dataframe to an interactive table.\"\n",
              "            style=\"display:none;\">\n",
              "\n",
              "  <svg xmlns=\"http://www.w3.org/2000/svg\" height=\"24px\" viewBox=\"0 -960 960 960\">\n",
              "    <path d=\"M120-120v-720h720v720H120Zm60-500h600v-160H180v160Zm220 220h160v-160H400v160Zm0 220h160v-160H400v160ZM180-400h160v-160H180v160Zm440 0h160v-160H620v160ZM180-180h160v-160H180v160Zm440 0h160v-160H620v160Z\"/>\n",
              "  </svg>\n",
              "    </button>\n",
              "\n",
              "  <style>\n",
              "    .colab-df-container {\n",
              "      display:flex;\n",
              "      gap: 12px;\n",
              "    }\n",
              "\n",
              "    .colab-df-convert {\n",
              "      background-color: #E8F0FE;\n",
              "      border: none;\n",
              "      border-radius: 50%;\n",
              "      cursor: pointer;\n",
              "      display: none;\n",
              "      fill: #1967D2;\n",
              "      height: 32px;\n",
              "      padding: 0 0 0 0;\n",
              "      width: 32px;\n",
              "    }\n",
              "\n",
              "    .colab-df-convert:hover {\n",
              "      background-color: #E2EBFA;\n",
              "      box-shadow: 0px 1px 2px rgba(60, 64, 67, 0.3), 0px 1px 3px 1px rgba(60, 64, 67, 0.15);\n",
              "      fill: #174EA6;\n",
              "    }\n",
              "\n",
              "    .colab-df-buttons div {\n",
              "      margin-bottom: 4px;\n",
              "    }\n",
              "\n",
              "    [theme=dark] .colab-df-convert {\n",
              "      background-color: #3B4455;\n",
              "      fill: #D2E3FC;\n",
              "    }\n",
              "\n",
              "    [theme=dark] .colab-df-convert:hover {\n",
              "      background-color: #434B5C;\n",
              "      box-shadow: 0px 1px 3px 1px rgba(0, 0, 0, 0.15);\n",
              "      filter: drop-shadow(0px 1px 2px rgba(0, 0, 0, 0.3));\n",
              "      fill: #FFFFFF;\n",
              "    }\n",
              "  </style>\n",
              "\n",
              "    <script>\n",
              "      const buttonEl =\n",
              "        document.querySelector('#df-20f2f794-6067-44d5-8cf9-c865d995f381 button.colab-df-convert');\n",
              "      buttonEl.style.display =\n",
              "        google.colab.kernel.accessAllowed ? 'block' : 'none';\n",
              "\n",
              "      async function convertToInteractive(key) {\n",
              "        const element = document.querySelector('#df-20f2f794-6067-44d5-8cf9-c865d995f381');\n",
              "        const dataTable =\n",
              "          await google.colab.kernel.invokeFunction('convertToInteractive',\n",
              "                                                    [key], {});\n",
              "        if (!dataTable) return;\n",
              "\n",
              "        const docLinkHtml = 'Like what you see? Visit the ' +\n",
              "          '<a target=\"_blank\" href=https://colab.research.google.com/notebooks/data_table.ipynb>data table notebook</a>'\n",
              "          + ' to learn more about interactive tables.';\n",
              "        element.innerHTML = '';\n",
              "        dataTable['output_type'] = 'display_data';\n",
              "        await google.colab.output.renderOutput(dataTable, element);\n",
              "        const docLink = document.createElement('div');\n",
              "        docLink.innerHTML = docLinkHtml;\n",
              "        element.appendChild(docLink);\n",
              "      }\n",
              "    </script>\n",
              "  </div>\n",
              "\n",
              "\n",
              "<div id=\"df-098e8771-e4a6-4ddc-847b-cfb6aaf97505\">\n",
              "  <button class=\"colab-df-quickchart\" onclick=\"quickchart('df-098e8771-e4a6-4ddc-847b-cfb6aaf97505')\"\n",
              "            title=\"Suggest charts\"\n",
              "            style=\"display:none;\">\n",
              "\n",
              "<svg xmlns=\"http://www.w3.org/2000/svg\" height=\"24px\"viewBox=\"0 0 24 24\"\n",
              "     width=\"24px\">\n",
              "    <g>\n",
              "        <path d=\"M19 3H5c-1.1 0-2 .9-2 2v14c0 1.1.9 2 2 2h14c1.1 0 2-.9 2-2V5c0-1.1-.9-2-2-2zM9 17H7v-7h2v7zm4 0h-2V7h2v10zm4 0h-2v-4h2v4z\"/>\n",
              "    </g>\n",
              "</svg>\n",
              "  </button>\n",
              "\n",
              "<style>\n",
              "  .colab-df-quickchart {\n",
              "      --bg-color: #E8F0FE;\n",
              "      --fill-color: #1967D2;\n",
              "      --hover-bg-color: #E2EBFA;\n",
              "      --hover-fill-color: #174EA6;\n",
              "      --disabled-fill-color: #AAA;\n",
              "      --disabled-bg-color: #DDD;\n",
              "  }\n",
              "\n",
              "  [theme=dark] .colab-df-quickchart {\n",
              "      --bg-color: #3B4455;\n",
              "      --fill-color: #D2E3FC;\n",
              "      --hover-bg-color: #434B5C;\n",
              "      --hover-fill-color: #FFFFFF;\n",
              "      --disabled-bg-color: #3B4455;\n",
              "      --disabled-fill-color: #666;\n",
              "  }\n",
              "\n",
              "  .colab-df-quickchart {\n",
              "    background-color: var(--bg-color);\n",
              "    border: none;\n",
              "    border-radius: 50%;\n",
              "    cursor: pointer;\n",
              "    display: none;\n",
              "    fill: var(--fill-color);\n",
              "    height: 32px;\n",
              "    padding: 0;\n",
              "    width: 32px;\n",
              "  }\n",
              "\n",
              "  .colab-df-quickchart:hover {\n",
              "    background-color: var(--hover-bg-color);\n",
              "    box-shadow: 0 1px 2px rgba(60, 64, 67, 0.3), 0 1px 3px 1px rgba(60, 64, 67, 0.15);\n",
              "    fill: var(--button-hover-fill-color);\n",
              "  }\n",
              "\n",
              "  .colab-df-quickchart-complete:disabled,\n",
              "  .colab-df-quickchart-complete:disabled:hover {\n",
              "    background-color: var(--disabled-bg-color);\n",
              "    fill: var(--disabled-fill-color);\n",
              "    box-shadow: none;\n",
              "  }\n",
              "\n",
              "  .colab-df-spinner {\n",
              "    border: 2px solid var(--fill-color);\n",
              "    border-color: transparent;\n",
              "    border-bottom-color: var(--fill-color);\n",
              "    animation:\n",
              "      spin 1s steps(1) infinite;\n",
              "  }\n",
              "\n",
              "  @keyframes spin {\n",
              "    0% {\n",
              "      border-color: transparent;\n",
              "      border-bottom-color: var(--fill-color);\n",
              "      border-left-color: var(--fill-color);\n",
              "    }\n",
              "    20% {\n",
              "      border-color: transparent;\n",
              "      border-left-color: var(--fill-color);\n",
              "      border-top-color: var(--fill-color);\n",
              "    }\n",
              "    30% {\n",
              "      border-color: transparent;\n",
              "      border-left-color: var(--fill-color);\n",
              "      border-top-color: var(--fill-color);\n",
              "      border-right-color: var(--fill-color);\n",
              "    }\n",
              "    40% {\n",
              "      border-color: transparent;\n",
              "      border-right-color: var(--fill-color);\n",
              "      border-top-color: var(--fill-color);\n",
              "    }\n",
              "    60% {\n",
              "      border-color: transparent;\n",
              "      border-right-color: var(--fill-color);\n",
              "    }\n",
              "    80% {\n",
              "      border-color: transparent;\n",
              "      border-right-color: var(--fill-color);\n",
              "      border-bottom-color: var(--fill-color);\n",
              "    }\n",
              "    90% {\n",
              "      border-color: transparent;\n",
              "      border-bottom-color: var(--fill-color);\n",
              "    }\n",
              "  }\n",
              "</style>\n",
              "\n",
              "  <script>\n",
              "    async function quickchart(key) {\n",
              "      const quickchartButtonEl =\n",
              "        document.querySelector('#' + key + ' button');\n",
              "      quickchartButtonEl.disabled = true;  // To prevent multiple clicks.\n",
              "      quickchartButtonEl.classList.add('colab-df-spinner');\n",
              "      try {\n",
              "        const charts = await google.colab.kernel.invokeFunction(\n",
              "            'suggestCharts', [key], {});\n",
              "      } catch (error) {\n",
              "        console.error('Error during call to suggestCharts:', error);\n",
              "      }\n",
              "      quickchartButtonEl.classList.remove('colab-df-spinner');\n",
              "      quickchartButtonEl.classList.add('colab-df-quickchart-complete');\n",
              "    }\n",
              "    (() => {\n",
              "      let quickchartButtonEl =\n",
              "        document.querySelector('#df-098e8771-e4a6-4ddc-847b-cfb6aaf97505 button');\n",
              "      quickchartButtonEl.style.display =\n",
              "        google.colab.kernel.accessAllowed ? 'block' : 'none';\n",
              "    })();\n",
              "  </script>\n",
              "</div>\n",
              "    </div>\n",
              "  </div>\n"
            ],
            "application/vnd.google.colaboratory.intrinsic+json": {
              "type": "dataframe",
              "variable_name": "df_shows",
              "summary": "{\n  \"name\": \"df_shows\",\n  \"rows\": 3158,\n  \"fields\": [\n    {\n      \"column\": \"puNumber\",\n      \"properties\": {\n        \"dtype\": \"number\",\n        \"std\": 12383941,\n        \"min\": 111000113,\n        \"max\": 224026410,\n        \"num_unique_values\": 3158,\n        \"samples\": [\n          126004118,\n          124001213,\n          126001011\n        ],\n        \"semantic_type\": \"\",\n        \"description\": \"\"\n      }\n    },\n    {\n      \"column\": \"box_office\",\n      \"properties\": {\n        \"dtype\": \"number\",\n        \"std\": 240353122.82324007,\n        \"min\": 0.0,\n        \"max\": 3073568690.79,\n        \"num_unique_values\": 2938,\n        \"samples\": [\n          654165.0,\n          37515653.58,\n          1133848.0\n        ],\n        \"semantic_type\": \"\",\n        \"description\": \"\"\n      }\n    }\n  ]\n}"
            }
          },
          "metadata": {},
          "execution_count": 150
        }
      ]
    },
    {
      "cell_type": "code",
      "source": [
        "df_shows.info()"
      ],
      "metadata": {
        "colab": {
          "base_uri": "https://localhost:8080/"
        },
        "id": "h674dAZseUyT",
        "outputId": "3a335009-0007-4c1c-c9c9-7997579964ed"
      },
      "execution_count": 151,
      "outputs": [
        {
          "output_type": "stream",
          "name": "stdout",
          "text": [
            "<class 'pandas.core.frame.DataFrame'>\n",
            "RangeIndex: 3158 entries, 0 to 3157\n",
            "Data columns (total 2 columns):\n",
            " #   Column      Non-Null Count  Dtype  \n",
            "---  ------      --------------  -----  \n",
            " 0   puNumber    3158 non-null   int64  \n",
            " 1   box_office  3158 non-null   float64\n",
            "dtypes: float64(1), int64(1)\n",
            "memory usage: 49.5 KB\n"
          ]
        }
      ]
    },
    {
      "cell_type": "code",
      "source": [
        "df_m_cols = list(df_movies.columns)\n",
        "df_s_cols = list(df_shows.columns)\n",
        "\n",
        "print(f'df_m_cols: {df_m_cols}')\n",
        "print(f'df_s_cols: {df_s_cols}')\n",
        "print(f'Пересесение: {set(df_m_cols) & set(df_s_cols)}')"
      ],
      "metadata": {
        "colab": {
          "base_uri": "https://localhost:8080/"
        },
        "id": "E1CrmPq4a5o0",
        "outputId": "686b8411-1c6d-421a-bf3c-6d5c395c8d95"
      },
      "execution_count": 152,
      "outputs": [
        {
          "output_type": "stream",
          "name": "stdout",
          "text": [
            "df_m_cols: ['title', 'puNumber', 'show_start_date', 'type', 'film_studio', 'production_country', 'director', 'producer', 'age_restriction', 'refundable_support', 'nonrefundable_support', 'budget', 'financing_source', 'ratings', 'genres']\n",
            "df_s_cols: ['puNumber', 'box_office']\n",
            "Пересесение: {'puNumber'}\n"
          ]
        }
      ]
    },
    {
      "cell_type": "markdown",
      "source": [
        "Столбец по которону будем соединаять таблицы: puNumber. Но типы столбцов не совпадают. В таблице df_movies поменяем тип на int."
      ],
      "metadata": {
        "id": "-Tw52VJXclYm"
      }
    },
    {
      "cell_type": "code",
      "source": [
        "df_movies.loc[df_movies['puNumber'] == 'нет']"
      ],
      "metadata": {
        "colab": {
          "base_uri": "https://localhost:8080/",
          "height": 170
        },
        "id": "7UGTCOW9fDd6",
        "outputId": "430516f6-392c-49d8-c7c9-c7d63fec72e9"
      },
      "execution_count": 153,
      "outputs": [
        {
          "output_type": "execute_result",
          "data": {
            "text/plain": [
              "                                  title puNumber           show_start_date  \\\n",
              "1797  Курбан-роман. (История с жертвой)      нет  2014-05-15T12:00:00.000Z   \n",
              "\n",
              "                type       film_studio production_country director  \\\n",
              "1797  Художественный  ФОНД \"ИННОВАЦИЯ\"             Россия  С.Юзеев   \n",
              "\n",
              "        producer                  age_restriction  refundable_support  \\\n",
              "1797  М.Галицкая  «12+» - для детей старше 12 лет                 NaN   \n",
              "\n",
              "      nonrefundable_support  budget financing_source ratings genres  \n",
              "1797                    NaN     NaN              NaN     NaN    NaN  "
            ],
            "text/html": [
              "\n",
              "  <div id=\"df-eb13e6e0-257c-48e4-8136-af4702b8668b\" class=\"colab-df-container\">\n",
              "    <div>\n",
              "<style scoped>\n",
              "    .dataframe tbody tr th:only-of-type {\n",
              "        vertical-align: middle;\n",
              "    }\n",
              "\n",
              "    .dataframe tbody tr th {\n",
              "        vertical-align: top;\n",
              "    }\n",
              "\n",
              "    .dataframe thead th {\n",
              "        text-align: right;\n",
              "    }\n",
              "</style>\n",
              "<table border=\"1\" class=\"dataframe\">\n",
              "  <thead>\n",
              "    <tr style=\"text-align: right;\">\n",
              "      <th></th>\n",
              "      <th>title</th>\n",
              "      <th>puNumber</th>\n",
              "      <th>show_start_date</th>\n",
              "      <th>type</th>\n",
              "      <th>film_studio</th>\n",
              "      <th>production_country</th>\n",
              "      <th>director</th>\n",
              "      <th>producer</th>\n",
              "      <th>age_restriction</th>\n",
              "      <th>refundable_support</th>\n",
              "      <th>nonrefundable_support</th>\n",
              "      <th>budget</th>\n",
              "      <th>financing_source</th>\n",
              "      <th>ratings</th>\n",
              "      <th>genres</th>\n",
              "    </tr>\n",
              "  </thead>\n",
              "  <tbody>\n",
              "    <tr>\n",
              "      <th>1797</th>\n",
              "      <td>Курбан-роман. (История с жертвой)</td>\n",
              "      <td>нет</td>\n",
              "      <td>2014-05-15T12:00:00.000Z</td>\n",
              "      <td>Художественный</td>\n",
              "      <td>ФОНД \"ИННОВАЦИЯ\"</td>\n",
              "      <td>Россия</td>\n",
              "      <td>С.Юзеев</td>\n",
              "      <td>М.Галицкая</td>\n",
              "      <td>«12+» - для детей старше 12 лет</td>\n",
              "      <td>NaN</td>\n",
              "      <td>NaN</td>\n",
              "      <td>NaN</td>\n",
              "      <td>NaN</td>\n",
              "      <td>NaN</td>\n",
              "      <td>NaN</td>\n",
              "    </tr>\n",
              "  </tbody>\n",
              "</table>\n",
              "</div>\n",
              "    <div class=\"colab-df-buttons\">\n",
              "\n",
              "  <div class=\"colab-df-container\">\n",
              "    <button class=\"colab-df-convert\" onclick=\"convertToInteractive('df-eb13e6e0-257c-48e4-8136-af4702b8668b')\"\n",
              "            title=\"Convert this dataframe to an interactive table.\"\n",
              "            style=\"display:none;\">\n",
              "\n",
              "  <svg xmlns=\"http://www.w3.org/2000/svg\" height=\"24px\" viewBox=\"0 -960 960 960\">\n",
              "    <path d=\"M120-120v-720h720v720H120Zm60-500h600v-160H180v160Zm220 220h160v-160H400v160Zm0 220h160v-160H400v160ZM180-400h160v-160H180v160Zm440 0h160v-160H620v160ZM180-180h160v-160H180v160Zm440 0h160v-160H620v160Z\"/>\n",
              "  </svg>\n",
              "    </button>\n",
              "\n",
              "  <style>\n",
              "    .colab-df-container {\n",
              "      display:flex;\n",
              "      gap: 12px;\n",
              "    }\n",
              "\n",
              "    .colab-df-convert {\n",
              "      background-color: #E8F0FE;\n",
              "      border: none;\n",
              "      border-radius: 50%;\n",
              "      cursor: pointer;\n",
              "      display: none;\n",
              "      fill: #1967D2;\n",
              "      height: 32px;\n",
              "      padding: 0 0 0 0;\n",
              "      width: 32px;\n",
              "    }\n",
              "\n",
              "    .colab-df-convert:hover {\n",
              "      background-color: #E2EBFA;\n",
              "      box-shadow: 0px 1px 2px rgba(60, 64, 67, 0.3), 0px 1px 3px 1px rgba(60, 64, 67, 0.15);\n",
              "      fill: #174EA6;\n",
              "    }\n",
              "\n",
              "    .colab-df-buttons div {\n",
              "      margin-bottom: 4px;\n",
              "    }\n",
              "\n",
              "    [theme=dark] .colab-df-convert {\n",
              "      background-color: #3B4455;\n",
              "      fill: #D2E3FC;\n",
              "    }\n",
              "\n",
              "    [theme=dark] .colab-df-convert:hover {\n",
              "      background-color: #434B5C;\n",
              "      box-shadow: 0px 1px 3px 1px rgba(0, 0, 0, 0.15);\n",
              "      filter: drop-shadow(0px 1px 2px rgba(0, 0, 0, 0.3));\n",
              "      fill: #FFFFFF;\n",
              "    }\n",
              "  </style>\n",
              "\n",
              "    <script>\n",
              "      const buttonEl =\n",
              "        document.querySelector('#df-eb13e6e0-257c-48e4-8136-af4702b8668b button.colab-df-convert');\n",
              "      buttonEl.style.display =\n",
              "        google.colab.kernel.accessAllowed ? 'block' : 'none';\n",
              "\n",
              "      async function convertToInteractive(key) {\n",
              "        const element = document.querySelector('#df-eb13e6e0-257c-48e4-8136-af4702b8668b');\n",
              "        const dataTable =\n",
              "          await google.colab.kernel.invokeFunction('convertToInteractive',\n",
              "                                                    [key], {});\n",
              "        if (!dataTable) return;\n",
              "\n",
              "        const docLinkHtml = 'Like what you see? Visit the ' +\n",
              "          '<a target=\"_blank\" href=https://colab.research.google.com/notebooks/data_table.ipynb>data table notebook</a>'\n",
              "          + ' to learn more about interactive tables.';\n",
              "        element.innerHTML = '';\n",
              "        dataTable['output_type'] = 'display_data';\n",
              "        await google.colab.output.renderOutput(dataTable, element);\n",
              "        const docLink = document.createElement('div');\n",
              "        docLink.innerHTML = docLinkHtml;\n",
              "        element.appendChild(docLink);\n",
              "      }\n",
              "    </script>\n",
              "  </div>\n",
              "\n",
              "    </div>\n",
              "  </div>\n"
            ],
            "application/vnd.google.colaboratory.intrinsic+json": {
              "type": "dataframe",
              "repr_error": "0"
            }
          },
          "metadata": {},
          "execution_count": 153
        }
      ]
    },
    {
      "cell_type": "code",
      "source": [
        "df_movies.loc[df_movies['puNumber'] == 'нет'] = '0'"
      ],
      "metadata": {
        "id": "YAgaQaOifqoH"
      },
      "execution_count": 154,
      "outputs": []
    },
    {
      "cell_type": "code",
      "source": [
        "df_movies['puNumber'] = df_movies['puNumber'].astype(int)"
      ],
      "metadata": {
        "id": "PVwYT5awe10v"
      },
      "execution_count": 155,
      "outputs": []
    },
    {
      "cell_type": "code",
      "source": [
        "df = df_movies.merge(df_shows, how='left', on='puNumber')"
      ],
      "metadata": {
        "id": "Ppk_CeSQcy41"
      },
      "execution_count": 156,
      "outputs": []
    },
    {
      "cell_type": "code",
      "source": [
        "df.head()"
      ],
      "metadata": {
        "colab": {
          "base_uri": "https://localhost:8080/",
          "height": 660
        },
        "id": "W5x6H6VPc9rP",
        "outputId": "18435010-db8a-452c-ab31-f38bba753c79"
      },
      "execution_count": 157,
      "outputs": [
        {
          "output_type": "execute_result",
          "data": {
            "text/plain": [
              "                  title   puNumber           show_start_date            type  \\\n",
              "0      Открытый простор  221048915  2015-11-27T12:00:00.000Z  Художественный   \n",
              "1  Особо важное задание  111013716  2016-09-13T12:00:00.000Z  Художественный   \n",
              "2          Особо опасен  221038416  2016-10-10T12:00:00.000Z  Художественный   \n",
              "3          Особо опасен  221026916  2016-06-10T12:00:00.000Z  Художественный   \n",
              "4          Особо опасен  221030815  2015-07-29T12:00:00.000Z  Художественный   \n",
              "\n",
              "                                         film_studio production_country  \\\n",
              "0  Тачстоун Пикчерз, Кобальт Пикчерз, Бикон Пикче...                США   \n",
              "1                              Киностудия \"Мосфильм\"               СССР   \n",
              "2  Юниверсал Пикчерз, Кикстарт Продакшнз, Марк Пл...                США   \n",
              "3  Юниверсал Пикчерз, Кикстарт Продакшнз, Марк Пл...                США   \n",
              "4  Юниверсал Пикчерз, Кикстарт Продакшнз, Марк Пл...                США   \n",
              "\n",
              "            director                                           producer  \\\n",
              "0      Кевин Костнер          Дэвид Валдес, Кевин Костнер, Джейк Эбертс   \n",
              "1          Е.Матвеев                                                NaN   \n",
              "2  Тимур Бекмамбетов  Джим Лемли, Джейсон Нетер, Марк Е.Платт, Яйн Смит   \n",
              "3  Тимур Бекмамбетов  Джим Лемли, Джейсон Нетер, Марк Е.Платт, Яйн Смит   \n",
              "4  Тимур Бекмамбетов  Джим Лемли, Джейсон Нетер, Марк Е.Платт, Яйн Смит   \n",
              "\n",
              "                 age_restriction refundable_support nonrefundable_support  \\\n",
              "0    «18+» - запрещено для детей                NaN                   NaN   \n",
              "1  «6+» - для детей старше 6 лет                NaN                   NaN   \n",
              "2    «18+» - запрещено для детей                NaN                   NaN   \n",
              "3    «18+» - запрещено для детей                NaN                   NaN   \n",
              "4    «18+» - запрещено для детей                NaN                   NaN   \n",
              "\n",
              "  budget financing_source ratings                     genres  box_office  \n",
              "0    NaN              NaN     7.2     боевик,драма,мелодрама         NaN  \n",
              "1    NaN              NaN     6.6              драма,военный         NaN  \n",
              "2    NaN              NaN     6.8  фантастика,боевик,триллер         NaN  \n",
              "3    NaN              NaN     6.8  фантастика,боевик,триллер         NaN  \n",
              "4    NaN              NaN     6.8  фантастика,боевик,триллер         NaN  "
            ],
            "text/html": [
              "\n",
              "  <div id=\"df-eb77b9d3-dd17-48c1-b4a3-8d7a112036e8\" class=\"colab-df-container\">\n",
              "    <div>\n",
              "<style scoped>\n",
              "    .dataframe tbody tr th:only-of-type {\n",
              "        vertical-align: middle;\n",
              "    }\n",
              "\n",
              "    .dataframe tbody tr th {\n",
              "        vertical-align: top;\n",
              "    }\n",
              "\n",
              "    .dataframe thead th {\n",
              "        text-align: right;\n",
              "    }\n",
              "</style>\n",
              "<table border=\"1\" class=\"dataframe\">\n",
              "  <thead>\n",
              "    <tr style=\"text-align: right;\">\n",
              "      <th></th>\n",
              "      <th>title</th>\n",
              "      <th>puNumber</th>\n",
              "      <th>show_start_date</th>\n",
              "      <th>type</th>\n",
              "      <th>film_studio</th>\n",
              "      <th>production_country</th>\n",
              "      <th>director</th>\n",
              "      <th>producer</th>\n",
              "      <th>age_restriction</th>\n",
              "      <th>refundable_support</th>\n",
              "      <th>nonrefundable_support</th>\n",
              "      <th>budget</th>\n",
              "      <th>financing_source</th>\n",
              "      <th>ratings</th>\n",
              "      <th>genres</th>\n",
              "      <th>box_office</th>\n",
              "    </tr>\n",
              "  </thead>\n",
              "  <tbody>\n",
              "    <tr>\n",
              "      <th>0</th>\n",
              "      <td>Открытый простор</td>\n",
              "      <td>221048915</td>\n",
              "      <td>2015-11-27T12:00:00.000Z</td>\n",
              "      <td>Художественный</td>\n",
              "      <td>Тачстоун Пикчерз, Кобальт Пикчерз, Бикон Пикче...</td>\n",
              "      <td>США</td>\n",
              "      <td>Кевин Костнер</td>\n",
              "      <td>Дэвид Валдес, Кевин Костнер, Джейк Эбертс</td>\n",
              "      <td>«18+» - запрещено для детей</td>\n",
              "      <td>NaN</td>\n",
              "      <td>NaN</td>\n",
              "      <td>NaN</td>\n",
              "      <td>NaN</td>\n",
              "      <td>7.2</td>\n",
              "      <td>боевик,драма,мелодрама</td>\n",
              "      <td>NaN</td>\n",
              "    </tr>\n",
              "    <tr>\n",
              "      <th>1</th>\n",
              "      <td>Особо важное задание</td>\n",
              "      <td>111013716</td>\n",
              "      <td>2016-09-13T12:00:00.000Z</td>\n",
              "      <td>Художественный</td>\n",
              "      <td>Киностудия \"Мосфильм\"</td>\n",
              "      <td>СССР</td>\n",
              "      <td>Е.Матвеев</td>\n",
              "      <td>NaN</td>\n",
              "      <td>«6+» - для детей старше 6 лет</td>\n",
              "      <td>NaN</td>\n",
              "      <td>NaN</td>\n",
              "      <td>NaN</td>\n",
              "      <td>NaN</td>\n",
              "      <td>6.6</td>\n",
              "      <td>драма,военный</td>\n",
              "      <td>NaN</td>\n",
              "    </tr>\n",
              "    <tr>\n",
              "      <th>2</th>\n",
              "      <td>Особо опасен</td>\n",
              "      <td>221038416</td>\n",
              "      <td>2016-10-10T12:00:00.000Z</td>\n",
              "      <td>Художественный</td>\n",
              "      <td>Юниверсал Пикчерз, Кикстарт Продакшнз, Марк Пл...</td>\n",
              "      <td>США</td>\n",
              "      <td>Тимур Бекмамбетов</td>\n",
              "      <td>Джим Лемли, Джейсон Нетер, Марк Е.Платт, Яйн Смит</td>\n",
              "      <td>«18+» - запрещено для детей</td>\n",
              "      <td>NaN</td>\n",
              "      <td>NaN</td>\n",
              "      <td>NaN</td>\n",
              "      <td>NaN</td>\n",
              "      <td>6.8</td>\n",
              "      <td>фантастика,боевик,триллер</td>\n",
              "      <td>NaN</td>\n",
              "    </tr>\n",
              "    <tr>\n",
              "      <th>3</th>\n",
              "      <td>Особо опасен</td>\n",
              "      <td>221026916</td>\n",
              "      <td>2016-06-10T12:00:00.000Z</td>\n",
              "      <td>Художественный</td>\n",
              "      <td>Юниверсал Пикчерз, Кикстарт Продакшнз, Марк Пл...</td>\n",
              "      <td>США</td>\n",
              "      <td>Тимур Бекмамбетов</td>\n",
              "      <td>Джим Лемли, Джейсон Нетер, Марк Е.Платт, Яйн Смит</td>\n",
              "      <td>«18+» - запрещено для детей</td>\n",
              "      <td>NaN</td>\n",
              "      <td>NaN</td>\n",
              "      <td>NaN</td>\n",
              "      <td>NaN</td>\n",
              "      <td>6.8</td>\n",
              "      <td>фантастика,боевик,триллер</td>\n",
              "      <td>NaN</td>\n",
              "    </tr>\n",
              "    <tr>\n",
              "      <th>4</th>\n",
              "      <td>Особо опасен</td>\n",
              "      <td>221030815</td>\n",
              "      <td>2015-07-29T12:00:00.000Z</td>\n",
              "      <td>Художественный</td>\n",
              "      <td>Юниверсал Пикчерз, Кикстарт Продакшнз, Марк Пл...</td>\n",
              "      <td>США</td>\n",
              "      <td>Тимур Бекмамбетов</td>\n",
              "      <td>Джим Лемли, Джейсон Нетер, Марк Е.Платт, Яйн Смит</td>\n",
              "      <td>«18+» - запрещено для детей</td>\n",
              "      <td>NaN</td>\n",
              "      <td>NaN</td>\n",
              "      <td>NaN</td>\n",
              "      <td>NaN</td>\n",
              "      <td>6.8</td>\n",
              "      <td>фантастика,боевик,триллер</td>\n",
              "      <td>NaN</td>\n",
              "    </tr>\n",
              "  </tbody>\n",
              "</table>\n",
              "</div>\n",
              "    <div class=\"colab-df-buttons\">\n",
              "\n",
              "  <div class=\"colab-df-container\">\n",
              "    <button class=\"colab-df-convert\" onclick=\"convertToInteractive('df-eb77b9d3-dd17-48c1-b4a3-8d7a112036e8')\"\n",
              "            title=\"Convert this dataframe to an interactive table.\"\n",
              "            style=\"display:none;\">\n",
              "\n",
              "  <svg xmlns=\"http://www.w3.org/2000/svg\" height=\"24px\" viewBox=\"0 -960 960 960\">\n",
              "    <path d=\"M120-120v-720h720v720H120Zm60-500h600v-160H180v160Zm220 220h160v-160H400v160Zm0 220h160v-160H400v160ZM180-400h160v-160H180v160Zm440 0h160v-160H620v160ZM180-180h160v-160H180v160Zm440 0h160v-160H620v160Z\"/>\n",
              "  </svg>\n",
              "    </button>\n",
              "\n",
              "  <style>\n",
              "    .colab-df-container {\n",
              "      display:flex;\n",
              "      gap: 12px;\n",
              "    }\n",
              "\n",
              "    .colab-df-convert {\n",
              "      background-color: #E8F0FE;\n",
              "      border: none;\n",
              "      border-radius: 50%;\n",
              "      cursor: pointer;\n",
              "      display: none;\n",
              "      fill: #1967D2;\n",
              "      height: 32px;\n",
              "      padding: 0 0 0 0;\n",
              "      width: 32px;\n",
              "    }\n",
              "\n",
              "    .colab-df-convert:hover {\n",
              "      background-color: #E2EBFA;\n",
              "      box-shadow: 0px 1px 2px rgba(60, 64, 67, 0.3), 0px 1px 3px 1px rgba(60, 64, 67, 0.15);\n",
              "      fill: #174EA6;\n",
              "    }\n",
              "\n",
              "    .colab-df-buttons div {\n",
              "      margin-bottom: 4px;\n",
              "    }\n",
              "\n",
              "    [theme=dark] .colab-df-convert {\n",
              "      background-color: #3B4455;\n",
              "      fill: #D2E3FC;\n",
              "    }\n",
              "\n",
              "    [theme=dark] .colab-df-convert:hover {\n",
              "      background-color: #434B5C;\n",
              "      box-shadow: 0px 1px 3px 1px rgba(0, 0, 0, 0.15);\n",
              "      filter: drop-shadow(0px 1px 2px rgba(0, 0, 0, 0.3));\n",
              "      fill: #FFFFFF;\n",
              "    }\n",
              "  </style>\n",
              "\n",
              "    <script>\n",
              "      const buttonEl =\n",
              "        document.querySelector('#df-eb77b9d3-dd17-48c1-b4a3-8d7a112036e8 button.colab-df-convert');\n",
              "      buttonEl.style.display =\n",
              "        google.colab.kernel.accessAllowed ? 'block' : 'none';\n",
              "\n",
              "      async function convertToInteractive(key) {\n",
              "        const element = document.querySelector('#df-eb77b9d3-dd17-48c1-b4a3-8d7a112036e8');\n",
              "        const dataTable =\n",
              "          await google.colab.kernel.invokeFunction('convertToInteractive',\n",
              "                                                    [key], {});\n",
              "        if (!dataTable) return;\n",
              "\n",
              "        const docLinkHtml = 'Like what you see? Visit the ' +\n",
              "          '<a target=\"_blank\" href=https://colab.research.google.com/notebooks/data_table.ipynb>data table notebook</a>'\n",
              "          + ' to learn more about interactive tables.';\n",
              "        element.innerHTML = '';\n",
              "        dataTable['output_type'] = 'display_data';\n",
              "        await google.colab.output.renderOutput(dataTable, element);\n",
              "        const docLink = document.createElement('div');\n",
              "        docLink.innerHTML = docLinkHtml;\n",
              "        element.appendChild(docLink);\n",
              "      }\n",
              "    </script>\n",
              "  </div>\n",
              "\n",
              "\n",
              "<div id=\"df-234c01ef-806c-4d44-be54-615d810503cf\">\n",
              "  <button class=\"colab-df-quickchart\" onclick=\"quickchart('df-234c01ef-806c-4d44-be54-615d810503cf')\"\n",
              "            title=\"Suggest charts\"\n",
              "            style=\"display:none;\">\n",
              "\n",
              "<svg xmlns=\"http://www.w3.org/2000/svg\" height=\"24px\"viewBox=\"0 0 24 24\"\n",
              "     width=\"24px\">\n",
              "    <g>\n",
              "        <path d=\"M19 3H5c-1.1 0-2 .9-2 2v14c0 1.1.9 2 2 2h14c1.1 0 2-.9 2-2V5c0-1.1-.9-2-2-2zM9 17H7v-7h2v7zm4 0h-2V7h2v10zm4 0h-2v-4h2v4z\"/>\n",
              "    </g>\n",
              "</svg>\n",
              "  </button>\n",
              "\n",
              "<style>\n",
              "  .colab-df-quickchart {\n",
              "      --bg-color: #E8F0FE;\n",
              "      --fill-color: #1967D2;\n",
              "      --hover-bg-color: #E2EBFA;\n",
              "      --hover-fill-color: #174EA6;\n",
              "      --disabled-fill-color: #AAA;\n",
              "      --disabled-bg-color: #DDD;\n",
              "  }\n",
              "\n",
              "  [theme=dark] .colab-df-quickchart {\n",
              "      --bg-color: #3B4455;\n",
              "      --fill-color: #D2E3FC;\n",
              "      --hover-bg-color: #434B5C;\n",
              "      --hover-fill-color: #FFFFFF;\n",
              "      --disabled-bg-color: #3B4455;\n",
              "      --disabled-fill-color: #666;\n",
              "  }\n",
              "\n",
              "  .colab-df-quickchart {\n",
              "    background-color: var(--bg-color);\n",
              "    border: none;\n",
              "    border-radius: 50%;\n",
              "    cursor: pointer;\n",
              "    display: none;\n",
              "    fill: var(--fill-color);\n",
              "    height: 32px;\n",
              "    padding: 0;\n",
              "    width: 32px;\n",
              "  }\n",
              "\n",
              "  .colab-df-quickchart:hover {\n",
              "    background-color: var(--hover-bg-color);\n",
              "    box-shadow: 0 1px 2px rgba(60, 64, 67, 0.3), 0 1px 3px 1px rgba(60, 64, 67, 0.15);\n",
              "    fill: var(--button-hover-fill-color);\n",
              "  }\n",
              "\n",
              "  .colab-df-quickchart-complete:disabled,\n",
              "  .colab-df-quickchart-complete:disabled:hover {\n",
              "    background-color: var(--disabled-bg-color);\n",
              "    fill: var(--disabled-fill-color);\n",
              "    box-shadow: none;\n",
              "  }\n",
              "\n",
              "  .colab-df-spinner {\n",
              "    border: 2px solid var(--fill-color);\n",
              "    border-color: transparent;\n",
              "    border-bottom-color: var(--fill-color);\n",
              "    animation:\n",
              "      spin 1s steps(1) infinite;\n",
              "  }\n",
              "\n",
              "  @keyframes spin {\n",
              "    0% {\n",
              "      border-color: transparent;\n",
              "      border-bottom-color: var(--fill-color);\n",
              "      border-left-color: var(--fill-color);\n",
              "    }\n",
              "    20% {\n",
              "      border-color: transparent;\n",
              "      border-left-color: var(--fill-color);\n",
              "      border-top-color: var(--fill-color);\n",
              "    }\n",
              "    30% {\n",
              "      border-color: transparent;\n",
              "      border-left-color: var(--fill-color);\n",
              "      border-top-color: var(--fill-color);\n",
              "      border-right-color: var(--fill-color);\n",
              "    }\n",
              "    40% {\n",
              "      border-color: transparent;\n",
              "      border-right-color: var(--fill-color);\n",
              "      border-top-color: var(--fill-color);\n",
              "    }\n",
              "    60% {\n",
              "      border-color: transparent;\n",
              "      border-right-color: var(--fill-color);\n",
              "    }\n",
              "    80% {\n",
              "      border-color: transparent;\n",
              "      border-right-color: var(--fill-color);\n",
              "      border-bottom-color: var(--fill-color);\n",
              "    }\n",
              "    90% {\n",
              "      border-color: transparent;\n",
              "      border-bottom-color: var(--fill-color);\n",
              "    }\n",
              "  }\n",
              "</style>\n",
              "\n",
              "  <script>\n",
              "    async function quickchart(key) {\n",
              "      const quickchartButtonEl =\n",
              "        document.querySelector('#' + key + ' button');\n",
              "      quickchartButtonEl.disabled = true;  // To prevent multiple clicks.\n",
              "      quickchartButtonEl.classList.add('colab-df-spinner');\n",
              "      try {\n",
              "        const charts = await google.colab.kernel.invokeFunction(\n",
              "            'suggestCharts', [key], {});\n",
              "      } catch (error) {\n",
              "        console.error('Error during call to suggestCharts:', error);\n",
              "      }\n",
              "      quickchartButtonEl.classList.remove('colab-df-spinner');\n",
              "      quickchartButtonEl.classList.add('colab-df-quickchart-complete');\n",
              "    }\n",
              "    (() => {\n",
              "      let quickchartButtonEl =\n",
              "        document.querySelector('#df-234c01ef-806c-4d44-be54-615d810503cf button');\n",
              "      quickchartButtonEl.style.display =\n",
              "        google.colab.kernel.accessAllowed ? 'block' : 'none';\n",
              "    })();\n",
              "  </script>\n",
              "</div>\n",
              "    </div>\n",
              "  </div>\n"
            ],
            "application/vnd.google.colaboratory.intrinsic+json": {
              "type": "dataframe",
              "variable_name": "df",
              "summary": "{\n  \"name\": \"df\",\n  \"rows\": 7486,\n  \"fields\": [\n    {\n      \"column\": \"title\",\n      \"properties\": {\n        \"dtype\": \"string\",\n        \"num_unique_values\": 6772,\n        \"samples\": [\n          \"\\u041c\\u0430\\u043b\\u0435\\u043d\\u044c\\u043a\\u0438\\u0435 \\u043b\\u044e\\u0434\\u0438\",\n          \"\\u0412\\u0434\\u0440\\u0435\\u0431\\u0435\\u0437\\u0433\\u0438_\",\n          \"\\u041c\\u043e\\u043d\\u043e\\u043b\\u043e\\u0433 \\u0432 4-\\u0445 \\u0447\\u0430\\u0441\\u0442\\u044f\\u0445. \\u0410\\u043b\\u0435\\u043a\\u0441\\u0430\\u043d\\u0434\\u0440 \\u041a\\u0430\\u043b\\u044f\\u0433\\u0438\\u043d\"\n        ],\n        \"semantic_type\": \"\",\n        \"description\": \"\"\n      }\n    },\n    {\n      \"column\": \"puNumber\",\n      \"properties\": {\n        \"dtype\": \"number\",\n        \"std\": 38382177,\n        \"min\": 0,\n        \"max\": 231001111,\n        \"num_unique_values\": 7484,\n        \"samples\": [\n          111019015,\n          124003519,\n          111001416\n        ],\n        \"semantic_type\": \"\",\n        \"description\": \"\"\n      }\n    },\n    {\n      \"column\": \"show_start_date\",\n      \"properties\": {\n        \"dtype\": \"category\",\n        \"num_unique_values\": 1965,\n        \"samples\": [\n          \"2019-10-26T12:00:00.000Z\",\n          \"2011-11-18T12:00:00.000Z\",\n          \"2017-03-21T12:00:00.000Z\"\n        ],\n        \"semantic_type\": \"\",\n        \"description\": \"\"\n      }\n    },\n    {\n      \"column\": \"type\",\n      \"properties\": {\n        \"dtype\": \"category\",\n        \"num_unique_values\": 9,\n        \"samples\": [\n          \" \\u0410\\u043d\\u0438\\u043c\\u0430\\u0446\\u0438\\u043e\\u043d\\u043d\\u044b\\u0439\",\n          \"\\u0410\\u043d\\u0438\\u043c\\u0430\\u0446\\u0438\\u043e\\u043d\\u043d\\u044b\\u0439\",\n          \"0\"\n        ],\n        \"semantic_type\": \"\",\n        \"description\": \"\"\n      }\n    },\n    {\n      \"column\": \"film_studio\",\n      \"properties\": {\n        \"dtype\": \"string\",\n        \"num_unique_values\": 5491,\n        \"samples\": [\n          \"\\u041b\\u0430\\u0439\\u043d\\u0441\\u0433\\u0435\\u0439\\u0442, \\u0422\\u0430\\u043a\\u0435\\u0440 \\u0422\\u0443\\u043b\\u0438 \\u0418\\u043d\\u0442\\u0435\\u0440\\u0442\\u0435\\u0439\\u043d\\u043c\\u0435\\u043d\\u0442, \\u0412\\u044d\\u043b\\u0445\\u0430\\u043b\\u0430 \\u041c\\u043e\\u0443\\u0448\\u043d \\u041f\\u0438\\u043a\\u0447\\u0435\\u0440\\u0437\",\n          \"\\u041a\\u0430\\u043d\\u0430\\u043b + \\u042d\\u0441\\u043f\\u0430\\u043d\\u044c\\u0430, \\u0424\\u0438\\u043b\\u043c\\u043c\\u0430\\u043a\\u0441, \\u0418 \\u042d\\u0441 \\u0418 \\u042d\\u0441, \\u0418 \\u042d\\u0441 \\u0410 \\u0410, \\u041e\\u043d\\u043e, \\u0422\\u0435\\u043b\\u0435\\u0432\\u0438\\u0437\\u0438\\u043e \\u0434\\u0435 \\u041a\\u0430\\u0442\\u0430\\u043b\\u0443\\u043d\\u0438\\u0430, \\u0422\\u0435\\u043b\\u0435\\u0432\\u0438\\u0437\\u044c\\u043e\\u043d \\u042d\\u0441\\u043f\\u0430\\u043d\\u044c\\u043e\\u043b\\u0430\",\n          \"\\u0425\\u043e\\u0440\\u0430\\u0439\\u0437\\u043e\\u043d \\u0418\\u043d\\u0442\\u0435\\u0440\\u0442\\u0435\\u0439\\u043d\\u043c\\u0435\\u043d\\u0442, \\u041f\\u0430\\u043d\\u0433\\u0435\\u0430 \\u041c\\u0435\\u0434\\u0438\\u0430 \\u0413\\u0440\\u0443\\u043f\\u043f, \\u0424\\u0443\\u0430 \\u041f\\u0440\\u043e\\u0434\\u0430\\u043a\\u0448\\u043d\\u0437, \\u0414\\u0436\\u0438 \\u041a\\u0430 \\u042d\\u043c \\u041f\\u0438 \\u041e, \\u0421\\u0430\\u043d\\u0440\\u0430\\u0439\\u0437 \\u0424\\u0438\\u043b\\u043c\\u0437, \\u0422\\u0440\\u0430\\u0439\\u0433\\u0435\\u0440 \\u0421\\u0442\\u0440\\u0438\\u0442 \\u041f\\u0440\\u043e\\u0434\\u0430\\u043a\\u0448\\u043d\\u0437, \\u0424\\u0430\\u0437\\u0435\\u0440 \\u041e\\u0444 \\u0418\\u043d\\u0432\\u0435\\u043d\\u0448\\u043d \\u041f\\u0440\\u043e\\u0434\\u0430\\u043a\\u0448\\u043d \"\n        ],\n        \"semantic_type\": \"\",\n        \"description\": \"\"\n      }\n    },\n    {\n      \"column\": \"production_country\",\n      \"properties\": {\n        \"dtype\": \"category\",\n        \"num_unique_values\": 951,\n        \"samples\": [\n          \"\\u0424\\u0440\\u0430\\u043d\\u0446\\u0438\\u044f-\\u0418\\u043d\\u0434\\u0438\\u044f\",\n          \"\\u0410\\u0440\\u0433\\u0435\\u043d\\u0442\\u0438\\u043d\\u0430 - \\u0423\\u0440\\u0443\\u0433\\u0432\\u0430\\u0439 - \\u0420\\u043e\\u0441\\u0441\\u0438\\u044f - \\u0413\\u0435\\u0440\\u043c\\u0430\\u043d\\u0438\\u044f - \\u0424\\u0440\\u0430\\u043d\\u0446\\u0438\\u044f - \\u041d\\u0438\\u0434\\u0435\\u0440\\u043b\\u0430\\u043d\\u0434\\u044b\",\n          \"\\u0421\\u0428\\u0410 - \\u041e\\u0431\\u044a\\u0435\\u0434\\u0438\\u043d\\u0435\\u043d\\u043d\\u044b\\u0435 \\u0410\\u0440\\u0430\\u0431\\u0441\\u043a\\u0438\\u0435 \\u042d\\u043c\\u0438\\u0440\\u0430\\u0442\\u044b\"\n        ],\n        \"semantic_type\": \"\",\n        \"description\": \"\"\n      }\n    },\n    {\n      \"column\": \"director\",\n      \"properties\": {\n        \"dtype\": \"string\",\n        \"num_unique_values\": 4812,\n        \"samples\": [\n          \"\\u0413\\u044d\\u0431\\u0440\\u0438\\u0435\\u043b \\u041c\\u0430\\u0441\\u043a\\u0430\\u0440\\u043e\",\n          \"\\u0416\\u0430\\u043d-\\u0421\\u0442\\u0435\\u0444\\u0430\\u043d \\u0421\\u043e\\u0432\\u0435\\u0440\",\n          \"\\u0422\\u043e\\u043d\\u0438 \\u0413\\u0438\\u043b\\u0440\\u043e\\u0439\"\n        ],\n        \"semantic_type\": \"\",\n        \"description\": \"\"\n      }\n    },\n    {\n      \"column\": \"producer\",\n      \"properties\": {\n        \"dtype\": \"string\",\n        \"num_unique_values\": 5350,\n        \"samples\": [\n          \"\\u041a\\u0440\\u0435\\u0439\\u0433 \\u0417\\u0430\\u0434\\u0430\\u043d, \\u041d\\u0438\\u043b \\u041c\\u0435\\u0440\\u043e\\u043d\",\n          \"\\u041a\\u0440\\u0438\\u0441\\u0442\\u043e\\u0444\\u0435\\u0440 \\u041d\\u043e\\u043b\\u0430\\u043d, \\u041b\\u0438\\u043d\\u0434\\u0430 \\u041e\\u0431\\u0441\\u0442, \\u042d\\u043c\\u043c\\u0430 \\u0422\\u043e\\u043c\\u0430\\u0441\",\n          \"\\u041c\\u0438\\u0445\\u0430\\u044d\\u043b\\u044c \\u0410\\u043d\\u0434\\u0440\\u0435, \\u0424\\u0438\\u043b\\u0438\\u043f\\u043f \\u0411\\u043e\\u0431\\u0435\\u0440, \\u0423\\u043b\\u044c\\u0440\\u0438\\u0445 \\u0417\\u0430\\u0439\\u0434\\u043b\\u044c\"\n        ],\n        \"semantic_type\": \"\",\n        \"description\": \"\"\n      }\n    },\n    {\n      \"column\": \"age_restriction\",\n      \"properties\": {\n        \"dtype\": \"category\",\n        \"num_unique_values\": 6,\n        \"samples\": [\n          \"\\u00ab18+\\u00bb - \\u0437\\u0430\\u043f\\u0440\\u0435\\u0449\\u0435\\u043d\\u043e \\u0434\\u043b\\u044f \\u0434\\u0435\\u0442\\u0435\\u0439\",\n          \"\\u00ab6+\\u00bb - \\u0434\\u043b\\u044f \\u0434\\u0435\\u0442\\u0435\\u0439 \\u0441\\u0442\\u0430\\u0440\\u0448\\u0435 6 \\u043b\\u0435\\u0442\",\n          \"0\"\n        ],\n        \"semantic_type\": \"\",\n        \"description\": \"\"\n      }\n    },\n    {\n      \"column\": \"refundable_support\",\n      \"properties\": {\n        \"dtype\": \"category\",\n        \"num_unique_values\": 35,\n        \"samples\": [\n          55000000.0,\n          29000000.0,\n          38000000.0\n        ],\n        \"semantic_type\": \"\",\n        \"description\": \"\"\n      }\n    },\n    {\n      \"column\": \"nonrefundable_support\",\n      \"properties\": {\n        \"dtype\": \"category\",\n        \"num_unique_values\": 76,\n        \"samples\": [\n          25000000.0,\n          250000000.0,\n          30000000.0\n        ],\n        \"semantic_type\": \"\",\n        \"description\": \"\"\n      }\n    },\n    {\n      \"column\": \"budget\",\n      \"properties\": {\n        \"dtype\": \"category\",\n        \"num_unique_values\": 291,\n        \"samples\": [\n          52124638.0,\n          47200000.0,\n          39990000.0\n        ],\n        \"semantic_type\": \"\",\n        \"description\": \"\"\n      }\n    },\n    {\n      \"column\": \"financing_source\",\n      \"properties\": {\n        \"dtype\": \"category\",\n        \"num_unique_values\": 4,\n        \"samples\": [\n          \"\\u0424\\u043e\\u043d\\u0434 \\u043a\\u0438\\u043d\\u043e\",\n          \"\\u041c\\u0438\\u043d\\u0438\\u0441\\u0442\\u0435\\u0440\\u0441\\u0442\\u0432\\u043e \\u043a\\u0443\\u043b\\u044c\\u0442\\u0443\\u0440\\u044b, \\u0424\\u043e\\u043d\\u0434 \\u043a\\u0438\\u043d\\u043e\",\n          \"\\u041c\\u0438\\u043d\\u0438\\u0441\\u0442\\u0435\\u0440\\u0441\\u0442\\u0432\\u043e \\u043a\\u0443\\u043b\\u044c\\u0442\\u0443\\u0440\\u044b\"\n        ],\n        \"semantic_type\": \"\",\n        \"description\": \"\"\n      }\n    },\n    {\n      \"column\": \"ratings\",\n      \"properties\": {\n        \"dtype\": \"category\",\n        \"num_unique_values\": 95,\n        \"samples\": [\n          \"2.1\",\n          \"6.7\",\n          \"1.1\"\n        ],\n        \"semantic_type\": \"\",\n        \"description\": \"\"\n      }\n    },\n    {\n      \"column\": \"genres\",\n      \"properties\": {\n        \"dtype\": \"category\",\n        \"num_unique_values\": 743,\n        \"samples\": [\n          \"\\u0434\\u0440\\u0430\\u043c\\u0430,\\u0441\\u0435\\u043c\\u0435\\u0439\\u043d\\u044b\\u0439,\\u043a\\u043e\\u043c\\u0435\\u0434\\u0438\\u044f\",\n          \"\\u0434\\u043e\\u043a\\u0443\\u043c\\u0435\\u043d\\u0442\\u0430\\u043b\\u044c\\u043d\\u044b\\u0439,\\u0438\\u0441\\u0442\\u043e\\u0440\\u0438\\u044f\",\n          \"\\u0444\\u044d\\u043d\\u0442\\u0435\\u0437\\u0438,\\u0443\\u0436\\u0430\\u0441\\u044b,\\u0442\\u0440\\u0438\\u043b\\u043b\\u0435\\u0440\"\n        ],\n        \"semantic_type\": \"\",\n        \"description\": \"\"\n      }\n    },\n    {\n      \"column\": \"box_office\",\n      \"properties\": {\n        \"dtype\": \"number\",\n        \"std\": 240353122.82324007,\n        \"min\": 0.0,\n        \"max\": 3073568690.79,\n        \"num_unique_values\": 2938,\n        \"samples\": [\n          147606826.51,\n          1000157204.4,\n          14430.0\n        ],\n        \"semantic_type\": \"\",\n        \"description\": \"\"\n      }\n    }\n  ]\n}"
            }
          },
          "metadata": {},
          "execution_count": 157
        }
      ]
    },
    {
      "cell_type": "code",
      "source": [
        "df['puNumber'].loc[df['puNumber'].isna() == True].count()"
      ],
      "metadata": {
        "colab": {
          "base_uri": "https://localhost:8080/"
        },
        "id": "YzRHYwGzigp8",
        "outputId": "fa12dc71-9a51-44fe-aa01-af61bb087941"
      },
      "execution_count": 158,
      "outputs": [
        {
          "output_type": "execute_result",
          "data": {
            "text/plain": [
              "0"
            ]
          },
          "metadata": {},
          "execution_count": 158
        }
      ]
    },
    {
      "cell_type": "code",
      "source": [
        "df.info()"
      ],
      "metadata": {
        "colab": {
          "base_uri": "https://localhost:8080/"
        },
        "id": "QCpIAN3qp42M",
        "outputId": "3d0a9180-b84a-4a13-aec9-162167dccdc1"
      },
      "execution_count": 159,
      "outputs": [
        {
          "output_type": "stream",
          "name": "stdout",
          "text": [
            "<class 'pandas.core.frame.DataFrame'>\n",
            "RangeIndex: 7486 entries, 0 to 7485\n",
            "Data columns (total 16 columns):\n",
            " #   Column                 Non-Null Count  Dtype  \n",
            "---  ------                 --------------  -----  \n",
            " 0   title                  7486 non-null   object \n",
            " 1   puNumber               7486 non-null   int64  \n",
            " 2   show_start_date        7486 non-null   object \n",
            " 3   type                   7486 non-null   object \n",
            " 4   film_studio            7468 non-null   object \n",
            " 5   production_country     7484 non-null   object \n",
            " 6   director               7477 non-null   object \n",
            " 7   producer               6918 non-null   object \n",
            " 8   age_restriction        7486 non-null   object \n",
            " 9   refundable_support     333 non-null    object \n",
            " 10  nonrefundable_support  333 non-null    object \n",
            " 11  budget                 333 non-null    object \n",
            " 12  financing_source       333 non-null    object \n",
            " 13  ratings                6520 non-null   object \n",
            " 14  genres                 6511 non-null   object \n",
            " 15  box_office             3158 non-null   float64\n",
            "dtypes: float64(1), int64(1), object(14)\n",
            "memory usage: 935.9+ KB\n"
          ]
        }
      ]
    },
    {
      "cell_type": "markdown",
      "metadata": {
        "id": "KLDGpPG0gFyM"
      },
      "source": [
        "### Шаг 2. Предобработка данных"
      ]
    },
    {
      "cell_type": "markdown",
      "metadata": {
        "id": "ssWwKXsxgFyO"
      },
      "source": [
        "#### Шаг 2.1. Проверьте типы данных\n",
        "\n",
        "- Проверьте типы данных в датафрейме и преобразуйте их там, где это необходимо."
      ]
    },
    {
      "cell_type": "code",
      "source": [
        "df.head(1)"
      ],
      "metadata": {
        "colab": {
          "base_uri": "https://localhost:8080/",
          "height": 188
        },
        "id": "5OI6QtvXc1fn",
        "outputId": "3867d318-4d8b-4052-ca2c-9b400654463e"
      },
      "execution_count": 160,
      "outputs": [
        {
          "output_type": "execute_result",
          "data": {
            "text/plain": [
              "              title   puNumber           show_start_date            type  \\\n",
              "0  Открытый простор  221048915  2015-11-27T12:00:00.000Z  Художественный   \n",
              "\n",
              "                                         film_studio production_country  \\\n",
              "0  Тачстоун Пикчерз, Кобальт Пикчерз, Бикон Пикче...                США   \n",
              "\n",
              "        director                                   producer  \\\n",
              "0  Кевин Костнер  Дэвид Валдес, Кевин Костнер, Джейк Эбертс   \n",
              "\n",
              "               age_restriction refundable_support nonrefundable_support  \\\n",
              "0  «18+» - запрещено для детей                NaN                   NaN   \n",
              "\n",
              "  budget financing_source ratings                  genres  box_office  \n",
              "0    NaN              NaN     7.2  боевик,драма,мелодрама         NaN  "
            ],
            "text/html": [
              "\n",
              "  <div id=\"df-794ea6a7-048f-43fd-8199-f2dbe0017117\" class=\"colab-df-container\">\n",
              "    <div>\n",
              "<style scoped>\n",
              "    .dataframe tbody tr th:only-of-type {\n",
              "        vertical-align: middle;\n",
              "    }\n",
              "\n",
              "    .dataframe tbody tr th {\n",
              "        vertical-align: top;\n",
              "    }\n",
              "\n",
              "    .dataframe thead th {\n",
              "        text-align: right;\n",
              "    }\n",
              "</style>\n",
              "<table border=\"1\" class=\"dataframe\">\n",
              "  <thead>\n",
              "    <tr style=\"text-align: right;\">\n",
              "      <th></th>\n",
              "      <th>title</th>\n",
              "      <th>puNumber</th>\n",
              "      <th>show_start_date</th>\n",
              "      <th>type</th>\n",
              "      <th>film_studio</th>\n",
              "      <th>production_country</th>\n",
              "      <th>director</th>\n",
              "      <th>producer</th>\n",
              "      <th>age_restriction</th>\n",
              "      <th>refundable_support</th>\n",
              "      <th>nonrefundable_support</th>\n",
              "      <th>budget</th>\n",
              "      <th>financing_source</th>\n",
              "      <th>ratings</th>\n",
              "      <th>genres</th>\n",
              "      <th>box_office</th>\n",
              "    </tr>\n",
              "  </thead>\n",
              "  <tbody>\n",
              "    <tr>\n",
              "      <th>0</th>\n",
              "      <td>Открытый простор</td>\n",
              "      <td>221048915</td>\n",
              "      <td>2015-11-27T12:00:00.000Z</td>\n",
              "      <td>Художественный</td>\n",
              "      <td>Тачстоун Пикчерз, Кобальт Пикчерз, Бикон Пикче...</td>\n",
              "      <td>США</td>\n",
              "      <td>Кевин Костнер</td>\n",
              "      <td>Дэвид Валдес, Кевин Костнер, Джейк Эбертс</td>\n",
              "      <td>«18+» - запрещено для детей</td>\n",
              "      <td>NaN</td>\n",
              "      <td>NaN</td>\n",
              "      <td>NaN</td>\n",
              "      <td>NaN</td>\n",
              "      <td>7.2</td>\n",
              "      <td>боевик,драма,мелодрама</td>\n",
              "      <td>NaN</td>\n",
              "    </tr>\n",
              "  </tbody>\n",
              "</table>\n",
              "</div>\n",
              "    <div class=\"colab-df-buttons\">\n",
              "\n",
              "  <div class=\"colab-df-container\">\n",
              "    <button class=\"colab-df-convert\" onclick=\"convertToInteractive('df-794ea6a7-048f-43fd-8199-f2dbe0017117')\"\n",
              "            title=\"Convert this dataframe to an interactive table.\"\n",
              "            style=\"display:none;\">\n",
              "\n",
              "  <svg xmlns=\"http://www.w3.org/2000/svg\" height=\"24px\" viewBox=\"0 -960 960 960\">\n",
              "    <path d=\"M120-120v-720h720v720H120Zm60-500h600v-160H180v160Zm220 220h160v-160H400v160Zm0 220h160v-160H400v160ZM180-400h160v-160H180v160Zm440 0h160v-160H620v160ZM180-180h160v-160H180v160Zm440 0h160v-160H620v160Z\"/>\n",
              "  </svg>\n",
              "    </button>\n",
              "\n",
              "  <style>\n",
              "    .colab-df-container {\n",
              "      display:flex;\n",
              "      gap: 12px;\n",
              "    }\n",
              "\n",
              "    .colab-df-convert {\n",
              "      background-color: #E8F0FE;\n",
              "      border: none;\n",
              "      border-radius: 50%;\n",
              "      cursor: pointer;\n",
              "      display: none;\n",
              "      fill: #1967D2;\n",
              "      height: 32px;\n",
              "      padding: 0 0 0 0;\n",
              "      width: 32px;\n",
              "    }\n",
              "\n",
              "    .colab-df-convert:hover {\n",
              "      background-color: #E2EBFA;\n",
              "      box-shadow: 0px 1px 2px rgba(60, 64, 67, 0.3), 0px 1px 3px 1px rgba(60, 64, 67, 0.15);\n",
              "      fill: #174EA6;\n",
              "    }\n",
              "\n",
              "    .colab-df-buttons div {\n",
              "      margin-bottom: 4px;\n",
              "    }\n",
              "\n",
              "    [theme=dark] .colab-df-convert {\n",
              "      background-color: #3B4455;\n",
              "      fill: #D2E3FC;\n",
              "    }\n",
              "\n",
              "    [theme=dark] .colab-df-convert:hover {\n",
              "      background-color: #434B5C;\n",
              "      box-shadow: 0px 1px 3px 1px rgba(0, 0, 0, 0.15);\n",
              "      filter: drop-shadow(0px 1px 2px rgba(0, 0, 0, 0.3));\n",
              "      fill: #FFFFFF;\n",
              "    }\n",
              "  </style>\n",
              "\n",
              "    <script>\n",
              "      const buttonEl =\n",
              "        document.querySelector('#df-794ea6a7-048f-43fd-8199-f2dbe0017117 button.colab-df-convert');\n",
              "      buttonEl.style.display =\n",
              "        google.colab.kernel.accessAllowed ? 'block' : 'none';\n",
              "\n",
              "      async function convertToInteractive(key) {\n",
              "        const element = document.querySelector('#df-794ea6a7-048f-43fd-8199-f2dbe0017117');\n",
              "        const dataTable =\n",
              "          await google.colab.kernel.invokeFunction('convertToInteractive',\n",
              "                                                    [key], {});\n",
              "        if (!dataTable) return;\n",
              "\n",
              "        const docLinkHtml = 'Like what you see? Visit the ' +\n",
              "          '<a target=\"_blank\" href=https://colab.research.google.com/notebooks/data_table.ipynb>data table notebook</a>'\n",
              "          + ' to learn more about interactive tables.';\n",
              "        element.innerHTML = '';\n",
              "        dataTable['output_type'] = 'display_data';\n",
              "        await google.colab.output.renderOutput(dataTable, element);\n",
              "        const docLink = document.createElement('div');\n",
              "        docLink.innerHTML = docLinkHtml;\n",
              "        element.appendChild(docLink);\n",
              "      }\n",
              "    </script>\n",
              "  </div>\n",
              "\n",
              "    </div>\n",
              "  </div>\n"
            ],
            "application/vnd.google.colaboratory.intrinsic+json": {
              "type": "dataframe",
              "variable_name": "df",
              "summary": "{\n  \"name\": \"df\",\n  \"rows\": 7486,\n  \"fields\": [\n    {\n      \"column\": \"title\",\n      \"properties\": {\n        \"dtype\": \"string\",\n        \"num_unique_values\": 6772,\n        \"samples\": [\n          \"\\u041c\\u0430\\u043b\\u0435\\u043d\\u044c\\u043a\\u0438\\u0435 \\u043b\\u044e\\u0434\\u0438\",\n          \"\\u0412\\u0434\\u0440\\u0435\\u0431\\u0435\\u0437\\u0433\\u0438_\",\n          \"\\u041c\\u043e\\u043d\\u043e\\u043b\\u043e\\u0433 \\u0432 4-\\u0445 \\u0447\\u0430\\u0441\\u0442\\u044f\\u0445. \\u0410\\u043b\\u0435\\u043a\\u0441\\u0430\\u043d\\u0434\\u0440 \\u041a\\u0430\\u043b\\u044f\\u0433\\u0438\\u043d\"\n        ],\n        \"semantic_type\": \"\",\n        \"description\": \"\"\n      }\n    },\n    {\n      \"column\": \"puNumber\",\n      \"properties\": {\n        \"dtype\": \"number\",\n        \"std\": 38382177,\n        \"min\": 0,\n        \"max\": 231001111,\n        \"num_unique_values\": 7484,\n        \"samples\": [\n          111019015,\n          124003519,\n          111001416\n        ],\n        \"semantic_type\": \"\",\n        \"description\": \"\"\n      }\n    },\n    {\n      \"column\": \"show_start_date\",\n      \"properties\": {\n        \"dtype\": \"category\",\n        \"num_unique_values\": 1965,\n        \"samples\": [\n          \"2019-10-26T12:00:00.000Z\",\n          \"2011-11-18T12:00:00.000Z\",\n          \"2017-03-21T12:00:00.000Z\"\n        ],\n        \"semantic_type\": \"\",\n        \"description\": \"\"\n      }\n    },\n    {\n      \"column\": \"type\",\n      \"properties\": {\n        \"dtype\": \"category\",\n        \"num_unique_values\": 9,\n        \"samples\": [\n          \" \\u0410\\u043d\\u0438\\u043c\\u0430\\u0446\\u0438\\u043e\\u043d\\u043d\\u044b\\u0439\",\n          \"\\u0410\\u043d\\u0438\\u043c\\u0430\\u0446\\u0438\\u043e\\u043d\\u043d\\u044b\\u0439\",\n          \"0\"\n        ],\n        \"semantic_type\": \"\",\n        \"description\": \"\"\n      }\n    },\n    {\n      \"column\": \"film_studio\",\n      \"properties\": {\n        \"dtype\": \"string\",\n        \"num_unique_values\": 5491,\n        \"samples\": [\n          \"\\u041b\\u0430\\u0439\\u043d\\u0441\\u0433\\u0435\\u0439\\u0442, \\u0422\\u0430\\u043a\\u0435\\u0440 \\u0422\\u0443\\u043b\\u0438 \\u0418\\u043d\\u0442\\u0435\\u0440\\u0442\\u0435\\u0439\\u043d\\u043c\\u0435\\u043d\\u0442, \\u0412\\u044d\\u043b\\u0445\\u0430\\u043b\\u0430 \\u041c\\u043e\\u0443\\u0448\\u043d \\u041f\\u0438\\u043a\\u0447\\u0435\\u0440\\u0437\",\n          \"\\u041a\\u0430\\u043d\\u0430\\u043b + \\u042d\\u0441\\u043f\\u0430\\u043d\\u044c\\u0430, \\u0424\\u0438\\u043b\\u043c\\u043c\\u0430\\u043a\\u0441, \\u0418 \\u042d\\u0441 \\u0418 \\u042d\\u0441, \\u0418 \\u042d\\u0441 \\u0410 \\u0410, \\u041e\\u043d\\u043e, \\u0422\\u0435\\u043b\\u0435\\u0432\\u0438\\u0437\\u0438\\u043e \\u0434\\u0435 \\u041a\\u0430\\u0442\\u0430\\u043b\\u0443\\u043d\\u0438\\u0430, \\u0422\\u0435\\u043b\\u0435\\u0432\\u0438\\u0437\\u044c\\u043e\\u043d \\u042d\\u0441\\u043f\\u0430\\u043d\\u044c\\u043e\\u043b\\u0430\",\n          \"\\u0425\\u043e\\u0440\\u0430\\u0439\\u0437\\u043e\\u043d \\u0418\\u043d\\u0442\\u0435\\u0440\\u0442\\u0435\\u0439\\u043d\\u043c\\u0435\\u043d\\u0442, \\u041f\\u0430\\u043d\\u0433\\u0435\\u0430 \\u041c\\u0435\\u0434\\u0438\\u0430 \\u0413\\u0440\\u0443\\u043f\\u043f, \\u0424\\u0443\\u0430 \\u041f\\u0440\\u043e\\u0434\\u0430\\u043a\\u0448\\u043d\\u0437, \\u0414\\u0436\\u0438 \\u041a\\u0430 \\u042d\\u043c \\u041f\\u0438 \\u041e, \\u0421\\u0430\\u043d\\u0440\\u0430\\u0439\\u0437 \\u0424\\u0438\\u043b\\u043c\\u0437, \\u0422\\u0440\\u0430\\u0439\\u0433\\u0435\\u0440 \\u0421\\u0442\\u0440\\u0438\\u0442 \\u041f\\u0440\\u043e\\u0434\\u0430\\u043a\\u0448\\u043d\\u0437, \\u0424\\u0430\\u0437\\u0435\\u0440 \\u041e\\u0444 \\u0418\\u043d\\u0432\\u0435\\u043d\\u0448\\u043d \\u041f\\u0440\\u043e\\u0434\\u0430\\u043a\\u0448\\u043d \"\n        ],\n        \"semantic_type\": \"\",\n        \"description\": \"\"\n      }\n    },\n    {\n      \"column\": \"production_country\",\n      \"properties\": {\n        \"dtype\": \"category\",\n        \"num_unique_values\": 951,\n        \"samples\": [\n          \"\\u0424\\u0440\\u0430\\u043d\\u0446\\u0438\\u044f-\\u0418\\u043d\\u0434\\u0438\\u044f\",\n          \"\\u0410\\u0440\\u0433\\u0435\\u043d\\u0442\\u0438\\u043d\\u0430 - \\u0423\\u0440\\u0443\\u0433\\u0432\\u0430\\u0439 - \\u0420\\u043e\\u0441\\u0441\\u0438\\u044f - \\u0413\\u0435\\u0440\\u043c\\u0430\\u043d\\u0438\\u044f - \\u0424\\u0440\\u0430\\u043d\\u0446\\u0438\\u044f - \\u041d\\u0438\\u0434\\u0435\\u0440\\u043b\\u0430\\u043d\\u0434\\u044b\",\n          \"\\u0421\\u0428\\u0410 - \\u041e\\u0431\\u044a\\u0435\\u0434\\u0438\\u043d\\u0435\\u043d\\u043d\\u044b\\u0435 \\u0410\\u0440\\u0430\\u0431\\u0441\\u043a\\u0438\\u0435 \\u042d\\u043c\\u0438\\u0440\\u0430\\u0442\\u044b\"\n        ],\n        \"semantic_type\": \"\",\n        \"description\": \"\"\n      }\n    },\n    {\n      \"column\": \"director\",\n      \"properties\": {\n        \"dtype\": \"string\",\n        \"num_unique_values\": 4812,\n        \"samples\": [\n          \"\\u0413\\u044d\\u0431\\u0440\\u0438\\u0435\\u043b \\u041c\\u0430\\u0441\\u043a\\u0430\\u0440\\u043e\",\n          \"\\u0416\\u0430\\u043d-\\u0421\\u0442\\u0435\\u0444\\u0430\\u043d \\u0421\\u043e\\u0432\\u0435\\u0440\",\n          \"\\u0422\\u043e\\u043d\\u0438 \\u0413\\u0438\\u043b\\u0440\\u043e\\u0439\"\n        ],\n        \"semantic_type\": \"\",\n        \"description\": \"\"\n      }\n    },\n    {\n      \"column\": \"producer\",\n      \"properties\": {\n        \"dtype\": \"string\",\n        \"num_unique_values\": 5350,\n        \"samples\": [\n          \"\\u041a\\u0440\\u0435\\u0439\\u0433 \\u0417\\u0430\\u0434\\u0430\\u043d, \\u041d\\u0438\\u043b \\u041c\\u0435\\u0440\\u043e\\u043d\",\n          \"\\u041a\\u0440\\u0438\\u0441\\u0442\\u043e\\u0444\\u0435\\u0440 \\u041d\\u043e\\u043b\\u0430\\u043d, \\u041b\\u0438\\u043d\\u0434\\u0430 \\u041e\\u0431\\u0441\\u0442, \\u042d\\u043c\\u043c\\u0430 \\u0422\\u043e\\u043c\\u0430\\u0441\",\n          \"\\u041c\\u0438\\u0445\\u0430\\u044d\\u043b\\u044c \\u0410\\u043d\\u0434\\u0440\\u0435, \\u0424\\u0438\\u043b\\u0438\\u043f\\u043f \\u0411\\u043e\\u0431\\u0435\\u0440, \\u0423\\u043b\\u044c\\u0440\\u0438\\u0445 \\u0417\\u0430\\u0439\\u0434\\u043b\\u044c\"\n        ],\n        \"semantic_type\": \"\",\n        \"description\": \"\"\n      }\n    },\n    {\n      \"column\": \"age_restriction\",\n      \"properties\": {\n        \"dtype\": \"category\",\n        \"num_unique_values\": 6,\n        \"samples\": [\n          \"\\u00ab18+\\u00bb - \\u0437\\u0430\\u043f\\u0440\\u0435\\u0449\\u0435\\u043d\\u043e \\u0434\\u043b\\u044f \\u0434\\u0435\\u0442\\u0435\\u0439\",\n          \"\\u00ab6+\\u00bb - \\u0434\\u043b\\u044f \\u0434\\u0435\\u0442\\u0435\\u0439 \\u0441\\u0442\\u0430\\u0440\\u0448\\u0435 6 \\u043b\\u0435\\u0442\",\n          \"0\"\n        ],\n        \"semantic_type\": \"\",\n        \"description\": \"\"\n      }\n    },\n    {\n      \"column\": \"refundable_support\",\n      \"properties\": {\n        \"dtype\": \"category\",\n        \"num_unique_values\": 35,\n        \"samples\": [\n          55000000.0,\n          29000000.0,\n          38000000.0\n        ],\n        \"semantic_type\": \"\",\n        \"description\": \"\"\n      }\n    },\n    {\n      \"column\": \"nonrefundable_support\",\n      \"properties\": {\n        \"dtype\": \"category\",\n        \"num_unique_values\": 76,\n        \"samples\": [\n          25000000.0,\n          250000000.0,\n          30000000.0\n        ],\n        \"semantic_type\": \"\",\n        \"description\": \"\"\n      }\n    },\n    {\n      \"column\": \"budget\",\n      \"properties\": {\n        \"dtype\": \"category\",\n        \"num_unique_values\": 291,\n        \"samples\": [\n          52124638.0,\n          47200000.0,\n          39990000.0\n        ],\n        \"semantic_type\": \"\",\n        \"description\": \"\"\n      }\n    },\n    {\n      \"column\": \"financing_source\",\n      \"properties\": {\n        \"dtype\": \"category\",\n        \"num_unique_values\": 4,\n        \"samples\": [\n          \"\\u0424\\u043e\\u043d\\u0434 \\u043a\\u0438\\u043d\\u043e\",\n          \"\\u041c\\u0438\\u043d\\u0438\\u0441\\u0442\\u0435\\u0440\\u0441\\u0442\\u0432\\u043e \\u043a\\u0443\\u043b\\u044c\\u0442\\u0443\\u0440\\u044b, \\u0424\\u043e\\u043d\\u0434 \\u043a\\u0438\\u043d\\u043e\",\n          \"\\u041c\\u0438\\u043d\\u0438\\u0441\\u0442\\u0435\\u0440\\u0441\\u0442\\u0432\\u043e \\u043a\\u0443\\u043b\\u044c\\u0442\\u0443\\u0440\\u044b\"\n        ],\n        \"semantic_type\": \"\",\n        \"description\": \"\"\n      }\n    },\n    {\n      \"column\": \"ratings\",\n      \"properties\": {\n        \"dtype\": \"category\",\n        \"num_unique_values\": 95,\n        \"samples\": [\n          \"2.1\",\n          \"6.7\",\n          \"1.1\"\n        ],\n        \"semantic_type\": \"\",\n        \"description\": \"\"\n      }\n    },\n    {\n      \"column\": \"genres\",\n      \"properties\": {\n        \"dtype\": \"category\",\n        \"num_unique_values\": 743,\n        \"samples\": [\n          \"\\u0434\\u0440\\u0430\\u043c\\u0430,\\u0441\\u0435\\u043c\\u0435\\u0439\\u043d\\u044b\\u0439,\\u043a\\u043e\\u043c\\u0435\\u0434\\u0438\\u044f\",\n          \"\\u0434\\u043e\\u043a\\u0443\\u043c\\u0435\\u043d\\u0442\\u0430\\u043b\\u044c\\u043d\\u044b\\u0439,\\u0438\\u0441\\u0442\\u043e\\u0440\\u0438\\u044f\",\n          \"\\u0444\\u044d\\u043d\\u0442\\u0435\\u0437\\u0438,\\u0443\\u0436\\u0430\\u0441\\u044b,\\u0442\\u0440\\u0438\\u043b\\u043b\\u0435\\u0440\"\n        ],\n        \"semantic_type\": \"\",\n        \"description\": \"\"\n      }\n    },\n    {\n      \"column\": \"box_office\",\n      \"properties\": {\n        \"dtype\": \"number\",\n        \"std\": 240353122.82324007,\n        \"min\": 0.0,\n        \"max\": 3073568690.79,\n        \"num_unique_values\": 2938,\n        \"samples\": [\n          147606826.51,\n          1000157204.4,\n          14430.0\n        ],\n        \"semantic_type\": \"\",\n        \"description\": \"\"\n      }\n    }\n  ]\n}"
            }
          },
          "metadata": {},
          "execution_count": 160
        }
      ]
    },
    {
      "cell_type": "code",
      "execution_count": 161,
      "metadata": {
        "id": "kVGSplJOgFyO",
        "colab": {
          "base_uri": "https://localhost:8080/"
        },
        "outputId": "329ae9f8-448d-4de6-8409-ecf0efb0ab42"
      },
      "outputs": [
        {
          "output_type": "stream",
          "name": "stdout",
          "text": [
            "<class 'pandas.core.frame.DataFrame'>\n",
            "RangeIndex: 7486 entries, 0 to 7485\n",
            "Data columns (total 16 columns):\n",
            " #   Column                 Non-Null Count  Dtype  \n",
            "---  ------                 --------------  -----  \n",
            " 0   title                  7486 non-null   object \n",
            " 1   puNumber               7486 non-null   int64  \n",
            " 2   show_start_date        7486 non-null   object \n",
            " 3   type                   7486 non-null   object \n",
            " 4   film_studio            7468 non-null   object \n",
            " 5   production_country     7484 non-null   object \n",
            " 6   director               7477 non-null   object \n",
            " 7   producer               6918 non-null   object \n",
            " 8   age_restriction        7486 non-null   object \n",
            " 9   refundable_support     333 non-null    object \n",
            " 10  nonrefundable_support  333 non-null    object \n",
            " 11  budget                 333 non-null    object \n",
            " 12  financing_source       333 non-null    object \n",
            " 13  ratings                6520 non-null   object \n",
            " 14  genres                 6511 non-null   object \n",
            " 15  box_office             3158 non-null   float64\n",
            "dtypes: float64(1), int64(1), object(14)\n",
            "memory usage: 935.9+ KB\n"
          ]
        }
      ],
      "source": [
        "df.info()"
      ]
    },
    {
      "cell_type": "code",
      "source": [
        "df = df.loc[df['puNumber'] != 0]"
      ],
      "metadata": {
        "id": "xjlA_JOwhWz_"
      },
      "execution_count": 162,
      "outputs": []
    },
    {
      "cell_type": "code",
      "source": [
        "df.loc[df['puNumber'] == 0]"
      ],
      "metadata": {
        "colab": {
          "base_uri": "https://localhost:8080/",
          "height": 73
        },
        "id": "_vBhbaIughSr",
        "outputId": "8bdd9d21-100b-4014-99c7-1f6f87caf00a"
      },
      "execution_count": 163,
      "outputs": [
        {
          "output_type": "execute_result",
          "data": {
            "text/plain": [
              "Empty DataFrame\n",
              "Columns: [title, puNumber, show_start_date, type, film_studio, production_country, director, producer, age_restriction, refundable_support, nonrefundable_support, budget, financing_source, ratings, genres, box_office]\n",
              "Index: []"
            ],
            "text/html": [
              "\n",
              "  <div id=\"df-0a112ace-a6f9-4e64-9c85-5d49acb203eb\" class=\"colab-df-container\">\n",
              "    <div>\n",
              "<style scoped>\n",
              "    .dataframe tbody tr th:only-of-type {\n",
              "        vertical-align: middle;\n",
              "    }\n",
              "\n",
              "    .dataframe tbody tr th {\n",
              "        vertical-align: top;\n",
              "    }\n",
              "\n",
              "    .dataframe thead th {\n",
              "        text-align: right;\n",
              "    }\n",
              "</style>\n",
              "<table border=\"1\" class=\"dataframe\">\n",
              "  <thead>\n",
              "    <tr style=\"text-align: right;\">\n",
              "      <th></th>\n",
              "      <th>title</th>\n",
              "      <th>puNumber</th>\n",
              "      <th>show_start_date</th>\n",
              "      <th>type</th>\n",
              "      <th>film_studio</th>\n",
              "      <th>production_country</th>\n",
              "      <th>director</th>\n",
              "      <th>producer</th>\n",
              "      <th>age_restriction</th>\n",
              "      <th>refundable_support</th>\n",
              "      <th>nonrefundable_support</th>\n",
              "      <th>budget</th>\n",
              "      <th>financing_source</th>\n",
              "      <th>ratings</th>\n",
              "      <th>genres</th>\n",
              "      <th>box_office</th>\n",
              "    </tr>\n",
              "  </thead>\n",
              "  <tbody>\n",
              "  </tbody>\n",
              "</table>\n",
              "</div>\n",
              "    <div class=\"colab-df-buttons\">\n",
              "\n",
              "  <div class=\"colab-df-container\">\n",
              "    <button class=\"colab-df-convert\" onclick=\"convertToInteractive('df-0a112ace-a6f9-4e64-9c85-5d49acb203eb')\"\n",
              "            title=\"Convert this dataframe to an interactive table.\"\n",
              "            style=\"display:none;\">\n",
              "\n",
              "  <svg xmlns=\"http://www.w3.org/2000/svg\" height=\"24px\" viewBox=\"0 -960 960 960\">\n",
              "    <path d=\"M120-120v-720h720v720H120Zm60-500h600v-160H180v160Zm220 220h160v-160H400v160Zm0 220h160v-160H400v160ZM180-400h160v-160H180v160Zm440 0h160v-160H620v160ZM180-180h160v-160H180v160Zm440 0h160v-160H620v160Z\"/>\n",
              "  </svg>\n",
              "    </button>\n",
              "\n",
              "  <style>\n",
              "    .colab-df-container {\n",
              "      display:flex;\n",
              "      gap: 12px;\n",
              "    }\n",
              "\n",
              "    .colab-df-convert {\n",
              "      background-color: #E8F0FE;\n",
              "      border: none;\n",
              "      border-radius: 50%;\n",
              "      cursor: pointer;\n",
              "      display: none;\n",
              "      fill: #1967D2;\n",
              "      height: 32px;\n",
              "      padding: 0 0 0 0;\n",
              "      width: 32px;\n",
              "    }\n",
              "\n",
              "    .colab-df-convert:hover {\n",
              "      background-color: #E2EBFA;\n",
              "      box-shadow: 0px 1px 2px rgba(60, 64, 67, 0.3), 0px 1px 3px 1px rgba(60, 64, 67, 0.15);\n",
              "      fill: #174EA6;\n",
              "    }\n",
              "\n",
              "    .colab-df-buttons div {\n",
              "      margin-bottom: 4px;\n",
              "    }\n",
              "\n",
              "    [theme=dark] .colab-df-convert {\n",
              "      background-color: #3B4455;\n",
              "      fill: #D2E3FC;\n",
              "    }\n",
              "\n",
              "    [theme=dark] .colab-df-convert:hover {\n",
              "      background-color: #434B5C;\n",
              "      box-shadow: 0px 1px 3px 1px rgba(0, 0, 0, 0.15);\n",
              "      filter: drop-shadow(0px 1px 2px rgba(0, 0, 0, 0.3));\n",
              "      fill: #FFFFFF;\n",
              "    }\n",
              "  </style>\n",
              "\n",
              "    <script>\n",
              "      const buttonEl =\n",
              "        document.querySelector('#df-0a112ace-a6f9-4e64-9c85-5d49acb203eb button.colab-df-convert');\n",
              "      buttonEl.style.display =\n",
              "        google.colab.kernel.accessAllowed ? 'block' : 'none';\n",
              "\n",
              "      async function convertToInteractive(key) {\n",
              "        const element = document.querySelector('#df-0a112ace-a6f9-4e64-9c85-5d49acb203eb');\n",
              "        const dataTable =\n",
              "          await google.colab.kernel.invokeFunction('convertToInteractive',\n",
              "                                                    [key], {});\n",
              "        if (!dataTable) return;\n",
              "\n",
              "        const docLinkHtml = 'Like what you see? Visit the ' +\n",
              "          '<a target=\"_blank\" href=https://colab.research.google.com/notebooks/data_table.ipynb>data table notebook</a>'\n",
              "          + ' to learn more about interactive tables.';\n",
              "        element.innerHTML = '';\n",
              "        dataTable['output_type'] = 'display_data';\n",
              "        await google.colab.output.renderOutput(dataTable, element);\n",
              "        const docLink = document.createElement('div');\n",
              "        docLink.innerHTML = docLinkHtml;\n",
              "        element.appendChild(docLink);\n",
              "      }\n",
              "    </script>\n",
              "  </div>\n",
              "\n",
              "    </div>\n",
              "  </div>\n"
            ],
            "application/vnd.google.colaboratory.intrinsic+json": {
              "type": "dataframe",
              "repr_error": "Out of range float values are not JSON compliant: nan"
            }
          },
          "metadata": {},
          "execution_count": 163
        }
      ]
    },
    {
      "cell_type": "markdown",
      "source": [
        "Видно, что для некоторых столбцов не подходят типы.\n",
        "\n",
        "- show_start_date -> dateTime\n",
        "- budget -> float\n",
        "- ratings -> float\n",
        "- refundable_support -> float\n",
        "- nonrefundable_support -> float\n",
        "- box_office -> float\n"
      ],
      "metadata": {
        "id": "unutOgg9ceme"
      }
    },
    {
      "cell_type": "code",
      "source": [
        "date_format = \"%Y-%m-%dT%H:%M:%S.%fZ\"\n",
        "df['show_start_date'] = pd.to_datetime(df['show_start_date'],\n",
        "                                       format=date_format)"
      ],
      "metadata": {
        "id": "WNbMyGltdNSa",
        "colab": {
          "base_uri": "https://localhost:8080/"
        },
        "outputId": "4e757bc2-d112-4724-ba0c-b6a74a15449d"
      },
      "execution_count": 164,
      "outputs": [
        {
          "output_type": "stream",
          "name": "stderr",
          "text": [
            "<ipython-input-164-0ebf0a77deb7>:2: SettingWithCopyWarning: \n",
            "A value is trying to be set on a copy of a slice from a DataFrame.\n",
            "Try using .loc[row_indexer,col_indexer] = value instead\n",
            "\n",
            "See the caveats in the documentation: https://pandas.pydata.org/pandas-docs/stable/user_guide/indexing.html#returning-a-view-versus-a-copy\n",
            "  df['show_start_date'] = pd.to_datetime(df['show_start_date'],\n"
          ]
        }
      ]
    },
    {
      "cell_type": "code",
      "source": [
        "df['ratings'].unique()"
      ],
      "metadata": {
        "colab": {
          "base_uri": "https://localhost:8080/"
        },
        "id": "YZKJZZ_LdzAt",
        "outputId": "056593a4-b45b-4a2a-fa6c-faffc62cd9d7"
      },
      "execution_count": 165,
      "outputs": [
        {
          "output_type": "execute_result",
          "data": {
            "text/plain": [
              "array(['7.2', '6.6', '6.8', '7.7', '8.3', '8.0', '7.8', '8.1', '7.1',\n",
              "       '6.0', '7.4', '5.8', '8.7', '6.3', '6.9', '5.0', '4.3', '7.3',\n",
              "       '7.0', '6.4', nan, '8.2', '7.5', '6.7', '7.9', '5.9', '6.2', '5.6',\n",
              "       '6.5', '2.4', '7.6', '6.1', '8.6', '8.5', '8.8', '5.5', '5.1',\n",
              "       '5.7', '5.4', '99%', '4.4', '4.5', '5.3', '4.1', '8.4', '2.6',\n",
              "       '3.8', '4.6', '4.8', '4.0', '3.0', '1.6', '4.2', '5.2', '4.7',\n",
              "       '4.9', '3.9', '2.7', '3.3', '2.9', '28%', '3.7', '1.4', '3.1',\n",
              "       '97%', '3.5', '3.2', '2.8', '1.5', '2.1', '2.5', '9.2', '3.4',\n",
              "       '1.1', '3.6', '83%', '64%', '91%', '94%', '62%', '79%', '90%',\n",
              "       '19%', '88%', '1.0', '89%', '1.3', '1.9', '1.8', '1.2', '1.7',\n",
              "       '9.0', '98%', '8.9', '9.1'], dtype=object)"
            ]
          },
          "metadata": {},
          "execution_count": 165
        }
      ]
    },
    {
      "cell_type": "code",
      "source": [
        "df = df.dropna(subset = ['ratings'])"
      ],
      "metadata": {
        "id": "Rs1v2Ek-NK__"
      },
      "execution_count": 166,
      "outputs": []
    },
    {
      "cell_type": "code",
      "source": [
        "df.loc[df['ratings'].str.endswith('%')].head()"
      ],
      "metadata": {
        "colab": {
          "base_uri": "https://localhost:8080/",
          "height": 452
        },
        "id": "H5UhHI3XL7nY",
        "outputId": "7d6c02e2-fb07-4c65-8869-68c112d695d2"
      },
      "execution_count": 167,
      "outputs": [
        {
          "output_type": "execute_result",
          "data": {
            "text/plain": [
              "                     title   puNumber     show_start_date            type  \\\n",
              "259                Прошлое  221030715 2015-07-29 12:00:00  Художественный   \n",
              "811              От винта!  114000212 2012-08-06 12:00:00    Анимационный   \n",
              "1053      Песочный человек  121029212 2012-11-29 12:00:00  Художественный   \n",
              "1341  Сказка о добре и Вре  111008913 2013-11-15 12:00:00  Художественный   \n",
              "1805              Спираль.  111001014 2014-01-30 12:00:00  Художественный   \n",
              "\n",
              "                                            film_studio    production_country  \\\n",
              "259   20 Сенчюри Фокс де Архентина, Чемо, ЭйчБи Филм...  Аргентина - Бразилия   \n",
              "811                   ЗАО \"Продюсерский центр \"Парадиз\"                Россия   \n",
              "1053                            Спотлайт Медиа Продакшн             Швейцария   \n",
              "1341                     НП \"Студия игрового кино \"Лик\"                Россия   \n",
              "1805                               ООО \"Компания Питон\"                Россия   \n",
              "\n",
              "           director                                  producer  \\\n",
              "259   Эктор Бабенко  Эктор Бабенко, Оскар Крамер, Хуго Сидмэн   \n",
              "811        О.Лопато       Г.Нерсисян, А.Манасарян, А.Нерсесян   \n",
              "1053    Питер Луизи                  Дэвид Луизи, Питер Луизи   \n",
              "1341      Е.Шиляева                               К.Терещенко   \n",
              "1805       А.Волгин                                Е.Ковалева   \n",
              "\n",
              "                      age_restriction refundable_support  \\\n",
              "259   «16+» - для детей старше 16 лет                NaN   \n",
              "811   «12+» - для детей старше 12 лет                NaN   \n",
              "1053  «16+» - для детей старше 16 лет                NaN   \n",
              "1341    «6+» - для детей старше 6 лет                NaN   \n",
              "1805  «12+» - для детей старше 12 лет                NaN   \n",
              "\n",
              "     nonrefundable_support budget financing_source ratings  \\\n",
              "259                    NaN    NaN              NaN     99%   \n",
              "811                    NaN    NaN              NaN     28%   \n",
              "1053                   NaN    NaN              NaN     97%   \n",
              "1341                   NaN    NaN              NaN     99%   \n",
              "1805                   NaN    NaN              NaN     99%   \n",
              "\n",
              "                           genres  box_office  \n",
              "259           ужасы,триллер,драма         NaN  \n",
              "811   детский,приключения,комедия      1740.0  \n",
              "1053     ужасы,фантастика,фэнтези         NaN  \n",
              "1341       триллер,драма,детектив         NaN  \n",
              "1805       аниме,мультфильм,ужасы      4295.0  "
            ],
            "text/html": [
              "\n",
              "  <div id=\"df-b30c1119-63b5-4807-9b1b-13be16b2ac26\" class=\"colab-df-container\">\n",
              "    <div>\n",
              "<style scoped>\n",
              "    .dataframe tbody tr th:only-of-type {\n",
              "        vertical-align: middle;\n",
              "    }\n",
              "\n",
              "    .dataframe tbody tr th {\n",
              "        vertical-align: top;\n",
              "    }\n",
              "\n",
              "    .dataframe thead th {\n",
              "        text-align: right;\n",
              "    }\n",
              "</style>\n",
              "<table border=\"1\" class=\"dataframe\">\n",
              "  <thead>\n",
              "    <tr style=\"text-align: right;\">\n",
              "      <th></th>\n",
              "      <th>title</th>\n",
              "      <th>puNumber</th>\n",
              "      <th>show_start_date</th>\n",
              "      <th>type</th>\n",
              "      <th>film_studio</th>\n",
              "      <th>production_country</th>\n",
              "      <th>director</th>\n",
              "      <th>producer</th>\n",
              "      <th>age_restriction</th>\n",
              "      <th>refundable_support</th>\n",
              "      <th>nonrefundable_support</th>\n",
              "      <th>budget</th>\n",
              "      <th>financing_source</th>\n",
              "      <th>ratings</th>\n",
              "      <th>genres</th>\n",
              "      <th>box_office</th>\n",
              "    </tr>\n",
              "  </thead>\n",
              "  <tbody>\n",
              "    <tr>\n",
              "      <th>259</th>\n",
              "      <td>Прошлое</td>\n",
              "      <td>221030715</td>\n",
              "      <td>2015-07-29 12:00:00</td>\n",
              "      <td>Художественный</td>\n",
              "      <td>20 Сенчюри Фокс де Архентина, Чемо, ЭйчБи Филм...</td>\n",
              "      <td>Аргентина - Бразилия</td>\n",
              "      <td>Эктор Бабенко</td>\n",
              "      <td>Эктор Бабенко, Оскар Крамер, Хуго Сидмэн</td>\n",
              "      <td>«16+» - для детей старше 16 лет</td>\n",
              "      <td>NaN</td>\n",
              "      <td>NaN</td>\n",
              "      <td>NaN</td>\n",
              "      <td>NaN</td>\n",
              "      <td>99%</td>\n",
              "      <td>ужасы,триллер,драма</td>\n",
              "      <td>NaN</td>\n",
              "    </tr>\n",
              "    <tr>\n",
              "      <th>811</th>\n",
              "      <td>От винта!</td>\n",
              "      <td>114000212</td>\n",
              "      <td>2012-08-06 12:00:00</td>\n",
              "      <td>Анимационный</td>\n",
              "      <td>ЗАО \"Продюсерский центр \"Парадиз\"</td>\n",
              "      <td>Россия</td>\n",
              "      <td>О.Лопато</td>\n",
              "      <td>Г.Нерсисян, А.Манасарян, А.Нерсесян</td>\n",
              "      <td>«12+» - для детей старше 12 лет</td>\n",
              "      <td>NaN</td>\n",
              "      <td>NaN</td>\n",
              "      <td>NaN</td>\n",
              "      <td>NaN</td>\n",
              "      <td>28%</td>\n",
              "      <td>детский,приключения,комедия</td>\n",
              "      <td>1740.0</td>\n",
              "    </tr>\n",
              "    <tr>\n",
              "      <th>1053</th>\n",
              "      <td>Песочный человек</td>\n",
              "      <td>121029212</td>\n",
              "      <td>2012-11-29 12:00:00</td>\n",
              "      <td>Художественный</td>\n",
              "      <td>Спотлайт Медиа Продакшн</td>\n",
              "      <td>Швейцария</td>\n",
              "      <td>Питер Луизи</td>\n",
              "      <td>Дэвид Луизи, Питер Луизи</td>\n",
              "      <td>«16+» - для детей старше 16 лет</td>\n",
              "      <td>NaN</td>\n",
              "      <td>NaN</td>\n",
              "      <td>NaN</td>\n",
              "      <td>NaN</td>\n",
              "      <td>97%</td>\n",
              "      <td>ужасы,фантастика,фэнтези</td>\n",
              "      <td>NaN</td>\n",
              "    </tr>\n",
              "    <tr>\n",
              "      <th>1341</th>\n",
              "      <td>Сказка о добре и Вре</td>\n",
              "      <td>111008913</td>\n",
              "      <td>2013-11-15 12:00:00</td>\n",
              "      <td>Художественный</td>\n",
              "      <td>НП \"Студия игрового кино \"Лик\"</td>\n",
              "      <td>Россия</td>\n",
              "      <td>Е.Шиляева</td>\n",
              "      <td>К.Терещенко</td>\n",
              "      <td>«6+» - для детей старше 6 лет</td>\n",
              "      <td>NaN</td>\n",
              "      <td>NaN</td>\n",
              "      <td>NaN</td>\n",
              "      <td>NaN</td>\n",
              "      <td>99%</td>\n",
              "      <td>триллер,драма,детектив</td>\n",
              "      <td>NaN</td>\n",
              "    </tr>\n",
              "    <tr>\n",
              "      <th>1805</th>\n",
              "      <td>Спираль.</td>\n",
              "      <td>111001014</td>\n",
              "      <td>2014-01-30 12:00:00</td>\n",
              "      <td>Художественный</td>\n",
              "      <td>ООО \"Компания Питон\"</td>\n",
              "      <td>Россия</td>\n",
              "      <td>А.Волгин</td>\n",
              "      <td>Е.Ковалева</td>\n",
              "      <td>«12+» - для детей старше 12 лет</td>\n",
              "      <td>NaN</td>\n",
              "      <td>NaN</td>\n",
              "      <td>NaN</td>\n",
              "      <td>NaN</td>\n",
              "      <td>99%</td>\n",
              "      <td>аниме,мультфильм,ужасы</td>\n",
              "      <td>4295.0</td>\n",
              "    </tr>\n",
              "  </tbody>\n",
              "</table>\n",
              "</div>\n",
              "    <div class=\"colab-df-buttons\">\n",
              "\n",
              "  <div class=\"colab-df-container\">\n",
              "    <button class=\"colab-df-convert\" onclick=\"convertToInteractive('df-b30c1119-63b5-4807-9b1b-13be16b2ac26')\"\n",
              "            title=\"Convert this dataframe to an interactive table.\"\n",
              "            style=\"display:none;\">\n",
              "\n",
              "  <svg xmlns=\"http://www.w3.org/2000/svg\" height=\"24px\" viewBox=\"0 -960 960 960\">\n",
              "    <path d=\"M120-120v-720h720v720H120Zm60-500h600v-160H180v160Zm220 220h160v-160H400v160Zm0 220h160v-160H400v160ZM180-400h160v-160H180v160Zm440 0h160v-160H620v160ZM180-180h160v-160H180v160Zm440 0h160v-160H620v160Z\"/>\n",
              "  </svg>\n",
              "    </button>\n",
              "\n",
              "  <style>\n",
              "    .colab-df-container {\n",
              "      display:flex;\n",
              "      gap: 12px;\n",
              "    }\n",
              "\n",
              "    .colab-df-convert {\n",
              "      background-color: #E8F0FE;\n",
              "      border: none;\n",
              "      border-radius: 50%;\n",
              "      cursor: pointer;\n",
              "      display: none;\n",
              "      fill: #1967D2;\n",
              "      height: 32px;\n",
              "      padding: 0 0 0 0;\n",
              "      width: 32px;\n",
              "    }\n",
              "\n",
              "    .colab-df-convert:hover {\n",
              "      background-color: #E2EBFA;\n",
              "      box-shadow: 0px 1px 2px rgba(60, 64, 67, 0.3), 0px 1px 3px 1px rgba(60, 64, 67, 0.15);\n",
              "      fill: #174EA6;\n",
              "    }\n",
              "\n",
              "    .colab-df-buttons div {\n",
              "      margin-bottom: 4px;\n",
              "    }\n",
              "\n",
              "    [theme=dark] .colab-df-convert {\n",
              "      background-color: #3B4455;\n",
              "      fill: #D2E3FC;\n",
              "    }\n",
              "\n",
              "    [theme=dark] .colab-df-convert:hover {\n",
              "      background-color: #434B5C;\n",
              "      box-shadow: 0px 1px 3px 1px rgba(0, 0, 0, 0.15);\n",
              "      filter: drop-shadow(0px 1px 2px rgba(0, 0, 0, 0.3));\n",
              "      fill: #FFFFFF;\n",
              "    }\n",
              "  </style>\n",
              "\n",
              "    <script>\n",
              "      const buttonEl =\n",
              "        document.querySelector('#df-b30c1119-63b5-4807-9b1b-13be16b2ac26 button.colab-df-convert');\n",
              "      buttonEl.style.display =\n",
              "        google.colab.kernel.accessAllowed ? 'block' : 'none';\n",
              "\n",
              "      async function convertToInteractive(key) {\n",
              "        const element = document.querySelector('#df-b30c1119-63b5-4807-9b1b-13be16b2ac26');\n",
              "        const dataTable =\n",
              "          await google.colab.kernel.invokeFunction('convertToInteractive',\n",
              "                                                    [key], {});\n",
              "        if (!dataTable) return;\n",
              "\n",
              "        const docLinkHtml = 'Like what you see? Visit the ' +\n",
              "          '<a target=\"_blank\" href=https://colab.research.google.com/notebooks/data_table.ipynb>data table notebook</a>'\n",
              "          + ' to learn more about interactive tables.';\n",
              "        element.innerHTML = '';\n",
              "        dataTable['output_type'] = 'display_data';\n",
              "        await google.colab.output.renderOutput(dataTable, element);\n",
              "        const docLink = document.createElement('div');\n",
              "        docLink.innerHTML = docLinkHtml;\n",
              "        element.appendChild(docLink);\n",
              "      }\n",
              "    </script>\n",
              "  </div>\n",
              "\n",
              "\n",
              "<div id=\"df-5384a985-1981-4652-a6fc-cba4f2517103\">\n",
              "  <button class=\"colab-df-quickchart\" onclick=\"quickchart('df-5384a985-1981-4652-a6fc-cba4f2517103')\"\n",
              "            title=\"Suggest charts\"\n",
              "            style=\"display:none;\">\n",
              "\n",
              "<svg xmlns=\"http://www.w3.org/2000/svg\" height=\"24px\"viewBox=\"0 0 24 24\"\n",
              "     width=\"24px\">\n",
              "    <g>\n",
              "        <path d=\"M19 3H5c-1.1 0-2 .9-2 2v14c0 1.1.9 2 2 2h14c1.1 0 2-.9 2-2V5c0-1.1-.9-2-2-2zM9 17H7v-7h2v7zm4 0h-2V7h2v10zm4 0h-2v-4h2v4z\"/>\n",
              "    </g>\n",
              "</svg>\n",
              "  </button>\n",
              "\n",
              "<style>\n",
              "  .colab-df-quickchart {\n",
              "      --bg-color: #E8F0FE;\n",
              "      --fill-color: #1967D2;\n",
              "      --hover-bg-color: #E2EBFA;\n",
              "      --hover-fill-color: #174EA6;\n",
              "      --disabled-fill-color: #AAA;\n",
              "      --disabled-bg-color: #DDD;\n",
              "  }\n",
              "\n",
              "  [theme=dark] .colab-df-quickchart {\n",
              "      --bg-color: #3B4455;\n",
              "      --fill-color: #D2E3FC;\n",
              "      --hover-bg-color: #434B5C;\n",
              "      --hover-fill-color: #FFFFFF;\n",
              "      --disabled-bg-color: #3B4455;\n",
              "      --disabled-fill-color: #666;\n",
              "  }\n",
              "\n",
              "  .colab-df-quickchart {\n",
              "    background-color: var(--bg-color);\n",
              "    border: none;\n",
              "    border-radius: 50%;\n",
              "    cursor: pointer;\n",
              "    display: none;\n",
              "    fill: var(--fill-color);\n",
              "    height: 32px;\n",
              "    padding: 0;\n",
              "    width: 32px;\n",
              "  }\n",
              "\n",
              "  .colab-df-quickchart:hover {\n",
              "    background-color: var(--hover-bg-color);\n",
              "    box-shadow: 0 1px 2px rgba(60, 64, 67, 0.3), 0 1px 3px 1px rgba(60, 64, 67, 0.15);\n",
              "    fill: var(--button-hover-fill-color);\n",
              "  }\n",
              "\n",
              "  .colab-df-quickchart-complete:disabled,\n",
              "  .colab-df-quickchart-complete:disabled:hover {\n",
              "    background-color: var(--disabled-bg-color);\n",
              "    fill: var(--disabled-fill-color);\n",
              "    box-shadow: none;\n",
              "  }\n",
              "\n",
              "  .colab-df-spinner {\n",
              "    border: 2px solid var(--fill-color);\n",
              "    border-color: transparent;\n",
              "    border-bottom-color: var(--fill-color);\n",
              "    animation:\n",
              "      spin 1s steps(1) infinite;\n",
              "  }\n",
              "\n",
              "  @keyframes spin {\n",
              "    0% {\n",
              "      border-color: transparent;\n",
              "      border-bottom-color: var(--fill-color);\n",
              "      border-left-color: var(--fill-color);\n",
              "    }\n",
              "    20% {\n",
              "      border-color: transparent;\n",
              "      border-left-color: var(--fill-color);\n",
              "      border-top-color: var(--fill-color);\n",
              "    }\n",
              "    30% {\n",
              "      border-color: transparent;\n",
              "      border-left-color: var(--fill-color);\n",
              "      border-top-color: var(--fill-color);\n",
              "      border-right-color: var(--fill-color);\n",
              "    }\n",
              "    40% {\n",
              "      border-color: transparent;\n",
              "      border-right-color: var(--fill-color);\n",
              "      border-top-color: var(--fill-color);\n",
              "    }\n",
              "    60% {\n",
              "      border-color: transparent;\n",
              "      border-right-color: var(--fill-color);\n",
              "    }\n",
              "    80% {\n",
              "      border-color: transparent;\n",
              "      border-right-color: var(--fill-color);\n",
              "      border-bottom-color: var(--fill-color);\n",
              "    }\n",
              "    90% {\n",
              "      border-color: transparent;\n",
              "      border-bottom-color: var(--fill-color);\n",
              "    }\n",
              "  }\n",
              "</style>\n",
              "\n",
              "  <script>\n",
              "    async function quickchart(key) {\n",
              "      const quickchartButtonEl =\n",
              "        document.querySelector('#' + key + ' button');\n",
              "      quickchartButtonEl.disabled = true;  // To prevent multiple clicks.\n",
              "      quickchartButtonEl.classList.add('colab-df-spinner');\n",
              "      try {\n",
              "        const charts = await google.colab.kernel.invokeFunction(\n",
              "            'suggestCharts', [key], {});\n",
              "      } catch (error) {\n",
              "        console.error('Error during call to suggestCharts:', error);\n",
              "      }\n",
              "      quickchartButtonEl.classList.remove('colab-df-spinner');\n",
              "      quickchartButtonEl.classList.add('colab-df-quickchart-complete');\n",
              "    }\n",
              "    (() => {\n",
              "      let quickchartButtonEl =\n",
              "        document.querySelector('#df-5384a985-1981-4652-a6fc-cba4f2517103 button');\n",
              "      quickchartButtonEl.style.display =\n",
              "        google.colab.kernel.accessAllowed ? 'block' : 'none';\n",
              "    })();\n",
              "  </script>\n",
              "</div>\n",
              "    </div>\n",
              "  </div>\n"
            ],
            "application/vnd.google.colaboratory.intrinsic+json": {
              "type": "dataframe",
              "repr_error": "0"
            }
          },
          "metadata": {},
          "execution_count": 167
        }
      ]
    },
    {
      "cell_type": "code",
      "source": [
        "df = df.loc[df['ratings'].str.endswith('%') == False]"
      ],
      "metadata": {
        "id": "ho2wgMICQMc_"
      },
      "execution_count": 168,
      "outputs": []
    },
    {
      "cell_type": "code",
      "source": [
        "arr_columns_to_float = ['budget', 'ratings', 'refundable_support', 'nonrefundable_support', 'box_office']\n",
        "\n",
        "for col in arr_columns_to_float:\n",
        "    df[col] = pd.to_numeric(df[col])"
      ],
      "metadata": {
        "colab": {
          "base_uri": "https://localhost:8080/"
        },
        "id": "B2QG9eRt7Ks5",
        "outputId": "91b904bb-a52b-4a87-ef38-f9a6c91288fb"
      },
      "execution_count": 169,
      "outputs": [
        {
          "output_type": "stream",
          "name": "stderr",
          "text": [
            "<ipython-input-169-b3818ae4c316>:4: SettingWithCopyWarning: \n",
            "A value is trying to be set on a copy of a slice from a DataFrame.\n",
            "Try using .loc[row_indexer,col_indexer] = value instead\n",
            "\n",
            "See the caveats in the documentation: https://pandas.pydata.org/pandas-docs/stable/user_guide/indexing.html#returning-a-view-versus-a-copy\n",
            "  df[col] = pd.to_numeric(df[col])\n"
          ]
        }
      ]
    },
    {
      "cell_type": "markdown",
      "source": [
        "##### **Вывод по стобцу ratings:**\n",
        "\n",
        "Я предположил, что рейтинг в виде процентов – это доля от 10. Однако это не подтвердилось. Я проверил несколько фильмов из списка, имеющих рейтинг в процентах, и сравнил их с реальными рейтингами, найденными в интернете. Оказалось, что эти значения сильно отличаются от ожидаемых."
      ],
      "metadata": {
        "id": "tjV0ohHOOCrb"
      }
    },
    {
      "cell_type": "markdown",
      "source": [
        "##### **Вывод**\n",
        "- Значения в столбце show_start_date были преобразованы в тип datetime.\n",
        "- Значения в столбце ratings были отфильрованы. Остались только те, что не содержат процентов и явлются вещественными числами от 0 до 10."
      ],
      "metadata": {
        "id": "oTpBOG-8Pk3q"
      }
    },
    {
      "cell_type": "markdown",
      "metadata": {
        "id": "i0MOLbF-gFyP"
      },
      "source": [
        "#### Шаг 2.2. Изучите пропуски в датафрейме\n",
        "\n",
        "- Объясните, почему заполнили пропуски определённым образом или почему не стали этого делать."
      ]
    },
    {
      "cell_type": "code",
      "source": [
        "df.info()"
      ],
      "metadata": {
        "colab": {
          "base_uri": "https://localhost:8080/"
        },
        "id": "PWifdfUmRd7v",
        "outputId": "4f6220d5-1f2d-4bdc-e809-236bd5593c4f"
      },
      "execution_count": 170,
      "outputs": [
        {
          "output_type": "stream",
          "name": "stdout",
          "text": [
            "<class 'pandas.core.frame.DataFrame'>\n",
            "Index: 6490 entries, 0 to 7485\n",
            "Data columns (total 16 columns):\n",
            " #   Column                 Non-Null Count  Dtype         \n",
            "---  ------                 --------------  -----         \n",
            " 0   title                  6490 non-null   object        \n",
            " 1   puNumber               6490 non-null   int64         \n",
            " 2   show_start_date        6490 non-null   datetime64[ns]\n",
            " 3   type                   6490 non-null   object        \n",
            " 4   film_studio            6485 non-null   object        \n",
            " 5   production_country     6488 non-null   object        \n",
            " 6   director               6487 non-null   object        \n",
            " 7   producer               6012 non-null   object        \n",
            " 8   age_restriction        6490 non-null   object        \n",
            " 9   refundable_support     314 non-null    float64       \n",
            " 10  nonrefundable_support  314 non-null    float64       \n",
            " 11  budget                 314 non-null    float64       \n",
            " 12  financing_source       314 non-null    object        \n",
            " 13  ratings                6490 non-null   float64       \n",
            " 14  genres                 6484 non-null   object        \n",
            " 15  box_office             2899 non-null   float64       \n",
            "dtypes: datetime64[ns](1), float64(5), int64(1), object(9)\n",
            "memory usage: 862.0+ KB\n"
          ]
        }
      ]
    },
    {
      "cell_type": "code",
      "execution_count": 171,
      "metadata": {
        "id": "8MJD_lkngFyP",
        "colab": {
          "base_uri": "https://localhost:8080/"
        },
        "outputId": "b54f61b7-4b33-4541-907f-8e3c5ae48d73"
      },
      "outputs": [
        {
          "output_type": "execute_result",
          "data": {
            "text/plain": [
              "title                       0\n",
              "puNumber                    0\n",
              "show_start_date             0\n",
              "type                        0\n",
              "film_studio                 5\n",
              "production_country          2\n",
              "director                    3\n",
              "producer                  478\n",
              "age_restriction             0\n",
              "refundable_support       6176\n",
              "nonrefundable_support    6176\n",
              "budget                   6176\n",
              "financing_source         6176\n",
              "ratings                     0\n",
              "genres                      6\n",
              "box_office               3591\n",
              "dtype: int64"
            ]
          },
          "metadata": {},
          "execution_count": 171
        }
      ],
      "source": [
        "df.isna().sum()"
      ]
    },
    {
      "cell_type": "markdown",
      "source": [
        "- В film_studio. Всего 5 пропусков;\n",
        "- Пропуски в production_country. Всего 2 пропуска, эти картины из России;\n",
        "- Пропуски в director. Всего 3 пропусков;\n",
        "- В producer - 468 пропусков;\n",
        "- В разделе refundable_support, nonrefundable_support, budget и financing_source отсутствуют важные данные. Однако в описании указано, что эти сведения актуальны только для фильмов, получивших государственную поддержку. Бюджет таких фильмов указан с учётом государственной поддержки.;\n",
        "- Пропусов в genres всего 6"
      ],
      "metadata": {
        "id": "vz_e3zImSEAz"
      }
    },
    {
      "cell_type": "markdown",
      "source": [
        "##### Пропуски в столбце **film_studio**"
      ],
      "metadata": {
        "id": "xZsW6uWuS3dO"
      }
    },
    {
      "cell_type": "code",
      "source": [
        "df.loc[df['film_studio'].isna() == True].head()"
      ],
      "metadata": {
        "colab": {
          "base_uri": "https://localhost:8080/",
          "height": 382
        },
        "id": "cksY99mgS7-n",
        "outputId": "eb1593ca-1410-4f55-e97e-4b9153a71270"
      },
      "execution_count": 172,
      "outputs": [
        {
          "output_type": "execute_result",
          "data": {
            "text/plain": [
              "                         title   puNumber     show_start_date  \\\n",
              "1293           Stars in Shorts  121011114 2014-06-03 12:00:00   \n",
              "4441  Мульт личности. Выпуск 5  214000410 2010-01-25 12:00:00   \n",
              "6485                До и После  112014418 2018-12-05 12:00:00   \n",
              "6498       В плену города грёз  112014818 2018-12-06 12:00:00   \n",
              "6662                   Топливо  111001419 2019-02-12 12:00:00   \n",
              "\n",
              "                 type film_studio   production_country  \\\n",
              "1293   Художественный         NaN  США, Великобритания   \n",
              "4441   Художественный         NaN                  NaN   \n",
              "6485   Документальный         NaN               Россия   \n",
              "6498   Документальный         NaN               Россия   \n",
              "6662   Художественный         NaN               Россия   \n",
              "\n",
              "                                               director  \\\n",
              "1293  Роберт Фестингер, Руперт Френд, Джей Камен, Ни...   \n",
              "4441                                                NaN   \n",
              "6485                                   А.Новокреповская   \n",
              "6498                                         В.Витовцев   \n",
              "6662                                          М.Архипов   \n",
              "\n",
              "                                               producer  \\\n",
              "1293  Татьяна Келли, Роберта Мунро, Руперт Френд, До...   \n",
              "4441                                                NaN   \n",
              "6485                                   А.Новокреповская   \n",
              "6498                                             О.Мичи   \n",
              "6662                                          М.Архипов   \n",
              "\n",
              "                             age_restriction  refundable_support  \\\n",
              "1293         «16+» - для детей старше 16 лет                 NaN   \n",
              "4441  «0+» - для любой зрительской аудитории                 NaN   \n",
              "6485           «6+» - для детей старше 6 лет                 NaN   \n",
              "6498             «18+» - запрещено для детей                 NaN   \n",
              "6662         «12+» - для детей старше 12 лет                 NaN   \n",
              "\n",
              "      nonrefundable_support  budget financing_source  ratings  \\\n",
              "1293                    NaN     NaN              NaN      7.3   \n",
              "4441                    NaN     NaN              NaN      4.0   \n",
              "6485                    NaN     NaN              NaN      6.9   \n",
              "6498                    NaN     NaN              NaN      7.9   \n",
              "6662                    NaN     NaN              NaN      6.1   \n",
              "\n",
              "                          genres  box_office  \n",
              "1293                     комедия         NaN  \n",
              "4441          мультфильм,комедия         NaN  \n",
              "6485     драма,криминал,детектив         NaN  \n",
              "6498   фантастика,боевик,триллер         NaN  \n",
              "6662  короткометражка,фантастика         NaN  "
            ],
            "text/html": [
              "\n",
              "  <div id=\"df-57ef486f-f52d-422a-ac51-0dc3a670190c\" class=\"colab-df-container\">\n",
              "    <div>\n",
              "<style scoped>\n",
              "    .dataframe tbody tr th:only-of-type {\n",
              "        vertical-align: middle;\n",
              "    }\n",
              "\n",
              "    .dataframe tbody tr th {\n",
              "        vertical-align: top;\n",
              "    }\n",
              "\n",
              "    .dataframe thead th {\n",
              "        text-align: right;\n",
              "    }\n",
              "</style>\n",
              "<table border=\"1\" class=\"dataframe\">\n",
              "  <thead>\n",
              "    <tr style=\"text-align: right;\">\n",
              "      <th></th>\n",
              "      <th>title</th>\n",
              "      <th>puNumber</th>\n",
              "      <th>show_start_date</th>\n",
              "      <th>type</th>\n",
              "      <th>film_studio</th>\n",
              "      <th>production_country</th>\n",
              "      <th>director</th>\n",
              "      <th>producer</th>\n",
              "      <th>age_restriction</th>\n",
              "      <th>refundable_support</th>\n",
              "      <th>nonrefundable_support</th>\n",
              "      <th>budget</th>\n",
              "      <th>financing_source</th>\n",
              "      <th>ratings</th>\n",
              "      <th>genres</th>\n",
              "      <th>box_office</th>\n",
              "    </tr>\n",
              "  </thead>\n",
              "  <tbody>\n",
              "    <tr>\n",
              "      <th>1293</th>\n",
              "      <td>Stars in Shorts</td>\n",
              "      <td>121011114</td>\n",
              "      <td>2014-06-03 12:00:00</td>\n",
              "      <td>Художественный</td>\n",
              "      <td>NaN</td>\n",
              "      <td>США, Великобритания</td>\n",
              "      <td>Роберт Фестингер, Руперт Френд, Джей Камен, Ни...</td>\n",
              "      <td>Татьяна Келли, Роберта Мунро, Руперт Френд, До...</td>\n",
              "      <td>«16+» - для детей старше 16 лет</td>\n",
              "      <td>NaN</td>\n",
              "      <td>NaN</td>\n",
              "      <td>NaN</td>\n",
              "      <td>NaN</td>\n",
              "      <td>7.3</td>\n",
              "      <td>комедия</td>\n",
              "      <td>NaN</td>\n",
              "    </tr>\n",
              "    <tr>\n",
              "      <th>4441</th>\n",
              "      <td>Мульт личности. Выпуск 5</td>\n",
              "      <td>214000410</td>\n",
              "      <td>2010-01-25 12:00:00</td>\n",
              "      <td>Художественный</td>\n",
              "      <td>NaN</td>\n",
              "      <td>NaN</td>\n",
              "      <td>NaN</td>\n",
              "      <td>NaN</td>\n",
              "      <td>«0+» - для любой зрительской аудитории</td>\n",
              "      <td>NaN</td>\n",
              "      <td>NaN</td>\n",
              "      <td>NaN</td>\n",
              "      <td>NaN</td>\n",
              "      <td>4.0</td>\n",
              "      <td>мультфильм,комедия</td>\n",
              "      <td>NaN</td>\n",
              "    </tr>\n",
              "    <tr>\n",
              "      <th>6485</th>\n",
              "      <td>До и После</td>\n",
              "      <td>112014418</td>\n",
              "      <td>2018-12-05 12:00:00</td>\n",
              "      <td>Документальный</td>\n",
              "      <td>NaN</td>\n",
              "      <td>Россия</td>\n",
              "      <td>А.Новокреповская</td>\n",
              "      <td>А.Новокреповская</td>\n",
              "      <td>«6+» - для детей старше 6 лет</td>\n",
              "      <td>NaN</td>\n",
              "      <td>NaN</td>\n",
              "      <td>NaN</td>\n",
              "      <td>NaN</td>\n",
              "      <td>6.9</td>\n",
              "      <td>драма,криминал,детектив</td>\n",
              "      <td>NaN</td>\n",
              "    </tr>\n",
              "    <tr>\n",
              "      <th>6498</th>\n",
              "      <td>В плену города грёз</td>\n",
              "      <td>112014818</td>\n",
              "      <td>2018-12-06 12:00:00</td>\n",
              "      <td>Документальный</td>\n",
              "      <td>NaN</td>\n",
              "      <td>Россия</td>\n",
              "      <td>В.Витовцев</td>\n",
              "      <td>О.Мичи</td>\n",
              "      <td>«18+» - запрещено для детей</td>\n",
              "      <td>NaN</td>\n",
              "      <td>NaN</td>\n",
              "      <td>NaN</td>\n",
              "      <td>NaN</td>\n",
              "      <td>7.9</td>\n",
              "      <td>фантастика,боевик,триллер</td>\n",
              "      <td>NaN</td>\n",
              "    </tr>\n",
              "    <tr>\n",
              "      <th>6662</th>\n",
              "      <td>Топливо</td>\n",
              "      <td>111001419</td>\n",
              "      <td>2019-02-12 12:00:00</td>\n",
              "      <td>Художественный</td>\n",
              "      <td>NaN</td>\n",
              "      <td>Россия</td>\n",
              "      <td>М.Архипов</td>\n",
              "      <td>М.Архипов</td>\n",
              "      <td>«12+» - для детей старше 12 лет</td>\n",
              "      <td>NaN</td>\n",
              "      <td>NaN</td>\n",
              "      <td>NaN</td>\n",
              "      <td>NaN</td>\n",
              "      <td>6.1</td>\n",
              "      <td>короткометражка,фантастика</td>\n",
              "      <td>NaN</td>\n",
              "    </tr>\n",
              "  </tbody>\n",
              "</table>\n",
              "</div>\n",
              "    <div class=\"colab-df-buttons\">\n",
              "\n",
              "  <div class=\"colab-df-container\">\n",
              "    <button class=\"colab-df-convert\" onclick=\"convertToInteractive('df-57ef486f-f52d-422a-ac51-0dc3a670190c')\"\n",
              "            title=\"Convert this dataframe to an interactive table.\"\n",
              "            style=\"display:none;\">\n",
              "\n",
              "  <svg xmlns=\"http://www.w3.org/2000/svg\" height=\"24px\" viewBox=\"0 -960 960 960\">\n",
              "    <path d=\"M120-120v-720h720v720H120Zm60-500h600v-160H180v160Zm220 220h160v-160H400v160Zm0 220h160v-160H400v160ZM180-400h160v-160H180v160Zm440 0h160v-160H620v160ZM180-180h160v-160H180v160Zm440 0h160v-160H620v160Z\"/>\n",
              "  </svg>\n",
              "    </button>\n",
              "\n",
              "  <style>\n",
              "    .colab-df-container {\n",
              "      display:flex;\n",
              "      gap: 12px;\n",
              "    }\n",
              "\n",
              "    .colab-df-convert {\n",
              "      background-color: #E8F0FE;\n",
              "      border: none;\n",
              "      border-radius: 50%;\n",
              "      cursor: pointer;\n",
              "      display: none;\n",
              "      fill: #1967D2;\n",
              "      height: 32px;\n",
              "      padding: 0 0 0 0;\n",
              "      width: 32px;\n",
              "    }\n",
              "\n",
              "    .colab-df-convert:hover {\n",
              "      background-color: #E2EBFA;\n",
              "      box-shadow: 0px 1px 2px rgba(60, 64, 67, 0.3), 0px 1px 3px 1px rgba(60, 64, 67, 0.15);\n",
              "      fill: #174EA6;\n",
              "    }\n",
              "\n",
              "    .colab-df-buttons div {\n",
              "      margin-bottom: 4px;\n",
              "    }\n",
              "\n",
              "    [theme=dark] .colab-df-convert {\n",
              "      background-color: #3B4455;\n",
              "      fill: #D2E3FC;\n",
              "    }\n",
              "\n",
              "    [theme=dark] .colab-df-convert:hover {\n",
              "      background-color: #434B5C;\n",
              "      box-shadow: 0px 1px 3px 1px rgba(0, 0, 0, 0.15);\n",
              "      filter: drop-shadow(0px 1px 2px rgba(0, 0, 0, 0.3));\n",
              "      fill: #FFFFFF;\n",
              "    }\n",
              "  </style>\n",
              "\n",
              "    <script>\n",
              "      const buttonEl =\n",
              "        document.querySelector('#df-57ef486f-f52d-422a-ac51-0dc3a670190c button.colab-df-convert');\n",
              "      buttonEl.style.display =\n",
              "        google.colab.kernel.accessAllowed ? 'block' : 'none';\n",
              "\n",
              "      async function convertToInteractive(key) {\n",
              "        const element = document.querySelector('#df-57ef486f-f52d-422a-ac51-0dc3a670190c');\n",
              "        const dataTable =\n",
              "          await google.colab.kernel.invokeFunction('convertToInteractive',\n",
              "                                                    [key], {});\n",
              "        if (!dataTable) return;\n",
              "\n",
              "        const docLinkHtml = 'Like what you see? Visit the ' +\n",
              "          '<a target=\"_blank\" href=https://colab.research.google.com/notebooks/data_table.ipynb>data table notebook</a>'\n",
              "          + ' to learn more about interactive tables.';\n",
              "        element.innerHTML = '';\n",
              "        dataTable['output_type'] = 'display_data';\n",
              "        await google.colab.output.renderOutput(dataTable, element);\n",
              "        const docLink = document.createElement('div');\n",
              "        docLink.innerHTML = docLinkHtml;\n",
              "        element.appendChild(docLink);\n",
              "      }\n",
              "    </script>\n",
              "  </div>\n",
              "\n",
              "\n",
              "<div id=\"df-3f523169-9b16-4c26-9436-2c9d4782e7db\">\n",
              "  <button class=\"colab-df-quickchart\" onclick=\"quickchart('df-3f523169-9b16-4c26-9436-2c9d4782e7db')\"\n",
              "            title=\"Suggest charts\"\n",
              "            style=\"display:none;\">\n",
              "\n",
              "<svg xmlns=\"http://www.w3.org/2000/svg\" height=\"24px\"viewBox=\"0 0 24 24\"\n",
              "     width=\"24px\">\n",
              "    <g>\n",
              "        <path d=\"M19 3H5c-1.1 0-2 .9-2 2v14c0 1.1.9 2 2 2h14c1.1 0 2-.9 2-2V5c0-1.1-.9-2-2-2zM9 17H7v-7h2v7zm4 0h-2V7h2v10zm4 0h-2v-4h2v4z\"/>\n",
              "    </g>\n",
              "</svg>\n",
              "  </button>\n",
              "\n",
              "<style>\n",
              "  .colab-df-quickchart {\n",
              "      --bg-color: #E8F0FE;\n",
              "      --fill-color: #1967D2;\n",
              "      --hover-bg-color: #E2EBFA;\n",
              "      --hover-fill-color: #174EA6;\n",
              "      --disabled-fill-color: #AAA;\n",
              "      --disabled-bg-color: #DDD;\n",
              "  }\n",
              "\n",
              "  [theme=dark] .colab-df-quickchart {\n",
              "      --bg-color: #3B4455;\n",
              "      --fill-color: #D2E3FC;\n",
              "      --hover-bg-color: #434B5C;\n",
              "      --hover-fill-color: #FFFFFF;\n",
              "      --disabled-bg-color: #3B4455;\n",
              "      --disabled-fill-color: #666;\n",
              "  }\n",
              "\n",
              "  .colab-df-quickchart {\n",
              "    background-color: var(--bg-color);\n",
              "    border: none;\n",
              "    border-radius: 50%;\n",
              "    cursor: pointer;\n",
              "    display: none;\n",
              "    fill: var(--fill-color);\n",
              "    height: 32px;\n",
              "    padding: 0;\n",
              "    width: 32px;\n",
              "  }\n",
              "\n",
              "  .colab-df-quickchart:hover {\n",
              "    background-color: var(--hover-bg-color);\n",
              "    box-shadow: 0 1px 2px rgba(60, 64, 67, 0.3), 0 1px 3px 1px rgba(60, 64, 67, 0.15);\n",
              "    fill: var(--button-hover-fill-color);\n",
              "  }\n",
              "\n",
              "  .colab-df-quickchart-complete:disabled,\n",
              "  .colab-df-quickchart-complete:disabled:hover {\n",
              "    background-color: var(--disabled-bg-color);\n",
              "    fill: var(--disabled-fill-color);\n",
              "    box-shadow: none;\n",
              "  }\n",
              "\n",
              "  .colab-df-spinner {\n",
              "    border: 2px solid var(--fill-color);\n",
              "    border-color: transparent;\n",
              "    border-bottom-color: var(--fill-color);\n",
              "    animation:\n",
              "      spin 1s steps(1) infinite;\n",
              "  }\n",
              "\n",
              "  @keyframes spin {\n",
              "    0% {\n",
              "      border-color: transparent;\n",
              "      border-bottom-color: var(--fill-color);\n",
              "      border-left-color: var(--fill-color);\n",
              "    }\n",
              "    20% {\n",
              "      border-color: transparent;\n",
              "      border-left-color: var(--fill-color);\n",
              "      border-top-color: var(--fill-color);\n",
              "    }\n",
              "    30% {\n",
              "      border-color: transparent;\n",
              "      border-left-color: var(--fill-color);\n",
              "      border-top-color: var(--fill-color);\n",
              "      border-right-color: var(--fill-color);\n",
              "    }\n",
              "    40% {\n",
              "      border-color: transparent;\n",
              "      border-right-color: var(--fill-color);\n",
              "      border-top-color: var(--fill-color);\n",
              "    }\n",
              "    60% {\n",
              "      border-color: transparent;\n",
              "      border-right-color: var(--fill-color);\n",
              "    }\n",
              "    80% {\n",
              "      border-color: transparent;\n",
              "      border-right-color: var(--fill-color);\n",
              "      border-bottom-color: var(--fill-color);\n",
              "    }\n",
              "    90% {\n",
              "      border-color: transparent;\n",
              "      border-bottom-color: var(--fill-color);\n",
              "    }\n",
              "  }\n",
              "</style>\n",
              "\n",
              "  <script>\n",
              "    async function quickchart(key) {\n",
              "      const quickchartButtonEl =\n",
              "        document.querySelector('#' + key + ' button');\n",
              "      quickchartButtonEl.disabled = true;  // To prevent multiple clicks.\n",
              "      quickchartButtonEl.classList.add('colab-df-spinner');\n",
              "      try {\n",
              "        const charts = await google.colab.kernel.invokeFunction(\n",
              "            'suggestCharts', [key], {});\n",
              "      } catch (error) {\n",
              "        console.error('Error during call to suggestCharts:', error);\n",
              "      }\n",
              "      quickchartButtonEl.classList.remove('colab-df-spinner');\n",
              "      quickchartButtonEl.classList.add('colab-df-quickchart-complete');\n",
              "    }\n",
              "    (() => {\n",
              "      let quickchartButtonEl =\n",
              "        document.querySelector('#df-3f523169-9b16-4c26-9436-2c9d4782e7db button');\n",
              "      quickchartButtonEl.style.display =\n",
              "        google.colab.kernel.accessAllowed ? 'block' : 'none';\n",
              "    })();\n",
              "  </script>\n",
              "</div>\n",
              "    </div>\n",
              "  </div>\n"
            ],
            "application/vnd.google.colaboratory.intrinsic+json": {
              "type": "dataframe",
              "repr_error": "0"
            }
          },
          "metadata": {},
          "execution_count": 172
        }
      ]
    },
    {
      "cell_type": "markdown",
      "source": [
        "Поймем почему у этих фильмов значение в столбце film_studio отсуствуют.\n",
        "\n",
        "- Рассмотрим фильм \"До и После\" А.Новокреповская. В интеренете написано ([link](https://artdoc.media/movie/do_i_posle_2018_16)), что \"Я сама сделала этот фильм без юридического лица\".\n",
        "- Рассмотрим фильм \"В плену города грёз\" О.Мичи. В интеренете написано ([link](https://artdoc.media/movie/missing_girls_2018_66)), что \"\n",
        "Olga Michi Production\".\n",
        "\n",
        "Мы видим, что в этом столбце представлено в основном авторское кино. Вероятно, это не ошибка. Кино было спонсировано не студией-производителем, а самими создателями фильма — продюсером и режиссёром."
      ],
      "metadata": {
        "id": "P4iK19g8TEe-"
      }
    },
    {
      "cell_type": "markdown",
      "source": [
        "##### **Пропуски в production_country**"
      ],
      "metadata": {
        "id": "-nlijLy7U_Vd"
      }
    },
    {
      "cell_type": "code",
      "source": [
        "df.loc[df['production_country'].isna() == True]"
      ],
      "metadata": {
        "colab": {
          "base_uri": "https://localhost:8080/",
          "height": 236
        },
        "id": "CXcGNPmuVMUq",
        "outputId": "04fec026-4e70-46de-c6cc-6bdcded1777e"
      },
      "execution_count": 173,
      "outputs": [
        {
          "output_type": "execute_result",
          "data": {
            "text/plain": [
              "                                                  title   puNumber  \\\n",
              "3186  Детский юмористический киножурнал \"Ералаш. Ну ...  111001216   \n",
              "4441                           Мульт личности. Выпуск 5  214000410   \n",
              "\n",
              "         show_start_date            type                      film_studio  \\\n",
              "3186 2016-02-09 12:00:00  Художественный  ООО \"Продюсерский центр ЕРАЛАШ\"   \n",
              "4441 2010-01-25 12:00:00  Художественный                              NaN   \n",
              "\n",
              "     production_country                                           director  \\\n",
              "3186                NaN  Р.Светлов, И.Магитон, А.Арутюнян, Л.Мирский, А...   \n",
              "4441                NaN                                                NaN   \n",
              "\n",
              "                             producer                         age_restriction  \\\n",
              "3186  ООО \"Продюсерский центр ЕРАЛАШ\"  «0+» - для любой зрительской аудитории   \n",
              "4441                              NaN  «0+» - для любой зрительской аудитории   \n",
              "\n",
              "      refundable_support  nonrefundable_support  budget financing_source  \\\n",
              "3186                 NaN                    NaN     NaN              NaN   \n",
              "4441                 NaN                    NaN     NaN              NaN   \n",
              "\n",
              "      ratings              genres  box_office  \n",
              "3186      7.2     детский,комедия    194527.0  \n",
              "4441      4.0  мультфильм,комедия         NaN  "
            ],
            "text/html": [
              "\n",
              "  <div id=\"df-1ab6dee4-7c24-4daf-ba85-daa20ef54093\" class=\"colab-df-container\">\n",
              "    <div>\n",
              "<style scoped>\n",
              "    .dataframe tbody tr th:only-of-type {\n",
              "        vertical-align: middle;\n",
              "    }\n",
              "\n",
              "    .dataframe tbody tr th {\n",
              "        vertical-align: top;\n",
              "    }\n",
              "\n",
              "    .dataframe thead th {\n",
              "        text-align: right;\n",
              "    }\n",
              "</style>\n",
              "<table border=\"1\" class=\"dataframe\">\n",
              "  <thead>\n",
              "    <tr style=\"text-align: right;\">\n",
              "      <th></th>\n",
              "      <th>title</th>\n",
              "      <th>puNumber</th>\n",
              "      <th>show_start_date</th>\n",
              "      <th>type</th>\n",
              "      <th>film_studio</th>\n",
              "      <th>production_country</th>\n",
              "      <th>director</th>\n",
              "      <th>producer</th>\n",
              "      <th>age_restriction</th>\n",
              "      <th>refundable_support</th>\n",
              "      <th>nonrefundable_support</th>\n",
              "      <th>budget</th>\n",
              "      <th>financing_source</th>\n",
              "      <th>ratings</th>\n",
              "      <th>genres</th>\n",
              "      <th>box_office</th>\n",
              "    </tr>\n",
              "  </thead>\n",
              "  <tbody>\n",
              "    <tr>\n",
              "      <th>3186</th>\n",
              "      <td>Детский юмористический киножурнал \"Ералаш. Ну ...</td>\n",
              "      <td>111001216</td>\n",
              "      <td>2016-02-09 12:00:00</td>\n",
              "      <td>Художественный</td>\n",
              "      <td>ООО \"Продюсерский центр ЕРАЛАШ\"</td>\n",
              "      <td>NaN</td>\n",
              "      <td>Р.Светлов, И.Магитон, А.Арутюнян, Л.Мирский, А...</td>\n",
              "      <td>ООО \"Продюсерский центр ЕРАЛАШ\"</td>\n",
              "      <td>«0+» - для любой зрительской аудитории</td>\n",
              "      <td>NaN</td>\n",
              "      <td>NaN</td>\n",
              "      <td>NaN</td>\n",
              "      <td>NaN</td>\n",
              "      <td>7.2</td>\n",
              "      <td>детский,комедия</td>\n",
              "      <td>194527.0</td>\n",
              "    </tr>\n",
              "    <tr>\n",
              "      <th>4441</th>\n",
              "      <td>Мульт личности. Выпуск 5</td>\n",
              "      <td>214000410</td>\n",
              "      <td>2010-01-25 12:00:00</td>\n",
              "      <td>Художественный</td>\n",
              "      <td>NaN</td>\n",
              "      <td>NaN</td>\n",
              "      <td>NaN</td>\n",
              "      <td>NaN</td>\n",
              "      <td>«0+» - для любой зрительской аудитории</td>\n",
              "      <td>NaN</td>\n",
              "      <td>NaN</td>\n",
              "      <td>NaN</td>\n",
              "      <td>NaN</td>\n",
              "      <td>4.0</td>\n",
              "      <td>мультфильм,комедия</td>\n",
              "      <td>NaN</td>\n",
              "    </tr>\n",
              "  </tbody>\n",
              "</table>\n",
              "</div>\n",
              "    <div class=\"colab-df-buttons\">\n",
              "\n",
              "  <div class=\"colab-df-container\">\n",
              "    <button class=\"colab-df-convert\" onclick=\"convertToInteractive('df-1ab6dee4-7c24-4daf-ba85-daa20ef54093')\"\n",
              "            title=\"Convert this dataframe to an interactive table.\"\n",
              "            style=\"display:none;\">\n",
              "\n",
              "  <svg xmlns=\"http://www.w3.org/2000/svg\" height=\"24px\" viewBox=\"0 -960 960 960\">\n",
              "    <path d=\"M120-120v-720h720v720H120Zm60-500h600v-160H180v160Zm220 220h160v-160H400v160Zm0 220h160v-160H400v160ZM180-400h160v-160H180v160Zm440 0h160v-160H620v160ZM180-180h160v-160H180v160Zm440 0h160v-160H620v160Z\"/>\n",
              "  </svg>\n",
              "    </button>\n",
              "\n",
              "  <style>\n",
              "    .colab-df-container {\n",
              "      display:flex;\n",
              "      gap: 12px;\n",
              "    }\n",
              "\n",
              "    .colab-df-convert {\n",
              "      background-color: #E8F0FE;\n",
              "      border: none;\n",
              "      border-radius: 50%;\n",
              "      cursor: pointer;\n",
              "      display: none;\n",
              "      fill: #1967D2;\n",
              "      height: 32px;\n",
              "      padding: 0 0 0 0;\n",
              "      width: 32px;\n",
              "    }\n",
              "\n",
              "    .colab-df-convert:hover {\n",
              "      background-color: #E2EBFA;\n",
              "      box-shadow: 0px 1px 2px rgba(60, 64, 67, 0.3), 0px 1px 3px 1px rgba(60, 64, 67, 0.15);\n",
              "      fill: #174EA6;\n",
              "    }\n",
              "\n",
              "    .colab-df-buttons div {\n",
              "      margin-bottom: 4px;\n",
              "    }\n",
              "\n",
              "    [theme=dark] .colab-df-convert {\n",
              "      background-color: #3B4455;\n",
              "      fill: #D2E3FC;\n",
              "    }\n",
              "\n",
              "    [theme=dark] .colab-df-convert:hover {\n",
              "      background-color: #434B5C;\n",
              "      box-shadow: 0px 1px 3px 1px rgba(0, 0, 0, 0.15);\n",
              "      filter: drop-shadow(0px 1px 2px rgba(0, 0, 0, 0.3));\n",
              "      fill: #FFFFFF;\n",
              "    }\n",
              "  </style>\n",
              "\n",
              "    <script>\n",
              "      const buttonEl =\n",
              "        document.querySelector('#df-1ab6dee4-7c24-4daf-ba85-daa20ef54093 button.colab-df-convert');\n",
              "      buttonEl.style.display =\n",
              "        google.colab.kernel.accessAllowed ? 'block' : 'none';\n",
              "\n",
              "      async function convertToInteractive(key) {\n",
              "        const element = document.querySelector('#df-1ab6dee4-7c24-4daf-ba85-daa20ef54093');\n",
              "        const dataTable =\n",
              "          await google.colab.kernel.invokeFunction('convertToInteractive',\n",
              "                                                    [key], {});\n",
              "        if (!dataTable) return;\n",
              "\n",
              "        const docLinkHtml = 'Like what you see? Visit the ' +\n",
              "          '<a target=\"_blank\" href=https://colab.research.google.com/notebooks/data_table.ipynb>data table notebook</a>'\n",
              "          + ' to learn more about interactive tables.';\n",
              "        element.innerHTML = '';\n",
              "        dataTable['output_type'] = 'display_data';\n",
              "        await google.colab.output.renderOutput(dataTable, element);\n",
              "        const docLink = document.createElement('div');\n",
              "        docLink.innerHTML = docLinkHtml;\n",
              "        element.appendChild(docLink);\n",
              "      }\n",
              "    </script>\n",
              "  </div>\n",
              "\n",
              "\n",
              "<div id=\"df-dc96867a-4559-40c5-aba5-8b15fa780a3f\">\n",
              "  <button class=\"colab-df-quickchart\" onclick=\"quickchart('df-dc96867a-4559-40c5-aba5-8b15fa780a3f')\"\n",
              "            title=\"Suggest charts\"\n",
              "            style=\"display:none;\">\n",
              "\n",
              "<svg xmlns=\"http://www.w3.org/2000/svg\" height=\"24px\"viewBox=\"0 0 24 24\"\n",
              "     width=\"24px\">\n",
              "    <g>\n",
              "        <path d=\"M19 3H5c-1.1 0-2 .9-2 2v14c0 1.1.9 2 2 2h14c1.1 0 2-.9 2-2V5c0-1.1-.9-2-2-2zM9 17H7v-7h2v7zm4 0h-2V7h2v10zm4 0h-2v-4h2v4z\"/>\n",
              "    </g>\n",
              "</svg>\n",
              "  </button>\n",
              "\n",
              "<style>\n",
              "  .colab-df-quickchart {\n",
              "      --bg-color: #E8F0FE;\n",
              "      --fill-color: #1967D2;\n",
              "      --hover-bg-color: #E2EBFA;\n",
              "      --hover-fill-color: #174EA6;\n",
              "      --disabled-fill-color: #AAA;\n",
              "      --disabled-bg-color: #DDD;\n",
              "  }\n",
              "\n",
              "  [theme=dark] .colab-df-quickchart {\n",
              "      --bg-color: #3B4455;\n",
              "      --fill-color: #D2E3FC;\n",
              "      --hover-bg-color: #434B5C;\n",
              "      --hover-fill-color: #FFFFFF;\n",
              "      --disabled-bg-color: #3B4455;\n",
              "      --disabled-fill-color: #666;\n",
              "  }\n",
              "\n",
              "  .colab-df-quickchart {\n",
              "    background-color: var(--bg-color);\n",
              "    border: none;\n",
              "    border-radius: 50%;\n",
              "    cursor: pointer;\n",
              "    display: none;\n",
              "    fill: var(--fill-color);\n",
              "    height: 32px;\n",
              "    padding: 0;\n",
              "    width: 32px;\n",
              "  }\n",
              "\n",
              "  .colab-df-quickchart:hover {\n",
              "    background-color: var(--hover-bg-color);\n",
              "    box-shadow: 0 1px 2px rgba(60, 64, 67, 0.3), 0 1px 3px 1px rgba(60, 64, 67, 0.15);\n",
              "    fill: var(--button-hover-fill-color);\n",
              "  }\n",
              "\n",
              "  .colab-df-quickchart-complete:disabled,\n",
              "  .colab-df-quickchart-complete:disabled:hover {\n",
              "    background-color: var(--disabled-bg-color);\n",
              "    fill: var(--disabled-fill-color);\n",
              "    box-shadow: none;\n",
              "  }\n",
              "\n",
              "  .colab-df-spinner {\n",
              "    border: 2px solid var(--fill-color);\n",
              "    border-color: transparent;\n",
              "    border-bottom-color: var(--fill-color);\n",
              "    animation:\n",
              "      spin 1s steps(1) infinite;\n",
              "  }\n",
              "\n",
              "  @keyframes spin {\n",
              "    0% {\n",
              "      border-color: transparent;\n",
              "      border-bottom-color: var(--fill-color);\n",
              "      border-left-color: var(--fill-color);\n",
              "    }\n",
              "    20% {\n",
              "      border-color: transparent;\n",
              "      border-left-color: var(--fill-color);\n",
              "      border-top-color: var(--fill-color);\n",
              "    }\n",
              "    30% {\n",
              "      border-color: transparent;\n",
              "      border-left-color: var(--fill-color);\n",
              "      border-top-color: var(--fill-color);\n",
              "      border-right-color: var(--fill-color);\n",
              "    }\n",
              "    40% {\n",
              "      border-color: transparent;\n",
              "      border-right-color: var(--fill-color);\n",
              "      border-top-color: var(--fill-color);\n",
              "    }\n",
              "    60% {\n",
              "      border-color: transparent;\n",
              "      border-right-color: var(--fill-color);\n",
              "    }\n",
              "    80% {\n",
              "      border-color: transparent;\n",
              "      border-right-color: var(--fill-color);\n",
              "      border-bottom-color: var(--fill-color);\n",
              "    }\n",
              "    90% {\n",
              "      border-color: transparent;\n",
              "      border-bottom-color: var(--fill-color);\n",
              "    }\n",
              "  }\n",
              "</style>\n",
              "\n",
              "  <script>\n",
              "    async function quickchart(key) {\n",
              "      const quickchartButtonEl =\n",
              "        document.querySelector('#' + key + ' button');\n",
              "      quickchartButtonEl.disabled = true;  // To prevent multiple clicks.\n",
              "      quickchartButtonEl.classList.add('colab-df-spinner');\n",
              "      try {\n",
              "        const charts = await google.colab.kernel.invokeFunction(\n",
              "            'suggestCharts', [key], {});\n",
              "      } catch (error) {\n",
              "        console.error('Error during call to suggestCharts:', error);\n",
              "      }\n",
              "      quickchartButtonEl.classList.remove('colab-df-spinner');\n",
              "      quickchartButtonEl.classList.add('colab-df-quickchart-complete');\n",
              "    }\n",
              "    (() => {\n",
              "      let quickchartButtonEl =\n",
              "        document.querySelector('#df-dc96867a-4559-40c5-aba5-8b15fa780a3f button');\n",
              "      quickchartButtonEl.style.display =\n",
              "        google.colab.kernel.accessAllowed ? 'block' : 'none';\n",
              "    })();\n",
              "  </script>\n",
              "</div>\n",
              "    </div>\n",
              "  </div>\n"
            ],
            "application/vnd.google.colaboratory.intrinsic+json": {
              "type": "dataframe",
              "repr_error": "0"
            }
          },
          "metadata": {},
          "execution_count": 173
        }
      ]
    },
    {
      "cell_type": "markdown",
      "source": [
        "Очевидно, что эти фильмы созданы в России."
      ],
      "metadata": {
        "id": "ZiCJg7BQVNVn"
      }
    },
    {
      "cell_type": "code",
      "source": [
        "df.loc[df['production_country'].isna() == True, 'production_country'] = 'Россия'"
      ],
      "metadata": {
        "id": "id8SHGwrWHwr"
      },
      "execution_count": 174,
      "outputs": []
    },
    {
      "cell_type": "markdown",
      "source": [
        "##### **Пропуски в director genres и ratings**\n",
        "\n",
        "Эти пропуски оставим без изменений, на дальнейшие расчеты никак не повлияют."
      ],
      "metadata": {
        "id": "CNTBywXGWUrH"
      }
    },
    {
      "cell_type": "code",
      "source": [
        "df.loc[df['director'].isna() == True]"
      ],
      "metadata": {
        "colab": {
          "base_uri": "https://localhost:8080/",
          "height": 320
        },
        "id": "unJoRosoWawi",
        "outputId": "943f4741-1be0-4b59-b435-7d18c88163a1"
      },
      "execution_count": 175,
      "outputs": [
        {
          "output_type": "execute_result",
          "data": {
            "text/plain": [
              "                                       title   puNumber     show_start_date  \\\n",
              "4415               Bon Jovi. The Circle Tour  126001710 2010-11-11 12:00:00   \n",
              "4441                Мульт личности. Выпуск 5  214000410 2010-01-25 12:00:00   \n",
              "4942  Питер Гэбриэл и New Blood Orchestra 3D  126002711 2011-11-11 12:00:00   \n",
              "\n",
              "                type                film_studio production_country director  \\\n",
              "4415          Прочие  Эншутц Интертейнмент Груп                США      NaN   \n",
              "4441  Художественный                        NaN             Россия      NaN   \n",
              "4942          Прочие            Омниверс Визион     Великобритания      NaN   \n",
              "\n",
              "                       producer                         age_restriction  \\\n",
              "4415  Эншутц Интертейнмент Груп  «0+» - для любой зрительской аудитории   \n",
              "4441                        NaN  «0+» - для любой зрительской аудитории   \n",
              "4942            Омниверс Визион  «0+» - для любой зрительской аудитории   \n",
              "\n",
              "      refundable_support  nonrefundable_support  budget financing_source  \\\n",
              "4415                 NaN                    NaN     NaN              NaN   \n",
              "4441                 NaN                    NaN     NaN              NaN   \n",
              "4942                 NaN                    NaN     NaN              NaN   \n",
              "\n",
              "      ratings              genres  box_office  \n",
              "4415      7.9      концерт,музыка         NaN  \n",
              "4441      4.0  мультфильм,комедия         NaN  \n",
              "4942      6.7      концерт,музыка         NaN  "
            ],
            "text/html": [
              "\n",
              "  <div id=\"df-e49b68ec-447c-435e-adfb-ef3b4270ef3f\" class=\"colab-df-container\">\n",
              "    <div>\n",
              "<style scoped>\n",
              "    .dataframe tbody tr th:only-of-type {\n",
              "        vertical-align: middle;\n",
              "    }\n",
              "\n",
              "    .dataframe tbody tr th {\n",
              "        vertical-align: top;\n",
              "    }\n",
              "\n",
              "    .dataframe thead th {\n",
              "        text-align: right;\n",
              "    }\n",
              "</style>\n",
              "<table border=\"1\" class=\"dataframe\">\n",
              "  <thead>\n",
              "    <tr style=\"text-align: right;\">\n",
              "      <th></th>\n",
              "      <th>title</th>\n",
              "      <th>puNumber</th>\n",
              "      <th>show_start_date</th>\n",
              "      <th>type</th>\n",
              "      <th>film_studio</th>\n",
              "      <th>production_country</th>\n",
              "      <th>director</th>\n",
              "      <th>producer</th>\n",
              "      <th>age_restriction</th>\n",
              "      <th>refundable_support</th>\n",
              "      <th>nonrefundable_support</th>\n",
              "      <th>budget</th>\n",
              "      <th>financing_source</th>\n",
              "      <th>ratings</th>\n",
              "      <th>genres</th>\n",
              "      <th>box_office</th>\n",
              "    </tr>\n",
              "  </thead>\n",
              "  <tbody>\n",
              "    <tr>\n",
              "      <th>4415</th>\n",
              "      <td>Bon Jovi. The Circle Tour</td>\n",
              "      <td>126001710</td>\n",
              "      <td>2010-11-11 12:00:00</td>\n",
              "      <td>Прочие</td>\n",
              "      <td>Эншутц Интертейнмент Груп</td>\n",
              "      <td>США</td>\n",
              "      <td>NaN</td>\n",
              "      <td>Эншутц Интертейнмент Груп</td>\n",
              "      <td>«0+» - для любой зрительской аудитории</td>\n",
              "      <td>NaN</td>\n",
              "      <td>NaN</td>\n",
              "      <td>NaN</td>\n",
              "      <td>NaN</td>\n",
              "      <td>7.9</td>\n",
              "      <td>концерт,музыка</td>\n",
              "      <td>NaN</td>\n",
              "    </tr>\n",
              "    <tr>\n",
              "      <th>4441</th>\n",
              "      <td>Мульт личности. Выпуск 5</td>\n",
              "      <td>214000410</td>\n",
              "      <td>2010-01-25 12:00:00</td>\n",
              "      <td>Художественный</td>\n",
              "      <td>NaN</td>\n",
              "      <td>Россия</td>\n",
              "      <td>NaN</td>\n",
              "      <td>NaN</td>\n",
              "      <td>«0+» - для любой зрительской аудитории</td>\n",
              "      <td>NaN</td>\n",
              "      <td>NaN</td>\n",
              "      <td>NaN</td>\n",
              "      <td>NaN</td>\n",
              "      <td>4.0</td>\n",
              "      <td>мультфильм,комедия</td>\n",
              "      <td>NaN</td>\n",
              "    </tr>\n",
              "    <tr>\n",
              "      <th>4942</th>\n",
              "      <td>Питер Гэбриэл и New Blood Orchestra 3D</td>\n",
              "      <td>126002711</td>\n",
              "      <td>2011-11-11 12:00:00</td>\n",
              "      <td>Прочие</td>\n",
              "      <td>Омниверс Визион</td>\n",
              "      <td>Великобритания</td>\n",
              "      <td>NaN</td>\n",
              "      <td>Омниверс Визион</td>\n",
              "      <td>«0+» - для любой зрительской аудитории</td>\n",
              "      <td>NaN</td>\n",
              "      <td>NaN</td>\n",
              "      <td>NaN</td>\n",
              "      <td>NaN</td>\n",
              "      <td>6.7</td>\n",
              "      <td>концерт,музыка</td>\n",
              "      <td>NaN</td>\n",
              "    </tr>\n",
              "  </tbody>\n",
              "</table>\n",
              "</div>\n",
              "    <div class=\"colab-df-buttons\">\n",
              "\n",
              "  <div class=\"colab-df-container\">\n",
              "    <button class=\"colab-df-convert\" onclick=\"convertToInteractive('df-e49b68ec-447c-435e-adfb-ef3b4270ef3f')\"\n",
              "            title=\"Convert this dataframe to an interactive table.\"\n",
              "            style=\"display:none;\">\n",
              "\n",
              "  <svg xmlns=\"http://www.w3.org/2000/svg\" height=\"24px\" viewBox=\"0 -960 960 960\">\n",
              "    <path d=\"M120-120v-720h720v720H120Zm60-500h600v-160H180v160Zm220 220h160v-160H400v160Zm0 220h160v-160H400v160ZM180-400h160v-160H180v160Zm440 0h160v-160H620v160ZM180-180h160v-160H180v160Zm440 0h160v-160H620v160Z\"/>\n",
              "  </svg>\n",
              "    </button>\n",
              "\n",
              "  <style>\n",
              "    .colab-df-container {\n",
              "      display:flex;\n",
              "      gap: 12px;\n",
              "    }\n",
              "\n",
              "    .colab-df-convert {\n",
              "      background-color: #E8F0FE;\n",
              "      border: none;\n",
              "      border-radius: 50%;\n",
              "      cursor: pointer;\n",
              "      display: none;\n",
              "      fill: #1967D2;\n",
              "      height: 32px;\n",
              "      padding: 0 0 0 0;\n",
              "      width: 32px;\n",
              "    }\n",
              "\n",
              "    .colab-df-convert:hover {\n",
              "      background-color: #E2EBFA;\n",
              "      box-shadow: 0px 1px 2px rgba(60, 64, 67, 0.3), 0px 1px 3px 1px rgba(60, 64, 67, 0.15);\n",
              "      fill: #174EA6;\n",
              "    }\n",
              "\n",
              "    .colab-df-buttons div {\n",
              "      margin-bottom: 4px;\n",
              "    }\n",
              "\n",
              "    [theme=dark] .colab-df-convert {\n",
              "      background-color: #3B4455;\n",
              "      fill: #D2E3FC;\n",
              "    }\n",
              "\n",
              "    [theme=dark] .colab-df-convert:hover {\n",
              "      background-color: #434B5C;\n",
              "      box-shadow: 0px 1px 3px 1px rgba(0, 0, 0, 0.15);\n",
              "      filter: drop-shadow(0px 1px 2px rgba(0, 0, 0, 0.3));\n",
              "      fill: #FFFFFF;\n",
              "    }\n",
              "  </style>\n",
              "\n",
              "    <script>\n",
              "      const buttonEl =\n",
              "        document.querySelector('#df-e49b68ec-447c-435e-adfb-ef3b4270ef3f button.colab-df-convert');\n",
              "      buttonEl.style.display =\n",
              "        google.colab.kernel.accessAllowed ? 'block' : 'none';\n",
              "\n",
              "      async function convertToInteractive(key) {\n",
              "        const element = document.querySelector('#df-e49b68ec-447c-435e-adfb-ef3b4270ef3f');\n",
              "        const dataTable =\n",
              "          await google.colab.kernel.invokeFunction('convertToInteractive',\n",
              "                                                    [key], {});\n",
              "        if (!dataTable) return;\n",
              "\n",
              "        const docLinkHtml = 'Like what you see? Visit the ' +\n",
              "          '<a target=\"_blank\" href=https://colab.research.google.com/notebooks/data_table.ipynb>data table notebook</a>'\n",
              "          + ' to learn more about interactive tables.';\n",
              "        element.innerHTML = '';\n",
              "        dataTable['output_type'] = 'display_data';\n",
              "        await google.colab.output.renderOutput(dataTable, element);\n",
              "        const docLink = document.createElement('div');\n",
              "        docLink.innerHTML = docLinkHtml;\n",
              "        element.appendChild(docLink);\n",
              "      }\n",
              "    </script>\n",
              "  </div>\n",
              "\n",
              "\n",
              "<div id=\"df-4589abfd-fa20-4680-9ad2-a0d110f0e2ee\">\n",
              "  <button class=\"colab-df-quickchart\" onclick=\"quickchart('df-4589abfd-fa20-4680-9ad2-a0d110f0e2ee')\"\n",
              "            title=\"Suggest charts\"\n",
              "            style=\"display:none;\">\n",
              "\n",
              "<svg xmlns=\"http://www.w3.org/2000/svg\" height=\"24px\"viewBox=\"0 0 24 24\"\n",
              "     width=\"24px\">\n",
              "    <g>\n",
              "        <path d=\"M19 3H5c-1.1 0-2 .9-2 2v14c0 1.1.9 2 2 2h14c1.1 0 2-.9 2-2V5c0-1.1-.9-2-2-2zM9 17H7v-7h2v7zm4 0h-2V7h2v10zm4 0h-2v-4h2v4z\"/>\n",
              "    </g>\n",
              "</svg>\n",
              "  </button>\n",
              "\n",
              "<style>\n",
              "  .colab-df-quickchart {\n",
              "      --bg-color: #E8F0FE;\n",
              "      --fill-color: #1967D2;\n",
              "      --hover-bg-color: #E2EBFA;\n",
              "      --hover-fill-color: #174EA6;\n",
              "      --disabled-fill-color: #AAA;\n",
              "      --disabled-bg-color: #DDD;\n",
              "  }\n",
              "\n",
              "  [theme=dark] .colab-df-quickchart {\n",
              "      --bg-color: #3B4455;\n",
              "      --fill-color: #D2E3FC;\n",
              "      --hover-bg-color: #434B5C;\n",
              "      --hover-fill-color: #FFFFFF;\n",
              "      --disabled-bg-color: #3B4455;\n",
              "      --disabled-fill-color: #666;\n",
              "  }\n",
              "\n",
              "  .colab-df-quickchart {\n",
              "    background-color: var(--bg-color);\n",
              "    border: none;\n",
              "    border-radius: 50%;\n",
              "    cursor: pointer;\n",
              "    display: none;\n",
              "    fill: var(--fill-color);\n",
              "    height: 32px;\n",
              "    padding: 0;\n",
              "    width: 32px;\n",
              "  }\n",
              "\n",
              "  .colab-df-quickchart:hover {\n",
              "    background-color: var(--hover-bg-color);\n",
              "    box-shadow: 0 1px 2px rgba(60, 64, 67, 0.3), 0 1px 3px 1px rgba(60, 64, 67, 0.15);\n",
              "    fill: var(--button-hover-fill-color);\n",
              "  }\n",
              "\n",
              "  .colab-df-quickchart-complete:disabled,\n",
              "  .colab-df-quickchart-complete:disabled:hover {\n",
              "    background-color: var(--disabled-bg-color);\n",
              "    fill: var(--disabled-fill-color);\n",
              "    box-shadow: none;\n",
              "  }\n",
              "\n",
              "  .colab-df-spinner {\n",
              "    border: 2px solid var(--fill-color);\n",
              "    border-color: transparent;\n",
              "    border-bottom-color: var(--fill-color);\n",
              "    animation:\n",
              "      spin 1s steps(1) infinite;\n",
              "  }\n",
              "\n",
              "  @keyframes spin {\n",
              "    0% {\n",
              "      border-color: transparent;\n",
              "      border-bottom-color: var(--fill-color);\n",
              "      border-left-color: var(--fill-color);\n",
              "    }\n",
              "    20% {\n",
              "      border-color: transparent;\n",
              "      border-left-color: var(--fill-color);\n",
              "      border-top-color: var(--fill-color);\n",
              "    }\n",
              "    30% {\n",
              "      border-color: transparent;\n",
              "      border-left-color: var(--fill-color);\n",
              "      border-top-color: var(--fill-color);\n",
              "      border-right-color: var(--fill-color);\n",
              "    }\n",
              "    40% {\n",
              "      border-color: transparent;\n",
              "      border-right-color: var(--fill-color);\n",
              "      border-top-color: var(--fill-color);\n",
              "    }\n",
              "    60% {\n",
              "      border-color: transparent;\n",
              "      border-right-color: var(--fill-color);\n",
              "    }\n",
              "    80% {\n",
              "      border-color: transparent;\n",
              "      border-right-color: var(--fill-color);\n",
              "      border-bottom-color: var(--fill-color);\n",
              "    }\n",
              "    90% {\n",
              "      border-color: transparent;\n",
              "      border-bottom-color: var(--fill-color);\n",
              "    }\n",
              "  }\n",
              "</style>\n",
              "\n",
              "  <script>\n",
              "    async function quickchart(key) {\n",
              "      const quickchartButtonEl =\n",
              "        document.querySelector('#' + key + ' button');\n",
              "      quickchartButtonEl.disabled = true;  // To prevent multiple clicks.\n",
              "      quickchartButtonEl.classList.add('colab-df-spinner');\n",
              "      try {\n",
              "        const charts = await google.colab.kernel.invokeFunction(\n",
              "            'suggestCharts', [key], {});\n",
              "      } catch (error) {\n",
              "        console.error('Error during call to suggestCharts:', error);\n",
              "      }\n",
              "      quickchartButtonEl.classList.remove('colab-df-spinner');\n",
              "      quickchartButtonEl.classList.add('colab-df-quickchart-complete');\n",
              "    }\n",
              "    (() => {\n",
              "      let quickchartButtonEl =\n",
              "        document.querySelector('#df-4589abfd-fa20-4680-9ad2-a0d110f0e2ee button');\n",
              "      quickchartButtonEl.style.display =\n",
              "        google.colab.kernel.accessAllowed ? 'block' : 'none';\n",
              "    })();\n",
              "  </script>\n",
              "</div>\n",
              "    </div>\n",
              "  </div>\n"
            ],
            "application/vnd.google.colaboratory.intrinsic+json": {
              "type": "dataframe",
              "repr_error": "0"
            }
          },
          "metadata": {},
          "execution_count": 175
        }
      ]
    },
    {
      "cell_type": "markdown",
      "metadata": {
        "id": "4c6k1t9ygFyQ"
      },
      "source": [
        "#### Шаг 2.3. Изучите дубликаты в датафрейме\n",
        "- Проверьте, есть ли в данных дубликаты. Опишите причины, которые могли повлиять на появление дублей."
      ]
    },
    {
      "cell_type": "code",
      "execution_count": 176,
      "metadata": {
        "id": "aKck8RIdgFyQ",
        "colab": {
          "base_uri": "https://localhost:8080/"
        },
        "outputId": "d3c4a689-0988-4a9a-8786-ec31b996c28a"
      },
      "outputs": [
        {
          "output_type": "execute_result",
          "data": {
            "text/plain": [
              "0"
            ]
          },
          "metadata": {},
          "execution_count": 176
        }
      ],
      "source": [
        "df.duplicated().sum()"
      ]
    },
    {
      "cell_type": "code",
      "source": [
        "df['title'].duplicated(keep=False)"
      ],
      "metadata": {
        "colab": {
          "base_uri": "https://localhost:8080/"
        },
        "id": "_SjTTizkVQeU",
        "outputId": "18e8780e-d4f5-48ac-fa43-0a8c87b2fedf"
      },
      "execution_count": 177,
      "outputs": [
        {
          "output_type": "execute_result",
          "data": {
            "text/plain": [
              "0       False\n",
              "1       False\n",
              "2        True\n",
              "3        True\n",
              "4        True\n",
              "        ...  \n",
              "7476    False\n",
              "7477    False\n",
              "7478    False\n",
              "7482    False\n",
              "7485    False\n",
              "Name: title, Length: 6490, dtype: bool"
            ]
          },
          "metadata": {},
          "execution_count": 177
        }
      ]
    },
    {
      "cell_type": "markdown",
      "source": [
        "Что говорит нам о том, что полностью одинковых строчек в данных нет.\n",
        "\n",
        "Давайте посмотрим на дубликаты в столбце title."
      ],
      "metadata": {
        "id": "QYL481NpU5pA"
      }
    },
    {
      "cell_type": "code",
      "source": [
        "df.loc[df['title'].duplicated(keep=False)]"
      ],
      "metadata": {
        "colab": {
          "base_uri": "https://localhost:8080/",
          "height": 1000
        },
        "id": "XWPOjGgKVKBW",
        "outputId": "7e1cb56f-1ef0-484a-dfff-8805c8bbfe0b"
      },
      "execution_count": 178,
      "outputs": [
        {
          "output_type": "execute_result",
          "data": {
            "text/plain": [
              "                                                  title   puNumber  \\\n",
              "2                                          Особо опасен  221038416   \n",
              "3                                          Особо опасен  221026916   \n",
              "4                                          Особо опасен  221030815   \n",
              "12    Малышка на миллион /По мотивам рассказов Ф.Х.Т...  221011415   \n",
              "26                                      Оружейный барон  221012515   \n",
              "...                                                 ...        ...   \n",
              "7369                                          Невиновен  111019319   \n",
              "7416                             Отель \"Гранд Будапешт\"  121035119   \n",
              "7438                                              Зверь  121035919   \n",
              "7450                                      В тихом омуте  121036919   \n",
              "7474                                          Вторжение  111022519   \n",
              "\n",
              "         show_start_date             type  \\\n",
              "2    2016-10-10 12:00:00   Художественный   \n",
              "3    2016-06-10 12:00:00   Художественный   \n",
              "4    2015-07-29 12:00:00   Художественный   \n",
              "12   2015-04-03 12:00:00   Художественный   \n",
              "26   2015-04-03 12:00:00   Художественный   \n",
              "...                  ...              ...   \n",
              "7369 2019-11-07 12:00:00   Художественный   \n",
              "7416 2019-12-13 12:00:00   Художественный   \n",
              "7438 2019-12-05 12:00:00   Художественный   \n",
              "7450 2019-12-09 12:00:00   Художественный   \n",
              "7474 2019-12-23 12:00:00   Художественный   \n",
              "\n",
              "                                            film_studio  \\\n",
              "2     Юниверсал Пикчерз, Кикстарт Продакшнз, Марк Пл...   \n",
              "3     Юниверсал Пикчерз, Кикстарт Продакшнз, Марк Пл...   \n",
              "4     Юниверсал Пикчерз, Кикстарт Продакшнз, Марк Пл...   \n",
              "12    Уорнер Бразерс, Лейкшор Интертейнмент, Малпасо...   \n",
              "26    Вэ И Пэ Медиенфондс 3, Асендант Пикчерз, Сатур...   \n",
              "...                                                 ...   \n",
              "7369                                  ООО \"Кавказфильм\"   \n",
              "7416  Американ Эмпирикал, Индиан Пэинтбраш, Скотт Ру...   \n",
              "7438                                     Студио энд Нью   \n",
              "7450  Хэд Гир Филмз, Крео Филмз, Локал Хироу, Метрол...   \n",
              "7474       ООО \"Арт Пикчерс Студия\", ООО \"Водород 2011\"   \n",
              "\n",
              "          production_country           director  \\\n",
              "2                        США  Тимур Бекмамбетов   \n",
              "3                        США  Тимур Бекмамбетов   \n",
              "4                        США  Тимур Бекмамбетов   \n",
              "12                       США       Клинт Иствуд   \n",
              "26    США - Франция - Турция       Эндрю Никкол   \n",
              "...                      ...                ...   \n",
              "7369                  Россия          А.Емкужев   \n",
              "7416           Германия, США       Уэс Андерсен   \n",
              "7438             Южная Корея         Ли Джон-хо   \n",
              "7450                     США       Адам Рэндолл   \n",
              "7474                  Россия        Ф.Бондарчук   \n",
              "\n",
              "                                               producer  \\\n",
              "2     Джим Лемли, Джейсон Нетер, Марк Е.Платт, Яйн Смит   \n",
              "3     Джим Лемли, Джейсон Нетер, Марк Е.Платт, Яйн Смит   \n",
              "4     Джим Лемли, Джейсон Нетер, Марк Е.Платт, Яйн Смит   \n",
              "12    Клинт Иствуд, Том Розенберг, Альберт С.Рудди, ...   \n",
              "26    Норман Голуайтли, Энди Грош, Николас Кейдж, Эн...   \n",
              "...                                                 ...   \n",
              "7369  А.Емкужев, А.Хуажева, ООО \"Корпорация Русская ...   \n",
              "7416         Уэс Андерсон, Джереми Доусон, Стивен Рейлс   \n",
              "7438               Чан Гён-ик, Чон Джи-хун, Пэк Кён сук   \n",
              "7450                                        Мэтт Уолдек   \n",
              "7474  Ф.Бондарчук, М.Врубель, А.Андрющенко, Д.Рудовский   \n",
              "\n",
              "                      age_restriction  refundable_support  \\\n",
              "2         «18+» - запрещено для детей                 NaN   \n",
              "3         «18+» - запрещено для детей                 NaN   \n",
              "4         «18+» - запрещено для детей                 NaN   \n",
              "12    «16+» - для детей старше 16 лет                 NaN   \n",
              "26        «18+» - запрещено для детей                 NaN   \n",
              "...                               ...                 ...   \n",
              "7369  «16+» - для детей старше 16 лет                 NaN   \n",
              "7416  «16+» - для детей старше 16 лет                 NaN   \n",
              "7438      «18+» - запрещено для детей                 NaN   \n",
              "7450      «18+» - запрещено для детей                 NaN   \n",
              "7474  «12+» - для детей старше 12 лет         100000000.0   \n",
              "\n",
              "      nonrefundable_support       budget financing_source  ratings  \\\n",
              "2                       NaN          NaN              NaN      6.8   \n",
              "3                       NaN          NaN              NaN      6.8   \n",
              "4                       NaN          NaN              NaN      6.8   \n",
              "12                      NaN          NaN              NaN      8.1   \n",
              "26                      NaN          NaN              NaN      7.7   \n",
              "...                     ...          ...              ...      ...   \n",
              "7369                    NaN          NaN              NaN      7.5   \n",
              "7416                    NaN          NaN              NaN      7.9   \n",
              "7438                    NaN          NaN              NaN      6.5   \n",
              "7450                    NaN          NaN              NaN      6.8   \n",
              "7474            400000000.0  944000000.0        Фонд кино      5.7   \n",
              "\n",
              "                            genres  box_office  \n",
              "2        фантастика,боевик,триллер         NaN  \n",
              "3        фантастика,боевик,триллер         NaN  \n",
              "4        фантастика,боевик,триллер         NaN  \n",
              "12                     драма,спорт         NaN  \n",
              "26           боевик,драма,криминал         NaN  \n",
              "...                            ...         ...  \n",
              "7369     триллер,детектив,криминал         NaN  \n",
              "7416  комедия,приключения,детектив         NaN  \n",
              "7438                 триллер,драма   175003.51  \n",
              "7450     триллер,криминал,детектив         NaN  \n",
              "7474             фантастика,боевик         NaN  \n",
              "\n",
              "[1254 rows x 16 columns]"
            ],
            "text/html": [
              "\n",
              "  <div id=\"df-ff2914e1-71db-4322-b1ff-f287bd5436c2\" class=\"colab-df-container\">\n",
              "    <div>\n",
              "<style scoped>\n",
              "    .dataframe tbody tr th:only-of-type {\n",
              "        vertical-align: middle;\n",
              "    }\n",
              "\n",
              "    .dataframe tbody tr th {\n",
              "        vertical-align: top;\n",
              "    }\n",
              "\n",
              "    .dataframe thead th {\n",
              "        text-align: right;\n",
              "    }\n",
              "</style>\n",
              "<table border=\"1\" class=\"dataframe\">\n",
              "  <thead>\n",
              "    <tr style=\"text-align: right;\">\n",
              "      <th></th>\n",
              "      <th>title</th>\n",
              "      <th>puNumber</th>\n",
              "      <th>show_start_date</th>\n",
              "      <th>type</th>\n",
              "      <th>film_studio</th>\n",
              "      <th>production_country</th>\n",
              "      <th>director</th>\n",
              "      <th>producer</th>\n",
              "      <th>age_restriction</th>\n",
              "      <th>refundable_support</th>\n",
              "      <th>nonrefundable_support</th>\n",
              "      <th>budget</th>\n",
              "      <th>financing_source</th>\n",
              "      <th>ratings</th>\n",
              "      <th>genres</th>\n",
              "      <th>box_office</th>\n",
              "    </tr>\n",
              "  </thead>\n",
              "  <tbody>\n",
              "    <tr>\n",
              "      <th>2</th>\n",
              "      <td>Особо опасен</td>\n",
              "      <td>221038416</td>\n",
              "      <td>2016-10-10 12:00:00</td>\n",
              "      <td>Художественный</td>\n",
              "      <td>Юниверсал Пикчерз, Кикстарт Продакшнз, Марк Пл...</td>\n",
              "      <td>США</td>\n",
              "      <td>Тимур Бекмамбетов</td>\n",
              "      <td>Джим Лемли, Джейсон Нетер, Марк Е.Платт, Яйн Смит</td>\n",
              "      <td>«18+» - запрещено для детей</td>\n",
              "      <td>NaN</td>\n",
              "      <td>NaN</td>\n",
              "      <td>NaN</td>\n",
              "      <td>NaN</td>\n",
              "      <td>6.8</td>\n",
              "      <td>фантастика,боевик,триллер</td>\n",
              "      <td>NaN</td>\n",
              "    </tr>\n",
              "    <tr>\n",
              "      <th>3</th>\n",
              "      <td>Особо опасен</td>\n",
              "      <td>221026916</td>\n",
              "      <td>2016-06-10 12:00:00</td>\n",
              "      <td>Художественный</td>\n",
              "      <td>Юниверсал Пикчерз, Кикстарт Продакшнз, Марк Пл...</td>\n",
              "      <td>США</td>\n",
              "      <td>Тимур Бекмамбетов</td>\n",
              "      <td>Джим Лемли, Джейсон Нетер, Марк Е.Платт, Яйн Смит</td>\n",
              "      <td>«18+» - запрещено для детей</td>\n",
              "      <td>NaN</td>\n",
              "      <td>NaN</td>\n",
              "      <td>NaN</td>\n",
              "      <td>NaN</td>\n",
              "      <td>6.8</td>\n",
              "      <td>фантастика,боевик,триллер</td>\n",
              "      <td>NaN</td>\n",
              "    </tr>\n",
              "    <tr>\n",
              "      <th>4</th>\n",
              "      <td>Особо опасен</td>\n",
              "      <td>221030815</td>\n",
              "      <td>2015-07-29 12:00:00</td>\n",
              "      <td>Художественный</td>\n",
              "      <td>Юниверсал Пикчерз, Кикстарт Продакшнз, Марк Пл...</td>\n",
              "      <td>США</td>\n",
              "      <td>Тимур Бекмамбетов</td>\n",
              "      <td>Джим Лемли, Джейсон Нетер, Марк Е.Платт, Яйн Смит</td>\n",
              "      <td>«18+» - запрещено для детей</td>\n",
              "      <td>NaN</td>\n",
              "      <td>NaN</td>\n",
              "      <td>NaN</td>\n",
              "      <td>NaN</td>\n",
              "      <td>6.8</td>\n",
              "      <td>фантастика,боевик,триллер</td>\n",
              "      <td>NaN</td>\n",
              "    </tr>\n",
              "    <tr>\n",
              "      <th>12</th>\n",
              "      <td>Малышка на миллион /По мотивам рассказов Ф.Х.Т...</td>\n",
              "      <td>221011415</td>\n",
              "      <td>2015-04-03 12:00:00</td>\n",
              "      <td>Художественный</td>\n",
              "      <td>Уорнер Бразерс, Лейкшор Интертейнмент, Малпасо...</td>\n",
              "      <td>США</td>\n",
              "      <td>Клинт Иствуд</td>\n",
              "      <td>Клинт Иствуд, Том Розенберг, Альберт С.Рудди, ...</td>\n",
              "      <td>«16+» - для детей старше 16 лет</td>\n",
              "      <td>NaN</td>\n",
              "      <td>NaN</td>\n",
              "      <td>NaN</td>\n",
              "      <td>NaN</td>\n",
              "      <td>8.1</td>\n",
              "      <td>драма,спорт</td>\n",
              "      <td>NaN</td>\n",
              "    </tr>\n",
              "    <tr>\n",
              "      <th>26</th>\n",
              "      <td>Оружейный барон</td>\n",
              "      <td>221012515</td>\n",
              "      <td>2015-04-03 12:00:00</td>\n",
              "      <td>Художественный</td>\n",
              "      <td>Вэ И Пэ Медиенфондс 3, Асендант Пикчерз, Сатур...</td>\n",
              "      <td>США - Франция - Турция</td>\n",
              "      <td>Эндрю Никкол</td>\n",
              "      <td>Норман Голуайтли, Энди Грош, Николас Кейдж, Эн...</td>\n",
              "      <td>«18+» - запрещено для детей</td>\n",
              "      <td>NaN</td>\n",
              "      <td>NaN</td>\n",
              "      <td>NaN</td>\n",
              "      <td>NaN</td>\n",
              "      <td>7.7</td>\n",
              "      <td>боевик,драма,криминал</td>\n",
              "      <td>NaN</td>\n",
              "    </tr>\n",
              "    <tr>\n",
              "      <th>...</th>\n",
              "      <td>...</td>\n",
              "      <td>...</td>\n",
              "      <td>...</td>\n",
              "      <td>...</td>\n",
              "      <td>...</td>\n",
              "      <td>...</td>\n",
              "      <td>...</td>\n",
              "      <td>...</td>\n",
              "      <td>...</td>\n",
              "      <td>...</td>\n",
              "      <td>...</td>\n",
              "      <td>...</td>\n",
              "      <td>...</td>\n",
              "      <td>...</td>\n",
              "      <td>...</td>\n",
              "      <td>...</td>\n",
              "    </tr>\n",
              "    <tr>\n",
              "      <th>7369</th>\n",
              "      <td>Невиновен</td>\n",
              "      <td>111019319</td>\n",
              "      <td>2019-11-07 12:00:00</td>\n",
              "      <td>Художественный</td>\n",
              "      <td>ООО \"Кавказфильм\"</td>\n",
              "      <td>Россия</td>\n",
              "      <td>А.Емкужев</td>\n",
              "      <td>А.Емкужев, А.Хуажева, ООО \"Корпорация Русская ...</td>\n",
              "      <td>«16+» - для детей старше 16 лет</td>\n",
              "      <td>NaN</td>\n",
              "      <td>NaN</td>\n",
              "      <td>NaN</td>\n",
              "      <td>NaN</td>\n",
              "      <td>7.5</td>\n",
              "      <td>триллер,детектив,криминал</td>\n",
              "      <td>NaN</td>\n",
              "    </tr>\n",
              "    <tr>\n",
              "      <th>7416</th>\n",
              "      <td>Отель \"Гранд Будапешт\"</td>\n",
              "      <td>121035119</td>\n",
              "      <td>2019-12-13 12:00:00</td>\n",
              "      <td>Художественный</td>\n",
              "      <td>Американ Эмпирикал, Индиан Пэинтбраш, Скотт Ру...</td>\n",
              "      <td>Германия, США</td>\n",
              "      <td>Уэс Андерсен</td>\n",
              "      <td>Уэс Андерсон, Джереми Доусон, Стивен Рейлс</td>\n",
              "      <td>«16+» - для детей старше 16 лет</td>\n",
              "      <td>NaN</td>\n",
              "      <td>NaN</td>\n",
              "      <td>NaN</td>\n",
              "      <td>NaN</td>\n",
              "      <td>7.9</td>\n",
              "      <td>комедия,приключения,детектив</td>\n",
              "      <td>NaN</td>\n",
              "    </tr>\n",
              "    <tr>\n",
              "      <th>7438</th>\n",
              "      <td>Зверь</td>\n",
              "      <td>121035919</td>\n",
              "      <td>2019-12-05 12:00:00</td>\n",
              "      <td>Художественный</td>\n",
              "      <td>Студио энд Нью</td>\n",
              "      <td>Южная Корея</td>\n",
              "      <td>Ли Джон-хо</td>\n",
              "      <td>Чан Гён-ик, Чон Джи-хун, Пэк Кён сук</td>\n",
              "      <td>«18+» - запрещено для детей</td>\n",
              "      <td>NaN</td>\n",
              "      <td>NaN</td>\n",
              "      <td>NaN</td>\n",
              "      <td>NaN</td>\n",
              "      <td>6.5</td>\n",
              "      <td>триллер,драма</td>\n",
              "      <td>175003.51</td>\n",
              "    </tr>\n",
              "    <tr>\n",
              "      <th>7450</th>\n",
              "      <td>В тихом омуте</td>\n",
              "      <td>121036919</td>\n",
              "      <td>2019-12-09 12:00:00</td>\n",
              "      <td>Художественный</td>\n",
              "      <td>Хэд Гир Филмз, Крео Филмз, Локал Хироу, Метрол...</td>\n",
              "      <td>США</td>\n",
              "      <td>Адам Рэндолл</td>\n",
              "      <td>Мэтт Уолдек</td>\n",
              "      <td>«18+» - запрещено для детей</td>\n",
              "      <td>NaN</td>\n",
              "      <td>NaN</td>\n",
              "      <td>NaN</td>\n",
              "      <td>NaN</td>\n",
              "      <td>6.8</td>\n",
              "      <td>триллер,криминал,детектив</td>\n",
              "      <td>NaN</td>\n",
              "    </tr>\n",
              "    <tr>\n",
              "      <th>7474</th>\n",
              "      <td>Вторжение</td>\n",
              "      <td>111022519</td>\n",
              "      <td>2019-12-23 12:00:00</td>\n",
              "      <td>Художественный</td>\n",
              "      <td>ООО \"Арт Пикчерс Студия\", ООО \"Водород 2011\"</td>\n",
              "      <td>Россия</td>\n",
              "      <td>Ф.Бондарчук</td>\n",
              "      <td>Ф.Бондарчук, М.Врубель, А.Андрющенко, Д.Рудовский</td>\n",
              "      <td>«12+» - для детей старше 12 лет</td>\n",
              "      <td>100000000.0</td>\n",
              "      <td>400000000.0</td>\n",
              "      <td>944000000.0</td>\n",
              "      <td>Фонд кино</td>\n",
              "      <td>5.7</td>\n",
              "      <td>фантастика,боевик</td>\n",
              "      <td>NaN</td>\n",
              "    </tr>\n",
              "  </tbody>\n",
              "</table>\n",
              "<p>1254 rows × 16 columns</p>\n",
              "</div>\n",
              "    <div class=\"colab-df-buttons\">\n",
              "\n",
              "  <div class=\"colab-df-container\">\n",
              "    <button class=\"colab-df-convert\" onclick=\"convertToInteractive('df-ff2914e1-71db-4322-b1ff-f287bd5436c2')\"\n",
              "            title=\"Convert this dataframe to an interactive table.\"\n",
              "            style=\"display:none;\">\n",
              "\n",
              "  <svg xmlns=\"http://www.w3.org/2000/svg\" height=\"24px\" viewBox=\"0 -960 960 960\">\n",
              "    <path d=\"M120-120v-720h720v720H120Zm60-500h600v-160H180v160Zm220 220h160v-160H400v160Zm0 220h160v-160H400v160ZM180-400h160v-160H180v160Zm440 0h160v-160H620v160ZM180-180h160v-160H180v160Zm440 0h160v-160H620v160Z\"/>\n",
              "  </svg>\n",
              "    </button>\n",
              "\n",
              "  <style>\n",
              "    .colab-df-container {\n",
              "      display:flex;\n",
              "      gap: 12px;\n",
              "    }\n",
              "\n",
              "    .colab-df-convert {\n",
              "      background-color: #E8F0FE;\n",
              "      border: none;\n",
              "      border-radius: 50%;\n",
              "      cursor: pointer;\n",
              "      display: none;\n",
              "      fill: #1967D2;\n",
              "      height: 32px;\n",
              "      padding: 0 0 0 0;\n",
              "      width: 32px;\n",
              "    }\n",
              "\n",
              "    .colab-df-convert:hover {\n",
              "      background-color: #E2EBFA;\n",
              "      box-shadow: 0px 1px 2px rgba(60, 64, 67, 0.3), 0px 1px 3px 1px rgba(60, 64, 67, 0.15);\n",
              "      fill: #174EA6;\n",
              "    }\n",
              "\n",
              "    .colab-df-buttons div {\n",
              "      margin-bottom: 4px;\n",
              "    }\n",
              "\n",
              "    [theme=dark] .colab-df-convert {\n",
              "      background-color: #3B4455;\n",
              "      fill: #D2E3FC;\n",
              "    }\n",
              "\n",
              "    [theme=dark] .colab-df-convert:hover {\n",
              "      background-color: #434B5C;\n",
              "      box-shadow: 0px 1px 3px 1px rgba(0, 0, 0, 0.15);\n",
              "      filter: drop-shadow(0px 1px 2px rgba(0, 0, 0, 0.3));\n",
              "      fill: #FFFFFF;\n",
              "    }\n",
              "  </style>\n",
              "\n",
              "    <script>\n",
              "      const buttonEl =\n",
              "        document.querySelector('#df-ff2914e1-71db-4322-b1ff-f287bd5436c2 button.colab-df-convert');\n",
              "      buttonEl.style.display =\n",
              "        google.colab.kernel.accessAllowed ? 'block' : 'none';\n",
              "\n",
              "      async function convertToInteractive(key) {\n",
              "        const element = document.querySelector('#df-ff2914e1-71db-4322-b1ff-f287bd5436c2');\n",
              "        const dataTable =\n",
              "          await google.colab.kernel.invokeFunction('convertToInteractive',\n",
              "                                                    [key], {});\n",
              "        if (!dataTable) return;\n",
              "\n",
              "        const docLinkHtml = 'Like what you see? Visit the ' +\n",
              "          '<a target=\"_blank\" href=https://colab.research.google.com/notebooks/data_table.ipynb>data table notebook</a>'\n",
              "          + ' to learn more about interactive tables.';\n",
              "        element.innerHTML = '';\n",
              "        dataTable['output_type'] = 'display_data';\n",
              "        await google.colab.output.renderOutput(dataTable, element);\n",
              "        const docLink = document.createElement('div');\n",
              "        docLink.innerHTML = docLinkHtml;\n",
              "        element.appendChild(docLink);\n",
              "      }\n",
              "    </script>\n",
              "  </div>\n",
              "\n",
              "\n",
              "<div id=\"df-b3e4ec07-c1f9-4062-aaa3-c0776b17e5e3\">\n",
              "  <button class=\"colab-df-quickchart\" onclick=\"quickchart('df-b3e4ec07-c1f9-4062-aaa3-c0776b17e5e3')\"\n",
              "            title=\"Suggest charts\"\n",
              "            style=\"display:none;\">\n",
              "\n",
              "<svg xmlns=\"http://www.w3.org/2000/svg\" height=\"24px\"viewBox=\"0 0 24 24\"\n",
              "     width=\"24px\">\n",
              "    <g>\n",
              "        <path d=\"M19 3H5c-1.1 0-2 .9-2 2v14c0 1.1.9 2 2 2h14c1.1 0 2-.9 2-2V5c0-1.1-.9-2-2-2zM9 17H7v-7h2v7zm4 0h-2V7h2v10zm4 0h-2v-4h2v4z\"/>\n",
              "    </g>\n",
              "</svg>\n",
              "  </button>\n",
              "\n",
              "<style>\n",
              "  .colab-df-quickchart {\n",
              "      --bg-color: #E8F0FE;\n",
              "      --fill-color: #1967D2;\n",
              "      --hover-bg-color: #E2EBFA;\n",
              "      --hover-fill-color: #174EA6;\n",
              "      --disabled-fill-color: #AAA;\n",
              "      --disabled-bg-color: #DDD;\n",
              "  }\n",
              "\n",
              "  [theme=dark] .colab-df-quickchart {\n",
              "      --bg-color: #3B4455;\n",
              "      --fill-color: #D2E3FC;\n",
              "      --hover-bg-color: #434B5C;\n",
              "      --hover-fill-color: #FFFFFF;\n",
              "      --disabled-bg-color: #3B4455;\n",
              "      --disabled-fill-color: #666;\n",
              "  }\n",
              "\n",
              "  .colab-df-quickchart {\n",
              "    background-color: var(--bg-color);\n",
              "    border: none;\n",
              "    border-radius: 50%;\n",
              "    cursor: pointer;\n",
              "    display: none;\n",
              "    fill: var(--fill-color);\n",
              "    height: 32px;\n",
              "    padding: 0;\n",
              "    width: 32px;\n",
              "  }\n",
              "\n",
              "  .colab-df-quickchart:hover {\n",
              "    background-color: var(--hover-bg-color);\n",
              "    box-shadow: 0 1px 2px rgba(60, 64, 67, 0.3), 0 1px 3px 1px rgba(60, 64, 67, 0.15);\n",
              "    fill: var(--button-hover-fill-color);\n",
              "  }\n",
              "\n",
              "  .colab-df-quickchart-complete:disabled,\n",
              "  .colab-df-quickchart-complete:disabled:hover {\n",
              "    background-color: var(--disabled-bg-color);\n",
              "    fill: var(--disabled-fill-color);\n",
              "    box-shadow: none;\n",
              "  }\n",
              "\n",
              "  .colab-df-spinner {\n",
              "    border: 2px solid var(--fill-color);\n",
              "    border-color: transparent;\n",
              "    border-bottom-color: var(--fill-color);\n",
              "    animation:\n",
              "      spin 1s steps(1) infinite;\n",
              "  }\n",
              "\n",
              "  @keyframes spin {\n",
              "    0% {\n",
              "      border-color: transparent;\n",
              "      border-bottom-color: var(--fill-color);\n",
              "      border-left-color: var(--fill-color);\n",
              "    }\n",
              "    20% {\n",
              "      border-color: transparent;\n",
              "      border-left-color: var(--fill-color);\n",
              "      border-top-color: var(--fill-color);\n",
              "    }\n",
              "    30% {\n",
              "      border-color: transparent;\n",
              "      border-left-color: var(--fill-color);\n",
              "      border-top-color: var(--fill-color);\n",
              "      border-right-color: var(--fill-color);\n",
              "    }\n",
              "    40% {\n",
              "      border-color: transparent;\n",
              "      border-right-color: var(--fill-color);\n",
              "      border-top-color: var(--fill-color);\n",
              "    }\n",
              "    60% {\n",
              "      border-color: transparent;\n",
              "      border-right-color: var(--fill-color);\n",
              "    }\n",
              "    80% {\n",
              "      border-color: transparent;\n",
              "      border-right-color: var(--fill-color);\n",
              "      border-bottom-color: var(--fill-color);\n",
              "    }\n",
              "    90% {\n",
              "      border-color: transparent;\n",
              "      border-bottom-color: var(--fill-color);\n",
              "    }\n",
              "  }\n",
              "</style>\n",
              "\n",
              "  <script>\n",
              "    async function quickchart(key) {\n",
              "      const quickchartButtonEl =\n",
              "        document.querySelector('#' + key + ' button');\n",
              "      quickchartButtonEl.disabled = true;  // To prevent multiple clicks.\n",
              "      quickchartButtonEl.classList.add('colab-df-spinner');\n",
              "      try {\n",
              "        const charts = await google.colab.kernel.invokeFunction(\n",
              "            'suggestCharts', [key], {});\n",
              "      } catch (error) {\n",
              "        console.error('Error during call to suggestCharts:', error);\n",
              "      }\n",
              "      quickchartButtonEl.classList.remove('colab-df-spinner');\n",
              "      quickchartButtonEl.classList.add('colab-df-quickchart-complete');\n",
              "    }\n",
              "    (() => {\n",
              "      let quickchartButtonEl =\n",
              "        document.querySelector('#df-b3e4ec07-c1f9-4062-aaa3-c0776b17e5e3 button');\n",
              "      quickchartButtonEl.style.display =\n",
              "        google.colab.kernel.accessAllowed ? 'block' : 'none';\n",
              "    })();\n",
              "  </script>\n",
              "</div>\n",
              "    </div>\n",
              "  </div>\n"
            ],
            "application/vnd.google.colaboratory.intrinsic+json": {
              "type": "dataframe",
              "summary": "{\n  \"name\": \"df\",\n  \"rows\": 1254,\n  \"fields\": [\n    {\n      \"column\": \"title\",\n      \"properties\": {\n        \"dtype\": \"category\",\n        \"num_unique_values\": 549,\n        \"samples\": [\n          \"\\u041f\\u043e\\u043a\\u043e\\u0440\\u0438\\u0442\\u0435\\u043b\\u0438 \\u0432\\u043e\\u043b\\u043d\",\n          \"\\u0414\\u0440\\u0430\\u0439\\u0432.\",\n          \"\\u041d\\u0430\\u0447\\u0430\\u043b\\u043e_\"\n        ],\n        \"semantic_type\": \"\",\n        \"description\": \"\"\n      }\n    },\n    {\n      \"column\": \"puNumber\",\n      \"properties\": {\n        \"dtype\": \"number\",\n        \"std\": 50032726,\n        \"min\": 111000910,\n        \"max\": 231001111,\n        \"num_unique_values\": 1253,\n        \"samples\": [\n          221007510,\n          124007419,\n          221118111\n        ],\n        \"semantic_type\": \"\",\n        \"description\": \"\"\n      }\n    },\n    {\n      \"column\": \"show_start_date\",\n      \"properties\": {\n        \"dtype\": \"date\",\n        \"min\": \"2010-01-14 12:00:00\",\n        \"max\": \"2019-12-23 12:00:00\",\n        \"num_unique_values\": 580,\n        \"samples\": [\n          \"2019-11-07 12:00:00\",\n          \"2016-12-15 12:00:00\",\n          \"2013-09-23 12:00:00\"\n        ],\n        \"semantic_type\": \"\",\n        \"description\": \"\"\n      }\n    },\n    {\n      \"column\": \"type\",\n      \"properties\": {\n        \"dtype\": \"category\",\n        \"num_unique_values\": 6,\n        \"samples\": [\n          \"\\u0425\\u0443\\u0434\\u043e\\u0436\\u0435\\u0441\\u0442\\u0432\\u0435\\u043d\\u043d\\u044b\\u0439\",\n          \"\\u0414\\u043e\\u043a\\u0443\\u043c\\u0435\\u043d\\u0442\\u0430\\u043b\\u044c\\u043d\\u044b\\u0439\",\n          \" \\u0425\\u0443\\u0434\\u043e\\u0436\\u0435\\u0441\\u0442\\u0432\\u0435\\u043d\\u043d\\u044b\\u0439\"\n        ],\n        \"semantic_type\": \"\",\n        \"description\": \"\"\n      }\n    },\n    {\n      \"column\": \"film_studio\",\n      \"properties\": {\n        \"dtype\": \"category\",\n        \"num_unique_values\": 578,\n        \"samples\": [\n          \"\\u0421\\u0438\\u043d\\u0435\\u043c\\u0430 \\u0421\\u0435\\u0432\\u0435\\u043d \\u041f\\u0440\\u043e\\u0434\\u0430\\u043a\\u0448\\u043d\\u0437, \\u041b\\u0438\\u043e\\u043d\\u0441\\u0433\\u0435\\u0439\\u0442, \\u0421\\u0438\\u043b\\u0432\\u0435\\u0440 \\u0421\\u0442\\u0430\\u0442 \\u041f\\u0440\\u043e\\u0434\\u0430\\u043a\\u0448\\u043d \\u0421\\u0435\\u0440\\u0432\\u0438\\u0441\\u0435\\u0441, \\u041a\\u0430\\u0440\\u0440\\u0435\\u043d\\u0442 \\u0418\\u043d\\u0442\\u0435\\u0440\\u0442\\u0435\\u0439\\u043d\\u043c\\u0435\\u043d\\u0442, \\u041a\\u0443\\u0430\\u0434 \\u0424\\u0438\\u043b\\u043c\\u0437, \\u0421\\u0438 \\u0414\\u0436\\u0438 \\u0425\\u0435\\u0442 \\u041f\\u0440\\u043e\\u0434\\u0430\\u043a\\u0448\\u043d\\u0437, \\u0421\\u0438 \\u0414\\u0436\\u0438 \\u041f\\u0438\\u043a\\u0447\\u0435\\u0440\\u0437, \\u0421\\u0438\\u0435\\u0440\\u0440\\u0430/\\u0410\\u0444\\u0444\\u0438\\u043d\\u0438\\u0442\\u0438\",\n          \"\\u0410\\u043c\\u0435\\u0440\\u0438\\u043a\\u0430\\u043d \\u042d\\u043c\\u043f\\u0438\\u0440\\u0438\\u043a\\u0430\\u043b, \\u0418\\u043d\\u0434\\u0438\\u0430\\u043d \\u041f\\u044d\\u0438\\u043d\\u0442\\u0431\\u0440\\u0430\\u0448, \\u0421\\u043a\\u043e\\u0442\\u0442 \\u0420\\u0443\\u0434\\u0438\\u043d \\u041f\\u0440\\u043e\\u0434\\u0430\\u043a\\u0448\\u043d\\u0441, \\u0421\\u0442\\u0443\\u0434\\u0438\\u043e \\u0411\\u0430\\u0431\\u0435\\u043b\\u0441\\u0431\\u0435\\u0440\\u0433\",\n          \"\\u0424\\u043e\\u043a\\u0441 \\u0421\\u0435\\u0440\\u0447\\u043b\\u0430\\u0439\\u0442 \\u041f\\u0438\\u043a\\u0447\\u0435\\u0440\\u0437, \\u041a\\u043b\\u043e\\u0434 \\u042d\\u0439\\u0442 \\u0424\\u0438\\u043b\\u043c\\u0437, \\u0424\\u0438\\u043b\\u043c \\u0424\\u043e, \\u042d\\u0432\\u0435\\u0440\\u0435\\u0441\\u0442 \\u0418\\u043d\\u0442\\u0435\\u0440\\u0442\\u0435\\u0439\\u043d\\u043c\\u0435\\u043d\\u0442, \\u0414\\u0430\\u0440\\u043b\\u043e\\u0443 \\u0421\\u043c\\u0438\\u0442\\u0441\\u043e\\u043d \\u041f\\u0440\\u043e\\u0434\\u0430\\u043a\\u0448\\u043d\\u0437, \\u0414\\u0430\\u043d\\u044d \\u0418\\u043d\\u0442\\u0435\\u0440\\u0442\\u0435\\u0439\\u043d\\u043c\\u0435\\u043d\\u0442, \\u0425\\u0430\\u0439\\u0434\\u043c\\u0435\\u0434 \\u0424\\u0438\\u043b\\u043c\\u0437, \\u041f\\u0430\\u0442\\u044d\"\n        ],\n        \"semantic_type\": \"\",\n        \"description\": \"\"\n      }\n    },\n    {\n      \"column\": \"production_country\",\n      \"properties\": {\n        \"dtype\": \"category\",\n        \"num_unique_values\": 134,\n        \"samples\": [\n          \"\\u0414\\u0430\\u043d\\u0438\\u044f - \\u0421\\u0428\\u0410\",\n          \"\\u0420\\u0443\\u043c\\u044b\\u043d\\u0438\\u044f-\\u0421\\u0428\\u0410\",\n          \"\\u041c\\u0435\\u043a\\u0441\\u0438\\u043a\\u0430-\\u0410\\u0440\\u0433\\u0435\\u043d\\u0442\\u0438\\u043d\\u0430\"\n        ],\n        \"semantic_type\": \"\",\n        \"description\": \"\"\n      }\n    },\n    {\n      \"column\": \"director\",\n      \"properties\": {\n        \"dtype\": \"category\",\n        \"num_unique_values\": 513,\n        \"samples\": [\n          \"\\u041c\\u0430\\u0439\\u043a\\u043b \\u0414\\u043e\\u0433\\u0435\\u0440\\u0442\\u0438\",\n          \"\\u0422\\u043e\\u043c \\u041e'\\u0414\\u044d\\u043b\\u043b\",\n          \"\\u0420\\u043e\\u0431 \\u041b\\u0435\\u0442\\u0442\\u0435\\u0440\\u043c\\u0430\\u043d\"\n        ],\n        \"semantic_type\": \"\",\n        \"description\": \"\"\n      }\n    },\n    {\n      \"column\": \"producer\",\n      \"properties\": {\n        \"dtype\": \"category\",\n        \"num_unique_values\": 567,\n        \"samples\": [\n          \"\\u0424\\u0438 \\u041e\\u0440\\u043d\\u0441\\u043e, \\u041c\\u0435\\u0442\\u0442 \\u0412\\u043e\\u043b\\u044c\\u0431\\u044c\\u043e\\u0440\\u043d. \\u0421\\u043a\\u043e\\u0442\\u0442\",\n          \"\\u0412\\u0438\\u043c \\u0412\\u0435\\u043d\\u0434\\u0435\\u0440\\u0441, \\u0416\\u0430\\u043d-\\u041f\\u044c\\u0435\\u0440 \\u0420\\u0438\\u043d\\u0433\\u0435\\u043b\",\n          \"\\u041e.\\u041a\\u043e\\u043c\\u043f\\u0430\\u043d\\u0435\\u0446, \\u041e.\\u041a\\u043e\\u0445\\u0430\\u043d, \\u041e.\\u041a\\u0443\\u043b\\u0438\\u043a\"\n        ],\n        \"semantic_type\": \"\",\n        \"description\": \"\"\n      }\n    },\n    {\n      \"column\": \"age_restriction\",\n      \"properties\": {\n        \"dtype\": \"category\",\n        \"num_unique_values\": 5,\n        \"samples\": [\n          \"\\u00ab16+\\u00bb - \\u0434\\u043b\\u044f \\u0434\\u0435\\u0442\\u0435\\u0439 \\u0441\\u0442\\u0430\\u0440\\u0448\\u0435 16 \\u043b\\u0435\\u0442\",\n          \"\\u00ab0+\\u00bb - \\u0434\\u043b\\u044f \\u043b\\u044e\\u0431\\u043e\\u0439 \\u0437\\u0440\\u0438\\u0442\\u0435\\u043b\\u044c\\u0441\\u043a\\u043e\\u0439 \\u0430\\u0443\\u0434\\u0438\\u0442\\u043e\\u0440\\u0438\\u0438\",\n          \"\\u00ab12+\\u00bb - \\u0434\\u043b\\u044f \\u0434\\u0435\\u0442\\u0435\\u0439 \\u0441\\u0442\\u0430\\u0440\\u0448\\u0435 12 \\u043b\\u0435\\u0442\"\n        ],\n        \"semantic_type\": \"\",\n        \"description\": \"\"\n      }\n    },\n    {\n      \"column\": \"refundable_support\",\n      \"properties\": {\n        \"dtype\": \"number\",\n        \"std\": 49223131.4187412,\n        \"min\": 0.0,\n        \"max\": 100000000.0,\n        \"num_unique_values\": 3,\n        \"samples\": [\n          0.0,\n          5000000.0,\n          100000000.0\n        ],\n        \"semantic_type\": \"\",\n        \"description\": \"\"\n      }\n    },\n    {\n      \"column\": \"nonrefundable_support\",\n      \"properties\": {\n        \"dtype\": \"number\",\n        \"std\": 185937937.6745549,\n        \"min\": 20000000.0,\n        \"max\": 400000000.0,\n        \"num_unique_values\": 4,\n        \"samples\": [\n          30000000.0,\n          400000000.0,\n          35000000.0\n        ],\n        \"semantic_type\": \"\",\n        \"description\": \"\"\n      }\n    },\n    {\n      \"column\": \"budget\",\n      \"properties\": {\n        \"dtype\": \"number\",\n        \"std\": 433935950.7543729,\n        \"min\": 48000000.0,\n        \"max\": 944000000.0,\n        \"num_unique_values\": 4,\n        \"samples\": [\n          48000000.0,\n          944000000.0,\n          109814241.0\n        ],\n        \"semantic_type\": \"\",\n        \"description\": \"\"\n      }\n    },\n    {\n      \"column\": \"financing_source\",\n      \"properties\": {\n        \"dtype\": \"category\",\n        \"num_unique_values\": 2,\n        \"samples\": [\n          \"\\u0424\\u043e\\u043d\\u0434 \\u043a\\u0438\\u043d\\u043e\",\n          \"\\u041c\\u0438\\u043d\\u0438\\u0441\\u0442\\u0435\\u0440\\u0441\\u0442\\u0432\\u043e \\u043a\\u0443\\u043b\\u044c\\u0442\\u0443\\u0440\\u044b\"\n        ],\n        \"semantic_type\": \"\",\n        \"description\": \"\"\n      }\n    },\n    {\n      \"column\": \"ratings\",\n      \"properties\": {\n        \"dtype\": \"number\",\n        \"std\": 0.9950393966876396,\n        \"min\": 1.6,\n        \"max\": 8.8,\n        \"num_unique_values\": 54,\n        \"samples\": [\n          6.5,\n          8.6\n        ],\n        \"semantic_type\": \"\",\n        \"description\": \"\"\n      }\n    },\n    {\n      \"column\": \"genres\",\n      \"properties\": {\n        \"dtype\": \"category\",\n        \"num_unique_values\": 216,\n        \"samples\": [\n          \"\\u0444\\u0430\\u043d\\u0442\\u0430\\u0441\\u0442\\u0438\\u043a\\u0430,\\u0434\\u0440\\u0430\\u043c\\u0430\",\n          \"\\u0442\\u0440\\u0438\\u043b\\u043b\\u0435\\u0440,\\u0434\\u0435\\u0442\\u0435\\u043a\\u0442\\u0438\\u0432,\\u043a\\u0440\\u0438\\u043c\\u0438\\u043d\\u0430\\u043b\"\n        ],\n        \"semantic_type\": \"\",\n        \"description\": \"\"\n      }\n    },\n    {\n      \"column\": \"box_office\",\n      \"properties\": {\n        \"dtype\": \"number\",\n        \"std\": 287362903.2573657,\n        \"min\": 100.0,\n        \"max\": 2048126108.0,\n        \"num_unique_values\": 205,\n        \"samples\": [\n          8000.0,\n          470427.0\n        ],\n        \"semantic_type\": \"\",\n        \"description\": \"\"\n      }\n    }\n  ]\n}"
            }
          },
          "metadata": {},
          "execution_count": 178
        }
      ]
    },
    {
      "cell_type": "code",
      "source": [
        "df.loc[df['title'] == 'Особо опасен']"
      ],
      "metadata": {
        "colab": {
          "base_uri": "https://localhost:8080/",
          "height": 476
        },
        "id": "iITz1YcCWesI",
        "outputId": "89f9caf3-d2c7-4606-95ad-349ee187c383"
      },
      "execution_count": 179,
      "outputs": [
        {
          "output_type": "execute_result",
          "data": {
            "text/plain": [
              "          title   puNumber     show_start_date            type  \\\n",
              "2  Особо опасен  221038416 2016-10-10 12:00:00  Художественный   \n",
              "3  Особо опасен  221026916 2016-06-10 12:00:00  Художественный   \n",
              "4  Особо опасен  221030815 2015-07-29 12:00:00  Художественный   \n",
              "\n",
              "                                         film_studio production_country  \\\n",
              "2  Юниверсал Пикчерз, Кикстарт Продакшнз, Марк Пл...                США   \n",
              "3  Юниверсал Пикчерз, Кикстарт Продакшнз, Марк Пл...                США   \n",
              "4  Юниверсал Пикчерз, Кикстарт Продакшнз, Марк Пл...                США   \n",
              "\n",
              "            director                                           producer  \\\n",
              "2  Тимур Бекмамбетов  Джим Лемли, Джейсон Нетер, Марк Е.Платт, Яйн Смит   \n",
              "3  Тимур Бекмамбетов  Джим Лемли, Джейсон Нетер, Марк Е.Платт, Яйн Смит   \n",
              "4  Тимур Бекмамбетов  Джим Лемли, Джейсон Нетер, Марк Е.Платт, Яйн Смит   \n",
              "\n",
              "               age_restriction  refundable_support  nonrefundable_support  \\\n",
              "2  «18+» - запрещено для детей                 NaN                    NaN   \n",
              "3  «18+» - запрещено для детей                 NaN                    NaN   \n",
              "4  «18+» - запрещено для детей                 NaN                    NaN   \n",
              "\n",
              "   budget financing_source  ratings                     genres  box_office  \n",
              "2     NaN              NaN      6.8  фантастика,боевик,триллер         NaN  \n",
              "3     NaN              NaN      6.8  фантастика,боевик,триллер         NaN  \n",
              "4     NaN              NaN      6.8  фантастика,боевик,триллер         NaN  "
            ],
            "text/html": [
              "\n",
              "  <div id=\"df-3f4b83c8-9c43-4e7b-86fd-2e43bcf66390\" class=\"colab-df-container\">\n",
              "    <div>\n",
              "<style scoped>\n",
              "    .dataframe tbody tr th:only-of-type {\n",
              "        vertical-align: middle;\n",
              "    }\n",
              "\n",
              "    .dataframe tbody tr th {\n",
              "        vertical-align: top;\n",
              "    }\n",
              "\n",
              "    .dataframe thead th {\n",
              "        text-align: right;\n",
              "    }\n",
              "</style>\n",
              "<table border=\"1\" class=\"dataframe\">\n",
              "  <thead>\n",
              "    <tr style=\"text-align: right;\">\n",
              "      <th></th>\n",
              "      <th>title</th>\n",
              "      <th>puNumber</th>\n",
              "      <th>show_start_date</th>\n",
              "      <th>type</th>\n",
              "      <th>film_studio</th>\n",
              "      <th>production_country</th>\n",
              "      <th>director</th>\n",
              "      <th>producer</th>\n",
              "      <th>age_restriction</th>\n",
              "      <th>refundable_support</th>\n",
              "      <th>nonrefundable_support</th>\n",
              "      <th>budget</th>\n",
              "      <th>financing_source</th>\n",
              "      <th>ratings</th>\n",
              "      <th>genres</th>\n",
              "      <th>box_office</th>\n",
              "    </tr>\n",
              "  </thead>\n",
              "  <tbody>\n",
              "    <tr>\n",
              "      <th>2</th>\n",
              "      <td>Особо опасен</td>\n",
              "      <td>221038416</td>\n",
              "      <td>2016-10-10 12:00:00</td>\n",
              "      <td>Художественный</td>\n",
              "      <td>Юниверсал Пикчерз, Кикстарт Продакшнз, Марк Пл...</td>\n",
              "      <td>США</td>\n",
              "      <td>Тимур Бекмамбетов</td>\n",
              "      <td>Джим Лемли, Джейсон Нетер, Марк Е.Платт, Яйн Смит</td>\n",
              "      <td>«18+» - запрещено для детей</td>\n",
              "      <td>NaN</td>\n",
              "      <td>NaN</td>\n",
              "      <td>NaN</td>\n",
              "      <td>NaN</td>\n",
              "      <td>6.8</td>\n",
              "      <td>фантастика,боевик,триллер</td>\n",
              "      <td>NaN</td>\n",
              "    </tr>\n",
              "    <tr>\n",
              "      <th>3</th>\n",
              "      <td>Особо опасен</td>\n",
              "      <td>221026916</td>\n",
              "      <td>2016-06-10 12:00:00</td>\n",
              "      <td>Художественный</td>\n",
              "      <td>Юниверсал Пикчерз, Кикстарт Продакшнз, Марк Пл...</td>\n",
              "      <td>США</td>\n",
              "      <td>Тимур Бекмамбетов</td>\n",
              "      <td>Джим Лемли, Джейсон Нетер, Марк Е.Платт, Яйн Смит</td>\n",
              "      <td>«18+» - запрещено для детей</td>\n",
              "      <td>NaN</td>\n",
              "      <td>NaN</td>\n",
              "      <td>NaN</td>\n",
              "      <td>NaN</td>\n",
              "      <td>6.8</td>\n",
              "      <td>фантастика,боевик,триллер</td>\n",
              "      <td>NaN</td>\n",
              "    </tr>\n",
              "    <tr>\n",
              "      <th>4</th>\n",
              "      <td>Особо опасен</td>\n",
              "      <td>221030815</td>\n",
              "      <td>2015-07-29 12:00:00</td>\n",
              "      <td>Художественный</td>\n",
              "      <td>Юниверсал Пикчерз, Кикстарт Продакшнз, Марк Пл...</td>\n",
              "      <td>США</td>\n",
              "      <td>Тимур Бекмамбетов</td>\n",
              "      <td>Джим Лемли, Джейсон Нетер, Марк Е.Платт, Яйн Смит</td>\n",
              "      <td>«18+» - запрещено для детей</td>\n",
              "      <td>NaN</td>\n",
              "      <td>NaN</td>\n",
              "      <td>NaN</td>\n",
              "      <td>NaN</td>\n",
              "      <td>6.8</td>\n",
              "      <td>фантастика,боевик,триллер</td>\n",
              "      <td>NaN</td>\n",
              "    </tr>\n",
              "  </tbody>\n",
              "</table>\n",
              "</div>\n",
              "    <div class=\"colab-df-buttons\">\n",
              "\n",
              "  <div class=\"colab-df-container\">\n",
              "    <button class=\"colab-df-convert\" onclick=\"convertToInteractive('df-3f4b83c8-9c43-4e7b-86fd-2e43bcf66390')\"\n",
              "            title=\"Convert this dataframe to an interactive table.\"\n",
              "            style=\"display:none;\">\n",
              "\n",
              "  <svg xmlns=\"http://www.w3.org/2000/svg\" height=\"24px\" viewBox=\"0 -960 960 960\">\n",
              "    <path d=\"M120-120v-720h720v720H120Zm60-500h600v-160H180v160Zm220 220h160v-160H400v160Zm0 220h160v-160H400v160ZM180-400h160v-160H180v160Zm440 0h160v-160H620v160ZM180-180h160v-160H180v160Zm440 0h160v-160H620v160Z\"/>\n",
              "  </svg>\n",
              "    </button>\n",
              "\n",
              "  <style>\n",
              "    .colab-df-container {\n",
              "      display:flex;\n",
              "      gap: 12px;\n",
              "    }\n",
              "\n",
              "    .colab-df-convert {\n",
              "      background-color: #E8F0FE;\n",
              "      border: none;\n",
              "      border-radius: 50%;\n",
              "      cursor: pointer;\n",
              "      display: none;\n",
              "      fill: #1967D2;\n",
              "      height: 32px;\n",
              "      padding: 0 0 0 0;\n",
              "      width: 32px;\n",
              "    }\n",
              "\n",
              "    .colab-df-convert:hover {\n",
              "      background-color: #E2EBFA;\n",
              "      box-shadow: 0px 1px 2px rgba(60, 64, 67, 0.3), 0px 1px 3px 1px rgba(60, 64, 67, 0.15);\n",
              "      fill: #174EA6;\n",
              "    }\n",
              "\n",
              "    .colab-df-buttons div {\n",
              "      margin-bottom: 4px;\n",
              "    }\n",
              "\n",
              "    [theme=dark] .colab-df-convert {\n",
              "      background-color: #3B4455;\n",
              "      fill: #D2E3FC;\n",
              "    }\n",
              "\n",
              "    [theme=dark] .colab-df-convert:hover {\n",
              "      background-color: #434B5C;\n",
              "      box-shadow: 0px 1px 3px 1px rgba(0, 0, 0, 0.15);\n",
              "      filter: drop-shadow(0px 1px 2px rgba(0, 0, 0, 0.3));\n",
              "      fill: #FFFFFF;\n",
              "    }\n",
              "  </style>\n",
              "\n",
              "    <script>\n",
              "      const buttonEl =\n",
              "        document.querySelector('#df-3f4b83c8-9c43-4e7b-86fd-2e43bcf66390 button.colab-df-convert');\n",
              "      buttonEl.style.display =\n",
              "        google.colab.kernel.accessAllowed ? 'block' : 'none';\n",
              "\n",
              "      async function convertToInteractive(key) {\n",
              "        const element = document.querySelector('#df-3f4b83c8-9c43-4e7b-86fd-2e43bcf66390');\n",
              "        const dataTable =\n",
              "          await google.colab.kernel.invokeFunction('convertToInteractive',\n",
              "                                                    [key], {});\n",
              "        if (!dataTable) return;\n",
              "\n",
              "        const docLinkHtml = 'Like what you see? Visit the ' +\n",
              "          '<a target=\"_blank\" href=https://colab.research.google.com/notebooks/data_table.ipynb>data table notebook</a>'\n",
              "          + ' to learn more about interactive tables.';\n",
              "        element.innerHTML = '';\n",
              "        dataTable['output_type'] = 'display_data';\n",
              "        await google.colab.output.renderOutput(dataTable, element);\n",
              "        const docLink = document.createElement('div');\n",
              "        docLink.innerHTML = docLinkHtml;\n",
              "        element.appendChild(docLink);\n",
              "      }\n",
              "    </script>\n",
              "  </div>\n",
              "\n",
              "\n",
              "<div id=\"df-21dc4d8d-4489-462b-8ca2-fad417e6be0b\">\n",
              "  <button class=\"colab-df-quickchart\" onclick=\"quickchart('df-21dc4d8d-4489-462b-8ca2-fad417e6be0b')\"\n",
              "            title=\"Suggest charts\"\n",
              "            style=\"display:none;\">\n",
              "\n",
              "<svg xmlns=\"http://www.w3.org/2000/svg\" height=\"24px\"viewBox=\"0 0 24 24\"\n",
              "     width=\"24px\">\n",
              "    <g>\n",
              "        <path d=\"M19 3H5c-1.1 0-2 .9-2 2v14c0 1.1.9 2 2 2h14c1.1 0 2-.9 2-2V5c0-1.1-.9-2-2-2zM9 17H7v-7h2v7zm4 0h-2V7h2v10zm4 0h-2v-4h2v4z\"/>\n",
              "    </g>\n",
              "</svg>\n",
              "  </button>\n",
              "\n",
              "<style>\n",
              "  .colab-df-quickchart {\n",
              "      --bg-color: #E8F0FE;\n",
              "      --fill-color: #1967D2;\n",
              "      --hover-bg-color: #E2EBFA;\n",
              "      --hover-fill-color: #174EA6;\n",
              "      --disabled-fill-color: #AAA;\n",
              "      --disabled-bg-color: #DDD;\n",
              "  }\n",
              "\n",
              "  [theme=dark] .colab-df-quickchart {\n",
              "      --bg-color: #3B4455;\n",
              "      --fill-color: #D2E3FC;\n",
              "      --hover-bg-color: #434B5C;\n",
              "      --hover-fill-color: #FFFFFF;\n",
              "      --disabled-bg-color: #3B4455;\n",
              "      --disabled-fill-color: #666;\n",
              "  }\n",
              "\n",
              "  .colab-df-quickchart {\n",
              "    background-color: var(--bg-color);\n",
              "    border: none;\n",
              "    border-radius: 50%;\n",
              "    cursor: pointer;\n",
              "    display: none;\n",
              "    fill: var(--fill-color);\n",
              "    height: 32px;\n",
              "    padding: 0;\n",
              "    width: 32px;\n",
              "  }\n",
              "\n",
              "  .colab-df-quickchart:hover {\n",
              "    background-color: var(--hover-bg-color);\n",
              "    box-shadow: 0 1px 2px rgba(60, 64, 67, 0.3), 0 1px 3px 1px rgba(60, 64, 67, 0.15);\n",
              "    fill: var(--button-hover-fill-color);\n",
              "  }\n",
              "\n",
              "  .colab-df-quickchart-complete:disabled,\n",
              "  .colab-df-quickchart-complete:disabled:hover {\n",
              "    background-color: var(--disabled-bg-color);\n",
              "    fill: var(--disabled-fill-color);\n",
              "    box-shadow: none;\n",
              "  }\n",
              "\n",
              "  .colab-df-spinner {\n",
              "    border: 2px solid var(--fill-color);\n",
              "    border-color: transparent;\n",
              "    border-bottom-color: var(--fill-color);\n",
              "    animation:\n",
              "      spin 1s steps(1) infinite;\n",
              "  }\n",
              "\n",
              "  @keyframes spin {\n",
              "    0% {\n",
              "      border-color: transparent;\n",
              "      border-bottom-color: var(--fill-color);\n",
              "      border-left-color: var(--fill-color);\n",
              "    }\n",
              "    20% {\n",
              "      border-color: transparent;\n",
              "      border-left-color: var(--fill-color);\n",
              "      border-top-color: var(--fill-color);\n",
              "    }\n",
              "    30% {\n",
              "      border-color: transparent;\n",
              "      border-left-color: var(--fill-color);\n",
              "      border-top-color: var(--fill-color);\n",
              "      border-right-color: var(--fill-color);\n",
              "    }\n",
              "    40% {\n",
              "      border-color: transparent;\n",
              "      border-right-color: var(--fill-color);\n",
              "      border-top-color: var(--fill-color);\n",
              "    }\n",
              "    60% {\n",
              "      border-color: transparent;\n",
              "      border-right-color: var(--fill-color);\n",
              "    }\n",
              "    80% {\n",
              "      border-color: transparent;\n",
              "      border-right-color: var(--fill-color);\n",
              "      border-bottom-color: var(--fill-color);\n",
              "    }\n",
              "    90% {\n",
              "      border-color: transparent;\n",
              "      border-bottom-color: var(--fill-color);\n",
              "    }\n",
              "  }\n",
              "</style>\n",
              "\n",
              "  <script>\n",
              "    async function quickchart(key) {\n",
              "      const quickchartButtonEl =\n",
              "        document.querySelector('#' + key + ' button');\n",
              "      quickchartButtonEl.disabled = true;  // To prevent multiple clicks.\n",
              "      quickchartButtonEl.classList.add('colab-df-spinner');\n",
              "      try {\n",
              "        const charts = await google.colab.kernel.invokeFunction(\n",
              "            'suggestCharts', [key], {});\n",
              "      } catch (error) {\n",
              "        console.error('Error during call to suggestCharts:', error);\n",
              "      }\n",
              "      quickchartButtonEl.classList.remove('colab-df-spinner');\n",
              "      quickchartButtonEl.classList.add('colab-df-quickchart-complete');\n",
              "    }\n",
              "    (() => {\n",
              "      let quickchartButtonEl =\n",
              "        document.querySelector('#df-21dc4d8d-4489-462b-8ca2-fad417e6be0b button');\n",
              "      quickchartButtonEl.style.display =\n",
              "        google.colab.kernel.accessAllowed ? 'block' : 'none';\n",
              "    })();\n",
              "  </script>\n",
              "</div>\n",
              "    </div>\n",
              "  </div>\n"
            ],
            "application/vnd.google.colaboratory.intrinsic+json": {
              "type": "dataframe",
              "repr_error": "0"
            }
          },
          "metadata": {},
          "execution_count": 179
        }
      ]
    },
    {
      "cell_type": "markdown",
      "source": [
        "В тексте нет повторяющихся строк. Однако есть дубликаты в названиях фильмов, что связано с многократной выдачей прокатных удостоверений на эти фильмы. К сожалению, мы не можем исправить эту ситуацию, так как это приведёт к потере номера прокатного удостоверения.\n",
        "\n",
        "Посмотрим на уникальность прокатных удостоверений."
      ],
      "metadata": {
        "id": "Y6UncVRLWm-O"
      }
    },
    {
      "cell_type": "code",
      "source": [
        "df_punums = df['puNumber'].value_counts()\n",
        "df_punums = df_punums.loc[df_punums > 1]\n",
        "df_punums"
      ],
      "metadata": {
        "colab": {
          "base_uri": "https://localhost:8080/"
        },
        "id": "gmovS4U3W1Sp",
        "outputId": "ae4a4fb4-470b-42be-c4f9-4a91d9deb63b"
      },
      "execution_count": 180,
      "outputs": [
        {
          "output_type": "execute_result",
          "data": {
            "text/plain": [
              "puNumber\n",
              "221154310    2\n",
              "221054410    2\n",
              "Name: count, dtype: int64"
            ]
          },
          "metadata": {},
          "execution_count": 180
        }
      ]
    },
    {
      "cell_type": "code",
      "source": [
        "df.loc[df['puNumber'].isin(df_punums.index)]"
      ],
      "metadata": {
        "colab": {
          "base_uri": "https://localhost:8080/",
          "height": 507
        },
        "id": "pACbPsPNZNwR",
        "outputId": "d63e9060-3a1b-4a22-b924-136e4ded2f10"
      },
      "execution_count": 181,
      "outputs": [
        {
          "output_type": "execute_result",
          "data": {
            "text/plain": [
              "                                                  title   puNumber  \\\n",
              "4638                   Как жениться и остаться холостым  221154310   \n",
              "4639  Иоанна - женщина на папском престоле /По роман...  221154310   \n",
              "5067                                    Анализируй это!  221054410   \n",
              "5068                                     Анализируй то!  221054410   \n",
              "\n",
              "         show_start_date            type  \\\n",
              "4638 2010-12-17 12:00:00  Художественный   \n",
              "4639 2010-12-17 12:00:00  Художественный   \n",
              "5067 2010-05-25 12:00:00  Художественный   \n",
              "5068 2010-05-25 12:00:00  Художественный   \n",
              "\n",
              "                                            film_studio  \\\n",
              "4638  Ше Вам, Скрипт Ассосье, Тэ Фэ 1 Фильм Продюксь...   \n",
              "4639   Константин Фильм, А Эр Ди Дегето Фильм, Дюне ...   \n",
              "5067          Уорнер Бразерс, Вилладж Роудшоу Филмз ЛТД   \n",
              "5068  Уорнер Бразерс, Виллидж Роадшоу Пикчерз, Эн-Пи...   \n",
              "\n",
              "                                production_country        director  \\\n",
              "4638                                       Франция    Эрик Лартиго   \n",
              "4639  Германия - Великобритания - Италия - Испания  Зенке Вортманн   \n",
              "5067                                 США-Австралия   ХЭрольд Рэмис   \n",
              "5068                                           США  Гарольд Реймис   \n",
              "\n",
              "                                        producer  \\\n",
              "4638                     Амандин Било, Алан Шаба   \n",
              "4639  Оливер Бербен, Дорис Д.Хайнце, Фарук Элтан   \n",
              "5067             Джейн Розенталь, Пола Уейнстейн   \n",
              "5068             Джейн Розенталь, Паул Уэйнстейн   \n",
              "\n",
              "                      age_restriction  refundable_support  \\\n",
              "4638  «16+» - для детей старше 16 лет                 NaN   \n",
              "4639  «16+» - для детей старше 16 лет                 NaN   \n",
              "5067  «16+» - для детей старше 16 лет                 NaN   \n",
              "5068  «12+» - для детей старше 12 лет                 NaN   \n",
              "\n",
              "      nonrefundable_support  budget financing_source  ratings  \\\n",
              "4638                    NaN     NaN              NaN      7.0   \n",
              "4639                    NaN     NaN              NaN      7.6   \n",
              "5067                    NaN     NaN              NaN      7.4   \n",
              "5068                    NaN     NaN              NaN      6.8   \n",
              "\n",
              "                       genres  box_office  \n",
              "4638        мелодрама,комедия         NaN  \n",
              "4639  драма,мелодрама,история         NaN  \n",
              "5067         комедия,криминал         NaN  \n",
              "5068         комедия,криминал         NaN  "
            ],
            "text/html": [
              "\n",
              "  <div id=\"df-e98f4dc1-846c-49e7-a5d7-f8a6777eeea5\" class=\"colab-df-container\">\n",
              "    <div>\n",
              "<style scoped>\n",
              "    .dataframe tbody tr th:only-of-type {\n",
              "        vertical-align: middle;\n",
              "    }\n",
              "\n",
              "    .dataframe tbody tr th {\n",
              "        vertical-align: top;\n",
              "    }\n",
              "\n",
              "    .dataframe thead th {\n",
              "        text-align: right;\n",
              "    }\n",
              "</style>\n",
              "<table border=\"1\" class=\"dataframe\">\n",
              "  <thead>\n",
              "    <tr style=\"text-align: right;\">\n",
              "      <th></th>\n",
              "      <th>title</th>\n",
              "      <th>puNumber</th>\n",
              "      <th>show_start_date</th>\n",
              "      <th>type</th>\n",
              "      <th>film_studio</th>\n",
              "      <th>production_country</th>\n",
              "      <th>director</th>\n",
              "      <th>producer</th>\n",
              "      <th>age_restriction</th>\n",
              "      <th>refundable_support</th>\n",
              "      <th>nonrefundable_support</th>\n",
              "      <th>budget</th>\n",
              "      <th>financing_source</th>\n",
              "      <th>ratings</th>\n",
              "      <th>genres</th>\n",
              "      <th>box_office</th>\n",
              "    </tr>\n",
              "  </thead>\n",
              "  <tbody>\n",
              "    <tr>\n",
              "      <th>4638</th>\n",
              "      <td>Как жениться и остаться холостым</td>\n",
              "      <td>221154310</td>\n",
              "      <td>2010-12-17 12:00:00</td>\n",
              "      <td>Художественный</td>\n",
              "      <td>Ше Вам, Скрипт Ассосье, Тэ Фэ 1 Фильм Продюксь...</td>\n",
              "      <td>Франция</td>\n",
              "      <td>Эрик Лартиго</td>\n",
              "      <td>Амандин Било, Алан Шаба</td>\n",
              "      <td>«16+» - для детей старше 16 лет</td>\n",
              "      <td>NaN</td>\n",
              "      <td>NaN</td>\n",
              "      <td>NaN</td>\n",
              "      <td>NaN</td>\n",
              "      <td>7.0</td>\n",
              "      <td>мелодрама,комедия</td>\n",
              "      <td>NaN</td>\n",
              "    </tr>\n",
              "    <tr>\n",
              "      <th>4639</th>\n",
              "      <td>Иоанна - женщина на папском престоле /По роман...</td>\n",
              "      <td>221154310</td>\n",
              "      <td>2010-12-17 12:00:00</td>\n",
              "      <td>Художественный</td>\n",
              "      <td>Константин Фильм, А Эр Ди Дегето Фильм, Дюне ...</td>\n",
              "      <td>Германия - Великобритания - Италия - Испания</td>\n",
              "      <td>Зенке Вортманн</td>\n",
              "      <td>Оливер Бербен, Дорис Д.Хайнце, Фарук Элтан</td>\n",
              "      <td>«16+» - для детей старше 16 лет</td>\n",
              "      <td>NaN</td>\n",
              "      <td>NaN</td>\n",
              "      <td>NaN</td>\n",
              "      <td>NaN</td>\n",
              "      <td>7.6</td>\n",
              "      <td>драма,мелодрама,история</td>\n",
              "      <td>NaN</td>\n",
              "    </tr>\n",
              "    <tr>\n",
              "      <th>5067</th>\n",
              "      <td>Анализируй это!</td>\n",
              "      <td>221054410</td>\n",
              "      <td>2010-05-25 12:00:00</td>\n",
              "      <td>Художественный</td>\n",
              "      <td>Уорнер Бразерс, Вилладж Роудшоу Филмз ЛТД</td>\n",
              "      <td>США-Австралия</td>\n",
              "      <td>ХЭрольд Рэмис</td>\n",
              "      <td>Джейн Розенталь, Пола Уейнстейн</td>\n",
              "      <td>«16+» - для детей старше 16 лет</td>\n",
              "      <td>NaN</td>\n",
              "      <td>NaN</td>\n",
              "      <td>NaN</td>\n",
              "      <td>NaN</td>\n",
              "      <td>7.4</td>\n",
              "      <td>комедия,криминал</td>\n",
              "      <td>NaN</td>\n",
              "    </tr>\n",
              "    <tr>\n",
              "      <th>5068</th>\n",
              "      <td>Анализируй то!</td>\n",
              "      <td>221054410</td>\n",
              "      <td>2010-05-25 12:00:00</td>\n",
              "      <td>Художественный</td>\n",
              "      <td>Уорнер Бразерс, Виллидж Роадшоу Пикчерз, Эн-Пи...</td>\n",
              "      <td>США</td>\n",
              "      <td>Гарольд Реймис</td>\n",
              "      <td>Джейн Розенталь, Паул Уэйнстейн</td>\n",
              "      <td>«12+» - для детей старше 12 лет</td>\n",
              "      <td>NaN</td>\n",
              "      <td>NaN</td>\n",
              "      <td>NaN</td>\n",
              "      <td>NaN</td>\n",
              "      <td>6.8</td>\n",
              "      <td>комедия,криминал</td>\n",
              "      <td>NaN</td>\n",
              "    </tr>\n",
              "  </tbody>\n",
              "</table>\n",
              "</div>\n",
              "    <div class=\"colab-df-buttons\">\n",
              "\n",
              "  <div class=\"colab-df-container\">\n",
              "    <button class=\"colab-df-convert\" onclick=\"convertToInteractive('df-e98f4dc1-846c-49e7-a5d7-f8a6777eeea5')\"\n",
              "            title=\"Convert this dataframe to an interactive table.\"\n",
              "            style=\"display:none;\">\n",
              "\n",
              "  <svg xmlns=\"http://www.w3.org/2000/svg\" height=\"24px\" viewBox=\"0 -960 960 960\">\n",
              "    <path d=\"M120-120v-720h720v720H120Zm60-500h600v-160H180v160Zm220 220h160v-160H400v160Zm0 220h160v-160H400v160ZM180-400h160v-160H180v160Zm440 0h160v-160H620v160ZM180-180h160v-160H180v160Zm440 0h160v-160H620v160Z\"/>\n",
              "  </svg>\n",
              "    </button>\n",
              "\n",
              "  <style>\n",
              "    .colab-df-container {\n",
              "      display:flex;\n",
              "      gap: 12px;\n",
              "    }\n",
              "\n",
              "    .colab-df-convert {\n",
              "      background-color: #E8F0FE;\n",
              "      border: none;\n",
              "      border-radius: 50%;\n",
              "      cursor: pointer;\n",
              "      display: none;\n",
              "      fill: #1967D2;\n",
              "      height: 32px;\n",
              "      padding: 0 0 0 0;\n",
              "      width: 32px;\n",
              "    }\n",
              "\n",
              "    .colab-df-convert:hover {\n",
              "      background-color: #E2EBFA;\n",
              "      box-shadow: 0px 1px 2px rgba(60, 64, 67, 0.3), 0px 1px 3px 1px rgba(60, 64, 67, 0.15);\n",
              "      fill: #174EA6;\n",
              "    }\n",
              "\n",
              "    .colab-df-buttons div {\n",
              "      margin-bottom: 4px;\n",
              "    }\n",
              "\n",
              "    [theme=dark] .colab-df-convert {\n",
              "      background-color: #3B4455;\n",
              "      fill: #D2E3FC;\n",
              "    }\n",
              "\n",
              "    [theme=dark] .colab-df-convert:hover {\n",
              "      background-color: #434B5C;\n",
              "      box-shadow: 0px 1px 3px 1px rgba(0, 0, 0, 0.15);\n",
              "      filter: drop-shadow(0px 1px 2px rgba(0, 0, 0, 0.3));\n",
              "      fill: #FFFFFF;\n",
              "    }\n",
              "  </style>\n",
              "\n",
              "    <script>\n",
              "      const buttonEl =\n",
              "        document.querySelector('#df-e98f4dc1-846c-49e7-a5d7-f8a6777eeea5 button.colab-df-convert');\n",
              "      buttonEl.style.display =\n",
              "        google.colab.kernel.accessAllowed ? 'block' : 'none';\n",
              "\n",
              "      async function convertToInteractive(key) {\n",
              "        const element = document.querySelector('#df-e98f4dc1-846c-49e7-a5d7-f8a6777eeea5');\n",
              "        const dataTable =\n",
              "          await google.colab.kernel.invokeFunction('convertToInteractive',\n",
              "                                                    [key], {});\n",
              "        if (!dataTable) return;\n",
              "\n",
              "        const docLinkHtml = 'Like what you see? Visit the ' +\n",
              "          '<a target=\"_blank\" href=https://colab.research.google.com/notebooks/data_table.ipynb>data table notebook</a>'\n",
              "          + ' to learn more about interactive tables.';\n",
              "        element.innerHTML = '';\n",
              "        dataTable['output_type'] = 'display_data';\n",
              "        await google.colab.output.renderOutput(dataTable, element);\n",
              "        const docLink = document.createElement('div');\n",
              "        docLink.innerHTML = docLinkHtml;\n",
              "        element.appendChild(docLink);\n",
              "      }\n",
              "    </script>\n",
              "  </div>\n",
              "\n",
              "\n",
              "<div id=\"df-95f3c4f6-3a2c-4a06-a0c5-ac537656246d\">\n",
              "  <button class=\"colab-df-quickchart\" onclick=\"quickchart('df-95f3c4f6-3a2c-4a06-a0c5-ac537656246d')\"\n",
              "            title=\"Suggest charts\"\n",
              "            style=\"display:none;\">\n",
              "\n",
              "<svg xmlns=\"http://www.w3.org/2000/svg\" height=\"24px\"viewBox=\"0 0 24 24\"\n",
              "     width=\"24px\">\n",
              "    <g>\n",
              "        <path d=\"M19 3H5c-1.1 0-2 .9-2 2v14c0 1.1.9 2 2 2h14c1.1 0 2-.9 2-2V5c0-1.1-.9-2-2-2zM9 17H7v-7h2v7zm4 0h-2V7h2v10zm4 0h-2v-4h2v4z\"/>\n",
              "    </g>\n",
              "</svg>\n",
              "  </button>\n",
              "\n",
              "<style>\n",
              "  .colab-df-quickchart {\n",
              "      --bg-color: #E8F0FE;\n",
              "      --fill-color: #1967D2;\n",
              "      --hover-bg-color: #E2EBFA;\n",
              "      --hover-fill-color: #174EA6;\n",
              "      --disabled-fill-color: #AAA;\n",
              "      --disabled-bg-color: #DDD;\n",
              "  }\n",
              "\n",
              "  [theme=dark] .colab-df-quickchart {\n",
              "      --bg-color: #3B4455;\n",
              "      --fill-color: #D2E3FC;\n",
              "      --hover-bg-color: #434B5C;\n",
              "      --hover-fill-color: #FFFFFF;\n",
              "      --disabled-bg-color: #3B4455;\n",
              "      --disabled-fill-color: #666;\n",
              "  }\n",
              "\n",
              "  .colab-df-quickchart {\n",
              "    background-color: var(--bg-color);\n",
              "    border: none;\n",
              "    border-radius: 50%;\n",
              "    cursor: pointer;\n",
              "    display: none;\n",
              "    fill: var(--fill-color);\n",
              "    height: 32px;\n",
              "    padding: 0;\n",
              "    width: 32px;\n",
              "  }\n",
              "\n",
              "  .colab-df-quickchart:hover {\n",
              "    background-color: var(--hover-bg-color);\n",
              "    box-shadow: 0 1px 2px rgba(60, 64, 67, 0.3), 0 1px 3px 1px rgba(60, 64, 67, 0.15);\n",
              "    fill: var(--button-hover-fill-color);\n",
              "  }\n",
              "\n",
              "  .colab-df-quickchart-complete:disabled,\n",
              "  .colab-df-quickchart-complete:disabled:hover {\n",
              "    background-color: var(--disabled-bg-color);\n",
              "    fill: var(--disabled-fill-color);\n",
              "    box-shadow: none;\n",
              "  }\n",
              "\n",
              "  .colab-df-spinner {\n",
              "    border: 2px solid var(--fill-color);\n",
              "    border-color: transparent;\n",
              "    border-bottom-color: var(--fill-color);\n",
              "    animation:\n",
              "      spin 1s steps(1) infinite;\n",
              "  }\n",
              "\n",
              "  @keyframes spin {\n",
              "    0% {\n",
              "      border-color: transparent;\n",
              "      border-bottom-color: var(--fill-color);\n",
              "      border-left-color: var(--fill-color);\n",
              "    }\n",
              "    20% {\n",
              "      border-color: transparent;\n",
              "      border-left-color: var(--fill-color);\n",
              "      border-top-color: var(--fill-color);\n",
              "    }\n",
              "    30% {\n",
              "      border-color: transparent;\n",
              "      border-left-color: var(--fill-color);\n",
              "      border-top-color: var(--fill-color);\n",
              "      border-right-color: var(--fill-color);\n",
              "    }\n",
              "    40% {\n",
              "      border-color: transparent;\n",
              "      border-right-color: var(--fill-color);\n",
              "      border-top-color: var(--fill-color);\n",
              "    }\n",
              "    60% {\n",
              "      border-color: transparent;\n",
              "      border-right-color: var(--fill-color);\n",
              "    }\n",
              "    80% {\n",
              "      border-color: transparent;\n",
              "      border-right-color: var(--fill-color);\n",
              "      border-bottom-color: var(--fill-color);\n",
              "    }\n",
              "    90% {\n",
              "      border-color: transparent;\n",
              "      border-bottom-color: var(--fill-color);\n",
              "    }\n",
              "  }\n",
              "</style>\n",
              "\n",
              "  <script>\n",
              "    async function quickchart(key) {\n",
              "      const quickchartButtonEl =\n",
              "        document.querySelector('#' + key + ' button');\n",
              "      quickchartButtonEl.disabled = true;  // To prevent multiple clicks.\n",
              "      quickchartButtonEl.classList.add('colab-df-spinner');\n",
              "      try {\n",
              "        const charts = await google.colab.kernel.invokeFunction(\n",
              "            'suggestCharts', [key], {});\n",
              "      } catch (error) {\n",
              "        console.error('Error during call to suggestCharts:', error);\n",
              "      }\n",
              "      quickchartButtonEl.classList.remove('colab-df-spinner');\n",
              "      quickchartButtonEl.classList.add('colab-df-quickchart-complete');\n",
              "    }\n",
              "    (() => {\n",
              "      let quickchartButtonEl =\n",
              "        document.querySelector('#df-95f3c4f6-3a2c-4a06-a0c5-ac537656246d button');\n",
              "      quickchartButtonEl.style.display =\n",
              "        google.colab.kernel.accessAllowed ? 'block' : 'none';\n",
              "    })();\n",
              "  </script>\n",
              "</div>\n",
              "    </div>\n",
              "  </div>\n"
            ],
            "application/vnd.google.colaboratory.intrinsic+json": {
              "type": "dataframe",
              "repr_error": "0"
            }
          },
          "metadata": {},
          "execution_count": 181
        }
      ]
    },
    {
      "cell_type": "markdown",
      "source": [
        "Вероятно, в номерах прокатных удостоверений есть дубликаты из-за того, что под одним и тем же удостоверением в прокат выходили несколько фильмов. Возможно, эти фильмы демонстрировались один за другим. По крайней мере, в реестре на официальном сайте два фильма указаны под одним номером."
      ],
      "metadata": {
        "id": "wR7o_g9wZ-nh"
      }
    },
    {
      "cell_type": "markdown",
      "metadata": {
        "id": "52fOPrEBgFyQ"
      },
      "source": [
        "#### Шаг 2.4. Изучите категориальные значения\n",
        "\n",
        "- Посмотрите, какая общая проблема встречается почти во всех категориальных столбцах;\n",
        "- Исправьте проблемные значения в поле `type`.\n",
        "\n",
        "<div id=\"accordion\">\n",
        "    <div class=\"card\">\n",
        "        <div class=\"card-header\" id=\"headingThree\">\n",
        "            <button class=\"btn btn-link collapsed\" data-toggle=\"collapse\" data-target=\"#collapseHint_1\" aria-expanded=\"false\" aria-controls=\"collapseHint_1\">Подсказка</button>\n",
        "        </div>\n",
        "        <div id=\"collapseHint_1\" class=\"collapse\" aria-labelledby=\"headingThree\" data-parent=\"#accordion\">\n",
        "            <div class=\"card-body\">\n",
        "В поле <code>type</code> есть несколько значений, у которых появился пробел в начале строки. Самый простой способ их «починить» -- использовать метод <a href=\"https://pandas.pydata.org/docs/reference/api/pandas.Series.str.strip.html#pandas.Series.str.strip\">.str.strip</a>. Этот метод удаляет все пробелы, которые встречаются в начале и в конце строки. Применяют его таким образом:<br>\n",
        "<code>df['type'].str.strip()</code>\n",
        "            </div>\n",
        "        </div>\n",
        "    </div>\n",
        "</div>"
      ]
    },
    {
      "cell_type": "code",
      "execution_count": 182,
      "metadata": {
        "id": "PnXKIVdFgFyR",
        "colab": {
          "base_uri": "https://localhost:8080/"
        },
        "outputId": "ed6f36cf-35c7-4480-c86e-7e69afa72251"
      },
      "outputs": [
        {
          "output_type": "execute_result",
          "data": {
            "text/plain": [
              "type\n",
              "Художественный                4290\n",
              " Художественный               1228\n",
              "Анимационный                   568\n",
              "Прочие                         208\n",
              "Документальный                 159\n",
              "Научно-популярный               35\n",
              " Анимационный                    1\n",
              "Музыкально-развлекательный       1\n",
              "Name: count, dtype: int64"
            ]
          },
          "metadata": {},
          "execution_count": 182
        }
      ],
      "source": [
        "df['type'].value_counts()"
      ]
    },
    {
      "cell_type": "markdown",
      "source": [
        "Проблема с лишними пробелами видна невооруженным глазом."
      ],
      "metadata": {
        "id": "MYMyFVLEf2_u"
      }
    },
    {
      "cell_type": "code",
      "source": [
        "df['type'] = df['type'].str.strip()\n",
        "df['type'].value_counts()"
      ],
      "metadata": {
        "colab": {
          "base_uri": "https://localhost:8080/"
        },
        "id": "84pCSgoIf_cW",
        "outputId": "366b85d1-2479-4b7a-be57-9711f4d8e493"
      },
      "execution_count": 183,
      "outputs": [
        {
          "output_type": "execute_result",
          "data": {
            "text/plain": [
              "type\n",
              "Художественный                5518\n",
              "Анимационный                   569\n",
              "Прочие                         208\n",
              "Документальный                 159\n",
              "Научно-популярный               35\n",
              "Музыкально-развлекательный       1\n",
              "Name: count, dtype: int64"
            ]
          },
          "metadata": {},
          "execution_count": 183
        }
      ]
    },
    {
      "cell_type": "markdown",
      "source": [
        "Рассмотрим остальные категриальные столбцы:\n",
        "\n",
        "- age_restriction\n",
        "- financing_source\n",
        "- film_studio — студия-производитель\n",
        "- director — режиссёр\n",
        "- producer — продюсер\n",
        "- genres — жанр фильма\n",
        "\n"
      ],
      "metadata": {
        "id": "TreH1W3AgHy1"
      }
    },
    {
      "cell_type": "code",
      "source": [
        "arr_categoreis_columns = ['age_restriction', 'financing_source',\n",
        "                          'film_studio', 'director', 'producer', 'genres']"
      ],
      "metadata": {
        "id": "r7A2TR_ihBkM"
      },
      "execution_count": 184,
      "outputs": []
    },
    {
      "cell_type": "code",
      "source": [
        "print('Есть ли пробелы в нчале значений указаыннх категориальных столбцов.')\n",
        "arr_categoreis_with_space = []\n",
        "for col in arr_categoreis_columns:\n",
        "    has_space = df[col].str.startswith(' ').any()\n",
        "    print(f\"{col}: {'есть пробелы' if has_space else '-'}\")\n",
        "\n",
        "    if has_space:\n",
        "        arr_categoreis_with_space += [col]\n",
        "\n",
        "print(f'\\nИтоговый список столбцов с пробелами:\\n{arr_categoreis_with_space}')"
      ],
      "metadata": {
        "colab": {
          "base_uri": "https://localhost:8080/"
        },
        "id": "DjNqwR7Qht5_",
        "outputId": "8b2028cf-6cf7-4adb-b9f9-2f973ebbe6d5"
      },
      "execution_count": 185,
      "outputs": [
        {
          "output_type": "stream",
          "name": "stdout",
          "text": [
            "Есть ли пробелы в нчале значений указаыннх категориальных столбцов.\n",
            "age_restriction: -\n",
            "financing_source: -\n",
            "film_studio: есть пробелы\n",
            "director: есть пробелы\n",
            "producer: есть пробелы\n",
            "genres: -\n",
            "\n",
            "Итоговый список столбцов с пробелами:\n",
            "['film_studio', 'director', 'producer']\n"
          ]
        }
      ]
    },
    {
      "cell_type": "code",
      "source": [
        "for col in arr_categoreis_with_space:\n",
        "    df[col] = df[col].str.strip()"
      ],
      "metadata": {
        "id": "wTkuxWR7khMK"
      },
      "execution_count": 186,
      "outputs": []
    },
    {
      "cell_type": "markdown",
      "metadata": {
        "id": "XFSN5lrEgFyR"
      },
      "source": [
        "#### Шаг 2.5. Проверьте количественные значения\n",
        "\n",
        "- Проверьте, обнаружились ли в таких столбцах подозрительные данные. Как с такими данными лучше поступить?\n",
        "\n",
        "<div id=\"accordion\">\n",
        "    <div class=\"card\">\n",
        "        <div class=\"card-header\" id=\"headingThree\">\n",
        "            <button class=\"btn btn-link collapsed\" data-toggle=\"collapse\" data-target=\"#collapseHint_budget\" aria-expanded=\"false\" aria-controls=\"collapseHint_budget\">Подсказка</button>\n",
        "        </div>\n",
        "        <div id=\"collapseHint_budget\" class=\"collapse\" aria-labelledby=\"headingThree\" data-parent=\"#accordion\">\n",
        "            <div class=\"card-body\">\n",
        "Обратите внимание на описание столбца <code>budget</code>. Как этот столбец соотносится с двумя другими: <code>refundable_support</code> и <code>nonrefundable_support</code>?\n",
        "            </div>\n",
        "        </div>\n",
        "    </div>\n",
        "</div>"
      ]
    },
    {
      "cell_type": "markdown",
      "source": [
        "Количественные значения:\n",
        "\n",
        "- ratings\n",
        "- refundable_support — объём возвратных средств государственной поддержки;\n",
        "- nonrefundable_support — объём невозвратных средств государственной поддержки;\n",
        "- budget — общий бюджет фильма;\n",
        "- box_office — сборы в рублях."
      ],
      "metadata": {
        "id": "yCgDMcfCmLa8"
      }
    },
    {
      "cell_type": "code",
      "execution_count": 187,
      "metadata": {
        "id": "YbzClBxagFyS",
        "colab": {
          "base_uri": "https://localhost:8080/",
          "height": 300
        },
        "outputId": "15cf6f3d-c06a-4437-f0e0-5237fb422440"
      },
      "outputs": [
        {
          "output_type": "execute_result",
          "data": {
            "text/plain": [
              "       refundable_support  nonrefundable_support        budget    box_office  \\\n",
              "count        3.140000e+02           3.140000e+02  3.140000e+02  2.899000e+03   \n",
              "mean         1.232166e+07           4.977076e+07  1.313466e+08  8.003072e+07   \n",
              "std          2.546111e+07           6.122000e+07  1.929207e+08  2.461491e+08   \n",
              "min          0.000000e+00           0.000000e+00  0.000000e+00  0.000000e+00   \n",
              "25%          0.000000e+00           2.500000e+07  4.289500e+07  8.297700e+04   \n",
              "50%          0.000000e+00           3.000000e+07  7.059059e+07  2.617932e+06   \n",
              "75%          1.500000e+07           4.412500e+07  1.500064e+08  2.859579e+07   \n",
              "max          1.800000e+08           4.000000e+08  2.305074e+09  3.073569e+09   \n",
              "\n",
              "           ratings  \n",
              "count  6490.000000  \n",
              "mean      6.479245  \n",
              "std       1.101665  \n",
              "min       1.000000  \n",
              "25%       5.900000  \n",
              "50%       6.600000  \n",
              "75%       7.200000  \n",
              "max       9.200000  "
            ],
            "text/html": [
              "\n",
              "  <div id=\"df-2bd0d2ea-2b01-4d7c-a92c-f0eeeb582b0c\" class=\"colab-df-container\">\n",
              "    <div>\n",
              "<style scoped>\n",
              "    .dataframe tbody tr th:only-of-type {\n",
              "        vertical-align: middle;\n",
              "    }\n",
              "\n",
              "    .dataframe tbody tr th {\n",
              "        vertical-align: top;\n",
              "    }\n",
              "\n",
              "    .dataframe thead th {\n",
              "        text-align: right;\n",
              "    }\n",
              "</style>\n",
              "<table border=\"1\" class=\"dataframe\">\n",
              "  <thead>\n",
              "    <tr style=\"text-align: right;\">\n",
              "      <th></th>\n",
              "      <th>refundable_support</th>\n",
              "      <th>nonrefundable_support</th>\n",
              "      <th>budget</th>\n",
              "      <th>box_office</th>\n",
              "      <th>ratings</th>\n",
              "    </tr>\n",
              "  </thead>\n",
              "  <tbody>\n",
              "    <tr>\n",
              "      <th>count</th>\n",
              "      <td>3.140000e+02</td>\n",
              "      <td>3.140000e+02</td>\n",
              "      <td>3.140000e+02</td>\n",
              "      <td>2.899000e+03</td>\n",
              "      <td>6490.000000</td>\n",
              "    </tr>\n",
              "    <tr>\n",
              "      <th>mean</th>\n",
              "      <td>1.232166e+07</td>\n",
              "      <td>4.977076e+07</td>\n",
              "      <td>1.313466e+08</td>\n",
              "      <td>8.003072e+07</td>\n",
              "      <td>6.479245</td>\n",
              "    </tr>\n",
              "    <tr>\n",
              "      <th>std</th>\n",
              "      <td>2.546111e+07</td>\n",
              "      <td>6.122000e+07</td>\n",
              "      <td>1.929207e+08</td>\n",
              "      <td>2.461491e+08</td>\n",
              "      <td>1.101665</td>\n",
              "    </tr>\n",
              "    <tr>\n",
              "      <th>min</th>\n",
              "      <td>0.000000e+00</td>\n",
              "      <td>0.000000e+00</td>\n",
              "      <td>0.000000e+00</td>\n",
              "      <td>0.000000e+00</td>\n",
              "      <td>1.000000</td>\n",
              "    </tr>\n",
              "    <tr>\n",
              "      <th>25%</th>\n",
              "      <td>0.000000e+00</td>\n",
              "      <td>2.500000e+07</td>\n",
              "      <td>4.289500e+07</td>\n",
              "      <td>8.297700e+04</td>\n",
              "      <td>5.900000</td>\n",
              "    </tr>\n",
              "    <tr>\n",
              "      <th>50%</th>\n",
              "      <td>0.000000e+00</td>\n",
              "      <td>3.000000e+07</td>\n",
              "      <td>7.059059e+07</td>\n",
              "      <td>2.617932e+06</td>\n",
              "      <td>6.600000</td>\n",
              "    </tr>\n",
              "    <tr>\n",
              "      <th>75%</th>\n",
              "      <td>1.500000e+07</td>\n",
              "      <td>4.412500e+07</td>\n",
              "      <td>1.500064e+08</td>\n",
              "      <td>2.859579e+07</td>\n",
              "      <td>7.200000</td>\n",
              "    </tr>\n",
              "    <tr>\n",
              "      <th>max</th>\n",
              "      <td>1.800000e+08</td>\n",
              "      <td>4.000000e+08</td>\n",
              "      <td>2.305074e+09</td>\n",
              "      <td>3.073569e+09</td>\n",
              "      <td>9.200000</td>\n",
              "    </tr>\n",
              "  </tbody>\n",
              "</table>\n",
              "</div>\n",
              "    <div class=\"colab-df-buttons\">\n",
              "\n",
              "  <div class=\"colab-df-container\">\n",
              "    <button class=\"colab-df-convert\" onclick=\"convertToInteractive('df-2bd0d2ea-2b01-4d7c-a92c-f0eeeb582b0c')\"\n",
              "            title=\"Convert this dataframe to an interactive table.\"\n",
              "            style=\"display:none;\">\n",
              "\n",
              "  <svg xmlns=\"http://www.w3.org/2000/svg\" height=\"24px\" viewBox=\"0 -960 960 960\">\n",
              "    <path d=\"M120-120v-720h720v720H120Zm60-500h600v-160H180v160Zm220 220h160v-160H400v160Zm0 220h160v-160H400v160ZM180-400h160v-160H180v160Zm440 0h160v-160H620v160ZM180-180h160v-160H180v160Zm440 0h160v-160H620v160Z\"/>\n",
              "  </svg>\n",
              "    </button>\n",
              "\n",
              "  <style>\n",
              "    .colab-df-container {\n",
              "      display:flex;\n",
              "      gap: 12px;\n",
              "    }\n",
              "\n",
              "    .colab-df-convert {\n",
              "      background-color: #E8F0FE;\n",
              "      border: none;\n",
              "      border-radius: 50%;\n",
              "      cursor: pointer;\n",
              "      display: none;\n",
              "      fill: #1967D2;\n",
              "      height: 32px;\n",
              "      padding: 0 0 0 0;\n",
              "      width: 32px;\n",
              "    }\n",
              "\n",
              "    .colab-df-convert:hover {\n",
              "      background-color: #E2EBFA;\n",
              "      box-shadow: 0px 1px 2px rgba(60, 64, 67, 0.3), 0px 1px 3px 1px rgba(60, 64, 67, 0.15);\n",
              "      fill: #174EA6;\n",
              "    }\n",
              "\n",
              "    .colab-df-buttons div {\n",
              "      margin-bottom: 4px;\n",
              "    }\n",
              "\n",
              "    [theme=dark] .colab-df-convert {\n",
              "      background-color: #3B4455;\n",
              "      fill: #D2E3FC;\n",
              "    }\n",
              "\n",
              "    [theme=dark] .colab-df-convert:hover {\n",
              "      background-color: #434B5C;\n",
              "      box-shadow: 0px 1px 3px 1px rgba(0, 0, 0, 0.15);\n",
              "      filter: drop-shadow(0px 1px 2px rgba(0, 0, 0, 0.3));\n",
              "      fill: #FFFFFF;\n",
              "    }\n",
              "  </style>\n",
              "\n",
              "    <script>\n",
              "      const buttonEl =\n",
              "        document.querySelector('#df-2bd0d2ea-2b01-4d7c-a92c-f0eeeb582b0c button.colab-df-convert');\n",
              "      buttonEl.style.display =\n",
              "        google.colab.kernel.accessAllowed ? 'block' : 'none';\n",
              "\n",
              "      async function convertToInteractive(key) {\n",
              "        const element = document.querySelector('#df-2bd0d2ea-2b01-4d7c-a92c-f0eeeb582b0c');\n",
              "        const dataTable =\n",
              "          await google.colab.kernel.invokeFunction('convertToInteractive',\n",
              "                                                    [key], {});\n",
              "        if (!dataTable) return;\n",
              "\n",
              "        const docLinkHtml = 'Like what you see? Visit the ' +\n",
              "          '<a target=\"_blank\" href=https://colab.research.google.com/notebooks/data_table.ipynb>data table notebook</a>'\n",
              "          + ' to learn more about interactive tables.';\n",
              "        element.innerHTML = '';\n",
              "        dataTable['output_type'] = 'display_data';\n",
              "        await google.colab.output.renderOutput(dataTable, element);\n",
              "        const docLink = document.createElement('div');\n",
              "        docLink.innerHTML = docLinkHtml;\n",
              "        element.appendChild(docLink);\n",
              "      }\n",
              "    </script>\n",
              "  </div>\n",
              "\n",
              "\n",
              "<div id=\"df-e80e369a-09ef-465d-a68f-5f9baf4ad469\">\n",
              "  <button class=\"colab-df-quickchart\" onclick=\"quickchart('df-e80e369a-09ef-465d-a68f-5f9baf4ad469')\"\n",
              "            title=\"Suggest charts\"\n",
              "            style=\"display:none;\">\n",
              "\n",
              "<svg xmlns=\"http://www.w3.org/2000/svg\" height=\"24px\"viewBox=\"0 0 24 24\"\n",
              "     width=\"24px\">\n",
              "    <g>\n",
              "        <path d=\"M19 3H5c-1.1 0-2 .9-2 2v14c0 1.1.9 2 2 2h14c1.1 0 2-.9 2-2V5c0-1.1-.9-2-2-2zM9 17H7v-7h2v7zm4 0h-2V7h2v10zm4 0h-2v-4h2v4z\"/>\n",
              "    </g>\n",
              "</svg>\n",
              "  </button>\n",
              "\n",
              "<style>\n",
              "  .colab-df-quickchart {\n",
              "      --bg-color: #E8F0FE;\n",
              "      --fill-color: #1967D2;\n",
              "      --hover-bg-color: #E2EBFA;\n",
              "      --hover-fill-color: #174EA6;\n",
              "      --disabled-fill-color: #AAA;\n",
              "      --disabled-bg-color: #DDD;\n",
              "  }\n",
              "\n",
              "  [theme=dark] .colab-df-quickchart {\n",
              "      --bg-color: #3B4455;\n",
              "      --fill-color: #D2E3FC;\n",
              "      --hover-bg-color: #434B5C;\n",
              "      --hover-fill-color: #FFFFFF;\n",
              "      --disabled-bg-color: #3B4455;\n",
              "      --disabled-fill-color: #666;\n",
              "  }\n",
              "\n",
              "  .colab-df-quickchart {\n",
              "    background-color: var(--bg-color);\n",
              "    border: none;\n",
              "    border-radius: 50%;\n",
              "    cursor: pointer;\n",
              "    display: none;\n",
              "    fill: var(--fill-color);\n",
              "    height: 32px;\n",
              "    padding: 0;\n",
              "    width: 32px;\n",
              "  }\n",
              "\n",
              "  .colab-df-quickchart:hover {\n",
              "    background-color: var(--hover-bg-color);\n",
              "    box-shadow: 0 1px 2px rgba(60, 64, 67, 0.3), 0 1px 3px 1px rgba(60, 64, 67, 0.15);\n",
              "    fill: var(--button-hover-fill-color);\n",
              "  }\n",
              "\n",
              "  .colab-df-quickchart-complete:disabled,\n",
              "  .colab-df-quickchart-complete:disabled:hover {\n",
              "    background-color: var(--disabled-bg-color);\n",
              "    fill: var(--disabled-fill-color);\n",
              "    box-shadow: none;\n",
              "  }\n",
              "\n",
              "  .colab-df-spinner {\n",
              "    border: 2px solid var(--fill-color);\n",
              "    border-color: transparent;\n",
              "    border-bottom-color: var(--fill-color);\n",
              "    animation:\n",
              "      spin 1s steps(1) infinite;\n",
              "  }\n",
              "\n",
              "  @keyframes spin {\n",
              "    0% {\n",
              "      border-color: transparent;\n",
              "      border-bottom-color: var(--fill-color);\n",
              "      border-left-color: var(--fill-color);\n",
              "    }\n",
              "    20% {\n",
              "      border-color: transparent;\n",
              "      border-left-color: var(--fill-color);\n",
              "      border-top-color: var(--fill-color);\n",
              "    }\n",
              "    30% {\n",
              "      border-color: transparent;\n",
              "      border-left-color: var(--fill-color);\n",
              "      border-top-color: var(--fill-color);\n",
              "      border-right-color: var(--fill-color);\n",
              "    }\n",
              "    40% {\n",
              "      border-color: transparent;\n",
              "      border-right-color: var(--fill-color);\n",
              "      border-top-color: var(--fill-color);\n",
              "    }\n",
              "    60% {\n",
              "      border-color: transparent;\n",
              "      border-right-color: var(--fill-color);\n",
              "    }\n",
              "    80% {\n",
              "      border-color: transparent;\n",
              "      border-right-color: var(--fill-color);\n",
              "      border-bottom-color: var(--fill-color);\n",
              "    }\n",
              "    90% {\n",
              "      border-color: transparent;\n",
              "      border-bottom-color: var(--fill-color);\n",
              "    }\n",
              "  }\n",
              "</style>\n",
              "\n",
              "  <script>\n",
              "    async function quickchart(key) {\n",
              "      const quickchartButtonEl =\n",
              "        document.querySelector('#' + key + ' button');\n",
              "      quickchartButtonEl.disabled = true;  // To prevent multiple clicks.\n",
              "      quickchartButtonEl.classList.add('colab-df-spinner');\n",
              "      try {\n",
              "        const charts = await google.colab.kernel.invokeFunction(\n",
              "            'suggestCharts', [key], {});\n",
              "      } catch (error) {\n",
              "        console.error('Error during call to suggestCharts:', error);\n",
              "      }\n",
              "      quickchartButtonEl.classList.remove('colab-df-spinner');\n",
              "      quickchartButtonEl.classList.add('colab-df-quickchart-complete');\n",
              "    }\n",
              "    (() => {\n",
              "      let quickchartButtonEl =\n",
              "        document.querySelector('#df-e80e369a-09ef-465d-a68f-5f9baf4ad469 button');\n",
              "      quickchartButtonEl.style.display =\n",
              "        google.colab.kernel.accessAllowed ? 'block' : 'none';\n",
              "    })();\n",
              "  </script>\n",
              "</div>\n",
              "    </div>\n",
              "  </div>\n"
            ],
            "application/vnd.google.colaboratory.intrinsic+json": {
              "type": "dataframe",
              "summary": "{\n  \"name\": \"df[arr_columns_quant]\",\n  \"rows\": 8,\n  \"fields\": [\n    {\n      \"column\": \"refundable_support\",\n      \"properties\": {\n        \"dtype\": \"number\",\n        \"std\": 61703896.6618949,\n        \"min\": 0.0,\n        \"max\": 180000000.0,\n        \"num_unique_values\": 6,\n        \"samples\": [\n          314.0,\n          12321656.050955415,\n          180000000.0\n        ],\n        \"semantic_type\": \"\",\n        \"description\": \"\"\n      }\n    },\n    {\n      \"column\": \"nonrefundable_support\",\n      \"properties\": {\n        \"dtype\": \"number\",\n        \"std\": 132647131.0470771,\n        \"min\": 0.0,\n        \"max\": 400000000.0,\n        \"num_unique_values\": 8,\n        \"samples\": [\n          49770760.65923567,\n          30000000.0,\n          314.0\n        ],\n        \"semantic_type\": \"\",\n        \"description\": \"\"\n      }\n    },\n    {\n      \"column\": \"budget\",\n      \"properties\": {\n        \"dtype\": \"number\",\n        \"std\": 788407234.3762985,\n        \"min\": 0.0,\n        \"max\": 2305074303.0,\n        \"num_unique_values\": 8,\n        \"samples\": [\n          131346630.64012739,\n          70590586.0,\n          314.0\n        ],\n        \"semantic_type\": \"\",\n        \"description\": \"\"\n      }\n    },\n    {\n      \"column\": \"box_office\",\n      \"properties\": {\n        \"dtype\": \"number\",\n        \"std\": 1071922969.3444867,\n        \"min\": 0.0,\n        \"max\": 3073568690.79,\n        \"num_unique_values\": 8,\n        \"samples\": [\n          80030721.41238013,\n          2617932.5,\n          2899.0\n        ],\n        \"semantic_type\": \"\",\n        \"description\": \"\"\n      }\n    },\n    {\n      \"column\": \"ratings\",\n      \"properties\": {\n        \"dtype\": \"number\",\n        \"std\": 2292.670251220561,\n        \"min\": 1.0,\n        \"max\": 6490.0,\n        \"num_unique_values\": 8,\n        \"samples\": [\n          6.479244992295841,\n          6.6,\n          6490.0\n        ],\n        \"semantic_type\": \"\",\n        \"description\": \"\"\n      }\n    }\n  ]\n}"
            }
          },
          "metadata": {},
          "execution_count": 187
        }
      ],
      "source": [
        "arr_columns_quant = ['refundable_support',\n",
        "                     'nonrefundable_support', 'budget', 'box_office', 'ratings']\n",
        "\n",
        "df[arr_columns_quant].describe()"
      ]
    },
    {
      "cell_type": "markdown",
      "source": [
        "Заметим, что существуют фильмы, снятые при минимальном бюджете. Рассмотрим эти показатели."
      ],
      "metadata": {
        "id": "IAR-Ittn7dNt"
      }
    },
    {
      "cell_type": "code",
      "source": [
        "df[df['budget'] == 0].describe()"
      ],
      "metadata": {
        "colab": {
          "base_uri": "https://localhost:8080/",
          "height": 300
        },
        "id": "tWdlmsNa7jrY",
        "outputId": "9c8797ff-0101-4aa8-e2e7-3e6e27c9de3b"
      },
      "execution_count": 188,
      "outputs": [
        {
          "output_type": "execute_result",
          "data": {
            "text/plain": [
              "           puNumber      show_start_date  refundable_support  \\\n",
              "count  1.600000e+01                   16        1.600000e+01   \n",
              "mean   1.119460e+08  2016-09-01 22:30:00        1.775000e+07   \n",
              "min    1.110004e+08  2014-12-19 12:00:00        0.000000e+00   \n",
              "25%    1.110093e+08  2015-07-10 18:00:00        0.000000e+00   \n",
              "50%    1.110172e+08  2016-03-31 00:00:00        1.450000e+07   \n",
              "75%    1.140012e+08  2017-08-21 06:00:00        2.125000e+07   \n",
              "max    1.140030e+08  2019-04-20 12:00:00        6.000000e+07   \n",
              "std    1.431626e+06                  NaN        2.024022e+07   \n",
              "\n",
              "       nonrefundable_support  budget    ratings    box_office  \n",
              "count           1.600000e+01    16.0  16.000000  1.600000e+01  \n",
              "mean            6.056250e+07     0.0   5.725000  1.732500e+08  \n",
              "min             0.000000e+00     0.0   4.300000  1.957739e+06  \n",
              "25%             2.225000e+07     0.0   5.075000  5.394400e+07  \n",
              "50%             4.550000e+07     0.0   5.700000  7.815206e+07  \n",
              "75%             7.125000e+07     0.0   6.300000  1.875088e+08  \n",
              "max             2.500000e+08     0.0   7.800000  1.038321e+09  \n",
              "std             6.011763e+07     0.0   0.916151  2.557514e+08  "
            ],
            "text/html": [
              "\n",
              "  <div id=\"df-339f8d66-1161-457d-a09e-bd136a427ef1\" class=\"colab-df-container\">\n",
              "    <div>\n",
              "<style scoped>\n",
              "    .dataframe tbody tr th:only-of-type {\n",
              "        vertical-align: middle;\n",
              "    }\n",
              "\n",
              "    .dataframe tbody tr th {\n",
              "        vertical-align: top;\n",
              "    }\n",
              "\n",
              "    .dataframe thead th {\n",
              "        text-align: right;\n",
              "    }\n",
              "</style>\n",
              "<table border=\"1\" class=\"dataframe\">\n",
              "  <thead>\n",
              "    <tr style=\"text-align: right;\">\n",
              "      <th></th>\n",
              "      <th>puNumber</th>\n",
              "      <th>show_start_date</th>\n",
              "      <th>refundable_support</th>\n",
              "      <th>nonrefundable_support</th>\n",
              "      <th>budget</th>\n",
              "      <th>ratings</th>\n",
              "      <th>box_office</th>\n",
              "    </tr>\n",
              "  </thead>\n",
              "  <tbody>\n",
              "    <tr>\n",
              "      <th>count</th>\n",
              "      <td>1.600000e+01</td>\n",
              "      <td>16</td>\n",
              "      <td>1.600000e+01</td>\n",
              "      <td>1.600000e+01</td>\n",
              "      <td>16.0</td>\n",
              "      <td>16.000000</td>\n",
              "      <td>1.600000e+01</td>\n",
              "    </tr>\n",
              "    <tr>\n",
              "      <th>mean</th>\n",
              "      <td>1.119460e+08</td>\n",
              "      <td>2016-09-01 22:30:00</td>\n",
              "      <td>1.775000e+07</td>\n",
              "      <td>6.056250e+07</td>\n",
              "      <td>0.0</td>\n",
              "      <td>5.725000</td>\n",
              "      <td>1.732500e+08</td>\n",
              "    </tr>\n",
              "    <tr>\n",
              "      <th>min</th>\n",
              "      <td>1.110004e+08</td>\n",
              "      <td>2014-12-19 12:00:00</td>\n",
              "      <td>0.000000e+00</td>\n",
              "      <td>0.000000e+00</td>\n",
              "      <td>0.0</td>\n",
              "      <td>4.300000</td>\n",
              "      <td>1.957739e+06</td>\n",
              "    </tr>\n",
              "    <tr>\n",
              "      <th>25%</th>\n",
              "      <td>1.110093e+08</td>\n",
              "      <td>2015-07-10 18:00:00</td>\n",
              "      <td>0.000000e+00</td>\n",
              "      <td>2.225000e+07</td>\n",
              "      <td>0.0</td>\n",
              "      <td>5.075000</td>\n",
              "      <td>5.394400e+07</td>\n",
              "    </tr>\n",
              "    <tr>\n",
              "      <th>50%</th>\n",
              "      <td>1.110172e+08</td>\n",
              "      <td>2016-03-31 00:00:00</td>\n",
              "      <td>1.450000e+07</td>\n",
              "      <td>4.550000e+07</td>\n",
              "      <td>0.0</td>\n",
              "      <td>5.700000</td>\n",
              "      <td>7.815206e+07</td>\n",
              "    </tr>\n",
              "    <tr>\n",
              "      <th>75%</th>\n",
              "      <td>1.140012e+08</td>\n",
              "      <td>2017-08-21 06:00:00</td>\n",
              "      <td>2.125000e+07</td>\n",
              "      <td>7.125000e+07</td>\n",
              "      <td>0.0</td>\n",
              "      <td>6.300000</td>\n",
              "      <td>1.875088e+08</td>\n",
              "    </tr>\n",
              "    <tr>\n",
              "      <th>max</th>\n",
              "      <td>1.140030e+08</td>\n",
              "      <td>2019-04-20 12:00:00</td>\n",
              "      <td>6.000000e+07</td>\n",
              "      <td>2.500000e+08</td>\n",
              "      <td>0.0</td>\n",
              "      <td>7.800000</td>\n",
              "      <td>1.038321e+09</td>\n",
              "    </tr>\n",
              "    <tr>\n",
              "      <th>std</th>\n",
              "      <td>1.431626e+06</td>\n",
              "      <td>NaN</td>\n",
              "      <td>2.024022e+07</td>\n",
              "      <td>6.011763e+07</td>\n",
              "      <td>0.0</td>\n",
              "      <td>0.916151</td>\n",
              "      <td>2.557514e+08</td>\n",
              "    </tr>\n",
              "  </tbody>\n",
              "</table>\n",
              "</div>\n",
              "    <div class=\"colab-df-buttons\">\n",
              "\n",
              "  <div class=\"colab-df-container\">\n",
              "    <button class=\"colab-df-convert\" onclick=\"convertToInteractive('df-339f8d66-1161-457d-a09e-bd136a427ef1')\"\n",
              "            title=\"Convert this dataframe to an interactive table.\"\n",
              "            style=\"display:none;\">\n",
              "\n",
              "  <svg xmlns=\"http://www.w3.org/2000/svg\" height=\"24px\" viewBox=\"0 -960 960 960\">\n",
              "    <path d=\"M120-120v-720h720v720H120Zm60-500h600v-160H180v160Zm220 220h160v-160H400v160Zm0 220h160v-160H400v160ZM180-400h160v-160H180v160Zm440 0h160v-160H620v160ZM180-180h160v-160H180v160Zm440 0h160v-160H620v160Z\"/>\n",
              "  </svg>\n",
              "    </button>\n",
              "\n",
              "  <style>\n",
              "    .colab-df-container {\n",
              "      display:flex;\n",
              "      gap: 12px;\n",
              "    }\n",
              "\n",
              "    .colab-df-convert {\n",
              "      background-color: #E8F0FE;\n",
              "      border: none;\n",
              "      border-radius: 50%;\n",
              "      cursor: pointer;\n",
              "      display: none;\n",
              "      fill: #1967D2;\n",
              "      height: 32px;\n",
              "      padding: 0 0 0 0;\n",
              "      width: 32px;\n",
              "    }\n",
              "\n",
              "    .colab-df-convert:hover {\n",
              "      background-color: #E2EBFA;\n",
              "      box-shadow: 0px 1px 2px rgba(60, 64, 67, 0.3), 0px 1px 3px 1px rgba(60, 64, 67, 0.15);\n",
              "      fill: #174EA6;\n",
              "    }\n",
              "\n",
              "    .colab-df-buttons div {\n",
              "      margin-bottom: 4px;\n",
              "    }\n",
              "\n",
              "    [theme=dark] .colab-df-convert {\n",
              "      background-color: #3B4455;\n",
              "      fill: #D2E3FC;\n",
              "    }\n",
              "\n",
              "    [theme=dark] .colab-df-convert:hover {\n",
              "      background-color: #434B5C;\n",
              "      box-shadow: 0px 1px 3px 1px rgba(0, 0, 0, 0.15);\n",
              "      filter: drop-shadow(0px 1px 2px rgba(0, 0, 0, 0.3));\n",
              "      fill: #FFFFFF;\n",
              "    }\n",
              "  </style>\n",
              "\n",
              "    <script>\n",
              "      const buttonEl =\n",
              "        document.querySelector('#df-339f8d66-1161-457d-a09e-bd136a427ef1 button.colab-df-convert');\n",
              "      buttonEl.style.display =\n",
              "        google.colab.kernel.accessAllowed ? 'block' : 'none';\n",
              "\n",
              "      async function convertToInteractive(key) {\n",
              "        const element = document.querySelector('#df-339f8d66-1161-457d-a09e-bd136a427ef1');\n",
              "        const dataTable =\n",
              "          await google.colab.kernel.invokeFunction('convertToInteractive',\n",
              "                                                    [key], {});\n",
              "        if (!dataTable) return;\n",
              "\n",
              "        const docLinkHtml = 'Like what you see? Visit the ' +\n",
              "          '<a target=\"_blank\" href=https://colab.research.google.com/notebooks/data_table.ipynb>data table notebook</a>'\n",
              "          + ' to learn more about interactive tables.';\n",
              "        element.innerHTML = '';\n",
              "        dataTable['output_type'] = 'display_data';\n",
              "        await google.colab.output.renderOutput(dataTable, element);\n",
              "        const docLink = document.createElement('div');\n",
              "        docLink.innerHTML = docLinkHtml;\n",
              "        element.appendChild(docLink);\n",
              "      }\n",
              "    </script>\n",
              "  </div>\n",
              "\n",
              "\n",
              "<div id=\"df-710c22ea-e5e0-4938-8083-7232274b0770\">\n",
              "  <button class=\"colab-df-quickchart\" onclick=\"quickchart('df-710c22ea-e5e0-4938-8083-7232274b0770')\"\n",
              "            title=\"Suggest charts\"\n",
              "            style=\"display:none;\">\n",
              "\n",
              "<svg xmlns=\"http://www.w3.org/2000/svg\" height=\"24px\"viewBox=\"0 0 24 24\"\n",
              "     width=\"24px\">\n",
              "    <g>\n",
              "        <path d=\"M19 3H5c-1.1 0-2 .9-2 2v14c0 1.1.9 2 2 2h14c1.1 0 2-.9 2-2V5c0-1.1-.9-2-2-2zM9 17H7v-7h2v7zm4 0h-2V7h2v10zm4 0h-2v-4h2v4z\"/>\n",
              "    </g>\n",
              "</svg>\n",
              "  </button>\n",
              "\n",
              "<style>\n",
              "  .colab-df-quickchart {\n",
              "      --bg-color: #E8F0FE;\n",
              "      --fill-color: #1967D2;\n",
              "      --hover-bg-color: #E2EBFA;\n",
              "      --hover-fill-color: #174EA6;\n",
              "      --disabled-fill-color: #AAA;\n",
              "      --disabled-bg-color: #DDD;\n",
              "  }\n",
              "\n",
              "  [theme=dark] .colab-df-quickchart {\n",
              "      --bg-color: #3B4455;\n",
              "      --fill-color: #D2E3FC;\n",
              "      --hover-bg-color: #434B5C;\n",
              "      --hover-fill-color: #FFFFFF;\n",
              "      --disabled-bg-color: #3B4455;\n",
              "      --disabled-fill-color: #666;\n",
              "  }\n",
              "\n",
              "  .colab-df-quickchart {\n",
              "    background-color: var(--bg-color);\n",
              "    border: none;\n",
              "    border-radius: 50%;\n",
              "    cursor: pointer;\n",
              "    display: none;\n",
              "    fill: var(--fill-color);\n",
              "    height: 32px;\n",
              "    padding: 0;\n",
              "    width: 32px;\n",
              "  }\n",
              "\n",
              "  .colab-df-quickchart:hover {\n",
              "    background-color: var(--hover-bg-color);\n",
              "    box-shadow: 0 1px 2px rgba(60, 64, 67, 0.3), 0 1px 3px 1px rgba(60, 64, 67, 0.15);\n",
              "    fill: var(--button-hover-fill-color);\n",
              "  }\n",
              "\n",
              "  .colab-df-quickchart-complete:disabled,\n",
              "  .colab-df-quickchart-complete:disabled:hover {\n",
              "    background-color: var(--disabled-bg-color);\n",
              "    fill: var(--disabled-fill-color);\n",
              "    box-shadow: none;\n",
              "  }\n",
              "\n",
              "  .colab-df-spinner {\n",
              "    border: 2px solid var(--fill-color);\n",
              "    border-color: transparent;\n",
              "    border-bottom-color: var(--fill-color);\n",
              "    animation:\n",
              "      spin 1s steps(1) infinite;\n",
              "  }\n",
              "\n",
              "  @keyframes spin {\n",
              "    0% {\n",
              "      border-color: transparent;\n",
              "      border-bottom-color: var(--fill-color);\n",
              "      border-left-color: var(--fill-color);\n",
              "    }\n",
              "    20% {\n",
              "      border-color: transparent;\n",
              "      border-left-color: var(--fill-color);\n",
              "      border-top-color: var(--fill-color);\n",
              "    }\n",
              "    30% {\n",
              "      border-color: transparent;\n",
              "      border-left-color: var(--fill-color);\n",
              "      border-top-color: var(--fill-color);\n",
              "      border-right-color: var(--fill-color);\n",
              "    }\n",
              "    40% {\n",
              "      border-color: transparent;\n",
              "      border-right-color: var(--fill-color);\n",
              "      border-top-color: var(--fill-color);\n",
              "    }\n",
              "    60% {\n",
              "      border-color: transparent;\n",
              "      border-right-color: var(--fill-color);\n",
              "    }\n",
              "    80% {\n",
              "      border-color: transparent;\n",
              "      border-right-color: var(--fill-color);\n",
              "      border-bottom-color: var(--fill-color);\n",
              "    }\n",
              "    90% {\n",
              "      border-color: transparent;\n",
              "      border-bottom-color: var(--fill-color);\n",
              "    }\n",
              "  }\n",
              "</style>\n",
              "\n",
              "  <script>\n",
              "    async function quickchart(key) {\n",
              "      const quickchartButtonEl =\n",
              "        document.querySelector('#' + key + ' button');\n",
              "      quickchartButtonEl.disabled = true;  // To prevent multiple clicks.\n",
              "      quickchartButtonEl.classList.add('colab-df-spinner');\n",
              "      try {\n",
              "        const charts = await google.colab.kernel.invokeFunction(\n",
              "            'suggestCharts', [key], {});\n",
              "      } catch (error) {\n",
              "        console.error('Error during call to suggestCharts:', error);\n",
              "      }\n",
              "      quickchartButtonEl.classList.remove('colab-df-spinner');\n",
              "      quickchartButtonEl.classList.add('colab-df-quickchart-complete');\n",
              "    }\n",
              "    (() => {\n",
              "      let quickchartButtonEl =\n",
              "        document.querySelector('#df-710c22ea-e5e0-4938-8083-7232274b0770 button');\n",
              "      quickchartButtonEl.style.display =\n",
              "        google.colab.kernel.accessAllowed ? 'block' : 'none';\n",
              "    })();\n",
              "  </script>\n",
              "</div>\n",
              "    </div>\n",
              "  </div>\n"
            ],
            "application/vnd.google.colaboratory.intrinsic+json": {
              "type": "dataframe",
              "summary": "{\n  \"name\": \"df[df['budget'] == 0]\",\n  \"rows\": 8,\n  \"fields\": [\n    {\n      \"column\": \"puNumber\",\n      \"properties\": {\n        \"dtype\": \"number\",\n        \"std\": 51606329.264127634,\n        \"min\": 16.0,\n        \"max\": 114003018.0,\n        \"num_unique_values\": 8,\n        \"samples\": [\n          111945997.375,\n          114001192.25,\n          16.0\n        ],\n        \"semantic_type\": \"\",\n        \"description\": \"\"\n      }\n    },\n    {\n      \"column\": \"show_start_date\",\n      \"properties\": {\n        \"dtype\": \"date\",\n        \"min\": \"1970-01-01 00:00:00.000000016\",\n        \"max\": \"2019-04-20 12:00:00\",\n        \"num_unique_values\": 7,\n        \"samples\": [\n          \"16\",\n          \"2016-09-01 22:30:00\",\n          \"2017-08-21 06:00:00\"\n        ],\n        \"semantic_type\": \"\",\n        \"description\": \"\"\n      }\n    },\n    {\n      \"column\": \"refundable_support\",\n      \"properties\": {\n        \"dtype\": \"number\",\n        \"std\": 19823273.453933537,\n        \"min\": 0.0,\n        \"max\": 60000000.0,\n        \"num_unique_values\": 7,\n        \"samples\": [\n          16.0,\n          17750000.0,\n          60000000.0\n        ],\n        \"semantic_type\": \"\",\n        \"description\": \"\"\n      }\n    },\n    {\n      \"column\": \"nonrefundable_support\",\n      \"properties\": {\n        \"dtype\": \"number\",\n        \"std\": 80135679.10192563,\n        \"min\": 0.0,\n        \"max\": 250000000.0,\n        \"num_unique_values\": 8,\n        \"samples\": [\n          60562500.0,\n          71250000.0,\n          16.0\n        ],\n        \"semantic_type\": \"\",\n        \"description\": \"\"\n      }\n    },\n    {\n      \"column\": \"budget\",\n      \"properties\": {\n        \"dtype\": \"number\",\n        \"std\": 5.656854249492381,\n        \"min\": 0.0,\n        \"max\": 16.0,\n        \"num_unique_values\": 2,\n        \"samples\": [\n          0.0,\n          16.0\n        ],\n        \"semantic_type\": \"\",\n        \"description\": \"\"\n      }\n    },\n    {\n      \"column\": \"ratings\",\n      \"properties\": {\n        \"dtype\": \"number\",\n        \"std\": 4.330397383272703,\n        \"min\": 0.9161513703167907,\n        \"max\": 16.0,\n        \"num_unique_values\": 8,\n        \"samples\": [\n          5.725,\n          6.3\n        ],\n        \"semantic_type\": \"\",\n        \"description\": \"\"\n      }\n    },\n    {\n      \"column\": \"box_office\",\n      \"properties\": {\n        \"dtype\": \"number\",\n        \"std\": 341781681.9329699,\n        \"min\": 16.0,\n        \"max\": 1038321489.0,\n        \"num_unique_values\": 8,\n        \"samples\": [\n          173249956.614375,\n          187508773.15\n        ],\n        \"semantic_type\": \"\",\n        \"description\": \"\"\n      }\n    }\n  ]\n}"
            }
          },
          "metadata": {},
          "execution_count": 188
        }
      ]
    },
    {
      "cell_type": "markdown",
      "source": [
        "Несмотря на скромный бюджет некоторых фильмов, существуют и такие, где сумма поддержки отличается от нуля. В этом случае бюджет не может быть меньше суммы поддержки, предоставленной создателям фильма. Давайте рассмотрим кинокартины, бюджет которых меньше суммы возвратных и невозвратных средств."
      ],
      "metadata": {
        "id": "xKekvB6D7mHn"
      }
    },
    {
      "cell_type": "code",
      "source": [
        "df[(df['refundable_support'] + df['nonrefundable_support']) > df['budget']].head()"
      ],
      "metadata": {
        "colab": {
          "base_uri": "https://localhost:8080/",
          "height": 556
        },
        "id": "1dTDiJT98bZm",
        "outputId": "ff839199-01a1-445b-abab-d263c2826493"
      },
      "execution_count": 189,
      "outputs": [
        {
          "output_type": "execute_result",
          "data": {
            "text/plain": [
              "                    title   puNumber     show_start_date            type  \\\n",
              "2053                  14+  111023614 2014-12-19 12:00:00  Художественный   \n",
              "2058            Дуxless 2  111000415 2015-01-26 12:00:00  Художественный   \n",
              "2472          Воин (2015)  111017315 2015-09-28 12:00:00  Художественный   \n",
              "2532              Бармен.  111009615 2015-05-26 12:00:00  Художественный   \n",
              "2615  Савва. Сердце воина  114001715 2015-07-21 12:00:00    Анимационный   \n",
              "\n",
              "                                            film_studio production_country  \\\n",
              "2053                         ООО Киностудия  \"Сентябрь\"             Россия   \n",
              "2058  ООО \"Киностудия \"Слово\", ООО \"Арт Пикчерс Студия\"             Россия   \n",
              "2472   ООО \"Форпост Продакшн\", ООО \"Арт Пикчерс Студия\"             Россия   \n",
              "2532          АО \"ВайТ Медиа\", ООО \"Арт Пикчерс Студия\"             Россия   \n",
              "2615   ООО \"Глюкоза Продакшн\", ООО \"Арт Пикчерс Студия\"             Россия   \n",
              "\n",
              "          director                            producer  \\\n",
              "2053      А.Зайцев                 О.Гранина, А.Зайцев   \n",
              "2058    Р.Прыгунов  П.Ануров, Ф.Бондарчук, Д.Рудовский   \n",
              "2472   А.Андрианов            ООО \"Арт Пикчерс Студия\"   \n",
              "2532  Д.Штурманова                         Т.Вайнштейн   \n",
              "2615      М.Фадеев                          А.Чистяков   \n",
              "\n",
              "                      age_restriction  refundable_support  \\\n",
              "2053  «16+» - для детей старше 16 лет                 0.0   \n",
              "2058  «16+» - для детей старше 16 лет                 0.0   \n",
              "2472  «12+» - для детей старше 12 лет          10000000.0   \n",
              "2532  «16+» - для детей старше 16 лет          20000000.0   \n",
              "2615    «6+» - для детей старше 6 лет          60000000.0   \n",
              "\n",
              "      nonrefundable_support  budget                  financing_source  \\\n",
              "2053             23000000.0     0.0  Министерство культуры, Фонд кино   \n",
              "2058             75000000.0     0.0                         Фонд кино   \n",
              "2472             70000000.0     0.0                         Фонд кино   \n",
              "2532                    0.0     0.0                         Фонд кино   \n",
              "2615            100000000.0     0.0                         Фонд кино   \n",
              "\n",
              "      ratings                          genres   box_office  \n",
              "2053      6.6                       мелодрама   10234016.1  \n",
              "2058      6.6                           драма  446163511.0  \n",
              "2472      7.8           боевик,драма,криминал  196572438.4  \n",
              "2532      6.2                 комедия,фэнтези   67418974.8  \n",
              "2615      4.6  мультфильм,приключения,фэнтези  184487551.4  "
            ],
            "text/html": [
              "\n",
              "  <div id=\"df-88dd65e8-0bd8-485a-a45e-7e09f6e7ac16\" class=\"colab-df-container\">\n",
              "    <div>\n",
              "<style scoped>\n",
              "    .dataframe tbody tr th:only-of-type {\n",
              "        vertical-align: middle;\n",
              "    }\n",
              "\n",
              "    .dataframe tbody tr th {\n",
              "        vertical-align: top;\n",
              "    }\n",
              "\n",
              "    .dataframe thead th {\n",
              "        text-align: right;\n",
              "    }\n",
              "</style>\n",
              "<table border=\"1\" class=\"dataframe\">\n",
              "  <thead>\n",
              "    <tr style=\"text-align: right;\">\n",
              "      <th></th>\n",
              "      <th>title</th>\n",
              "      <th>puNumber</th>\n",
              "      <th>show_start_date</th>\n",
              "      <th>type</th>\n",
              "      <th>film_studio</th>\n",
              "      <th>production_country</th>\n",
              "      <th>director</th>\n",
              "      <th>producer</th>\n",
              "      <th>age_restriction</th>\n",
              "      <th>refundable_support</th>\n",
              "      <th>nonrefundable_support</th>\n",
              "      <th>budget</th>\n",
              "      <th>financing_source</th>\n",
              "      <th>ratings</th>\n",
              "      <th>genres</th>\n",
              "      <th>box_office</th>\n",
              "    </tr>\n",
              "  </thead>\n",
              "  <tbody>\n",
              "    <tr>\n",
              "      <th>2053</th>\n",
              "      <td>14+</td>\n",
              "      <td>111023614</td>\n",
              "      <td>2014-12-19 12:00:00</td>\n",
              "      <td>Художественный</td>\n",
              "      <td>ООО Киностудия  \"Сентябрь\"</td>\n",
              "      <td>Россия</td>\n",
              "      <td>А.Зайцев</td>\n",
              "      <td>О.Гранина, А.Зайцев</td>\n",
              "      <td>«16+» - для детей старше 16 лет</td>\n",
              "      <td>0.0</td>\n",
              "      <td>23000000.0</td>\n",
              "      <td>0.0</td>\n",
              "      <td>Министерство культуры, Фонд кино</td>\n",
              "      <td>6.6</td>\n",
              "      <td>мелодрама</td>\n",
              "      <td>10234016.1</td>\n",
              "    </tr>\n",
              "    <tr>\n",
              "      <th>2058</th>\n",
              "      <td>Дуxless 2</td>\n",
              "      <td>111000415</td>\n",
              "      <td>2015-01-26 12:00:00</td>\n",
              "      <td>Художественный</td>\n",
              "      <td>ООО \"Киностудия \"Слово\", ООО \"Арт Пикчерс Студия\"</td>\n",
              "      <td>Россия</td>\n",
              "      <td>Р.Прыгунов</td>\n",
              "      <td>П.Ануров, Ф.Бондарчук, Д.Рудовский</td>\n",
              "      <td>«16+» - для детей старше 16 лет</td>\n",
              "      <td>0.0</td>\n",
              "      <td>75000000.0</td>\n",
              "      <td>0.0</td>\n",
              "      <td>Фонд кино</td>\n",
              "      <td>6.6</td>\n",
              "      <td>драма</td>\n",
              "      <td>446163511.0</td>\n",
              "    </tr>\n",
              "    <tr>\n",
              "      <th>2472</th>\n",
              "      <td>Воин (2015)</td>\n",
              "      <td>111017315</td>\n",
              "      <td>2015-09-28 12:00:00</td>\n",
              "      <td>Художественный</td>\n",
              "      <td>ООО \"Форпост Продакшн\", ООО \"Арт Пикчерс Студия\"</td>\n",
              "      <td>Россия</td>\n",
              "      <td>А.Андрианов</td>\n",
              "      <td>ООО \"Арт Пикчерс Студия\"</td>\n",
              "      <td>«12+» - для детей старше 12 лет</td>\n",
              "      <td>10000000.0</td>\n",
              "      <td>70000000.0</td>\n",
              "      <td>0.0</td>\n",
              "      <td>Фонд кино</td>\n",
              "      <td>7.8</td>\n",
              "      <td>боевик,драма,криминал</td>\n",
              "      <td>196572438.4</td>\n",
              "    </tr>\n",
              "    <tr>\n",
              "      <th>2532</th>\n",
              "      <td>Бармен.</td>\n",
              "      <td>111009615</td>\n",
              "      <td>2015-05-26 12:00:00</td>\n",
              "      <td>Художественный</td>\n",
              "      <td>АО \"ВайТ Медиа\", ООО \"Арт Пикчерс Студия\"</td>\n",
              "      <td>Россия</td>\n",
              "      <td>Д.Штурманова</td>\n",
              "      <td>Т.Вайнштейн</td>\n",
              "      <td>«16+» - для детей старше 16 лет</td>\n",
              "      <td>20000000.0</td>\n",
              "      <td>0.0</td>\n",
              "      <td>0.0</td>\n",
              "      <td>Фонд кино</td>\n",
              "      <td>6.2</td>\n",
              "      <td>комедия,фэнтези</td>\n",
              "      <td>67418974.8</td>\n",
              "    </tr>\n",
              "    <tr>\n",
              "      <th>2615</th>\n",
              "      <td>Савва. Сердце воина</td>\n",
              "      <td>114001715</td>\n",
              "      <td>2015-07-21 12:00:00</td>\n",
              "      <td>Анимационный</td>\n",
              "      <td>ООО \"Глюкоза Продакшн\", ООО \"Арт Пикчерс Студия\"</td>\n",
              "      <td>Россия</td>\n",
              "      <td>М.Фадеев</td>\n",
              "      <td>А.Чистяков</td>\n",
              "      <td>«6+» - для детей старше 6 лет</td>\n",
              "      <td>60000000.0</td>\n",
              "      <td>100000000.0</td>\n",
              "      <td>0.0</td>\n",
              "      <td>Фонд кино</td>\n",
              "      <td>4.6</td>\n",
              "      <td>мультфильм,приключения,фэнтези</td>\n",
              "      <td>184487551.4</td>\n",
              "    </tr>\n",
              "  </tbody>\n",
              "</table>\n",
              "</div>\n",
              "    <div class=\"colab-df-buttons\">\n",
              "\n",
              "  <div class=\"colab-df-container\">\n",
              "    <button class=\"colab-df-convert\" onclick=\"convertToInteractive('df-88dd65e8-0bd8-485a-a45e-7e09f6e7ac16')\"\n",
              "            title=\"Convert this dataframe to an interactive table.\"\n",
              "            style=\"display:none;\">\n",
              "\n",
              "  <svg xmlns=\"http://www.w3.org/2000/svg\" height=\"24px\" viewBox=\"0 -960 960 960\">\n",
              "    <path d=\"M120-120v-720h720v720H120Zm60-500h600v-160H180v160Zm220 220h160v-160H400v160Zm0 220h160v-160H400v160ZM180-400h160v-160H180v160Zm440 0h160v-160H620v160ZM180-180h160v-160H180v160Zm440 0h160v-160H620v160Z\"/>\n",
              "  </svg>\n",
              "    </button>\n",
              "\n",
              "  <style>\n",
              "    .colab-df-container {\n",
              "      display:flex;\n",
              "      gap: 12px;\n",
              "    }\n",
              "\n",
              "    .colab-df-convert {\n",
              "      background-color: #E8F0FE;\n",
              "      border: none;\n",
              "      border-radius: 50%;\n",
              "      cursor: pointer;\n",
              "      display: none;\n",
              "      fill: #1967D2;\n",
              "      height: 32px;\n",
              "      padding: 0 0 0 0;\n",
              "      width: 32px;\n",
              "    }\n",
              "\n",
              "    .colab-df-convert:hover {\n",
              "      background-color: #E2EBFA;\n",
              "      box-shadow: 0px 1px 2px rgba(60, 64, 67, 0.3), 0px 1px 3px 1px rgba(60, 64, 67, 0.15);\n",
              "      fill: #174EA6;\n",
              "    }\n",
              "\n",
              "    .colab-df-buttons div {\n",
              "      margin-bottom: 4px;\n",
              "    }\n",
              "\n",
              "    [theme=dark] .colab-df-convert {\n",
              "      background-color: #3B4455;\n",
              "      fill: #D2E3FC;\n",
              "    }\n",
              "\n",
              "    [theme=dark] .colab-df-convert:hover {\n",
              "      background-color: #434B5C;\n",
              "      box-shadow: 0px 1px 3px 1px rgba(0, 0, 0, 0.15);\n",
              "      filter: drop-shadow(0px 1px 2px rgba(0, 0, 0, 0.3));\n",
              "      fill: #FFFFFF;\n",
              "    }\n",
              "  </style>\n",
              "\n",
              "    <script>\n",
              "      const buttonEl =\n",
              "        document.querySelector('#df-88dd65e8-0bd8-485a-a45e-7e09f6e7ac16 button.colab-df-convert');\n",
              "      buttonEl.style.display =\n",
              "        google.colab.kernel.accessAllowed ? 'block' : 'none';\n",
              "\n",
              "      async function convertToInteractive(key) {\n",
              "        const element = document.querySelector('#df-88dd65e8-0bd8-485a-a45e-7e09f6e7ac16');\n",
              "        const dataTable =\n",
              "          await google.colab.kernel.invokeFunction('convertToInteractive',\n",
              "                                                    [key], {});\n",
              "        if (!dataTable) return;\n",
              "\n",
              "        const docLinkHtml = 'Like what you see? Visit the ' +\n",
              "          '<a target=\"_blank\" href=https://colab.research.google.com/notebooks/data_table.ipynb>data table notebook</a>'\n",
              "          + ' to learn more about interactive tables.';\n",
              "        element.innerHTML = '';\n",
              "        dataTable['output_type'] = 'display_data';\n",
              "        await google.colab.output.renderOutput(dataTable, element);\n",
              "        const docLink = document.createElement('div');\n",
              "        docLink.innerHTML = docLinkHtml;\n",
              "        element.appendChild(docLink);\n",
              "      }\n",
              "    </script>\n",
              "  </div>\n",
              "\n",
              "\n",
              "<div id=\"df-591d5015-4aa4-481e-aaf6-10cfb154272b\">\n",
              "  <button class=\"colab-df-quickchart\" onclick=\"quickchart('df-591d5015-4aa4-481e-aaf6-10cfb154272b')\"\n",
              "            title=\"Suggest charts\"\n",
              "            style=\"display:none;\">\n",
              "\n",
              "<svg xmlns=\"http://www.w3.org/2000/svg\" height=\"24px\"viewBox=\"0 0 24 24\"\n",
              "     width=\"24px\">\n",
              "    <g>\n",
              "        <path d=\"M19 3H5c-1.1 0-2 .9-2 2v14c0 1.1.9 2 2 2h14c1.1 0 2-.9 2-2V5c0-1.1-.9-2-2-2zM9 17H7v-7h2v7zm4 0h-2V7h2v10zm4 0h-2v-4h2v4z\"/>\n",
              "    </g>\n",
              "</svg>\n",
              "  </button>\n",
              "\n",
              "<style>\n",
              "  .colab-df-quickchart {\n",
              "      --bg-color: #E8F0FE;\n",
              "      --fill-color: #1967D2;\n",
              "      --hover-bg-color: #E2EBFA;\n",
              "      --hover-fill-color: #174EA6;\n",
              "      --disabled-fill-color: #AAA;\n",
              "      --disabled-bg-color: #DDD;\n",
              "  }\n",
              "\n",
              "  [theme=dark] .colab-df-quickchart {\n",
              "      --bg-color: #3B4455;\n",
              "      --fill-color: #D2E3FC;\n",
              "      --hover-bg-color: #434B5C;\n",
              "      --hover-fill-color: #FFFFFF;\n",
              "      --disabled-bg-color: #3B4455;\n",
              "      --disabled-fill-color: #666;\n",
              "  }\n",
              "\n",
              "  .colab-df-quickchart {\n",
              "    background-color: var(--bg-color);\n",
              "    border: none;\n",
              "    border-radius: 50%;\n",
              "    cursor: pointer;\n",
              "    display: none;\n",
              "    fill: var(--fill-color);\n",
              "    height: 32px;\n",
              "    padding: 0;\n",
              "    width: 32px;\n",
              "  }\n",
              "\n",
              "  .colab-df-quickchart:hover {\n",
              "    background-color: var(--hover-bg-color);\n",
              "    box-shadow: 0 1px 2px rgba(60, 64, 67, 0.3), 0 1px 3px 1px rgba(60, 64, 67, 0.15);\n",
              "    fill: var(--button-hover-fill-color);\n",
              "  }\n",
              "\n",
              "  .colab-df-quickchart-complete:disabled,\n",
              "  .colab-df-quickchart-complete:disabled:hover {\n",
              "    background-color: var(--disabled-bg-color);\n",
              "    fill: var(--disabled-fill-color);\n",
              "    box-shadow: none;\n",
              "  }\n",
              "\n",
              "  .colab-df-spinner {\n",
              "    border: 2px solid var(--fill-color);\n",
              "    border-color: transparent;\n",
              "    border-bottom-color: var(--fill-color);\n",
              "    animation:\n",
              "      spin 1s steps(1) infinite;\n",
              "  }\n",
              "\n",
              "  @keyframes spin {\n",
              "    0% {\n",
              "      border-color: transparent;\n",
              "      border-bottom-color: var(--fill-color);\n",
              "      border-left-color: var(--fill-color);\n",
              "    }\n",
              "    20% {\n",
              "      border-color: transparent;\n",
              "      border-left-color: var(--fill-color);\n",
              "      border-top-color: var(--fill-color);\n",
              "    }\n",
              "    30% {\n",
              "      border-color: transparent;\n",
              "      border-left-color: var(--fill-color);\n",
              "      border-top-color: var(--fill-color);\n",
              "      border-right-color: var(--fill-color);\n",
              "    }\n",
              "    40% {\n",
              "      border-color: transparent;\n",
              "      border-right-color: var(--fill-color);\n",
              "      border-top-color: var(--fill-color);\n",
              "    }\n",
              "    60% {\n",
              "      border-color: transparent;\n",
              "      border-right-color: var(--fill-color);\n",
              "    }\n",
              "    80% {\n",
              "      border-color: transparent;\n",
              "      border-right-color: var(--fill-color);\n",
              "      border-bottom-color: var(--fill-color);\n",
              "    }\n",
              "    90% {\n",
              "      border-color: transparent;\n",
              "      border-bottom-color: var(--fill-color);\n",
              "    }\n",
              "  }\n",
              "</style>\n",
              "\n",
              "  <script>\n",
              "    async function quickchart(key) {\n",
              "      const quickchartButtonEl =\n",
              "        document.querySelector('#' + key + ' button');\n",
              "      quickchartButtonEl.disabled = true;  // To prevent multiple clicks.\n",
              "      quickchartButtonEl.classList.add('colab-df-spinner');\n",
              "      try {\n",
              "        const charts = await google.colab.kernel.invokeFunction(\n",
              "            'suggestCharts', [key], {});\n",
              "      } catch (error) {\n",
              "        console.error('Error during call to suggestCharts:', error);\n",
              "      }\n",
              "      quickchartButtonEl.classList.remove('colab-df-spinner');\n",
              "      quickchartButtonEl.classList.add('colab-df-quickchart-complete');\n",
              "    }\n",
              "    (() => {\n",
              "      let quickchartButtonEl =\n",
              "        document.querySelector('#df-591d5015-4aa4-481e-aaf6-10cfb154272b button');\n",
              "      quickchartButtonEl.style.display =\n",
              "        google.colab.kernel.accessAllowed ? 'block' : 'none';\n",
              "    })();\n",
              "  </script>\n",
              "</div>\n",
              "    </div>\n",
              "  </div>\n"
            ],
            "application/vnd.google.colaboratory.intrinsic+json": {
              "type": "dataframe",
              "summary": "{\n  \"name\": \"df[(df['refundable_support'] + df['nonrefundable_support']) > df['budget']]\",\n  \"rows\": 5,\n  \"fields\": [\n    {\n      \"column\": \"title\",\n      \"properties\": {\n        \"dtype\": \"string\",\n        \"num_unique_values\": 5,\n        \"samples\": [\n          \"\\u0414\\u0443xless 2\",\n          \"\\u0421\\u0430\\u0432\\u0432\\u0430. \\u0421\\u0435\\u0440\\u0434\\u0446\\u0435 \\u0432\\u043e\\u0438\\u043d\\u0430\",\n          \"\\u0412\\u043e\\u0438\\u043d (2015)\"\n        ],\n        \"semantic_type\": \"\",\n        \"description\": \"\"\n      }\n    },\n    {\n      \"column\": \"puNumber\",\n      \"properties\": {\n        \"dtype\": \"number\",\n        \"std\": 1336738,\n        \"min\": 111000415,\n        \"max\": 114001715,\n        \"num_unique_values\": 5,\n        \"samples\": [\n          111000415,\n          114001715,\n          111017315\n        ],\n        \"semantic_type\": \"\",\n        \"description\": \"\"\n      }\n    },\n    {\n      \"column\": \"show_start_date\",\n      \"properties\": {\n        \"dtype\": \"date\",\n        \"min\": \"2014-12-19 12:00:00\",\n        \"max\": \"2015-09-28 12:00:00\",\n        \"num_unique_values\": 5,\n        \"samples\": [\n          \"2015-01-26 12:00:00\",\n          \"2015-07-21 12:00:00\",\n          \"2015-09-28 12:00:00\"\n        ],\n        \"semantic_type\": \"\",\n        \"description\": \"\"\n      }\n    },\n    {\n      \"column\": \"type\",\n      \"properties\": {\n        \"dtype\": \"category\",\n        \"num_unique_values\": 2,\n        \"samples\": [\n          \"\\u0410\\u043d\\u0438\\u043c\\u0430\\u0446\\u0438\\u043e\\u043d\\u043d\\u044b\\u0439\",\n          \"\\u0425\\u0443\\u0434\\u043e\\u0436\\u0435\\u0441\\u0442\\u0432\\u0435\\u043d\\u043d\\u044b\\u0439\"\n        ],\n        \"semantic_type\": \"\",\n        \"description\": \"\"\n      }\n    },\n    {\n      \"column\": \"film_studio\",\n      \"properties\": {\n        \"dtype\": \"string\",\n        \"num_unique_values\": 5,\n        \"samples\": [\n          \"\\u041e\\u041e\\u041e \\\"\\u041a\\u0438\\u043d\\u043e\\u0441\\u0442\\u0443\\u0434\\u0438\\u044f \\\"\\u0421\\u043b\\u043e\\u0432\\u043e\\\", \\u041e\\u041e\\u041e \\\"\\u0410\\u0440\\u0442 \\u041f\\u0438\\u043a\\u0447\\u0435\\u0440\\u0441 \\u0421\\u0442\\u0443\\u0434\\u0438\\u044f\\\"\",\n          \"\\u041e\\u041e\\u041e \\\"\\u0413\\u043b\\u044e\\u043a\\u043e\\u0437\\u0430 \\u041f\\u0440\\u043e\\u0434\\u0430\\u043a\\u0448\\u043d\\\", \\u041e\\u041e\\u041e \\\"\\u0410\\u0440\\u0442 \\u041f\\u0438\\u043a\\u0447\\u0435\\u0440\\u0441 \\u0421\\u0442\\u0443\\u0434\\u0438\\u044f\\\"\"\n        ],\n        \"semantic_type\": \"\",\n        \"description\": \"\"\n      }\n    },\n    {\n      \"column\": \"production_country\",\n      \"properties\": {\n        \"dtype\": \"category\",\n        \"num_unique_values\": 1,\n        \"samples\": [\n          \"\\u0420\\u043e\\u0441\\u0441\\u0438\\u044f\"\n        ],\n        \"semantic_type\": \"\",\n        \"description\": \"\"\n      }\n    },\n    {\n      \"column\": \"director\",\n      \"properties\": {\n        \"dtype\": \"string\",\n        \"num_unique_values\": 5,\n        \"samples\": [\n          \"\\u0420.\\u041f\\u0440\\u044b\\u0433\\u0443\\u043d\\u043e\\u0432\"\n        ],\n        \"semantic_type\": \"\",\n        \"description\": \"\"\n      }\n    },\n    {\n      \"column\": \"producer\",\n      \"properties\": {\n        \"dtype\": \"string\",\n        \"num_unique_values\": 5,\n        \"samples\": [\n          \"\\u041f.\\u0410\\u043d\\u0443\\u0440\\u043e\\u0432, \\u0424.\\u0411\\u043e\\u043d\\u0434\\u0430\\u0440\\u0447\\u0443\\u043a, \\u0414.\\u0420\\u0443\\u0434\\u043e\\u0432\\u0441\\u043a\\u0438\\u0439\"\n        ],\n        \"semantic_type\": \"\",\n        \"description\": \"\"\n      }\n    },\n    {\n      \"column\": \"age_restriction\",\n      \"properties\": {\n        \"dtype\": \"string\",\n        \"num_unique_values\": 3,\n        \"samples\": [\n          \"\\u00ab16+\\u00bb - \\u0434\\u043b\\u044f \\u0434\\u0435\\u0442\\u0435\\u0439 \\u0441\\u0442\\u0430\\u0440\\u0448\\u0435 16 \\u043b\\u0435\\u0442\"\n        ],\n        \"semantic_type\": \"\",\n        \"description\": \"\"\n      }\n    },\n    {\n      \"column\": \"refundable_support\",\n      \"properties\": {\n        \"dtype\": \"number\",\n        \"std\": 24899799.195977464,\n        \"min\": 0.0,\n        \"max\": 60000000.0,\n        \"num_unique_values\": 4,\n        \"samples\": [\n          10000000.0\n        ],\n        \"semantic_type\": \"\",\n        \"description\": \"\"\n      }\n    },\n    {\n      \"column\": \"nonrefundable_support\",\n      \"properties\": {\n        \"dtype\": \"number\",\n        \"std\": 40893764.80589675,\n        \"min\": 0.0,\n        \"max\": 100000000.0,\n        \"num_unique_values\": 5,\n        \"samples\": [\n          75000000.0\n        ],\n        \"semantic_type\": \"\",\n        \"description\": \"\"\n      }\n    },\n    {\n      \"column\": \"budget\",\n      \"properties\": {\n        \"dtype\": \"number\",\n        \"std\": 0.0,\n        \"min\": 0.0,\n        \"max\": 0.0,\n        \"num_unique_values\": 1,\n        \"samples\": [\n          0.0\n        ],\n        \"semantic_type\": \"\",\n        \"description\": \"\"\n      }\n    },\n    {\n      \"column\": \"financing_source\",\n      \"properties\": {\n        \"dtype\": \"category\",\n        \"num_unique_values\": 2,\n        \"samples\": [\n          \"\\u0424\\u043e\\u043d\\u0434 \\u043a\\u0438\\u043d\\u043e\"\n        ],\n        \"semantic_type\": \"\",\n        \"description\": \"\"\n      }\n    },\n    {\n      \"column\": \"ratings\",\n      \"properties\": {\n        \"dtype\": \"number\",\n        \"std\": 1.1523888232710349,\n        \"min\": 4.6,\n        \"max\": 7.8,\n        \"num_unique_values\": 4,\n        \"samples\": [\n          7.8\n        ],\n        \"semantic_type\": \"\",\n        \"description\": \"\"\n      }\n    },\n    {\n      \"column\": \"genres\",\n      \"properties\": {\n        \"dtype\": \"string\",\n        \"num_unique_values\": 5,\n        \"samples\": [\n          \"\\u0434\\u0440\\u0430\\u043c\\u0430\"\n        ],\n        \"semantic_type\": \"\",\n        \"description\": \"\"\n      }\n    },\n    {\n      \"column\": \"box_office\",\n      \"properties\": {\n        \"dtype\": \"number\",\n        \"std\": 167800490.84425724,\n        \"min\": 10234016.1,\n        \"max\": 446163511.0,\n        \"num_unique_values\": 5,\n        \"samples\": [\n          446163511.0\n        ],\n        \"semantic_type\": \"\",\n        \"description\": \"\"\n      }\n    }\n  ]\n}"
            }
          },
          "metadata": {},
          "execution_count": 189
        }
      ]
    },
    {
      "cell_type": "markdown",
      "source": [
        "Такие картины есть. Исправим в них бюджет на сумму поддержки. Для этого напишем функцию."
      ],
      "metadata": {
        "id": "tZ9rP8kC8cpF"
      }
    },
    {
      "cell_type": "code",
      "source": [
        "def correct_budget(row):\n",
        "    s = row['refundable_support'] + row['nonrefundable_support']\n",
        "    if row['budget'] < s:\n",
        "        return s\n",
        "    return row['budget']"
      ],
      "metadata": {
        "id": "PEvrVHDr8kGB"
      },
      "execution_count": 190,
      "outputs": []
    },
    {
      "cell_type": "code",
      "source": [
        "df['corrected_budget'] = df.apply(correct_budget, axis=1)"
      ],
      "metadata": {
        "id": "qHxXsGaM8mFD"
      },
      "execution_count": 191,
      "outputs": []
    },
    {
      "cell_type": "code",
      "source": [
        "df.describe()"
      ],
      "metadata": {
        "colab": {
          "base_uri": "https://localhost:8080/",
          "height": 424
        },
        "id": "JJArROSv8nv_",
        "outputId": "253a09c2-6f34-4c62-a529-50895014f355"
      },
      "execution_count": 192,
      "outputs": [
        {
          "output_type": "execute_result",
          "data": {
            "text/plain": [
              "           puNumber                show_start_date  refundable_support  \\\n",
              "count  6.490000e+03                           6490        3.140000e+02   \n",
              "mean   1.372347e+08  2014-12-07 20:13:14.329737984        1.232166e+07   \n",
              "min    1.811096e+06            2010-01-11 12:00:00        0.000000e+00   \n",
              "25%    1.140033e+08            2012-04-09 12:00:00        0.000000e+00   \n",
              "50%    1.210167e+08            2014-12-09 12:00:00        0.000000e+00   \n",
              "75%    1.240026e+08            2017-06-20 06:00:00        1.500000e+07   \n",
              "max    2.310011e+08            2019-12-30 12:00:00        1.800000e+08   \n",
              "std    3.988400e+07                            NaN        2.546111e+07   \n",
              "\n",
              "       nonrefundable_support        budget      ratings    box_office  \\\n",
              "count           3.140000e+02  3.140000e+02  6490.000000  2.899000e+03   \n",
              "mean            4.977076e+07  1.313466e+08     6.479245  8.003072e+07   \n",
              "min             0.000000e+00  0.000000e+00     1.000000  0.000000e+00   \n",
              "25%             2.500000e+07  4.289500e+07     5.900000  8.297700e+04   \n",
              "50%             3.000000e+07  7.059059e+07     6.600000  2.617932e+06   \n",
              "75%             4.412500e+07  1.500064e+08     7.200000  2.859579e+07   \n",
              "max             4.000000e+08  2.305074e+09     9.200000  3.073569e+09   \n",
              "std             6.122000e+07  1.929207e+08     1.101665  2.461491e+08   \n",
              "\n",
              "       corrected_budget  \n",
              "count      3.140000e+02  \n",
              "mean       1.353371e+08  \n",
              "min        6.000000e+06  \n",
              "25%        4.616886e+07  \n",
              "50%        7.500000e+07  \n",
              "75%        1.548037e+08  \n",
              "max        2.305074e+09  \n",
              "std        1.914867e+08  "
            ],
            "text/html": [
              "\n",
              "  <div id=\"df-16775aa8-2486-4f46-91f8-c1016dddf1ff\" class=\"colab-df-container\">\n",
              "    <div>\n",
              "<style scoped>\n",
              "    .dataframe tbody tr th:only-of-type {\n",
              "        vertical-align: middle;\n",
              "    }\n",
              "\n",
              "    .dataframe tbody tr th {\n",
              "        vertical-align: top;\n",
              "    }\n",
              "\n",
              "    .dataframe thead th {\n",
              "        text-align: right;\n",
              "    }\n",
              "</style>\n",
              "<table border=\"1\" class=\"dataframe\">\n",
              "  <thead>\n",
              "    <tr style=\"text-align: right;\">\n",
              "      <th></th>\n",
              "      <th>puNumber</th>\n",
              "      <th>show_start_date</th>\n",
              "      <th>refundable_support</th>\n",
              "      <th>nonrefundable_support</th>\n",
              "      <th>budget</th>\n",
              "      <th>ratings</th>\n",
              "      <th>box_office</th>\n",
              "      <th>corrected_budget</th>\n",
              "    </tr>\n",
              "  </thead>\n",
              "  <tbody>\n",
              "    <tr>\n",
              "      <th>count</th>\n",
              "      <td>6.490000e+03</td>\n",
              "      <td>6490</td>\n",
              "      <td>3.140000e+02</td>\n",
              "      <td>3.140000e+02</td>\n",
              "      <td>3.140000e+02</td>\n",
              "      <td>6490.000000</td>\n",
              "      <td>2.899000e+03</td>\n",
              "      <td>3.140000e+02</td>\n",
              "    </tr>\n",
              "    <tr>\n",
              "      <th>mean</th>\n",
              "      <td>1.372347e+08</td>\n",
              "      <td>2014-12-07 20:13:14.329737984</td>\n",
              "      <td>1.232166e+07</td>\n",
              "      <td>4.977076e+07</td>\n",
              "      <td>1.313466e+08</td>\n",
              "      <td>6.479245</td>\n",
              "      <td>8.003072e+07</td>\n",
              "      <td>1.353371e+08</td>\n",
              "    </tr>\n",
              "    <tr>\n",
              "      <th>min</th>\n",
              "      <td>1.811096e+06</td>\n",
              "      <td>2010-01-11 12:00:00</td>\n",
              "      <td>0.000000e+00</td>\n",
              "      <td>0.000000e+00</td>\n",
              "      <td>0.000000e+00</td>\n",
              "      <td>1.000000</td>\n",
              "      <td>0.000000e+00</td>\n",
              "      <td>6.000000e+06</td>\n",
              "    </tr>\n",
              "    <tr>\n",
              "      <th>25%</th>\n",
              "      <td>1.140033e+08</td>\n",
              "      <td>2012-04-09 12:00:00</td>\n",
              "      <td>0.000000e+00</td>\n",
              "      <td>2.500000e+07</td>\n",
              "      <td>4.289500e+07</td>\n",
              "      <td>5.900000</td>\n",
              "      <td>8.297700e+04</td>\n",
              "      <td>4.616886e+07</td>\n",
              "    </tr>\n",
              "    <tr>\n",
              "      <th>50%</th>\n",
              "      <td>1.210167e+08</td>\n",
              "      <td>2014-12-09 12:00:00</td>\n",
              "      <td>0.000000e+00</td>\n",
              "      <td>3.000000e+07</td>\n",
              "      <td>7.059059e+07</td>\n",
              "      <td>6.600000</td>\n",
              "      <td>2.617932e+06</td>\n",
              "      <td>7.500000e+07</td>\n",
              "    </tr>\n",
              "    <tr>\n",
              "      <th>75%</th>\n",
              "      <td>1.240026e+08</td>\n",
              "      <td>2017-06-20 06:00:00</td>\n",
              "      <td>1.500000e+07</td>\n",
              "      <td>4.412500e+07</td>\n",
              "      <td>1.500064e+08</td>\n",
              "      <td>7.200000</td>\n",
              "      <td>2.859579e+07</td>\n",
              "      <td>1.548037e+08</td>\n",
              "    </tr>\n",
              "    <tr>\n",
              "      <th>max</th>\n",
              "      <td>2.310011e+08</td>\n",
              "      <td>2019-12-30 12:00:00</td>\n",
              "      <td>1.800000e+08</td>\n",
              "      <td>4.000000e+08</td>\n",
              "      <td>2.305074e+09</td>\n",
              "      <td>9.200000</td>\n",
              "      <td>3.073569e+09</td>\n",
              "      <td>2.305074e+09</td>\n",
              "    </tr>\n",
              "    <tr>\n",
              "      <th>std</th>\n",
              "      <td>3.988400e+07</td>\n",
              "      <td>NaN</td>\n",
              "      <td>2.546111e+07</td>\n",
              "      <td>6.122000e+07</td>\n",
              "      <td>1.929207e+08</td>\n",
              "      <td>1.101665</td>\n",
              "      <td>2.461491e+08</td>\n",
              "      <td>1.914867e+08</td>\n",
              "    </tr>\n",
              "  </tbody>\n",
              "</table>\n",
              "</div>\n",
              "    <div class=\"colab-df-buttons\">\n",
              "\n",
              "  <div class=\"colab-df-container\">\n",
              "    <button class=\"colab-df-convert\" onclick=\"convertToInteractive('df-16775aa8-2486-4f46-91f8-c1016dddf1ff')\"\n",
              "            title=\"Convert this dataframe to an interactive table.\"\n",
              "            style=\"display:none;\">\n",
              "\n",
              "  <svg xmlns=\"http://www.w3.org/2000/svg\" height=\"24px\" viewBox=\"0 -960 960 960\">\n",
              "    <path d=\"M120-120v-720h720v720H120Zm60-500h600v-160H180v160Zm220 220h160v-160H400v160Zm0 220h160v-160H400v160ZM180-400h160v-160H180v160Zm440 0h160v-160H620v160ZM180-180h160v-160H180v160Zm440 0h160v-160H620v160Z\"/>\n",
              "  </svg>\n",
              "    </button>\n",
              "\n",
              "  <style>\n",
              "    .colab-df-container {\n",
              "      display:flex;\n",
              "      gap: 12px;\n",
              "    }\n",
              "\n",
              "    .colab-df-convert {\n",
              "      background-color: #E8F0FE;\n",
              "      border: none;\n",
              "      border-radius: 50%;\n",
              "      cursor: pointer;\n",
              "      display: none;\n",
              "      fill: #1967D2;\n",
              "      height: 32px;\n",
              "      padding: 0 0 0 0;\n",
              "      width: 32px;\n",
              "    }\n",
              "\n",
              "    .colab-df-convert:hover {\n",
              "      background-color: #E2EBFA;\n",
              "      box-shadow: 0px 1px 2px rgba(60, 64, 67, 0.3), 0px 1px 3px 1px rgba(60, 64, 67, 0.15);\n",
              "      fill: #174EA6;\n",
              "    }\n",
              "\n",
              "    .colab-df-buttons div {\n",
              "      margin-bottom: 4px;\n",
              "    }\n",
              "\n",
              "    [theme=dark] .colab-df-convert {\n",
              "      background-color: #3B4455;\n",
              "      fill: #D2E3FC;\n",
              "    }\n",
              "\n",
              "    [theme=dark] .colab-df-convert:hover {\n",
              "      background-color: #434B5C;\n",
              "      box-shadow: 0px 1px 3px 1px rgba(0, 0, 0, 0.15);\n",
              "      filter: drop-shadow(0px 1px 2px rgba(0, 0, 0, 0.3));\n",
              "      fill: #FFFFFF;\n",
              "    }\n",
              "  </style>\n",
              "\n",
              "    <script>\n",
              "      const buttonEl =\n",
              "        document.querySelector('#df-16775aa8-2486-4f46-91f8-c1016dddf1ff button.colab-df-convert');\n",
              "      buttonEl.style.display =\n",
              "        google.colab.kernel.accessAllowed ? 'block' : 'none';\n",
              "\n",
              "      async function convertToInteractive(key) {\n",
              "        const element = document.querySelector('#df-16775aa8-2486-4f46-91f8-c1016dddf1ff');\n",
              "        const dataTable =\n",
              "          await google.colab.kernel.invokeFunction('convertToInteractive',\n",
              "                                                    [key], {});\n",
              "        if (!dataTable) return;\n",
              "\n",
              "        const docLinkHtml = 'Like what you see? Visit the ' +\n",
              "          '<a target=\"_blank\" href=https://colab.research.google.com/notebooks/data_table.ipynb>data table notebook</a>'\n",
              "          + ' to learn more about interactive tables.';\n",
              "        element.innerHTML = '';\n",
              "        dataTable['output_type'] = 'display_data';\n",
              "        await google.colab.output.renderOutput(dataTable, element);\n",
              "        const docLink = document.createElement('div');\n",
              "        docLink.innerHTML = docLinkHtml;\n",
              "        element.appendChild(docLink);\n",
              "      }\n",
              "    </script>\n",
              "  </div>\n",
              "\n",
              "\n",
              "<div id=\"df-e3bcef3d-6be3-4853-b1a3-79077e69cd9d\">\n",
              "  <button class=\"colab-df-quickchart\" onclick=\"quickchart('df-e3bcef3d-6be3-4853-b1a3-79077e69cd9d')\"\n",
              "            title=\"Suggest charts\"\n",
              "            style=\"display:none;\">\n",
              "\n",
              "<svg xmlns=\"http://www.w3.org/2000/svg\" height=\"24px\"viewBox=\"0 0 24 24\"\n",
              "     width=\"24px\">\n",
              "    <g>\n",
              "        <path d=\"M19 3H5c-1.1 0-2 .9-2 2v14c0 1.1.9 2 2 2h14c1.1 0 2-.9 2-2V5c0-1.1-.9-2-2-2zM9 17H7v-7h2v7zm4 0h-2V7h2v10zm4 0h-2v-4h2v4z\"/>\n",
              "    </g>\n",
              "</svg>\n",
              "  </button>\n",
              "\n",
              "<style>\n",
              "  .colab-df-quickchart {\n",
              "      --bg-color: #E8F0FE;\n",
              "      --fill-color: #1967D2;\n",
              "      --hover-bg-color: #E2EBFA;\n",
              "      --hover-fill-color: #174EA6;\n",
              "      --disabled-fill-color: #AAA;\n",
              "      --disabled-bg-color: #DDD;\n",
              "  }\n",
              "\n",
              "  [theme=dark] .colab-df-quickchart {\n",
              "      --bg-color: #3B4455;\n",
              "      --fill-color: #D2E3FC;\n",
              "      --hover-bg-color: #434B5C;\n",
              "      --hover-fill-color: #FFFFFF;\n",
              "      --disabled-bg-color: #3B4455;\n",
              "      --disabled-fill-color: #666;\n",
              "  }\n",
              "\n",
              "  .colab-df-quickchart {\n",
              "    background-color: var(--bg-color);\n",
              "    border: none;\n",
              "    border-radius: 50%;\n",
              "    cursor: pointer;\n",
              "    display: none;\n",
              "    fill: var(--fill-color);\n",
              "    height: 32px;\n",
              "    padding: 0;\n",
              "    width: 32px;\n",
              "  }\n",
              "\n",
              "  .colab-df-quickchart:hover {\n",
              "    background-color: var(--hover-bg-color);\n",
              "    box-shadow: 0 1px 2px rgba(60, 64, 67, 0.3), 0 1px 3px 1px rgba(60, 64, 67, 0.15);\n",
              "    fill: var(--button-hover-fill-color);\n",
              "  }\n",
              "\n",
              "  .colab-df-quickchart-complete:disabled,\n",
              "  .colab-df-quickchart-complete:disabled:hover {\n",
              "    background-color: var(--disabled-bg-color);\n",
              "    fill: var(--disabled-fill-color);\n",
              "    box-shadow: none;\n",
              "  }\n",
              "\n",
              "  .colab-df-spinner {\n",
              "    border: 2px solid var(--fill-color);\n",
              "    border-color: transparent;\n",
              "    border-bottom-color: var(--fill-color);\n",
              "    animation:\n",
              "      spin 1s steps(1) infinite;\n",
              "  }\n",
              "\n",
              "  @keyframes spin {\n",
              "    0% {\n",
              "      border-color: transparent;\n",
              "      border-bottom-color: var(--fill-color);\n",
              "      border-left-color: var(--fill-color);\n",
              "    }\n",
              "    20% {\n",
              "      border-color: transparent;\n",
              "      border-left-color: var(--fill-color);\n",
              "      border-top-color: var(--fill-color);\n",
              "    }\n",
              "    30% {\n",
              "      border-color: transparent;\n",
              "      border-left-color: var(--fill-color);\n",
              "      border-top-color: var(--fill-color);\n",
              "      border-right-color: var(--fill-color);\n",
              "    }\n",
              "    40% {\n",
              "      border-color: transparent;\n",
              "      border-right-color: var(--fill-color);\n",
              "      border-top-color: var(--fill-color);\n",
              "    }\n",
              "    60% {\n",
              "      border-color: transparent;\n",
              "      border-right-color: var(--fill-color);\n",
              "    }\n",
              "    80% {\n",
              "      border-color: transparent;\n",
              "      border-right-color: var(--fill-color);\n",
              "      border-bottom-color: var(--fill-color);\n",
              "    }\n",
              "    90% {\n",
              "      border-color: transparent;\n",
              "      border-bottom-color: var(--fill-color);\n",
              "    }\n",
              "  }\n",
              "</style>\n",
              "\n",
              "  <script>\n",
              "    async function quickchart(key) {\n",
              "      const quickchartButtonEl =\n",
              "        document.querySelector('#' + key + ' button');\n",
              "      quickchartButtonEl.disabled = true;  // To prevent multiple clicks.\n",
              "      quickchartButtonEl.classList.add('colab-df-spinner');\n",
              "      try {\n",
              "        const charts = await google.colab.kernel.invokeFunction(\n",
              "            'suggestCharts', [key], {});\n",
              "      } catch (error) {\n",
              "        console.error('Error during call to suggestCharts:', error);\n",
              "      }\n",
              "      quickchartButtonEl.classList.remove('colab-df-spinner');\n",
              "      quickchartButtonEl.classList.add('colab-df-quickchart-complete');\n",
              "    }\n",
              "    (() => {\n",
              "      let quickchartButtonEl =\n",
              "        document.querySelector('#df-e3bcef3d-6be3-4853-b1a3-79077e69cd9d button');\n",
              "      quickchartButtonEl.style.display =\n",
              "        google.colab.kernel.accessAllowed ? 'block' : 'none';\n",
              "    })();\n",
              "  </script>\n",
              "</div>\n",
              "    </div>\n",
              "  </div>\n"
            ],
            "application/vnd.google.colaboratory.intrinsic+json": {
              "type": "dataframe",
              "summary": "{\n  \"name\": \"df\",\n  \"rows\": 8,\n  \"fields\": [\n    {\n      \"column\": \"puNumber\",\n      \"properties\": {\n        \"dtype\": \"number\",\n        \"std\": 78280539.30379628,\n        \"min\": 6490.0,\n        \"max\": 231001111.0,\n        \"num_unique_values\": 8,\n        \"samples\": [\n          137234739.3624037,\n          124002613.75,\n          6490.0\n        ],\n        \"semantic_type\": \"\",\n        \"description\": \"\"\n      }\n    },\n    {\n      \"column\": \"show_start_date\",\n      \"properties\": {\n        \"dtype\": \"date\",\n        \"min\": \"1970-01-01 00:00:00.000006490\",\n        \"max\": \"2019-12-30 12:00:00\",\n        \"num_unique_values\": 7,\n        \"samples\": [\n          \"6490\",\n          \"2014-12-07 20:13:14.329737984\",\n          \"2017-06-20 06:00:00\"\n        ],\n        \"semantic_type\": \"\",\n        \"description\": \"\"\n      }\n    },\n    {\n      \"column\": \"refundable_support\",\n      \"properties\": {\n        \"dtype\": \"number\",\n        \"std\": 61703896.6618949,\n        \"min\": 0.0,\n        \"max\": 180000000.0,\n        \"num_unique_values\": 6,\n        \"samples\": [\n          314.0,\n          12321656.050955415,\n          25461109.008038137\n        ],\n        \"semantic_type\": \"\",\n        \"description\": \"\"\n      }\n    },\n    {\n      \"column\": \"nonrefundable_support\",\n      \"properties\": {\n        \"dtype\": \"number\",\n        \"std\": 132647131.04707712,\n        \"min\": 0.0,\n        \"max\": 400000000.0,\n        \"num_unique_values\": 8,\n        \"samples\": [\n          49770760.65923567,\n          44125000.0,\n          314.0\n        ],\n        \"semantic_type\": \"\",\n        \"description\": \"\"\n      }\n    },\n    {\n      \"column\": \"budget\",\n      \"properties\": {\n        \"dtype\": \"number\",\n        \"std\": 788407234.3762985,\n        \"min\": 0.0,\n        \"max\": 2305074303.0,\n        \"num_unique_values\": 8,\n        \"samples\": [\n          131346630.64012739,\n          150006429.75,\n          314.0\n        ],\n        \"semantic_type\": \"\",\n        \"description\": \"\"\n      }\n    },\n    {\n      \"column\": \"ratings\",\n      \"properties\": {\n        \"dtype\": \"number\",\n        \"std\": 2292.670251220561,\n        \"min\": 1.0,\n        \"max\": 6490.0,\n        \"num_unique_values\": 8,\n        \"samples\": [\n          6.479244992295841,\n          7.2,\n          6490.0\n        ],\n        \"semantic_type\": \"\",\n        \"description\": \"\"\n      }\n    },\n    {\n      \"column\": \"box_office\",\n      \"properties\": {\n        \"dtype\": \"number\",\n        \"std\": 1071922969.3444867,\n        \"min\": 0.0,\n        \"max\": 3073568690.79,\n        \"num_unique_values\": 8,\n        \"samples\": [\n          80030721.41238013,\n          28595788.18,\n          2899.0\n        ],\n        \"semantic_type\": \"\",\n        \"description\": \"\"\n      }\n    },\n    {\n      \"column\": \"corrected_budget\",\n      \"properties\": {\n        \"dtype\": \"number\",\n        \"std\": 787289841.9473027,\n        \"min\": 314.0,\n        \"max\": 2305074303.0,\n        \"num_unique_values\": 8,\n        \"samples\": [\n          135337076.5,\n          154803696.75,\n          314.0\n        ],\n        \"semantic_type\": \"\",\n        \"description\": \"\"\n      }\n    }\n  ]\n}"
            }
          },
          "metadata": {},
          "execution_count": 192
        }
      ]
    },
    {
      "cell_type": "code",
      "source": [
        "df['budget'] = df['corrected_budget']\n",
        "del df['corrected_budget']"
      ],
      "metadata": {
        "id": "8magsHKy9or2"
      },
      "execution_count": 193,
      "outputs": []
    },
    {
      "cell_type": "markdown",
      "source": [
        "**Вывод**\n",
        "Мы заменили нулевые значения в бюджете, где сумма поддержки была больше, чем сам бюджет."
      ],
      "metadata": {
        "id": "YN5EbBTY9xfs"
      }
    },
    {
      "cell_type": "markdown",
      "metadata": {
        "id": "Eu6oWp2CgFyS"
      },
      "source": [
        "#### Шаг 2.6. Добавьте новые столбцы\n",
        "\n",
        "\n",
        "\n"
      ]
    },
    {
      "cell_type": "markdown",
      "metadata": {
        "id": "7GgW-UpAgFyS"
      },
      "source": [
        "- Создайте столбец с информацией о годе проката. Выделите год из даты премьеры фильма."
      ]
    },
    {
      "cell_type": "code",
      "execution_count": 194,
      "metadata": {
        "id": "I-yd1DkWgFyT",
        "colab": {
          "base_uri": "https://localhost:8080/",
          "height": 188
        },
        "outputId": "da7de5a5-fb1c-4fbb-bc74-874355956753"
      },
      "outputs": [
        {
          "output_type": "execute_result",
          "data": {
            "text/plain": [
              "              title   puNumber     show_start_date            type  \\\n",
              "0  Открытый простор  221048915 2015-11-27 12:00:00  Художественный   \n",
              "\n",
              "                                         film_studio production_country  \\\n",
              "0  Тачстоун Пикчерз, Кобальт Пикчерз, Бикон Пикче...                США   \n",
              "\n",
              "        director                                   producer  \\\n",
              "0  Кевин Костнер  Дэвид Валдес, Кевин Костнер, Джейк Эбертс   \n",
              "\n",
              "               age_restriction  refundable_support  nonrefundable_support  \\\n",
              "0  «18+» - запрещено для детей                 NaN                    NaN   \n",
              "\n",
              "   budget financing_source  ratings                  genres  box_office  \\\n",
              "0     NaN              NaN      7.2  боевик,драма,мелодрама         NaN   \n",
              "\n",
              "   start_year  \n",
              "0        2015  "
            ],
            "text/html": [
              "\n",
              "  <div id=\"df-3ac3defd-70d4-40c1-aec1-f8d774b44762\" class=\"colab-df-container\">\n",
              "    <div>\n",
              "<style scoped>\n",
              "    .dataframe tbody tr th:only-of-type {\n",
              "        vertical-align: middle;\n",
              "    }\n",
              "\n",
              "    .dataframe tbody tr th {\n",
              "        vertical-align: top;\n",
              "    }\n",
              "\n",
              "    .dataframe thead th {\n",
              "        text-align: right;\n",
              "    }\n",
              "</style>\n",
              "<table border=\"1\" class=\"dataframe\">\n",
              "  <thead>\n",
              "    <tr style=\"text-align: right;\">\n",
              "      <th></th>\n",
              "      <th>title</th>\n",
              "      <th>puNumber</th>\n",
              "      <th>show_start_date</th>\n",
              "      <th>type</th>\n",
              "      <th>film_studio</th>\n",
              "      <th>production_country</th>\n",
              "      <th>director</th>\n",
              "      <th>producer</th>\n",
              "      <th>age_restriction</th>\n",
              "      <th>refundable_support</th>\n",
              "      <th>nonrefundable_support</th>\n",
              "      <th>budget</th>\n",
              "      <th>financing_source</th>\n",
              "      <th>ratings</th>\n",
              "      <th>genres</th>\n",
              "      <th>box_office</th>\n",
              "      <th>start_year</th>\n",
              "    </tr>\n",
              "  </thead>\n",
              "  <tbody>\n",
              "    <tr>\n",
              "      <th>0</th>\n",
              "      <td>Открытый простор</td>\n",
              "      <td>221048915</td>\n",
              "      <td>2015-11-27 12:00:00</td>\n",
              "      <td>Художественный</td>\n",
              "      <td>Тачстоун Пикчерз, Кобальт Пикчерз, Бикон Пикче...</td>\n",
              "      <td>США</td>\n",
              "      <td>Кевин Костнер</td>\n",
              "      <td>Дэвид Валдес, Кевин Костнер, Джейк Эбертс</td>\n",
              "      <td>«18+» - запрещено для детей</td>\n",
              "      <td>NaN</td>\n",
              "      <td>NaN</td>\n",
              "      <td>NaN</td>\n",
              "      <td>NaN</td>\n",
              "      <td>7.2</td>\n",
              "      <td>боевик,драма,мелодрама</td>\n",
              "      <td>NaN</td>\n",
              "      <td>2015</td>\n",
              "    </tr>\n",
              "  </tbody>\n",
              "</table>\n",
              "</div>\n",
              "    <div class=\"colab-df-buttons\">\n",
              "\n",
              "  <div class=\"colab-df-container\">\n",
              "    <button class=\"colab-df-convert\" onclick=\"convertToInteractive('df-3ac3defd-70d4-40c1-aec1-f8d774b44762')\"\n",
              "            title=\"Convert this dataframe to an interactive table.\"\n",
              "            style=\"display:none;\">\n",
              "\n",
              "  <svg xmlns=\"http://www.w3.org/2000/svg\" height=\"24px\" viewBox=\"0 -960 960 960\">\n",
              "    <path d=\"M120-120v-720h720v720H120Zm60-500h600v-160H180v160Zm220 220h160v-160H400v160Zm0 220h160v-160H400v160ZM180-400h160v-160H180v160Zm440 0h160v-160H620v160ZM180-180h160v-160H180v160Zm440 0h160v-160H620v160Z\"/>\n",
              "  </svg>\n",
              "    </button>\n",
              "\n",
              "  <style>\n",
              "    .colab-df-container {\n",
              "      display:flex;\n",
              "      gap: 12px;\n",
              "    }\n",
              "\n",
              "    .colab-df-convert {\n",
              "      background-color: #E8F0FE;\n",
              "      border: none;\n",
              "      border-radius: 50%;\n",
              "      cursor: pointer;\n",
              "      display: none;\n",
              "      fill: #1967D2;\n",
              "      height: 32px;\n",
              "      padding: 0 0 0 0;\n",
              "      width: 32px;\n",
              "    }\n",
              "\n",
              "    .colab-df-convert:hover {\n",
              "      background-color: #E2EBFA;\n",
              "      box-shadow: 0px 1px 2px rgba(60, 64, 67, 0.3), 0px 1px 3px 1px rgba(60, 64, 67, 0.15);\n",
              "      fill: #174EA6;\n",
              "    }\n",
              "\n",
              "    .colab-df-buttons div {\n",
              "      margin-bottom: 4px;\n",
              "    }\n",
              "\n",
              "    [theme=dark] .colab-df-convert {\n",
              "      background-color: #3B4455;\n",
              "      fill: #D2E3FC;\n",
              "    }\n",
              "\n",
              "    [theme=dark] .colab-df-convert:hover {\n",
              "      background-color: #434B5C;\n",
              "      box-shadow: 0px 1px 3px 1px rgba(0, 0, 0, 0.15);\n",
              "      filter: drop-shadow(0px 1px 2px rgba(0, 0, 0, 0.3));\n",
              "      fill: #FFFFFF;\n",
              "    }\n",
              "  </style>\n",
              "\n",
              "    <script>\n",
              "      const buttonEl =\n",
              "        document.querySelector('#df-3ac3defd-70d4-40c1-aec1-f8d774b44762 button.colab-df-convert');\n",
              "      buttonEl.style.display =\n",
              "        google.colab.kernel.accessAllowed ? 'block' : 'none';\n",
              "\n",
              "      async function convertToInteractive(key) {\n",
              "        const element = document.querySelector('#df-3ac3defd-70d4-40c1-aec1-f8d774b44762');\n",
              "        const dataTable =\n",
              "          await google.colab.kernel.invokeFunction('convertToInteractive',\n",
              "                                                    [key], {});\n",
              "        if (!dataTable) return;\n",
              "\n",
              "        const docLinkHtml = 'Like what you see? Visit the ' +\n",
              "          '<a target=\"_blank\" href=https://colab.research.google.com/notebooks/data_table.ipynb>data table notebook</a>'\n",
              "          + ' to learn more about interactive tables.';\n",
              "        element.innerHTML = '';\n",
              "        dataTable['output_type'] = 'display_data';\n",
              "        await google.colab.output.renderOutput(dataTable, element);\n",
              "        const docLink = document.createElement('div');\n",
              "        docLink.innerHTML = docLinkHtml;\n",
              "        element.appendChild(docLink);\n",
              "      }\n",
              "    </script>\n",
              "  </div>\n",
              "\n",
              "    </div>\n",
              "  </div>\n"
            ],
            "application/vnd.google.colaboratory.intrinsic+json": {
              "type": "dataframe",
              "variable_name": "df",
              "summary": "{\n  \"name\": \"df\",\n  \"rows\": 6490,\n  \"fields\": [\n    {\n      \"column\": \"title\",\n      \"properties\": {\n        \"dtype\": \"string\",\n        \"num_unique_values\": 5785,\n        \"samples\": [\n          \"\\u0413\\u0440\\u0435\\u0439\\u0441\\u0444\\u0438\\u043b\\u0434\",\n          \"\\u0429\\u0435\\u0433\\u043e\\u043b\",\n          \"\\u041f\\u043e\\u043f\\u0443\\u0433\\u0430\\u0439 Club\"\n        ],\n        \"semantic_type\": \"\",\n        \"description\": \"\"\n      }\n    },\n    {\n      \"column\": \"puNumber\",\n      \"properties\": {\n        \"dtype\": \"number\",\n        \"std\": 39884002,\n        \"min\": 1811096,\n        \"max\": 231001111,\n        \"num_unique_values\": 6488,\n        \"samples\": [\n          121033616,\n          112004918,\n          221028011\n        ],\n        \"semantic_type\": \"\",\n        \"description\": \"\"\n      }\n    },\n    {\n      \"column\": \"show_start_date\",\n      \"properties\": {\n        \"dtype\": \"date\",\n        \"min\": \"2010-01-11 12:00:00\",\n        \"max\": \"2019-12-30 12:00:00\",\n        \"num_unique_values\": 1803,\n        \"samples\": [\n          \"2016-10-06 12:00:00\",\n          \"2015-10-15 12:00:00\",\n          \"2018-12-13 12:00:00\"\n        ],\n        \"semantic_type\": \"\",\n        \"description\": \"\"\n      }\n    },\n    {\n      \"column\": \"type\",\n      \"properties\": {\n        \"dtype\": \"category\",\n        \"num_unique_values\": 6,\n        \"samples\": [\n          \"\\u0425\\u0443\\u0434\\u043e\\u0436\\u0435\\u0441\\u0442\\u0432\\u0435\\u043d\\u043d\\u044b\\u0439\",\n          \"\\u0410\\u043d\\u0438\\u043c\\u0430\\u0446\\u0438\\u043e\\u043d\\u043d\\u044b\\u0439\",\n          \"\\u041c\\u0443\\u0437\\u044b\\u043a\\u0430\\u043b\\u044c\\u043d\\u043e-\\u0440\\u0430\\u0437\\u0432\\u043b\\u0435\\u043a\\u0430\\u0442\\u0435\\u043b\\u044c\\u043d\\u044b\\u0439\"\n        ],\n        \"semantic_type\": \"\",\n        \"description\": \"\"\n      }\n    },\n    {\n      \"column\": \"film_studio\",\n      \"properties\": {\n        \"dtype\": \"string\",\n        \"num_unique_values\": 4914,\n        \"samples\": [\n          \"\\u041b\\u0430\\u0439\\u043e\\u043d\\u0441\\u0433\\u0435\\u0439\\u0442, \\u0421\\u0430\\u0431\\u0430\\u043d \\u0411\\u0440\\u044d\\u043d\\u0434\\u0441, \\u0421\\u0430\\u0431\\u0430\\u043d \\u0418\\u043d\\u0442\\u0435\\u0440\\u0442\\u0435\\u0439\\u043d\\u043c\\u0435\\u043d\\u0442, \\u0422\\u0435\\u043c\\u043f\\u043b \\u0425\\u0438\\u043b\\u043b \\u0418\\u043d\\u0442\\u0435\\u0440\\u0442\\u0435\\u0439\\u043d\\u043c\\u0435\\u043d\\u0442, \\u0423\\u043e\\u043b\\u0442 \\u0414\\u0438\\u0441\\u043d\\u0435\\u0439 \\u0421\\u0442\\u0443\\u0434\\u0438\\u043e\\u0441 \\u041c\\u043e\\u0443\\u0448\\u043d \\u041f\\u0438\\u043a\\u0447\\u0435\\u0440\\u0437\",\n          \"\\u041c\\u0430\\u0433\\u043d\\u043e\\u043b\\u0438\\u044f \\u041f\\u0438\\u043a\\u0447\\u0435\\u0440\\u0437\",\n          \"\\u0412\\u0438\\u0434\\u0438\\u0432\\u044d\\u043b\\u043b \\u041f\\u0440\\u043e\\u0434\\u0430\\u043a\\u0448\\u043d, \\u0424\\u0430\\u0441\\u0442\\u043d\\u0435\\u0442 \\u0424\\u0438\\u043b\\u043c\\u0437\"\n        ],\n        \"semantic_type\": \"\",\n        \"description\": \"\"\n      }\n    },\n    {\n      \"column\": \"production_country\",\n      \"properties\": {\n        \"dtype\": \"category\",\n        \"num_unique_values\": 874,\n        \"samples\": [\n          \"\\u0418\\u0440\\u043b\\u0430\\u043d\\u0434\\u0438\\u044f - \\u0421\\u0428\\u0410\",\n          \"\\u041a\\u0430\\u043d\\u0430\\u0434\\u0430 - \\u0413\\u0435\\u0440\\u043c\\u0430\\u043d\\u0438\\u044f\",\n          \"\\u0418\\u0440\\u043b\\u0430\\u043d\\u0434\\u0438\\u044f - \\u0414\\u0430\\u043d\\u0438\\u044f - \\u0411\\u0435\\u043b\\u044c\\u0433\\u0438\\u044f - \\u041b\\u044e\\u043a\\u0441\\u0435\\u043c\\u0431\\u0443\\u0440\\u0433 - \\u0424\\u0440\\u0430\\u043d\\u0446\\u0438\\u044f\"\n        ],\n        \"semantic_type\": \"\",\n        \"description\": \"\"\n      }\n    },\n    {\n      \"column\": \"director\",\n      \"properties\": {\n        \"dtype\": \"string\",\n        \"num_unique_values\": 4125,\n        \"samples\": [\n          \"\\u0421.\\u041e\\u043b\\u044c\\u0434\\u0435\\u043d\\u0431\\u0443\\u0440\\u0433-\\u0421\\u0432\\u0438\\u043d\\u0446\\u043e\\u0432\",\n          \"\\u0410.\\u0422\\u0435\\u043c\\u043d\\u0438\\u043a\\u043e\\u0432\",\n          \"\\u041b\\u0430\\u0441\\u043b\\u043e \\u041d\\u0435\\u043c\\u0435\\u0448\"\n        ],\n        \"semantic_type\": \"\",\n        \"description\": \"\"\n      }\n    },\n    {\n      \"column\": \"producer\",\n      \"properties\": {\n        \"dtype\": \"string\",\n        \"num_unique_values\": 4757,\n        \"samples\": [\n          \"\\u0410\\u043b\\u0435\\u043a\\u0441\\u0430\\u043d\\u0434\\u0440 \\u0434\\u0435 \\u043b\\u0430 \\u041f\\u0430\\u0442\\u0435\\u043b\\u044c\\u0435, \\u0414\\u043c\\u0438\\u0442\\u0440\\u0438\\u0439 \\u0420\\u0430\\u0441\\u0441\\u0430\\u043c\",\n          \"\\u0416\\u0430\\u043d \\u041a\\u043e\\u0442\\u0442\\u0438\\u043d\",\n          \"\\u0414\\u0436\\u0443\\u043b\\u0438 \\u0413\\u043e\\u043b\\u0434\\u043c\\u0430\\u043d, \\u0420\\u043e\\u0434\\u0436\\u0435\\u0440 \\u0420\\u043e\\u0441\\u0441 \\u0423\\u0438\\u043b\\u044c\\u044f\\u043c\\u0441\"\n        ],\n        \"semantic_type\": \"\",\n        \"description\": \"\"\n      }\n    },\n    {\n      \"column\": \"age_restriction\",\n      \"properties\": {\n        \"dtype\": \"category\",\n        \"num_unique_values\": 5,\n        \"samples\": [\n          \"\\u00ab6+\\u00bb - \\u0434\\u043b\\u044f \\u0434\\u0435\\u0442\\u0435\\u0439 \\u0441\\u0442\\u0430\\u0440\\u0448\\u0435 6 \\u043b\\u0435\\u0442\",\n          \"\\u00ab0+\\u00bb - \\u0434\\u043b\\u044f \\u043b\\u044e\\u0431\\u043e\\u0439 \\u0437\\u0440\\u0438\\u0442\\u0435\\u043b\\u044c\\u0441\\u043a\\u043e\\u0439 \\u0430\\u0443\\u0434\\u0438\\u0442\\u043e\\u0440\\u0438\\u0438\",\n          \"\\u00ab12+\\u00bb - \\u0434\\u043b\\u044f \\u0434\\u0435\\u0442\\u0435\\u0439 \\u0441\\u0442\\u0430\\u0440\\u0448\\u0435 12 \\u043b\\u0435\\u0442\"\n        ],\n        \"semantic_type\": \"\",\n        \"description\": \"\"\n      }\n    },\n    {\n      \"column\": \"refundable_support\",\n      \"properties\": {\n        \"dtype\": \"number\",\n        \"std\": 25461109.008038137,\n        \"min\": 0.0,\n        \"max\": 180000000.0,\n        \"num_unique_values\": 34,\n        \"samples\": [\n          3500000.0,\n          110000000.0,\n          7346881.0\n        ],\n        \"semantic_type\": \"\",\n        \"description\": \"\"\n      }\n    },\n    {\n      \"column\": \"nonrefundable_support\",\n      \"properties\": {\n        \"dtype\": \"number\",\n        \"std\": 61219998.23374496,\n        \"min\": 0.0,\n        \"max\": 400000000.0,\n        \"num_unique_values\": 73,\n        \"samples\": [\n          100000000.0,\n          8000000.0,\n          5000000.0\n        ],\n        \"semantic_type\": \"\",\n        \"description\": \"\"\n      }\n    },\n    {\n      \"column\": \"budget\",\n      \"properties\": {\n        \"dtype\": \"number\",\n        \"std\": 191486749.6661242,\n        \"min\": 6000000.0,\n        \"max\": 2305074303.0,\n        \"num_unique_values\": 281,\n        \"samples\": [\n          49280496.0,\n          57767081.0,\n          48000000.0\n        ],\n        \"semantic_type\": \"\",\n        \"description\": \"\"\n      }\n    },\n    {\n      \"column\": \"financing_source\",\n      \"properties\": {\n        \"dtype\": \"category\",\n        \"num_unique_values\": 3,\n        \"samples\": [\n          \"\\u041c\\u0438\\u043d\\u0438\\u0441\\u0442\\u0435\\u0440\\u0441\\u0442\\u0432\\u043e \\u043a\\u0443\\u043b\\u044c\\u0442\\u0443\\u0440\\u044b\",\n          \"\\u0424\\u043e\\u043d\\u0434 \\u043a\\u0438\\u043d\\u043e\",\n          \"\\u041c\\u0438\\u043d\\u0438\\u0441\\u0442\\u0435\\u0440\\u0441\\u0442\\u0432\\u043e \\u043a\\u0443\\u043b\\u044c\\u0442\\u0443\\u0440\\u044b, \\u0424\\u043e\\u043d\\u0434 \\u043a\\u0438\\u043d\\u043e\"\n        ],\n        \"semantic_type\": \"\",\n        \"description\": \"\"\n      }\n    },\n    {\n      \"column\": \"ratings\",\n      \"properties\": {\n        \"dtype\": \"number\",\n        \"std\": 1.1016647974803568,\n        \"min\": 1.0,\n        \"max\": 9.2,\n        \"num_unique_values\": 80,\n        \"samples\": [\n          6.1,\n          7.2,\n          6.7\n        ],\n        \"semantic_type\": \"\",\n        \"description\": \"\"\n      }\n    },\n    {\n      \"column\": \"genres\",\n      \"properties\": {\n        \"dtype\": \"category\",\n        \"num_unique_values\": 739,\n        \"samples\": [\n          \"\\u0444\\u0430\\u043d\\u0442\\u0430\\u0441\\u0442\\u0438\\u043a\\u0430,\\u043a\\u043e\\u043c\\u0435\\u0434\\u0438\\u044f,\\u043f\\u0440\\u0438\\u043a\\u043b\\u044e\\u0447\\u0435\\u043d\\u0438\\u044f\",\n          \"\\u043a\\u043e\\u043d\\u0446\\u0435\\u0440\\u0442,\\u043c\\u0443\\u0437\\u044b\\u043a\\u0430\",\n          \"\\u0434\\u0440\\u0430\\u043c\\u0430,\\u043a\\u043e\\u043c\\u0435\\u0434\\u0438\\u044f,\\u0432\\u0435\\u0441\\u0442\\u0435\\u0440\\u043d\"\n        ],\n        \"semantic_type\": \"\",\n        \"description\": \"\"\n      }\n    },\n    {\n      \"column\": \"box_office\",\n      \"properties\": {\n        \"dtype\": \"number\",\n        \"std\": 246149144.40841523,\n        \"min\": 0.0,\n        \"max\": 3073568690.79,\n        \"num_unique_values\": 2698,\n        \"samples\": [\n          8171896.0,\n          22329257.0,\n          478654.0\n        ],\n        \"semantic_type\": \"\",\n        \"description\": \"\"\n      }\n    },\n    {\n      \"column\": \"start_year\",\n      \"properties\": {\n        \"dtype\": \"int32\",\n        \"num_unique_values\": 10,\n        \"samples\": [\n          2018,\n          2016,\n          2017\n        ],\n        \"semantic_type\": \"\",\n        \"description\": \"\"\n      }\n    }\n  ]\n}"
            }
          },
          "metadata": {},
          "execution_count": 194
        }
      ],
      "source": [
        "df['start_year'] = df['show_start_date'].dt.year\n",
        "df.head(1)"
      ]
    },
    {
      "cell_type": "code",
      "source": [
        "df['start_year'].value_counts()"
      ],
      "metadata": {
        "colab": {
          "base_uri": "https://localhost:8080/"
        },
        "id": "guwAXy8e-VQF",
        "outputId": "c7c7a63e-1882-49fd-9401-f6771ea9bd9f"
      },
      "execution_count": 195,
      "outputs": [
        {
          "output_type": "execute_result",
          "data": {
            "text/plain": [
              "start_year\n",
              "2010    911\n",
              "2014    739\n",
              "2019    722\n",
              "2016    711\n",
              "2018    656\n",
              "2015    615\n",
              "2013    582\n",
              "2011    575\n",
              "2012    545\n",
              "2017    434\n",
              "Name: count, dtype: int64"
            ]
          },
          "metadata": {},
          "execution_count": 195
        }
      ]
    },
    {
      "cell_type": "code",
      "source": [
        "df.loc[(df['director'].isna() == False) & (df['director'].str.contains(','))].head()"
      ],
      "metadata": {
        "colab": {
          "base_uri": "https://localhost:8080/",
          "height": 487
        },
        "id": "C67Rifkx_fZl",
        "outputId": "154e4f18-b487-4db5-e199-c0b5ce47d5be"
      },
      "execution_count": 196,
      "outputs": [
        {
          "output_type": "execute_result",
          "data": {
            "text/plain": [
              "                                                title   puNumber  \\\n",
              "19                                         Неподсуден  111003716   \n",
              "51                                          Бандитки.  221015415   \n",
              "58                             Бесшабашное ограбление  221072814   \n",
              "60  Братец медвежонок /По одноименному произведени...  224029312   \n",
              "71                                  Братья Карамазовы  111012313   \n",
              "\n",
              "       show_start_date            type  \\\n",
              "19 2016-02-12 12:00:00  Художественный   \n",
              "51 2015-04-20 12:00:00  Художественный   \n",
              "58 2014-12-29 12:00:00  Художественный   \n",
              "60 2012-11-19 12:00:00    Анимационный   \n",
              "71 2013-12-19 12:00:00  Художественный   \n",
              "\n",
              "                                          film_studio  \\\n",
              "19                              Киностудия \"Мосфильм\"   \n",
              "51                Европа Корп., ТФ 1 Фильм Продюксьон   \n",
              "58  Нью Маркет, Саммит Интертейнмент, Рэйвинг Мэд ...   \n",
              "60        Уолт Дисней Пикчерз, Буена Виста Интернэшнл   \n",
              "71                              Киностудия \"Мосфильм\"   \n",
              "\n",
              "         production_country                        director  \\\n",
              "19                     СССР       В.Краснопольский, В.Усков   \n",
              "51  Франция - Мексика - США  Иоахим Реннинг, Эспен Сандберг   \n",
              "58                      США      Дрю Дэйуолт, Дэвид Шнейдер   \n",
              "60                      США       Айрон Блейз, Роберт Уокер   \n",
              "71                     СССР   И.Пырьев, М.Ульянов, К.Лавров   \n",
              "\n",
              "                                         producer  \\\n",
              "19                                            NaN   \n",
              "51                      Люк Бессон, Ариель Зейтун   \n",
              "58  Джон Балдеччи, Лоуренс Бендер, Кристофер Болл   \n",
              "60                                    Чак Уильямс   \n",
              "71                                            NaN   \n",
              "\n",
              "                           age_restriction  refundable_support  \\\n",
              "19           «6+» - для детей старше 6 лет                 NaN   \n",
              "51         «12+» - для детей старше 12 лет                 NaN   \n",
              "58             «18+» - запрещено для детей                 NaN   \n",
              "60  «0+» - для любой зрительской аудитории                 NaN   \n",
              "71           «6+» - для детей старше 6 лет                 NaN   \n",
              "\n",
              "    nonrefundable_support  budget financing_source  ratings  \\\n",
              "19                    NaN     NaN              NaN      7.7   \n",
              "51                    NaN     NaN              NaN      6.7   \n",
              "58                    NaN     NaN              NaN      7.1   \n",
              "60                    NaN     NaN              NaN      7.9   \n",
              "71                    NaN     NaN              NaN      8.1   \n",
              "\n",
              "                        genres  box_office  start_year  \n",
              "19                       драма       420.0        2016  \n",
              "51     боевик,комедия,криминал         NaN        2015  \n",
              "58     боевик,комедия,криминал         NaN        2014  \n",
              "60  мультфильм,фэнтези,комедия         NaN        2012  \n",
              "71                       драма         NaN        2013  "
            ],
            "text/html": [
              "\n",
              "  <div id=\"df-464f6f77-320c-4718-b1f8-dd013f226ab1\" class=\"colab-df-container\">\n",
              "    <div>\n",
              "<style scoped>\n",
              "    .dataframe tbody tr th:only-of-type {\n",
              "        vertical-align: middle;\n",
              "    }\n",
              "\n",
              "    .dataframe tbody tr th {\n",
              "        vertical-align: top;\n",
              "    }\n",
              "\n",
              "    .dataframe thead th {\n",
              "        text-align: right;\n",
              "    }\n",
              "</style>\n",
              "<table border=\"1\" class=\"dataframe\">\n",
              "  <thead>\n",
              "    <tr style=\"text-align: right;\">\n",
              "      <th></th>\n",
              "      <th>title</th>\n",
              "      <th>puNumber</th>\n",
              "      <th>show_start_date</th>\n",
              "      <th>type</th>\n",
              "      <th>film_studio</th>\n",
              "      <th>production_country</th>\n",
              "      <th>director</th>\n",
              "      <th>producer</th>\n",
              "      <th>age_restriction</th>\n",
              "      <th>refundable_support</th>\n",
              "      <th>nonrefundable_support</th>\n",
              "      <th>budget</th>\n",
              "      <th>financing_source</th>\n",
              "      <th>ratings</th>\n",
              "      <th>genres</th>\n",
              "      <th>box_office</th>\n",
              "      <th>start_year</th>\n",
              "    </tr>\n",
              "  </thead>\n",
              "  <tbody>\n",
              "    <tr>\n",
              "      <th>19</th>\n",
              "      <td>Неподсуден</td>\n",
              "      <td>111003716</td>\n",
              "      <td>2016-02-12 12:00:00</td>\n",
              "      <td>Художественный</td>\n",
              "      <td>Киностудия \"Мосфильм\"</td>\n",
              "      <td>СССР</td>\n",
              "      <td>В.Краснопольский, В.Усков</td>\n",
              "      <td>NaN</td>\n",
              "      <td>«6+» - для детей старше 6 лет</td>\n",
              "      <td>NaN</td>\n",
              "      <td>NaN</td>\n",
              "      <td>NaN</td>\n",
              "      <td>NaN</td>\n",
              "      <td>7.7</td>\n",
              "      <td>драма</td>\n",
              "      <td>420.0</td>\n",
              "      <td>2016</td>\n",
              "    </tr>\n",
              "    <tr>\n",
              "      <th>51</th>\n",
              "      <td>Бандитки.</td>\n",
              "      <td>221015415</td>\n",
              "      <td>2015-04-20 12:00:00</td>\n",
              "      <td>Художественный</td>\n",
              "      <td>Европа Корп., ТФ 1 Фильм Продюксьон</td>\n",
              "      <td>Франция - Мексика - США</td>\n",
              "      <td>Иоахим Реннинг, Эспен Сандберг</td>\n",
              "      <td>Люк Бессон, Ариель Зейтун</td>\n",
              "      <td>«12+» - для детей старше 12 лет</td>\n",
              "      <td>NaN</td>\n",
              "      <td>NaN</td>\n",
              "      <td>NaN</td>\n",
              "      <td>NaN</td>\n",
              "      <td>6.7</td>\n",
              "      <td>боевик,комедия,криминал</td>\n",
              "      <td>NaN</td>\n",
              "      <td>2015</td>\n",
              "    </tr>\n",
              "    <tr>\n",
              "      <th>58</th>\n",
              "      <td>Бесшабашное ограбление</td>\n",
              "      <td>221072814</td>\n",
              "      <td>2014-12-29 12:00:00</td>\n",
              "      <td>Художественный</td>\n",
              "      <td>Нью Маркет, Саммит Интертейнмент, Рэйвинг Мэд ...</td>\n",
              "      <td>США</td>\n",
              "      <td>Дрю Дэйуолт, Дэвид Шнейдер</td>\n",
              "      <td>Джон Балдеччи, Лоуренс Бендер, Кристофер Болл</td>\n",
              "      <td>«18+» - запрещено для детей</td>\n",
              "      <td>NaN</td>\n",
              "      <td>NaN</td>\n",
              "      <td>NaN</td>\n",
              "      <td>NaN</td>\n",
              "      <td>7.1</td>\n",
              "      <td>боевик,комедия,криминал</td>\n",
              "      <td>NaN</td>\n",
              "      <td>2014</td>\n",
              "    </tr>\n",
              "    <tr>\n",
              "      <th>60</th>\n",
              "      <td>Братец медвежонок /По одноименному произведени...</td>\n",
              "      <td>224029312</td>\n",
              "      <td>2012-11-19 12:00:00</td>\n",
              "      <td>Анимационный</td>\n",
              "      <td>Уолт Дисней Пикчерз, Буена Виста Интернэшнл</td>\n",
              "      <td>США</td>\n",
              "      <td>Айрон Блейз, Роберт Уокер</td>\n",
              "      <td>Чак Уильямс</td>\n",
              "      <td>«0+» - для любой зрительской аудитории</td>\n",
              "      <td>NaN</td>\n",
              "      <td>NaN</td>\n",
              "      <td>NaN</td>\n",
              "      <td>NaN</td>\n",
              "      <td>7.9</td>\n",
              "      <td>мультфильм,фэнтези,комедия</td>\n",
              "      <td>NaN</td>\n",
              "      <td>2012</td>\n",
              "    </tr>\n",
              "    <tr>\n",
              "      <th>71</th>\n",
              "      <td>Братья Карамазовы</td>\n",
              "      <td>111012313</td>\n",
              "      <td>2013-12-19 12:00:00</td>\n",
              "      <td>Художественный</td>\n",
              "      <td>Киностудия \"Мосфильм\"</td>\n",
              "      <td>СССР</td>\n",
              "      <td>И.Пырьев, М.Ульянов, К.Лавров</td>\n",
              "      <td>NaN</td>\n",
              "      <td>«6+» - для детей старше 6 лет</td>\n",
              "      <td>NaN</td>\n",
              "      <td>NaN</td>\n",
              "      <td>NaN</td>\n",
              "      <td>NaN</td>\n",
              "      <td>8.1</td>\n",
              "      <td>драма</td>\n",
              "      <td>NaN</td>\n",
              "      <td>2013</td>\n",
              "    </tr>\n",
              "  </tbody>\n",
              "</table>\n",
              "</div>\n",
              "    <div class=\"colab-df-buttons\">\n",
              "\n",
              "  <div class=\"colab-df-container\">\n",
              "    <button class=\"colab-df-convert\" onclick=\"convertToInteractive('df-464f6f77-320c-4718-b1f8-dd013f226ab1')\"\n",
              "            title=\"Convert this dataframe to an interactive table.\"\n",
              "            style=\"display:none;\">\n",
              "\n",
              "  <svg xmlns=\"http://www.w3.org/2000/svg\" height=\"24px\" viewBox=\"0 -960 960 960\">\n",
              "    <path d=\"M120-120v-720h720v720H120Zm60-500h600v-160H180v160Zm220 220h160v-160H400v160Zm0 220h160v-160H400v160ZM180-400h160v-160H180v160Zm440 0h160v-160H620v160ZM180-180h160v-160H180v160Zm440 0h160v-160H620v160Z\"/>\n",
              "  </svg>\n",
              "    </button>\n",
              "\n",
              "  <style>\n",
              "    .colab-df-container {\n",
              "      display:flex;\n",
              "      gap: 12px;\n",
              "    }\n",
              "\n",
              "    .colab-df-convert {\n",
              "      background-color: #E8F0FE;\n",
              "      border: none;\n",
              "      border-radius: 50%;\n",
              "      cursor: pointer;\n",
              "      display: none;\n",
              "      fill: #1967D2;\n",
              "      height: 32px;\n",
              "      padding: 0 0 0 0;\n",
              "      width: 32px;\n",
              "    }\n",
              "\n",
              "    .colab-df-convert:hover {\n",
              "      background-color: #E2EBFA;\n",
              "      box-shadow: 0px 1px 2px rgba(60, 64, 67, 0.3), 0px 1px 3px 1px rgba(60, 64, 67, 0.15);\n",
              "      fill: #174EA6;\n",
              "    }\n",
              "\n",
              "    .colab-df-buttons div {\n",
              "      margin-bottom: 4px;\n",
              "    }\n",
              "\n",
              "    [theme=dark] .colab-df-convert {\n",
              "      background-color: #3B4455;\n",
              "      fill: #D2E3FC;\n",
              "    }\n",
              "\n",
              "    [theme=dark] .colab-df-convert:hover {\n",
              "      background-color: #434B5C;\n",
              "      box-shadow: 0px 1px 3px 1px rgba(0, 0, 0, 0.15);\n",
              "      filter: drop-shadow(0px 1px 2px rgba(0, 0, 0, 0.3));\n",
              "      fill: #FFFFFF;\n",
              "    }\n",
              "  </style>\n",
              "\n",
              "    <script>\n",
              "      const buttonEl =\n",
              "        document.querySelector('#df-464f6f77-320c-4718-b1f8-dd013f226ab1 button.colab-df-convert');\n",
              "      buttonEl.style.display =\n",
              "        google.colab.kernel.accessAllowed ? 'block' : 'none';\n",
              "\n",
              "      async function convertToInteractive(key) {\n",
              "        const element = document.querySelector('#df-464f6f77-320c-4718-b1f8-dd013f226ab1');\n",
              "        const dataTable =\n",
              "          await google.colab.kernel.invokeFunction('convertToInteractive',\n",
              "                                                    [key], {});\n",
              "        if (!dataTable) return;\n",
              "\n",
              "        const docLinkHtml = 'Like what you see? Visit the ' +\n",
              "          '<a target=\"_blank\" href=https://colab.research.google.com/notebooks/data_table.ipynb>data table notebook</a>'\n",
              "          + ' to learn more about interactive tables.';\n",
              "        element.innerHTML = '';\n",
              "        dataTable['output_type'] = 'display_data';\n",
              "        await google.colab.output.renderOutput(dataTable, element);\n",
              "        const docLink = document.createElement('div');\n",
              "        docLink.innerHTML = docLinkHtml;\n",
              "        element.appendChild(docLink);\n",
              "      }\n",
              "    </script>\n",
              "  </div>\n",
              "\n",
              "\n",
              "<div id=\"df-92e3185d-ea70-4514-8d08-c5593563d9a2\">\n",
              "  <button class=\"colab-df-quickchart\" onclick=\"quickchart('df-92e3185d-ea70-4514-8d08-c5593563d9a2')\"\n",
              "            title=\"Suggest charts\"\n",
              "            style=\"display:none;\">\n",
              "\n",
              "<svg xmlns=\"http://www.w3.org/2000/svg\" height=\"24px\"viewBox=\"0 0 24 24\"\n",
              "     width=\"24px\">\n",
              "    <g>\n",
              "        <path d=\"M19 3H5c-1.1 0-2 .9-2 2v14c0 1.1.9 2 2 2h14c1.1 0 2-.9 2-2V5c0-1.1-.9-2-2-2zM9 17H7v-7h2v7zm4 0h-2V7h2v10zm4 0h-2v-4h2v4z\"/>\n",
              "    </g>\n",
              "</svg>\n",
              "  </button>\n",
              "\n",
              "<style>\n",
              "  .colab-df-quickchart {\n",
              "      --bg-color: #E8F0FE;\n",
              "      --fill-color: #1967D2;\n",
              "      --hover-bg-color: #E2EBFA;\n",
              "      --hover-fill-color: #174EA6;\n",
              "      --disabled-fill-color: #AAA;\n",
              "      --disabled-bg-color: #DDD;\n",
              "  }\n",
              "\n",
              "  [theme=dark] .colab-df-quickchart {\n",
              "      --bg-color: #3B4455;\n",
              "      --fill-color: #D2E3FC;\n",
              "      --hover-bg-color: #434B5C;\n",
              "      --hover-fill-color: #FFFFFF;\n",
              "      --disabled-bg-color: #3B4455;\n",
              "      --disabled-fill-color: #666;\n",
              "  }\n",
              "\n",
              "  .colab-df-quickchart {\n",
              "    background-color: var(--bg-color);\n",
              "    border: none;\n",
              "    border-radius: 50%;\n",
              "    cursor: pointer;\n",
              "    display: none;\n",
              "    fill: var(--fill-color);\n",
              "    height: 32px;\n",
              "    padding: 0;\n",
              "    width: 32px;\n",
              "  }\n",
              "\n",
              "  .colab-df-quickchart:hover {\n",
              "    background-color: var(--hover-bg-color);\n",
              "    box-shadow: 0 1px 2px rgba(60, 64, 67, 0.3), 0 1px 3px 1px rgba(60, 64, 67, 0.15);\n",
              "    fill: var(--button-hover-fill-color);\n",
              "  }\n",
              "\n",
              "  .colab-df-quickchart-complete:disabled,\n",
              "  .colab-df-quickchart-complete:disabled:hover {\n",
              "    background-color: var(--disabled-bg-color);\n",
              "    fill: var(--disabled-fill-color);\n",
              "    box-shadow: none;\n",
              "  }\n",
              "\n",
              "  .colab-df-spinner {\n",
              "    border: 2px solid var(--fill-color);\n",
              "    border-color: transparent;\n",
              "    border-bottom-color: var(--fill-color);\n",
              "    animation:\n",
              "      spin 1s steps(1) infinite;\n",
              "  }\n",
              "\n",
              "  @keyframes spin {\n",
              "    0% {\n",
              "      border-color: transparent;\n",
              "      border-bottom-color: var(--fill-color);\n",
              "      border-left-color: var(--fill-color);\n",
              "    }\n",
              "    20% {\n",
              "      border-color: transparent;\n",
              "      border-left-color: var(--fill-color);\n",
              "      border-top-color: var(--fill-color);\n",
              "    }\n",
              "    30% {\n",
              "      border-color: transparent;\n",
              "      border-left-color: var(--fill-color);\n",
              "      border-top-color: var(--fill-color);\n",
              "      border-right-color: var(--fill-color);\n",
              "    }\n",
              "    40% {\n",
              "      border-color: transparent;\n",
              "      border-right-color: var(--fill-color);\n",
              "      border-top-color: var(--fill-color);\n",
              "    }\n",
              "    60% {\n",
              "      border-color: transparent;\n",
              "      border-right-color: var(--fill-color);\n",
              "    }\n",
              "    80% {\n",
              "      border-color: transparent;\n",
              "      border-right-color: var(--fill-color);\n",
              "      border-bottom-color: var(--fill-color);\n",
              "    }\n",
              "    90% {\n",
              "      border-color: transparent;\n",
              "      border-bottom-color: var(--fill-color);\n",
              "    }\n",
              "  }\n",
              "</style>\n",
              "\n",
              "  <script>\n",
              "    async function quickchart(key) {\n",
              "      const quickchartButtonEl =\n",
              "        document.querySelector('#' + key + ' button');\n",
              "      quickchartButtonEl.disabled = true;  // To prevent multiple clicks.\n",
              "      quickchartButtonEl.classList.add('colab-df-spinner');\n",
              "      try {\n",
              "        const charts = await google.colab.kernel.invokeFunction(\n",
              "            'suggestCharts', [key], {});\n",
              "      } catch (error) {\n",
              "        console.error('Error during call to suggestCharts:', error);\n",
              "      }\n",
              "      quickchartButtonEl.classList.remove('colab-df-spinner');\n",
              "      quickchartButtonEl.classList.add('colab-df-quickchart-complete');\n",
              "    }\n",
              "    (() => {\n",
              "      let quickchartButtonEl =\n",
              "        document.querySelector('#df-92e3185d-ea70-4514-8d08-c5593563d9a2 button');\n",
              "      quickchartButtonEl.style.display =\n",
              "        google.colab.kernel.accessAllowed ? 'block' : 'none';\n",
              "    })();\n",
              "  </script>\n",
              "</div>\n",
              "    </div>\n",
              "  </div>\n"
            ],
            "application/vnd.google.colaboratory.intrinsic+json": {
              "type": "dataframe",
              "repr_error": "0"
            }
          },
          "metadata": {},
          "execution_count": 196
        }
      ]
    },
    {
      "cell_type": "markdown",
      "metadata": {
        "id": "nFTDLDYOgFyT"
      },
      "source": [
        "- Создайте два столбца: с именем и фамилией главного режиссёра и основным жанром фильма. В столбцы войдут первые значения из списка режиссёров и жанров соответственно.\n",
        "\n",
        "<div id=\"accordion\">\n",
        "    <div class=\"card\">\n",
        "        <div class=\"card-header\" id=\"headingThree\">\n",
        "            <button class=\"btn btn-link collapsed\" data-toggle=\"collapse\" data-target=\"#collapseHint_2\" aria-expanded=\"false\" aria-controls=\"collapseHint_2\">Подсказка</button>\n",
        "        </div>\n",
        "        <div id=\"collapseHint_2\" class=\"collapse\" aria-labelledby=\"headingThree\" data-parent=\"#accordion\">\n",
        "            <div class=\"card-body\">\n",
        "Чтобы создать такие столбцы, лучше всего использовать собственную функцию. Эту функцию можно применить к двум столбцам сразу.\n",
        "            </div>\n",
        "        </div>\n",
        "    </div>\n",
        "</div>"
      ]
    },
    {
      "cell_type": "code",
      "execution_count": 197,
      "metadata": {
        "id": "LSbRZKbMgFyU"
      },
      "outputs": [],
      "source": [
        "df['director_first'] = df['director'].str.split(',').str[0].str.strip()\n",
        "df['genre_first'] = df['genres'].str.split(',').str[0].str.strip()"
      ]
    },
    {
      "cell_type": "code",
      "source": [
        "df.head()"
      ],
      "metadata": {
        "colab": {
          "base_uri": "https://localhost:8080/",
          "height": 660
        },
        "id": "iFk5C2tfAU0p",
        "outputId": "fbfae8d6-d75d-41e7-9dd5-b18b70424503"
      },
      "execution_count": 198,
      "outputs": [
        {
          "output_type": "execute_result",
          "data": {
            "text/plain": [
              "                  title   puNumber     show_start_date            type  \\\n",
              "0      Открытый простор  221048915 2015-11-27 12:00:00  Художественный   \n",
              "1  Особо важное задание  111013716 2016-09-13 12:00:00  Художественный   \n",
              "2          Особо опасен  221038416 2016-10-10 12:00:00  Художественный   \n",
              "3          Особо опасен  221026916 2016-06-10 12:00:00  Художественный   \n",
              "4          Особо опасен  221030815 2015-07-29 12:00:00  Художественный   \n",
              "\n",
              "                                         film_studio production_country  \\\n",
              "0  Тачстоун Пикчерз, Кобальт Пикчерз, Бикон Пикче...                США   \n",
              "1                              Киностудия \"Мосфильм\"               СССР   \n",
              "2  Юниверсал Пикчерз, Кикстарт Продакшнз, Марк Пл...                США   \n",
              "3  Юниверсал Пикчерз, Кикстарт Продакшнз, Марк Пл...                США   \n",
              "4  Юниверсал Пикчерз, Кикстарт Продакшнз, Марк Пл...                США   \n",
              "\n",
              "            director                                           producer  \\\n",
              "0      Кевин Костнер          Дэвид Валдес, Кевин Костнер, Джейк Эбертс   \n",
              "1          Е.Матвеев                                                NaN   \n",
              "2  Тимур Бекмамбетов  Джим Лемли, Джейсон Нетер, Марк Е.Платт, Яйн Смит   \n",
              "3  Тимур Бекмамбетов  Джим Лемли, Джейсон Нетер, Марк Е.Платт, Яйн Смит   \n",
              "4  Тимур Бекмамбетов  Джим Лемли, Джейсон Нетер, Марк Е.Платт, Яйн Смит   \n",
              "\n",
              "                 age_restriction  refundable_support  nonrefundable_support  \\\n",
              "0    «18+» - запрещено для детей                 NaN                    NaN   \n",
              "1  «6+» - для детей старше 6 лет                 NaN                    NaN   \n",
              "2    «18+» - запрещено для детей                 NaN                    NaN   \n",
              "3    «18+» - запрещено для детей                 NaN                    NaN   \n",
              "4    «18+» - запрещено для детей                 NaN                    NaN   \n",
              "\n",
              "   budget financing_source  ratings                     genres  box_office  \\\n",
              "0     NaN              NaN      7.2     боевик,драма,мелодрама         NaN   \n",
              "1     NaN              NaN      6.6              драма,военный         NaN   \n",
              "2     NaN              NaN      6.8  фантастика,боевик,триллер         NaN   \n",
              "3     NaN              NaN      6.8  фантастика,боевик,триллер         NaN   \n",
              "4     NaN              NaN      6.8  фантастика,боевик,триллер         NaN   \n",
              "\n",
              "   start_year     director_first genre_first  \n",
              "0        2015      Кевин Костнер      боевик  \n",
              "1        2016          Е.Матвеев       драма  \n",
              "2        2016  Тимур Бекмамбетов  фантастика  \n",
              "3        2016  Тимур Бекмамбетов  фантастика  \n",
              "4        2015  Тимур Бекмамбетов  фантастика  "
            ],
            "text/html": [
              "\n",
              "  <div id=\"df-8991d65a-79c4-4bba-94ed-24d86537878a\" class=\"colab-df-container\">\n",
              "    <div>\n",
              "<style scoped>\n",
              "    .dataframe tbody tr th:only-of-type {\n",
              "        vertical-align: middle;\n",
              "    }\n",
              "\n",
              "    .dataframe tbody tr th {\n",
              "        vertical-align: top;\n",
              "    }\n",
              "\n",
              "    .dataframe thead th {\n",
              "        text-align: right;\n",
              "    }\n",
              "</style>\n",
              "<table border=\"1\" class=\"dataframe\">\n",
              "  <thead>\n",
              "    <tr style=\"text-align: right;\">\n",
              "      <th></th>\n",
              "      <th>title</th>\n",
              "      <th>puNumber</th>\n",
              "      <th>show_start_date</th>\n",
              "      <th>type</th>\n",
              "      <th>film_studio</th>\n",
              "      <th>production_country</th>\n",
              "      <th>director</th>\n",
              "      <th>producer</th>\n",
              "      <th>age_restriction</th>\n",
              "      <th>refundable_support</th>\n",
              "      <th>nonrefundable_support</th>\n",
              "      <th>budget</th>\n",
              "      <th>financing_source</th>\n",
              "      <th>ratings</th>\n",
              "      <th>genres</th>\n",
              "      <th>box_office</th>\n",
              "      <th>start_year</th>\n",
              "      <th>director_first</th>\n",
              "      <th>genre_first</th>\n",
              "    </tr>\n",
              "  </thead>\n",
              "  <tbody>\n",
              "    <tr>\n",
              "      <th>0</th>\n",
              "      <td>Открытый простор</td>\n",
              "      <td>221048915</td>\n",
              "      <td>2015-11-27 12:00:00</td>\n",
              "      <td>Художественный</td>\n",
              "      <td>Тачстоун Пикчерз, Кобальт Пикчерз, Бикон Пикче...</td>\n",
              "      <td>США</td>\n",
              "      <td>Кевин Костнер</td>\n",
              "      <td>Дэвид Валдес, Кевин Костнер, Джейк Эбертс</td>\n",
              "      <td>«18+» - запрещено для детей</td>\n",
              "      <td>NaN</td>\n",
              "      <td>NaN</td>\n",
              "      <td>NaN</td>\n",
              "      <td>NaN</td>\n",
              "      <td>7.2</td>\n",
              "      <td>боевик,драма,мелодрама</td>\n",
              "      <td>NaN</td>\n",
              "      <td>2015</td>\n",
              "      <td>Кевин Костнер</td>\n",
              "      <td>боевик</td>\n",
              "    </tr>\n",
              "    <tr>\n",
              "      <th>1</th>\n",
              "      <td>Особо важное задание</td>\n",
              "      <td>111013716</td>\n",
              "      <td>2016-09-13 12:00:00</td>\n",
              "      <td>Художественный</td>\n",
              "      <td>Киностудия \"Мосфильм\"</td>\n",
              "      <td>СССР</td>\n",
              "      <td>Е.Матвеев</td>\n",
              "      <td>NaN</td>\n",
              "      <td>«6+» - для детей старше 6 лет</td>\n",
              "      <td>NaN</td>\n",
              "      <td>NaN</td>\n",
              "      <td>NaN</td>\n",
              "      <td>NaN</td>\n",
              "      <td>6.6</td>\n",
              "      <td>драма,военный</td>\n",
              "      <td>NaN</td>\n",
              "      <td>2016</td>\n",
              "      <td>Е.Матвеев</td>\n",
              "      <td>драма</td>\n",
              "    </tr>\n",
              "    <tr>\n",
              "      <th>2</th>\n",
              "      <td>Особо опасен</td>\n",
              "      <td>221038416</td>\n",
              "      <td>2016-10-10 12:00:00</td>\n",
              "      <td>Художественный</td>\n",
              "      <td>Юниверсал Пикчерз, Кикстарт Продакшнз, Марк Пл...</td>\n",
              "      <td>США</td>\n",
              "      <td>Тимур Бекмамбетов</td>\n",
              "      <td>Джим Лемли, Джейсон Нетер, Марк Е.Платт, Яйн Смит</td>\n",
              "      <td>«18+» - запрещено для детей</td>\n",
              "      <td>NaN</td>\n",
              "      <td>NaN</td>\n",
              "      <td>NaN</td>\n",
              "      <td>NaN</td>\n",
              "      <td>6.8</td>\n",
              "      <td>фантастика,боевик,триллер</td>\n",
              "      <td>NaN</td>\n",
              "      <td>2016</td>\n",
              "      <td>Тимур Бекмамбетов</td>\n",
              "      <td>фантастика</td>\n",
              "    </tr>\n",
              "    <tr>\n",
              "      <th>3</th>\n",
              "      <td>Особо опасен</td>\n",
              "      <td>221026916</td>\n",
              "      <td>2016-06-10 12:00:00</td>\n",
              "      <td>Художественный</td>\n",
              "      <td>Юниверсал Пикчерз, Кикстарт Продакшнз, Марк Пл...</td>\n",
              "      <td>США</td>\n",
              "      <td>Тимур Бекмамбетов</td>\n",
              "      <td>Джим Лемли, Джейсон Нетер, Марк Е.Платт, Яйн Смит</td>\n",
              "      <td>«18+» - запрещено для детей</td>\n",
              "      <td>NaN</td>\n",
              "      <td>NaN</td>\n",
              "      <td>NaN</td>\n",
              "      <td>NaN</td>\n",
              "      <td>6.8</td>\n",
              "      <td>фантастика,боевик,триллер</td>\n",
              "      <td>NaN</td>\n",
              "      <td>2016</td>\n",
              "      <td>Тимур Бекмамбетов</td>\n",
              "      <td>фантастика</td>\n",
              "    </tr>\n",
              "    <tr>\n",
              "      <th>4</th>\n",
              "      <td>Особо опасен</td>\n",
              "      <td>221030815</td>\n",
              "      <td>2015-07-29 12:00:00</td>\n",
              "      <td>Художественный</td>\n",
              "      <td>Юниверсал Пикчерз, Кикстарт Продакшнз, Марк Пл...</td>\n",
              "      <td>США</td>\n",
              "      <td>Тимур Бекмамбетов</td>\n",
              "      <td>Джим Лемли, Джейсон Нетер, Марк Е.Платт, Яйн Смит</td>\n",
              "      <td>«18+» - запрещено для детей</td>\n",
              "      <td>NaN</td>\n",
              "      <td>NaN</td>\n",
              "      <td>NaN</td>\n",
              "      <td>NaN</td>\n",
              "      <td>6.8</td>\n",
              "      <td>фантастика,боевик,триллер</td>\n",
              "      <td>NaN</td>\n",
              "      <td>2015</td>\n",
              "      <td>Тимур Бекмамбетов</td>\n",
              "      <td>фантастика</td>\n",
              "    </tr>\n",
              "  </tbody>\n",
              "</table>\n",
              "</div>\n",
              "    <div class=\"colab-df-buttons\">\n",
              "\n",
              "  <div class=\"colab-df-container\">\n",
              "    <button class=\"colab-df-convert\" onclick=\"convertToInteractive('df-8991d65a-79c4-4bba-94ed-24d86537878a')\"\n",
              "            title=\"Convert this dataframe to an interactive table.\"\n",
              "            style=\"display:none;\">\n",
              "\n",
              "  <svg xmlns=\"http://www.w3.org/2000/svg\" height=\"24px\" viewBox=\"0 -960 960 960\">\n",
              "    <path d=\"M120-120v-720h720v720H120Zm60-500h600v-160H180v160Zm220 220h160v-160H400v160Zm0 220h160v-160H400v160ZM180-400h160v-160H180v160Zm440 0h160v-160H620v160ZM180-180h160v-160H180v160Zm440 0h160v-160H620v160Z\"/>\n",
              "  </svg>\n",
              "    </button>\n",
              "\n",
              "  <style>\n",
              "    .colab-df-container {\n",
              "      display:flex;\n",
              "      gap: 12px;\n",
              "    }\n",
              "\n",
              "    .colab-df-convert {\n",
              "      background-color: #E8F0FE;\n",
              "      border: none;\n",
              "      border-radius: 50%;\n",
              "      cursor: pointer;\n",
              "      display: none;\n",
              "      fill: #1967D2;\n",
              "      height: 32px;\n",
              "      padding: 0 0 0 0;\n",
              "      width: 32px;\n",
              "    }\n",
              "\n",
              "    .colab-df-convert:hover {\n",
              "      background-color: #E2EBFA;\n",
              "      box-shadow: 0px 1px 2px rgba(60, 64, 67, 0.3), 0px 1px 3px 1px rgba(60, 64, 67, 0.15);\n",
              "      fill: #174EA6;\n",
              "    }\n",
              "\n",
              "    .colab-df-buttons div {\n",
              "      margin-bottom: 4px;\n",
              "    }\n",
              "\n",
              "    [theme=dark] .colab-df-convert {\n",
              "      background-color: #3B4455;\n",
              "      fill: #D2E3FC;\n",
              "    }\n",
              "\n",
              "    [theme=dark] .colab-df-convert:hover {\n",
              "      background-color: #434B5C;\n",
              "      box-shadow: 0px 1px 3px 1px rgba(0, 0, 0, 0.15);\n",
              "      filter: drop-shadow(0px 1px 2px rgba(0, 0, 0, 0.3));\n",
              "      fill: #FFFFFF;\n",
              "    }\n",
              "  </style>\n",
              "\n",
              "    <script>\n",
              "      const buttonEl =\n",
              "        document.querySelector('#df-8991d65a-79c4-4bba-94ed-24d86537878a button.colab-df-convert');\n",
              "      buttonEl.style.display =\n",
              "        google.colab.kernel.accessAllowed ? 'block' : 'none';\n",
              "\n",
              "      async function convertToInteractive(key) {\n",
              "        const element = document.querySelector('#df-8991d65a-79c4-4bba-94ed-24d86537878a');\n",
              "        const dataTable =\n",
              "          await google.colab.kernel.invokeFunction('convertToInteractive',\n",
              "                                                    [key], {});\n",
              "        if (!dataTable) return;\n",
              "\n",
              "        const docLinkHtml = 'Like what you see? Visit the ' +\n",
              "          '<a target=\"_blank\" href=https://colab.research.google.com/notebooks/data_table.ipynb>data table notebook</a>'\n",
              "          + ' to learn more about interactive tables.';\n",
              "        element.innerHTML = '';\n",
              "        dataTable['output_type'] = 'display_data';\n",
              "        await google.colab.output.renderOutput(dataTable, element);\n",
              "        const docLink = document.createElement('div');\n",
              "        docLink.innerHTML = docLinkHtml;\n",
              "        element.appendChild(docLink);\n",
              "      }\n",
              "    </script>\n",
              "  </div>\n",
              "\n",
              "\n",
              "<div id=\"df-f88f0070-a135-4c17-b9df-d5a81725399a\">\n",
              "  <button class=\"colab-df-quickchart\" onclick=\"quickchart('df-f88f0070-a135-4c17-b9df-d5a81725399a')\"\n",
              "            title=\"Suggest charts\"\n",
              "            style=\"display:none;\">\n",
              "\n",
              "<svg xmlns=\"http://www.w3.org/2000/svg\" height=\"24px\"viewBox=\"0 0 24 24\"\n",
              "     width=\"24px\">\n",
              "    <g>\n",
              "        <path d=\"M19 3H5c-1.1 0-2 .9-2 2v14c0 1.1.9 2 2 2h14c1.1 0 2-.9 2-2V5c0-1.1-.9-2-2-2zM9 17H7v-7h2v7zm4 0h-2V7h2v10zm4 0h-2v-4h2v4z\"/>\n",
              "    </g>\n",
              "</svg>\n",
              "  </button>\n",
              "\n",
              "<style>\n",
              "  .colab-df-quickchart {\n",
              "      --bg-color: #E8F0FE;\n",
              "      --fill-color: #1967D2;\n",
              "      --hover-bg-color: #E2EBFA;\n",
              "      --hover-fill-color: #174EA6;\n",
              "      --disabled-fill-color: #AAA;\n",
              "      --disabled-bg-color: #DDD;\n",
              "  }\n",
              "\n",
              "  [theme=dark] .colab-df-quickchart {\n",
              "      --bg-color: #3B4455;\n",
              "      --fill-color: #D2E3FC;\n",
              "      --hover-bg-color: #434B5C;\n",
              "      --hover-fill-color: #FFFFFF;\n",
              "      --disabled-bg-color: #3B4455;\n",
              "      --disabled-fill-color: #666;\n",
              "  }\n",
              "\n",
              "  .colab-df-quickchart {\n",
              "    background-color: var(--bg-color);\n",
              "    border: none;\n",
              "    border-radius: 50%;\n",
              "    cursor: pointer;\n",
              "    display: none;\n",
              "    fill: var(--fill-color);\n",
              "    height: 32px;\n",
              "    padding: 0;\n",
              "    width: 32px;\n",
              "  }\n",
              "\n",
              "  .colab-df-quickchart:hover {\n",
              "    background-color: var(--hover-bg-color);\n",
              "    box-shadow: 0 1px 2px rgba(60, 64, 67, 0.3), 0 1px 3px 1px rgba(60, 64, 67, 0.15);\n",
              "    fill: var(--button-hover-fill-color);\n",
              "  }\n",
              "\n",
              "  .colab-df-quickchart-complete:disabled,\n",
              "  .colab-df-quickchart-complete:disabled:hover {\n",
              "    background-color: var(--disabled-bg-color);\n",
              "    fill: var(--disabled-fill-color);\n",
              "    box-shadow: none;\n",
              "  }\n",
              "\n",
              "  .colab-df-spinner {\n",
              "    border: 2px solid var(--fill-color);\n",
              "    border-color: transparent;\n",
              "    border-bottom-color: var(--fill-color);\n",
              "    animation:\n",
              "      spin 1s steps(1) infinite;\n",
              "  }\n",
              "\n",
              "  @keyframes spin {\n",
              "    0% {\n",
              "      border-color: transparent;\n",
              "      border-bottom-color: var(--fill-color);\n",
              "      border-left-color: var(--fill-color);\n",
              "    }\n",
              "    20% {\n",
              "      border-color: transparent;\n",
              "      border-left-color: var(--fill-color);\n",
              "      border-top-color: var(--fill-color);\n",
              "    }\n",
              "    30% {\n",
              "      border-color: transparent;\n",
              "      border-left-color: var(--fill-color);\n",
              "      border-top-color: var(--fill-color);\n",
              "      border-right-color: var(--fill-color);\n",
              "    }\n",
              "    40% {\n",
              "      border-color: transparent;\n",
              "      border-right-color: var(--fill-color);\n",
              "      border-top-color: var(--fill-color);\n",
              "    }\n",
              "    60% {\n",
              "      border-color: transparent;\n",
              "      border-right-color: var(--fill-color);\n",
              "    }\n",
              "    80% {\n",
              "      border-color: transparent;\n",
              "      border-right-color: var(--fill-color);\n",
              "      border-bottom-color: var(--fill-color);\n",
              "    }\n",
              "    90% {\n",
              "      border-color: transparent;\n",
              "      border-bottom-color: var(--fill-color);\n",
              "    }\n",
              "  }\n",
              "</style>\n",
              "\n",
              "  <script>\n",
              "    async function quickchart(key) {\n",
              "      const quickchartButtonEl =\n",
              "        document.querySelector('#' + key + ' button');\n",
              "      quickchartButtonEl.disabled = true;  // To prevent multiple clicks.\n",
              "      quickchartButtonEl.classList.add('colab-df-spinner');\n",
              "      try {\n",
              "        const charts = await google.colab.kernel.invokeFunction(\n",
              "            'suggestCharts', [key], {});\n",
              "      } catch (error) {\n",
              "        console.error('Error during call to suggestCharts:', error);\n",
              "      }\n",
              "      quickchartButtonEl.classList.remove('colab-df-spinner');\n",
              "      quickchartButtonEl.classList.add('colab-df-quickchart-complete');\n",
              "    }\n",
              "    (() => {\n",
              "      let quickchartButtonEl =\n",
              "        document.querySelector('#df-f88f0070-a135-4c17-b9df-d5a81725399a button');\n",
              "      quickchartButtonEl.style.display =\n",
              "        google.colab.kernel.accessAllowed ? 'block' : 'none';\n",
              "    })();\n",
              "  </script>\n",
              "</div>\n",
              "    </div>\n",
              "  </div>\n"
            ],
            "application/vnd.google.colaboratory.intrinsic+json": {
              "type": "dataframe",
              "variable_name": "df",
              "summary": "{\n  \"name\": \"df\",\n  \"rows\": 6490,\n  \"fields\": [\n    {\n      \"column\": \"title\",\n      \"properties\": {\n        \"dtype\": \"string\",\n        \"num_unique_values\": 5785,\n        \"samples\": [\n          \"\\u0413\\u0440\\u0435\\u0439\\u0441\\u0444\\u0438\\u043b\\u0434\",\n          \"\\u0429\\u0435\\u0433\\u043e\\u043b\",\n          \"\\u041f\\u043e\\u043f\\u0443\\u0433\\u0430\\u0439 Club\"\n        ],\n        \"semantic_type\": \"\",\n        \"description\": \"\"\n      }\n    },\n    {\n      \"column\": \"puNumber\",\n      \"properties\": {\n        \"dtype\": \"number\",\n        \"std\": 39884002,\n        \"min\": 1811096,\n        \"max\": 231001111,\n        \"num_unique_values\": 6488,\n        \"samples\": [\n          121033616,\n          112004918,\n          221028011\n        ],\n        \"semantic_type\": \"\",\n        \"description\": \"\"\n      }\n    },\n    {\n      \"column\": \"show_start_date\",\n      \"properties\": {\n        \"dtype\": \"date\",\n        \"min\": \"2010-01-11 12:00:00\",\n        \"max\": \"2019-12-30 12:00:00\",\n        \"num_unique_values\": 1803,\n        \"samples\": [\n          \"2016-10-06 12:00:00\",\n          \"2015-10-15 12:00:00\",\n          \"2018-12-13 12:00:00\"\n        ],\n        \"semantic_type\": \"\",\n        \"description\": \"\"\n      }\n    },\n    {\n      \"column\": \"type\",\n      \"properties\": {\n        \"dtype\": \"category\",\n        \"num_unique_values\": 6,\n        \"samples\": [\n          \"\\u0425\\u0443\\u0434\\u043e\\u0436\\u0435\\u0441\\u0442\\u0432\\u0435\\u043d\\u043d\\u044b\\u0439\",\n          \"\\u0410\\u043d\\u0438\\u043c\\u0430\\u0446\\u0438\\u043e\\u043d\\u043d\\u044b\\u0439\",\n          \"\\u041c\\u0443\\u0437\\u044b\\u043a\\u0430\\u043b\\u044c\\u043d\\u043e-\\u0440\\u0430\\u0437\\u0432\\u043b\\u0435\\u043a\\u0430\\u0442\\u0435\\u043b\\u044c\\u043d\\u044b\\u0439\"\n        ],\n        \"semantic_type\": \"\",\n        \"description\": \"\"\n      }\n    },\n    {\n      \"column\": \"film_studio\",\n      \"properties\": {\n        \"dtype\": \"string\",\n        \"num_unique_values\": 4914,\n        \"samples\": [\n          \"\\u041b\\u0430\\u0439\\u043e\\u043d\\u0441\\u0433\\u0435\\u0439\\u0442, \\u0421\\u0430\\u0431\\u0430\\u043d \\u0411\\u0440\\u044d\\u043d\\u0434\\u0441, \\u0421\\u0430\\u0431\\u0430\\u043d \\u0418\\u043d\\u0442\\u0435\\u0440\\u0442\\u0435\\u0439\\u043d\\u043c\\u0435\\u043d\\u0442, \\u0422\\u0435\\u043c\\u043f\\u043b \\u0425\\u0438\\u043b\\u043b \\u0418\\u043d\\u0442\\u0435\\u0440\\u0442\\u0435\\u0439\\u043d\\u043c\\u0435\\u043d\\u0442, \\u0423\\u043e\\u043b\\u0442 \\u0414\\u0438\\u0441\\u043d\\u0435\\u0439 \\u0421\\u0442\\u0443\\u0434\\u0438\\u043e\\u0441 \\u041c\\u043e\\u0443\\u0448\\u043d \\u041f\\u0438\\u043a\\u0447\\u0435\\u0440\\u0437\",\n          \"\\u041c\\u0430\\u0433\\u043d\\u043e\\u043b\\u0438\\u044f \\u041f\\u0438\\u043a\\u0447\\u0435\\u0440\\u0437\",\n          \"\\u0412\\u0438\\u0434\\u0438\\u0432\\u044d\\u043b\\u043b \\u041f\\u0440\\u043e\\u0434\\u0430\\u043a\\u0448\\u043d, \\u0424\\u0430\\u0441\\u0442\\u043d\\u0435\\u0442 \\u0424\\u0438\\u043b\\u043c\\u0437\"\n        ],\n        \"semantic_type\": \"\",\n        \"description\": \"\"\n      }\n    },\n    {\n      \"column\": \"production_country\",\n      \"properties\": {\n        \"dtype\": \"category\",\n        \"num_unique_values\": 874,\n        \"samples\": [\n          \"\\u0418\\u0440\\u043b\\u0430\\u043d\\u0434\\u0438\\u044f - \\u0421\\u0428\\u0410\",\n          \"\\u041a\\u0430\\u043d\\u0430\\u0434\\u0430 - \\u0413\\u0435\\u0440\\u043c\\u0430\\u043d\\u0438\\u044f\",\n          \"\\u0418\\u0440\\u043b\\u0430\\u043d\\u0434\\u0438\\u044f - \\u0414\\u0430\\u043d\\u0438\\u044f - \\u0411\\u0435\\u043b\\u044c\\u0433\\u0438\\u044f - \\u041b\\u044e\\u043a\\u0441\\u0435\\u043c\\u0431\\u0443\\u0440\\u0433 - \\u0424\\u0440\\u0430\\u043d\\u0446\\u0438\\u044f\"\n        ],\n        \"semantic_type\": \"\",\n        \"description\": \"\"\n      }\n    },\n    {\n      \"column\": \"director\",\n      \"properties\": {\n        \"dtype\": \"string\",\n        \"num_unique_values\": 4125,\n        \"samples\": [\n          \"\\u0421.\\u041e\\u043b\\u044c\\u0434\\u0435\\u043d\\u0431\\u0443\\u0440\\u0433-\\u0421\\u0432\\u0438\\u043d\\u0446\\u043e\\u0432\",\n          \"\\u0410.\\u0422\\u0435\\u043c\\u043d\\u0438\\u043a\\u043e\\u0432\",\n          \"\\u041b\\u0430\\u0441\\u043b\\u043e \\u041d\\u0435\\u043c\\u0435\\u0448\"\n        ],\n        \"semantic_type\": \"\",\n        \"description\": \"\"\n      }\n    },\n    {\n      \"column\": \"producer\",\n      \"properties\": {\n        \"dtype\": \"string\",\n        \"num_unique_values\": 4757,\n        \"samples\": [\n          \"\\u0410\\u043b\\u0435\\u043a\\u0441\\u0430\\u043d\\u0434\\u0440 \\u0434\\u0435 \\u043b\\u0430 \\u041f\\u0430\\u0442\\u0435\\u043b\\u044c\\u0435, \\u0414\\u043c\\u0438\\u0442\\u0440\\u0438\\u0439 \\u0420\\u0430\\u0441\\u0441\\u0430\\u043c\",\n          \"\\u0416\\u0430\\u043d \\u041a\\u043e\\u0442\\u0442\\u0438\\u043d\",\n          \"\\u0414\\u0436\\u0443\\u043b\\u0438 \\u0413\\u043e\\u043b\\u0434\\u043c\\u0430\\u043d, \\u0420\\u043e\\u0434\\u0436\\u0435\\u0440 \\u0420\\u043e\\u0441\\u0441 \\u0423\\u0438\\u043b\\u044c\\u044f\\u043c\\u0441\"\n        ],\n        \"semantic_type\": \"\",\n        \"description\": \"\"\n      }\n    },\n    {\n      \"column\": \"age_restriction\",\n      \"properties\": {\n        \"dtype\": \"category\",\n        \"num_unique_values\": 5,\n        \"samples\": [\n          \"\\u00ab6+\\u00bb - \\u0434\\u043b\\u044f \\u0434\\u0435\\u0442\\u0435\\u0439 \\u0441\\u0442\\u0430\\u0440\\u0448\\u0435 6 \\u043b\\u0435\\u0442\",\n          \"\\u00ab0+\\u00bb - \\u0434\\u043b\\u044f \\u043b\\u044e\\u0431\\u043e\\u0439 \\u0437\\u0440\\u0438\\u0442\\u0435\\u043b\\u044c\\u0441\\u043a\\u043e\\u0439 \\u0430\\u0443\\u0434\\u0438\\u0442\\u043e\\u0440\\u0438\\u0438\",\n          \"\\u00ab12+\\u00bb - \\u0434\\u043b\\u044f \\u0434\\u0435\\u0442\\u0435\\u0439 \\u0441\\u0442\\u0430\\u0440\\u0448\\u0435 12 \\u043b\\u0435\\u0442\"\n        ],\n        \"semantic_type\": \"\",\n        \"description\": \"\"\n      }\n    },\n    {\n      \"column\": \"refundable_support\",\n      \"properties\": {\n        \"dtype\": \"number\",\n        \"std\": 25461109.008038137,\n        \"min\": 0.0,\n        \"max\": 180000000.0,\n        \"num_unique_values\": 34,\n        \"samples\": [\n          3500000.0,\n          110000000.0,\n          7346881.0\n        ],\n        \"semantic_type\": \"\",\n        \"description\": \"\"\n      }\n    },\n    {\n      \"column\": \"nonrefundable_support\",\n      \"properties\": {\n        \"dtype\": \"number\",\n        \"std\": 61219998.23374496,\n        \"min\": 0.0,\n        \"max\": 400000000.0,\n        \"num_unique_values\": 73,\n        \"samples\": [\n          100000000.0,\n          8000000.0,\n          5000000.0\n        ],\n        \"semantic_type\": \"\",\n        \"description\": \"\"\n      }\n    },\n    {\n      \"column\": \"budget\",\n      \"properties\": {\n        \"dtype\": \"number\",\n        \"std\": 191486749.6661242,\n        \"min\": 6000000.0,\n        \"max\": 2305074303.0,\n        \"num_unique_values\": 281,\n        \"samples\": [\n          49280496.0,\n          57767081.0,\n          48000000.0\n        ],\n        \"semantic_type\": \"\",\n        \"description\": \"\"\n      }\n    },\n    {\n      \"column\": \"financing_source\",\n      \"properties\": {\n        \"dtype\": \"category\",\n        \"num_unique_values\": 3,\n        \"samples\": [\n          \"\\u041c\\u0438\\u043d\\u0438\\u0441\\u0442\\u0435\\u0440\\u0441\\u0442\\u0432\\u043e \\u043a\\u0443\\u043b\\u044c\\u0442\\u0443\\u0440\\u044b\",\n          \"\\u0424\\u043e\\u043d\\u0434 \\u043a\\u0438\\u043d\\u043e\",\n          \"\\u041c\\u0438\\u043d\\u0438\\u0441\\u0442\\u0435\\u0440\\u0441\\u0442\\u0432\\u043e \\u043a\\u0443\\u043b\\u044c\\u0442\\u0443\\u0440\\u044b, \\u0424\\u043e\\u043d\\u0434 \\u043a\\u0438\\u043d\\u043e\"\n        ],\n        \"semantic_type\": \"\",\n        \"description\": \"\"\n      }\n    },\n    {\n      \"column\": \"ratings\",\n      \"properties\": {\n        \"dtype\": \"number\",\n        \"std\": 1.1016647974803568,\n        \"min\": 1.0,\n        \"max\": 9.2,\n        \"num_unique_values\": 80,\n        \"samples\": [\n          6.1,\n          7.2,\n          6.7\n        ],\n        \"semantic_type\": \"\",\n        \"description\": \"\"\n      }\n    },\n    {\n      \"column\": \"genres\",\n      \"properties\": {\n        \"dtype\": \"category\",\n        \"num_unique_values\": 739,\n        \"samples\": [\n          \"\\u0444\\u0430\\u043d\\u0442\\u0430\\u0441\\u0442\\u0438\\u043a\\u0430,\\u043a\\u043e\\u043c\\u0435\\u0434\\u0438\\u044f,\\u043f\\u0440\\u0438\\u043a\\u043b\\u044e\\u0447\\u0435\\u043d\\u0438\\u044f\",\n          \"\\u043a\\u043e\\u043d\\u0446\\u0435\\u0440\\u0442,\\u043c\\u0443\\u0437\\u044b\\u043a\\u0430\",\n          \"\\u0434\\u0440\\u0430\\u043c\\u0430,\\u043a\\u043e\\u043c\\u0435\\u0434\\u0438\\u044f,\\u0432\\u0435\\u0441\\u0442\\u0435\\u0440\\u043d\"\n        ],\n        \"semantic_type\": \"\",\n        \"description\": \"\"\n      }\n    },\n    {\n      \"column\": \"box_office\",\n      \"properties\": {\n        \"dtype\": \"number\",\n        \"std\": 246149144.40841523,\n        \"min\": 0.0,\n        \"max\": 3073568690.79,\n        \"num_unique_values\": 2698,\n        \"samples\": [\n          8171896.0,\n          22329257.0,\n          478654.0\n        ],\n        \"semantic_type\": \"\",\n        \"description\": \"\"\n      }\n    },\n    {\n      \"column\": \"start_year\",\n      \"properties\": {\n        \"dtype\": \"int32\",\n        \"num_unique_values\": 10,\n        \"samples\": [\n          2018,\n          2016,\n          2017\n        ],\n        \"semantic_type\": \"\",\n        \"description\": \"\"\n      }\n    },\n    {\n      \"column\": \"director_first\",\n      \"properties\": {\n        \"dtype\": \"string\",\n        \"num_unique_values\": 3979,\n        \"samples\": [\n          \"\\u0424\\u0440\\u044d\\u043d\\u0441\\u0438\\u0441 \\u0424\\u043e\\u0440\\u0434 \\u041a\\u043e\\u043f\\u043f\\u043e\\u043b\\u0430\",\n          \"\\u0410.\\u0415\\u043c\\u043a\\u0443\\u0436\\u0435\\u0432\",\n          \"\\u0414\\u0438\\u0435\\u0433\\u043e \\u041a\\u0430\\u043f\\u043b\\u0430\\u043d\"\n        ],\n        \"semantic_type\": \"\",\n        \"description\": \"\"\n      }\n    },\n    {\n      \"column\": \"genre_first\",\n      \"properties\": {\n        \"dtype\": \"category\",\n        \"num_unique_values\": 28,\n        \"samples\": [\n          \"\\u0432\\u043e\\u0435\\u043d\\u043d\\u044b\\u0439\",\n          \"\\u043c\\u0443\\u0437\\u044b\\u043a\\u0430\",\n          \"\\u043c\\u0443\\u043b\\u044c\\u0442\\u0444\\u0438\\u043b\\u044c\\u043c\"\n        ],\n        \"semantic_type\": \"\",\n        \"description\": \"\"\n      }\n    }\n  ]\n}"
            }
          },
          "metadata": {},
          "execution_count": 198
        }
      ]
    },
    {
      "cell_type": "markdown",
      "metadata": {
        "id": "1FsCXHwdgFyU"
      },
      "source": [
        "- Посчитайте, какую долю от общего бюджета фильма составляет государственная поддержка."
      ]
    },
    {
      "cell_type": "code",
      "execution_count": 199,
      "metadata": {
        "id": "LV6qFuZLgFyV"
      },
      "outputs": [],
      "source": [
        "df['ratio_help_to_budget'] = (df['refundable_support'] + df['nonrefundable_support']) / df['budget']"
      ]
    },
    {
      "cell_type": "code",
      "source": [
        "df['ratio_help_to_budget'].describe()"
      ],
      "metadata": {
        "colab": {
          "base_uri": "https://localhost:8080/"
        },
        "id": "UdioiQdiBMFN",
        "outputId": "0d97c072-aa7e-4877-a1b6-d83f79d60931"
      },
      "execution_count": 200,
      "outputs": [
        {
          "output_type": "execute_result",
          "data": {
            "text/plain": [
              "count    314.000000\n",
              "mean       0.538433\n",
              "std        0.197780\n",
              "min        0.044043\n",
              "25%        0.377404\n",
              "50%        0.603591\n",
              "75%        0.661047\n",
              "max        1.000000\n",
              "Name: ratio_help_to_budget, dtype: float64"
            ]
          },
          "metadata": {},
          "execution_count": 200
        }
      ]
    },
    {
      "cell_type": "markdown",
      "source": [
        "**Вывод**\n",
        "- В новом столбце указали год премьеры;\n",
        "- в другой столбец вынесли данные о первом режиссёре и жанре;\n",
        "- посчитали, какую долю от бюджета составляет государственная поддержка."
      ],
      "metadata": {
        "id": "HA-nrN1ZBaSf"
      }
    },
    {
      "cell_type": "markdown",
      "metadata": {
        "id": "6t4EukPLgFyV"
      },
      "source": [
        "### Шаг 3. Проведите исследовательский анализ данных\n"
      ]
    },
    {
      "cell_type": "markdown",
      "metadata": {
        "id": "vAH8WCzugFyV"
      },
      "source": [
        "- Посмотрите, сколько фильмов выходило в прокат каждый год. Обратите внимание, что данные о прокате в кинотеатрах известны не для всех фильмов. Посчитайте, какую долю составляют фильмы с указанной информацией о прокате в кинотеатрах."
      ]
    },
    {
      "cell_type": "code",
      "execution_count": 201,
      "metadata": {
        "id": "ABeV47y7gFyW",
        "colab": {
          "base_uri": "https://localhost:8080/"
        },
        "outputId": "c7195b22-11d4-4ecf-94d2-994eaffacef5"
      },
      "outputs": [
        {
          "output_type": "execute_result",
          "data": {
            "text/plain": [
              "start_year\n",
              "2010    102\n",
              "2011    104\n",
              "2012    122\n",
              "2013    180\n",
              "2014    262\n",
              "2015    415\n",
              "2016    464\n",
              "2017    332\n",
              "2018    443\n",
              "2019    475\n",
              "Name: box_office, dtype: int64"
            ]
          },
          "metadata": {},
          "execution_count": 201
        }
      ],
      "source": [
        "df.groupby('start_year')['box_office'].count()"
      ]
    },
    {
      "cell_type": "code",
      "source": [
        "def calculate_ratio(row):\n",
        "    return row['box_office'] / (row['box_office'] + row['count_null']) * 100"
      ],
      "metadata": {
        "id": "0EH9KrvKsg6b"
      },
      "execution_count": 202,
      "outputs": []
    },
    {
      "cell_type": "code",
      "source": [
        "df_all_films = df.groupby('start_year')['box_office'].count().reset_index()\n",
        "df_all_films['count_null'] = df.groupby('start_year')['box_office'].size().to_frame().reset_index()['box_office'] - df.groupby('start_year')['box_office'].count().to_frame().reset_index()['box_office']\n",
        "df_all_films['ratio_in_%'] = df_all_films.apply(calculate_ratio, axis = 1)\n",
        "df_all_films"
      ],
      "metadata": {
        "colab": {
          "base_uri": "https://localhost:8080/",
          "height": 363
        },
        "id": "ZGAd4ZVBleJx",
        "outputId": "400249db-4df6-4e56-c73f-49d96991b610"
      },
      "execution_count": 203,
      "outputs": [
        {
          "output_type": "execute_result",
          "data": {
            "text/plain": [
              "   start_year  box_office  count_null  ratio_in_%\n",
              "0        2010         102         809   11.196487\n",
              "1        2011         104         471   18.086957\n",
              "2        2012         122         423   22.385321\n",
              "3        2013         180         402   30.927835\n",
              "4        2014         262         477   35.453315\n",
              "5        2015         415         200   67.479675\n",
              "6        2016         464         247   65.260197\n",
              "7        2017         332         102   76.497696\n",
              "8        2018         443         213   67.530488\n",
              "9        2019         475         247   65.789474"
            ],
            "text/html": [
              "\n",
              "  <div id=\"df-c9095dc1-9d03-40b8-98ea-1b03438e38f3\" class=\"colab-df-container\">\n",
              "    <div>\n",
              "<style scoped>\n",
              "    .dataframe tbody tr th:only-of-type {\n",
              "        vertical-align: middle;\n",
              "    }\n",
              "\n",
              "    .dataframe tbody tr th {\n",
              "        vertical-align: top;\n",
              "    }\n",
              "\n",
              "    .dataframe thead th {\n",
              "        text-align: right;\n",
              "    }\n",
              "</style>\n",
              "<table border=\"1\" class=\"dataframe\">\n",
              "  <thead>\n",
              "    <tr style=\"text-align: right;\">\n",
              "      <th></th>\n",
              "      <th>start_year</th>\n",
              "      <th>box_office</th>\n",
              "      <th>count_null</th>\n",
              "      <th>ratio_in_%</th>\n",
              "    </tr>\n",
              "  </thead>\n",
              "  <tbody>\n",
              "    <tr>\n",
              "      <th>0</th>\n",
              "      <td>2010</td>\n",
              "      <td>102</td>\n",
              "      <td>809</td>\n",
              "      <td>11.196487</td>\n",
              "    </tr>\n",
              "    <tr>\n",
              "      <th>1</th>\n",
              "      <td>2011</td>\n",
              "      <td>104</td>\n",
              "      <td>471</td>\n",
              "      <td>18.086957</td>\n",
              "    </tr>\n",
              "    <tr>\n",
              "      <th>2</th>\n",
              "      <td>2012</td>\n",
              "      <td>122</td>\n",
              "      <td>423</td>\n",
              "      <td>22.385321</td>\n",
              "    </tr>\n",
              "    <tr>\n",
              "      <th>3</th>\n",
              "      <td>2013</td>\n",
              "      <td>180</td>\n",
              "      <td>402</td>\n",
              "      <td>30.927835</td>\n",
              "    </tr>\n",
              "    <tr>\n",
              "      <th>4</th>\n",
              "      <td>2014</td>\n",
              "      <td>262</td>\n",
              "      <td>477</td>\n",
              "      <td>35.453315</td>\n",
              "    </tr>\n",
              "    <tr>\n",
              "      <th>5</th>\n",
              "      <td>2015</td>\n",
              "      <td>415</td>\n",
              "      <td>200</td>\n",
              "      <td>67.479675</td>\n",
              "    </tr>\n",
              "    <tr>\n",
              "      <th>6</th>\n",
              "      <td>2016</td>\n",
              "      <td>464</td>\n",
              "      <td>247</td>\n",
              "      <td>65.260197</td>\n",
              "    </tr>\n",
              "    <tr>\n",
              "      <th>7</th>\n",
              "      <td>2017</td>\n",
              "      <td>332</td>\n",
              "      <td>102</td>\n",
              "      <td>76.497696</td>\n",
              "    </tr>\n",
              "    <tr>\n",
              "      <th>8</th>\n",
              "      <td>2018</td>\n",
              "      <td>443</td>\n",
              "      <td>213</td>\n",
              "      <td>67.530488</td>\n",
              "    </tr>\n",
              "    <tr>\n",
              "      <th>9</th>\n",
              "      <td>2019</td>\n",
              "      <td>475</td>\n",
              "      <td>247</td>\n",
              "      <td>65.789474</td>\n",
              "    </tr>\n",
              "  </tbody>\n",
              "</table>\n",
              "</div>\n",
              "    <div class=\"colab-df-buttons\">\n",
              "\n",
              "  <div class=\"colab-df-container\">\n",
              "    <button class=\"colab-df-convert\" onclick=\"convertToInteractive('df-c9095dc1-9d03-40b8-98ea-1b03438e38f3')\"\n",
              "            title=\"Convert this dataframe to an interactive table.\"\n",
              "            style=\"display:none;\">\n",
              "\n",
              "  <svg xmlns=\"http://www.w3.org/2000/svg\" height=\"24px\" viewBox=\"0 -960 960 960\">\n",
              "    <path d=\"M120-120v-720h720v720H120Zm60-500h600v-160H180v160Zm220 220h160v-160H400v160Zm0 220h160v-160H400v160ZM180-400h160v-160H180v160Zm440 0h160v-160H620v160ZM180-180h160v-160H180v160Zm440 0h160v-160H620v160Z\"/>\n",
              "  </svg>\n",
              "    </button>\n",
              "\n",
              "  <style>\n",
              "    .colab-df-container {\n",
              "      display:flex;\n",
              "      gap: 12px;\n",
              "    }\n",
              "\n",
              "    .colab-df-convert {\n",
              "      background-color: #E8F0FE;\n",
              "      border: none;\n",
              "      border-radius: 50%;\n",
              "      cursor: pointer;\n",
              "      display: none;\n",
              "      fill: #1967D2;\n",
              "      height: 32px;\n",
              "      padding: 0 0 0 0;\n",
              "      width: 32px;\n",
              "    }\n",
              "\n",
              "    .colab-df-convert:hover {\n",
              "      background-color: #E2EBFA;\n",
              "      box-shadow: 0px 1px 2px rgba(60, 64, 67, 0.3), 0px 1px 3px 1px rgba(60, 64, 67, 0.15);\n",
              "      fill: #174EA6;\n",
              "    }\n",
              "\n",
              "    .colab-df-buttons div {\n",
              "      margin-bottom: 4px;\n",
              "    }\n",
              "\n",
              "    [theme=dark] .colab-df-convert {\n",
              "      background-color: #3B4455;\n",
              "      fill: #D2E3FC;\n",
              "    }\n",
              "\n",
              "    [theme=dark] .colab-df-convert:hover {\n",
              "      background-color: #434B5C;\n",
              "      box-shadow: 0px 1px 3px 1px rgba(0, 0, 0, 0.15);\n",
              "      filter: drop-shadow(0px 1px 2px rgba(0, 0, 0, 0.3));\n",
              "      fill: #FFFFFF;\n",
              "    }\n",
              "  </style>\n",
              "\n",
              "    <script>\n",
              "      const buttonEl =\n",
              "        document.querySelector('#df-c9095dc1-9d03-40b8-98ea-1b03438e38f3 button.colab-df-convert');\n",
              "      buttonEl.style.display =\n",
              "        google.colab.kernel.accessAllowed ? 'block' : 'none';\n",
              "\n",
              "      async function convertToInteractive(key) {\n",
              "        const element = document.querySelector('#df-c9095dc1-9d03-40b8-98ea-1b03438e38f3');\n",
              "        const dataTable =\n",
              "          await google.colab.kernel.invokeFunction('convertToInteractive',\n",
              "                                                    [key], {});\n",
              "        if (!dataTable) return;\n",
              "\n",
              "        const docLinkHtml = 'Like what you see? Visit the ' +\n",
              "          '<a target=\"_blank\" href=https://colab.research.google.com/notebooks/data_table.ipynb>data table notebook</a>'\n",
              "          + ' to learn more about interactive tables.';\n",
              "        element.innerHTML = '';\n",
              "        dataTable['output_type'] = 'display_data';\n",
              "        await google.colab.output.renderOutput(dataTable, element);\n",
              "        const docLink = document.createElement('div');\n",
              "        docLink.innerHTML = docLinkHtml;\n",
              "        element.appendChild(docLink);\n",
              "      }\n",
              "    </script>\n",
              "  </div>\n",
              "\n",
              "\n",
              "<div id=\"df-66a06c5d-4131-4b29-91a6-2a715b824bee\">\n",
              "  <button class=\"colab-df-quickchart\" onclick=\"quickchart('df-66a06c5d-4131-4b29-91a6-2a715b824bee')\"\n",
              "            title=\"Suggest charts\"\n",
              "            style=\"display:none;\">\n",
              "\n",
              "<svg xmlns=\"http://www.w3.org/2000/svg\" height=\"24px\"viewBox=\"0 0 24 24\"\n",
              "     width=\"24px\">\n",
              "    <g>\n",
              "        <path d=\"M19 3H5c-1.1 0-2 .9-2 2v14c0 1.1.9 2 2 2h14c1.1 0 2-.9 2-2V5c0-1.1-.9-2-2-2zM9 17H7v-7h2v7zm4 0h-2V7h2v10zm4 0h-2v-4h2v4z\"/>\n",
              "    </g>\n",
              "</svg>\n",
              "  </button>\n",
              "\n",
              "<style>\n",
              "  .colab-df-quickchart {\n",
              "      --bg-color: #E8F0FE;\n",
              "      --fill-color: #1967D2;\n",
              "      --hover-bg-color: #E2EBFA;\n",
              "      --hover-fill-color: #174EA6;\n",
              "      --disabled-fill-color: #AAA;\n",
              "      --disabled-bg-color: #DDD;\n",
              "  }\n",
              "\n",
              "  [theme=dark] .colab-df-quickchart {\n",
              "      --bg-color: #3B4455;\n",
              "      --fill-color: #D2E3FC;\n",
              "      --hover-bg-color: #434B5C;\n",
              "      --hover-fill-color: #FFFFFF;\n",
              "      --disabled-bg-color: #3B4455;\n",
              "      --disabled-fill-color: #666;\n",
              "  }\n",
              "\n",
              "  .colab-df-quickchart {\n",
              "    background-color: var(--bg-color);\n",
              "    border: none;\n",
              "    border-radius: 50%;\n",
              "    cursor: pointer;\n",
              "    display: none;\n",
              "    fill: var(--fill-color);\n",
              "    height: 32px;\n",
              "    padding: 0;\n",
              "    width: 32px;\n",
              "  }\n",
              "\n",
              "  .colab-df-quickchart:hover {\n",
              "    background-color: var(--hover-bg-color);\n",
              "    box-shadow: 0 1px 2px rgba(60, 64, 67, 0.3), 0 1px 3px 1px rgba(60, 64, 67, 0.15);\n",
              "    fill: var(--button-hover-fill-color);\n",
              "  }\n",
              "\n",
              "  .colab-df-quickchart-complete:disabled,\n",
              "  .colab-df-quickchart-complete:disabled:hover {\n",
              "    background-color: var(--disabled-bg-color);\n",
              "    fill: var(--disabled-fill-color);\n",
              "    box-shadow: none;\n",
              "  }\n",
              "\n",
              "  .colab-df-spinner {\n",
              "    border: 2px solid var(--fill-color);\n",
              "    border-color: transparent;\n",
              "    border-bottom-color: var(--fill-color);\n",
              "    animation:\n",
              "      spin 1s steps(1) infinite;\n",
              "  }\n",
              "\n",
              "  @keyframes spin {\n",
              "    0% {\n",
              "      border-color: transparent;\n",
              "      border-bottom-color: var(--fill-color);\n",
              "      border-left-color: var(--fill-color);\n",
              "    }\n",
              "    20% {\n",
              "      border-color: transparent;\n",
              "      border-left-color: var(--fill-color);\n",
              "      border-top-color: var(--fill-color);\n",
              "    }\n",
              "    30% {\n",
              "      border-color: transparent;\n",
              "      border-left-color: var(--fill-color);\n",
              "      border-top-color: var(--fill-color);\n",
              "      border-right-color: var(--fill-color);\n",
              "    }\n",
              "    40% {\n",
              "      border-color: transparent;\n",
              "      border-right-color: var(--fill-color);\n",
              "      border-top-color: var(--fill-color);\n",
              "    }\n",
              "    60% {\n",
              "      border-color: transparent;\n",
              "      border-right-color: var(--fill-color);\n",
              "    }\n",
              "    80% {\n",
              "      border-color: transparent;\n",
              "      border-right-color: var(--fill-color);\n",
              "      border-bottom-color: var(--fill-color);\n",
              "    }\n",
              "    90% {\n",
              "      border-color: transparent;\n",
              "      border-bottom-color: var(--fill-color);\n",
              "    }\n",
              "  }\n",
              "</style>\n",
              "\n",
              "  <script>\n",
              "    async function quickchart(key) {\n",
              "      const quickchartButtonEl =\n",
              "        document.querySelector('#' + key + ' button');\n",
              "      quickchartButtonEl.disabled = true;  // To prevent multiple clicks.\n",
              "      quickchartButtonEl.classList.add('colab-df-spinner');\n",
              "      try {\n",
              "        const charts = await google.colab.kernel.invokeFunction(\n",
              "            'suggestCharts', [key], {});\n",
              "      } catch (error) {\n",
              "        console.error('Error during call to suggestCharts:', error);\n",
              "      }\n",
              "      quickchartButtonEl.classList.remove('colab-df-spinner');\n",
              "      quickchartButtonEl.classList.add('colab-df-quickchart-complete');\n",
              "    }\n",
              "    (() => {\n",
              "      let quickchartButtonEl =\n",
              "        document.querySelector('#df-66a06c5d-4131-4b29-91a6-2a715b824bee button');\n",
              "      quickchartButtonEl.style.display =\n",
              "        google.colab.kernel.accessAllowed ? 'block' : 'none';\n",
              "    })();\n",
              "  </script>\n",
              "</div>\n",
              "    </div>\n",
              "  </div>\n"
            ],
            "application/vnd.google.colaboratory.intrinsic+json": {
              "type": "dataframe",
              "variable_name": "df_all_films",
              "summary": "{\n  \"name\": \"df_all_films\",\n  \"rows\": 10,\n  \"fields\": [\n    {\n      \"column\": \"start_year\",\n      \"properties\": {\n        \"dtype\": \"int32\",\n        \"num_unique_values\": 10,\n        \"samples\": [\n          2018,\n          2011,\n          2015\n        ],\n        \"semantic_type\": \"\",\n        \"description\": \"\"\n      }\n    },\n    {\n      \"column\": \"box_office\",\n      \"properties\": {\n        \"dtype\": \"number\",\n        \"std\": 155,\n        \"min\": 102,\n        \"max\": 475,\n        \"num_unique_values\": 10,\n        \"samples\": [\n          443,\n          104,\n          415\n        ],\n        \"semantic_type\": \"\",\n        \"description\": \"\"\n      }\n    },\n    {\n      \"column\": \"count_null\",\n      \"properties\": {\n        \"dtype\": \"number\",\n        \"std\": 203,\n        \"min\": 102,\n        \"max\": 809,\n        \"num_unique_values\": 9,\n        \"samples\": [\n          102,\n          471,\n          200\n        ],\n        \"semantic_type\": \"\",\n        \"description\": \"\"\n      }\n    },\n    {\n      \"column\": \"ratio_in_%\",\n      \"properties\": {\n        \"dtype\": \"number\",\n        \"std\": 24.72980119147277,\n        \"min\": 11.19648737650933,\n        \"max\": 76.49769585253456,\n        \"num_unique_values\": 10,\n        \"samples\": [\n          67.53048780487805,\n          18.086956521739133,\n          67.47967479674797\n        ],\n        \"semantic_type\": \"\",\n        \"description\": \"\"\n      }\n    }\n  ]\n}"
            }
          },
          "metadata": {},
          "execution_count": 203
        }
      ]
    },
    {
      "cell_type": "code",
      "source": [
        "from matplotlib.colors import Normalize, to_rgba\n",
        "# Устанавливаем ширину каждого столбца\n",
        "width = 0.6\n",
        "\n",
        "# Создаем список цветов для каждого столбца\n",
        "colors = [to_rgba(plt.cm.tab10(i)) for i in range(len(df))]\n",
        "\n",
        "# Создаем столбчатую диаграмму\n",
        "bars = plt.bar(df_all_films['start_year'], df_all_films['box_office'], width=width, color=colors)\n",
        "\n",
        "# Добавляем название для оси x\n",
        "plt.xlabel('Год')\n",
        "\n",
        "# Добавляем название для оси y\n",
        "plt.ylabel('Количество')\n",
        "\n",
        "# Добавляем заголовок графика\n",
        "plt.title('Кол-во фильмов по годам, показанных в кинотеатрах')\n",
        "\n",
        "# Добавляем подписи категорий\n",
        "plt.xticks(df_all_films['start_year'])\n",
        "\n",
        "# Отображаем график\n",
        "plt.show()"
      ],
      "metadata": {
        "colab": {
          "base_uri": "https://localhost:8080/",
          "height": 472
        },
        "id": "fWVc_mGut50U",
        "outputId": "960eb2fc-4aa1-4afd-9302-7b587e9033f4"
      },
      "execution_count": 204,
      "outputs": [
        {
          "output_type": "display_data",
          "data": {
            "text/plain": [
              "<Figure size 640x480 with 1 Axes>"
            ],
            "image/png": "[encoded data removed]"
          },
          "metadata": {}
        }
      ]
    },
    {
      "cell_type": "code",
      "source": [
        "# Устанавливаем ширину каждого столбца\n",
        "width = 0.6\n",
        "\n",
        "# Создаем список цветов для каждого столбца\n",
        "colors = [to_rgba(plt.cm.tab10(i)) for i in range(len(df))]\n",
        "\n",
        "# Создаем столбчатую диаграмму\n",
        "bars = plt.bar(df_all_films['start_year'], df_all_films['ratio_in_%'], width=width, color=colors)\n",
        "\n",
        "# Добавляем название для оси x\n",
        "plt.xlabel('Год')\n",
        "\n",
        "# Добавляем название для оси y\n",
        "plt.ylabel('Количество')\n",
        "\n",
        "# Добавляем заголовок графика\n",
        "plt.title('Кол-во фильмов по годам, показанных в кинотеатрах')\n",
        "\n",
        "# Добавляем подписи категорий\n",
        "plt.xticks(df_all_films['start_year'])\n",
        "\n",
        "# Отображаем график\n",
        "plt.show()"
      ],
      "metadata": {
        "colab": {
          "base_uri": "https://localhost:8080/",
          "height": 472
        },
        "id": "KKaO71UAwPHY",
        "outputId": "3ad21f6f-51ff-4839-8bef-3fa614054c0a"
      },
      "execution_count": 205,
      "outputs": [
        {
          "output_type": "display_data",
          "data": {
            "text/plain": [
              "<Figure size 640x480 with 1 Axes>"
            ],
            "image/png": "[encoded data removed]"
          },
          "metadata": {}
        }
      ]
    },
    {
      "cell_type": "code",
      "source": [
        "df_all_films.corr()"
      ],
      "metadata": {
        "colab": {
          "base_uri": "https://localhost:8080/",
          "height": 175
        },
        "id": "UWKGJzAHwzRm",
        "outputId": "6e74b910-ae8c-48b8-ad02-b989105f43c6"
      },
      "execution_count": 206,
      "outputs": [
        {
          "output_type": "execute_result",
          "data": {
            "text/plain": [
              "            start_year  box_office  count_null  ratio_in_%\n",
              "start_year    1.000000    0.921354   -0.830617    0.922320\n",
              "box_office    0.921354    1.000000   -0.765775    0.925235\n",
              "count_null   -0.830617   -0.765775    1.000000   -0.904463\n",
              "ratio_in_%    0.922320    0.925235   -0.904463    1.000000"
            ],
            "text/html": [
              "\n",
              "  <div id=\"df-7bed9bf9-14aa-41e9-a5ec-2aa8ab45d4ae\" class=\"colab-df-container\">\n",
              "    <div>\n",
              "<style scoped>\n",
              "    .dataframe tbody tr th:only-of-type {\n",
              "        vertical-align: middle;\n",
              "    }\n",
              "\n",
              "    .dataframe tbody tr th {\n",
              "        vertical-align: top;\n",
              "    }\n",
              "\n",
              "    .dataframe thead th {\n",
              "        text-align: right;\n",
              "    }\n",
              "</style>\n",
              "<table border=\"1\" class=\"dataframe\">\n",
              "  <thead>\n",
              "    <tr style=\"text-align: right;\">\n",
              "      <th></th>\n",
              "      <th>start_year</th>\n",
              "      <th>box_office</th>\n",
              "      <th>count_null</th>\n",
              "      <th>ratio_in_%</th>\n",
              "    </tr>\n",
              "  </thead>\n",
              "  <tbody>\n",
              "    <tr>\n",
              "      <th>start_year</th>\n",
              "      <td>1.000000</td>\n",
              "      <td>0.921354</td>\n",
              "      <td>-0.830617</td>\n",
              "      <td>0.922320</td>\n",
              "    </tr>\n",
              "    <tr>\n",
              "      <th>box_office</th>\n",
              "      <td>0.921354</td>\n",
              "      <td>1.000000</td>\n",
              "      <td>-0.765775</td>\n",
              "      <td>0.925235</td>\n",
              "    </tr>\n",
              "    <tr>\n",
              "      <th>count_null</th>\n",
              "      <td>-0.830617</td>\n",
              "      <td>-0.765775</td>\n",
              "      <td>1.000000</td>\n",
              "      <td>-0.904463</td>\n",
              "    </tr>\n",
              "    <tr>\n",
              "      <th>ratio_in_%</th>\n",
              "      <td>0.922320</td>\n",
              "      <td>0.925235</td>\n",
              "      <td>-0.904463</td>\n",
              "      <td>1.000000</td>\n",
              "    </tr>\n",
              "  </tbody>\n",
              "</table>\n",
              "</div>\n",
              "    <div class=\"colab-df-buttons\">\n",
              "\n",
              "  <div class=\"colab-df-container\">\n",
              "    <button class=\"colab-df-convert\" onclick=\"convertToInteractive('df-7bed9bf9-14aa-41e9-a5ec-2aa8ab45d4ae')\"\n",
              "            title=\"Convert this dataframe to an interactive table.\"\n",
              "            style=\"display:none;\">\n",
              "\n",
              "  <svg xmlns=\"http://www.w3.org/2000/svg\" height=\"24px\" viewBox=\"0 -960 960 960\">\n",
              "    <path d=\"M120-120v-720h720v720H120Zm60-500h600v-160H180v160Zm220 220h160v-160H400v160Zm0 220h160v-160H400v160ZM180-400h160v-160H180v160Zm440 0h160v-160H620v160ZM180-180h160v-160H180v160Zm440 0h160v-160H620v160Z\"/>\n",
              "  </svg>\n",
              "    </button>\n",
              "\n",
              "  <style>\n",
              "    .colab-df-container {\n",
              "      display:flex;\n",
              "      gap: 12px;\n",
              "    }\n",
              "\n",
              "    .colab-df-convert {\n",
              "      background-color: #E8F0FE;\n",
              "      border: none;\n",
              "      border-radius: 50%;\n",
              "      cursor: pointer;\n",
              "      display: none;\n",
              "      fill: #1967D2;\n",
              "      height: 32px;\n",
              "      padding: 0 0 0 0;\n",
              "      width: 32px;\n",
              "    }\n",
              "\n",
              "    .colab-df-convert:hover {\n",
              "      background-color: #E2EBFA;\n",
              "      box-shadow: 0px 1px 2px rgba(60, 64, 67, 0.3), 0px 1px 3px 1px rgba(60, 64, 67, 0.15);\n",
              "      fill: #174EA6;\n",
              "    }\n",
              "\n",
              "    .colab-df-buttons div {\n",
              "      margin-bottom: 4px;\n",
              "    }\n",
              "\n",
              "    [theme=dark] .colab-df-convert {\n",
              "      background-color: #3B4455;\n",
              "      fill: #D2E3FC;\n",
              "    }\n",
              "\n",
              "    [theme=dark] .colab-df-convert:hover {\n",
              "      background-color: #434B5C;\n",
              "      box-shadow: 0px 1px 3px 1px rgba(0, 0, 0, 0.15);\n",
              "      filter: drop-shadow(0px 1px 2px rgba(0, 0, 0, 0.3));\n",
              "      fill: #FFFFFF;\n",
              "    }\n",
              "  </style>\n",
              "\n",
              "    <script>\n",
              "      const buttonEl =\n",
              "        document.querySelector('#df-7bed9bf9-14aa-41e9-a5ec-2aa8ab45d4ae button.colab-df-convert');\n",
              "      buttonEl.style.display =\n",
              "        google.colab.kernel.accessAllowed ? 'block' : 'none';\n",
              "\n",
              "      async function convertToInteractive(key) {\n",
              "        const element = document.querySelector('#df-7bed9bf9-14aa-41e9-a5ec-2aa8ab45d4ae');\n",
              "        const dataTable =\n",
              "          await google.colab.kernel.invokeFunction('convertToInteractive',\n",
              "                                                    [key], {});\n",
              "        if (!dataTable) return;\n",
              "\n",
              "        const docLinkHtml = 'Like what you see? Visit the ' +\n",
              "          '<a target=\"_blank\" href=https://colab.research.google.com/notebooks/data_table.ipynb>data table notebook</a>'\n",
              "          + ' to learn more about interactive tables.';\n",
              "        element.innerHTML = '';\n",
              "        dataTable['output_type'] = 'display_data';\n",
              "        await google.colab.output.renderOutput(dataTable, element);\n",
              "        const docLink = document.createElement('div');\n",
              "        docLink.innerHTML = docLinkHtml;\n",
              "        element.appendChild(docLink);\n",
              "      }\n",
              "    </script>\n",
              "  </div>\n",
              "\n",
              "\n",
              "<div id=\"df-a90eea4a-c900-4097-8296-273132bdc562\">\n",
              "  <button class=\"colab-df-quickchart\" onclick=\"quickchart('df-a90eea4a-c900-4097-8296-273132bdc562')\"\n",
              "            title=\"Suggest charts\"\n",
              "            style=\"display:none;\">\n",
              "\n",
              "<svg xmlns=\"http://www.w3.org/2000/svg\" height=\"24px\"viewBox=\"0 0 24 24\"\n",
              "     width=\"24px\">\n",
              "    <g>\n",
              "        <path d=\"M19 3H5c-1.1 0-2 .9-2 2v14c0 1.1.9 2 2 2h14c1.1 0 2-.9 2-2V5c0-1.1-.9-2-2-2zM9 17H7v-7h2v7zm4 0h-2V7h2v10zm4 0h-2v-4h2v4z\"/>\n",
              "    </g>\n",
              "</svg>\n",
              "  </button>\n",
              "\n",
              "<style>\n",
              "  .colab-df-quickchart {\n",
              "      --bg-color: #E8F0FE;\n",
              "      --fill-color: #1967D2;\n",
              "      --hover-bg-color: #E2EBFA;\n",
              "      --hover-fill-color: #174EA6;\n",
              "      --disabled-fill-color: #AAA;\n",
              "      --disabled-bg-color: #DDD;\n",
              "  }\n",
              "\n",
              "  [theme=dark] .colab-df-quickchart {\n",
              "      --bg-color: #3B4455;\n",
              "      --fill-color: #D2E3FC;\n",
              "      --hover-bg-color: #434B5C;\n",
              "      --hover-fill-color: #FFFFFF;\n",
              "      --disabled-bg-color: #3B4455;\n",
              "      --disabled-fill-color: #666;\n",
              "  }\n",
              "\n",
              "  .colab-df-quickchart {\n",
              "    background-color: var(--bg-color);\n",
              "    border: none;\n",
              "    border-radius: 50%;\n",
              "    cursor: pointer;\n",
              "    display: none;\n",
              "    fill: var(--fill-color);\n",
              "    height: 32px;\n",
              "    padding: 0;\n",
              "    width: 32px;\n",
              "  }\n",
              "\n",
              "  .colab-df-quickchart:hover {\n",
              "    background-color: var(--hover-bg-color);\n",
              "    box-shadow: 0 1px 2px rgba(60, 64, 67, 0.3), 0 1px 3px 1px rgba(60, 64, 67, 0.15);\n",
              "    fill: var(--button-hover-fill-color);\n",
              "  }\n",
              "\n",
              "  .colab-df-quickchart-complete:disabled,\n",
              "  .colab-df-quickchart-complete:disabled:hover {\n",
              "    background-color: var(--disabled-bg-color);\n",
              "    fill: var(--disabled-fill-color);\n",
              "    box-shadow: none;\n",
              "  }\n",
              "\n",
              "  .colab-df-spinner {\n",
              "    border: 2px solid var(--fill-color);\n",
              "    border-color: transparent;\n",
              "    border-bottom-color: var(--fill-color);\n",
              "    animation:\n",
              "      spin 1s steps(1) infinite;\n",
              "  }\n",
              "\n",
              "  @keyframes spin {\n",
              "    0% {\n",
              "      border-color: transparent;\n",
              "      border-bottom-color: var(--fill-color);\n",
              "      border-left-color: var(--fill-color);\n",
              "    }\n",
              "    20% {\n",
              "      border-color: transparent;\n",
              "      border-left-color: var(--fill-color);\n",
              "      border-top-color: var(--fill-color);\n",
              "    }\n",
              "    30% {\n",
              "      border-color: transparent;\n",
              "      border-left-color: var(--fill-color);\n",
              "      border-top-color: var(--fill-color);\n",
              "      border-right-color: var(--fill-color);\n",
              "    }\n",
              "    40% {\n",
              "      border-color: transparent;\n",
              "      border-right-color: var(--fill-color);\n",
              "      border-top-color: var(--fill-color);\n",
              "    }\n",
              "    60% {\n",
              "      border-color: transparent;\n",
              "      border-right-color: var(--fill-color);\n",
              "    }\n",
              "    80% {\n",
              "      border-color: transparent;\n",
              "      border-right-color: var(--fill-color);\n",
              "      border-bottom-color: var(--fill-color);\n",
              "    }\n",
              "    90% {\n",
              "      border-color: transparent;\n",
              "      border-bottom-color: var(--fill-color);\n",
              "    }\n",
              "  }\n",
              "</style>\n",
              "\n",
              "  <script>\n",
              "    async function quickchart(key) {\n",
              "      const quickchartButtonEl =\n",
              "        document.querySelector('#' + key + ' button');\n",
              "      quickchartButtonEl.disabled = true;  // To prevent multiple clicks.\n",
              "      quickchartButtonEl.classList.add('colab-df-spinner');\n",
              "      try {\n",
              "        const charts = await google.colab.kernel.invokeFunction(\n",
              "            'suggestCharts', [key], {});\n",
              "      } catch (error) {\n",
              "        console.error('Error during call to suggestCharts:', error);\n",
              "      }\n",
              "      quickchartButtonEl.classList.remove('colab-df-spinner');\n",
              "      quickchartButtonEl.classList.add('colab-df-quickchart-complete');\n",
              "    }\n",
              "    (() => {\n",
              "      let quickchartButtonEl =\n",
              "        document.querySelector('#df-a90eea4a-c900-4097-8296-273132bdc562 button');\n",
              "      quickchartButtonEl.style.display =\n",
              "        google.colab.kernel.accessAllowed ? 'block' : 'none';\n",
              "    })();\n",
              "  </script>\n",
              "</div>\n",
              "    </div>\n",
              "  </div>\n"
            ],
            "application/vnd.google.colaboratory.intrinsic+json": {
              "type": "dataframe",
              "summary": "{\n  \"name\": \"df_all_films\",\n  \"rows\": 4,\n  \"fields\": [\n    {\n      \"column\": \"start_year\",\n      \"properties\": {\n        \"dtype\": \"number\",\n        \"std\": 0.8900174713618221,\n        \"min\": -0.8306174600639262,\n        \"max\": 1.0,\n        \"num_unique_values\": 4,\n        \"samples\": [\n          0.9213535396317182,\n          0.9223201199173111,\n          1.0\n        ],\n        \"semantic_type\": \"\",\n        \"description\": \"\"\n      }\n    },\n    {\n      \"column\": \"box_office\",\n      \"properties\": {\n        \"dtype\": \"number\",\n        \"std\": 0.8580825488156414,\n        \"min\": -0.765774964039535,\n        \"max\": 1.0,\n        \"num_unique_values\": 4,\n        \"samples\": [\n          1.0,\n          0.9252347778831858,\n          0.9213535396317182\n        ],\n        \"semantic_type\": \"\",\n        \"description\": \"\"\n      }\n    },\n    {\n      \"column\": \"count_null\",\n      \"properties\": {\n        \"dtype\": \"number\",\n        \"std\": 0.9185584036917064,\n        \"min\": -0.9044633732752929,\n        \"max\": 1.0,\n        \"num_unique_values\": 4,\n        \"samples\": [\n          -0.765774964039535,\n          -0.9044633732752929,\n          -0.8306174600639262\n        ],\n        \"semantic_type\": \"\",\n        \"description\": \"\"\n      }\n    },\n    {\n      \"column\": \"ratio_in_%\",\n      \"properties\": {\n        \"dtype\": \"number\",\n        \"std\": 0.9275211809324415,\n        \"min\": -0.9044633732752929,\n        \"max\": 1.0,\n        \"num_unique_values\": 4,\n        \"samples\": [\n          0.9252347778831858,\n          1.0,\n          0.9223201199173111\n        ],\n        \"semantic_type\": \"\",\n        \"description\": \"\"\n      }\n    }\n  ]\n}"
            }
          },
          "metadata": {},
          "execution_count": 206
        }
      ]
    },
    {
      "cell_type": "markdown",
      "source": [
        "**Вывод**\n",
        "\n",
        "Данные в выборке неоднородны. За период с 2010 по 2014 год в кинотеатре было показано меньше всего фильмов по сравнению с другими годами. Это не означает, что в эти годы было наименьшее количество кинопоказов.\n",
        "\n",
        "Наибольшее количество кинопоказов пришлось на 2019 год, хотя доля этих фильмов в нашей выборке за этот год не самая большая по сравнению с другими годами."
      ],
      "metadata": {
        "id": "oMR39VvExyk5"
      }
    },
    {
      "cell_type": "markdown",
      "metadata": {
        "id": "BEOdcIrIgFyW"
      },
      "source": [
        "- Изучите, как менялась динамика проката по годам. В каком году сумма сборов была минимальной? А максимальной?"
      ]
    },
    {
      "cell_type": "code",
      "execution_count": 207,
      "metadata": {
        "id": "tfEhofYvgFyX",
        "colab": {
          "base_uri": "https://localhost:8080/"
        },
        "outputId": "8e03d603-9631-4c97-97a9-eaccbb087ef4"
      },
      "outputs": [
        {
          "output_type": "execute_result",
          "data": {
            "text/plain": [
              "start_year\n",
              "2010    2.417409e+06\n",
              "2011    2.056610e+06\n",
              "2012    6.861208e+06\n",
              "2013    2.967979e+07\n",
              "2014    7.317079e+09\n",
              "2015    3.761280e+10\n",
              "2016    4.580496e+10\n",
              "2017    4.612053e+10\n",
              "2018    4.682029e+10\n",
              "2019    4.829240e+10\n",
              "Name: box_office, dtype: float64"
            ]
          },
          "metadata": {},
          "execution_count": 207
        }
      ],
      "source": [
        "df_trend_box = df.groupby('start_year')['box_office'].agg('sum')\n",
        "df_trend_box"
      ]
    },
    {
      "cell_type": "code",
      "source": [
        "# Строим линейный график\n",
        "plt.plot(df_trend_box)\n",
        "\n",
        "# Добавляем название для оси x\n",
        "plt.xlabel('Год')\n",
        "\n",
        "# Добавляем название для оси y\n",
        "plt.ylabel('Рубли')\n",
        "\n",
        "# Добавляем заголовок графика\n",
        "plt.title('Сумма кассовых сборов фильмов по годам')\n",
        "\n",
        "# Отображаем график\n",
        "plt.show()"
      ],
      "metadata": {
        "colab": {
          "base_uri": "https://localhost:8080/",
          "height": 472
        },
        "id": "f42dkQxgygy2",
        "outputId": "6f9fb7ae-0840-4fd5-e4da-cc012f3b7a37"
      },
      "execution_count": 208,
      "outputs": [
        {
          "output_type": "display_data",
          "data": {
            "text/plain": [
              "<Figure size 640x480 with 1 Axes>"
            ],
            "image/png": "[encoded data removed]"
          },
          "metadata": {}
        }
      ]
    },
    {
      "cell_type": "markdown",
      "source": [
        "**Вывод**\n",
        "\n",
        "В зависимости от того, как считать, можно получить разные результаты. Если учитывать общую сумму сборов за все годы, то максимальный показатель приходится на 2018 год. А вот данные за период с 2010 по 2014 годы не стоит учитывать, так как их меньше всего, поэтому минимальный показатель сборов был зафиксирован в 2015 году."
      ],
      "metadata": {
        "id": "tgxlgwibzcjm"
      }
    },
    {
      "cell_type": "markdown",
      "metadata": {
        "id": "G-7qS-N-gFyY"
      },
      "source": [
        "- С помощью сводной таблицы посчитайте среднюю и медианную сумму сборов для каждого года."
      ]
    },
    {
      "cell_type": "code",
      "execution_count": 209,
      "metadata": {
        "id": "jmp-rgg9gFyY",
        "colab": {
          "base_uri": "https://localhost:8080/",
          "height": 394
        },
        "outputId": "8175ec10-e064-4f1d-dd0d-34aa7cb6c695"
      },
      "outputs": [
        {
          "output_type": "execute_result",
          "data": {
            "text/plain": [
              "                    mean       median\n",
              "start_year                           \n",
              "2010        2.370009e+04      1700.00\n",
              "2011        1.977510e+04      2995.00\n",
              "2012        5.623941e+04      5660.00\n",
              "2013        1.648877e+05      3522.50\n",
              "2014        2.792778e+07     17952.50\n",
              "2015        9.063326e+07   7196756.00\n",
              "2016        9.871758e+07   5281042.10\n",
              "2017        1.389172e+08  10668801.50\n",
              "2018        1.056891e+08  10484019.76\n",
              "2019        1.016682e+08   5731405.10"
            ],
            "text/html": [
              "\n",
              "  <div id=\"df-0b42f6fc-fbe4-4ab9-ab54-40fc7daa7897\" class=\"colab-df-container\">\n",
              "    <div>\n",
              "<style scoped>\n",
              "    .dataframe tbody tr th:only-of-type {\n",
              "        vertical-align: middle;\n",
              "    }\n",
              "\n",
              "    .dataframe tbody tr th {\n",
              "        vertical-align: top;\n",
              "    }\n",
              "\n",
              "    .dataframe thead th {\n",
              "        text-align: right;\n",
              "    }\n",
              "</style>\n",
              "<table border=\"1\" class=\"dataframe\">\n",
              "  <thead>\n",
              "    <tr style=\"text-align: right;\">\n",
              "      <th></th>\n",
              "      <th>mean</th>\n",
              "      <th>median</th>\n",
              "    </tr>\n",
              "    <tr>\n",
              "      <th>start_year</th>\n",
              "      <th></th>\n",
              "      <th></th>\n",
              "    </tr>\n",
              "  </thead>\n",
              "  <tbody>\n",
              "    <tr>\n",
              "      <th>2010</th>\n",
              "      <td>2.370009e+04</td>\n",
              "      <td>1700.00</td>\n",
              "    </tr>\n",
              "    <tr>\n",
              "      <th>2011</th>\n",
              "      <td>1.977510e+04</td>\n",
              "      <td>2995.00</td>\n",
              "    </tr>\n",
              "    <tr>\n",
              "      <th>2012</th>\n",
              "      <td>5.623941e+04</td>\n",
              "      <td>5660.00</td>\n",
              "    </tr>\n",
              "    <tr>\n",
              "      <th>2013</th>\n",
              "      <td>1.648877e+05</td>\n",
              "      <td>3522.50</td>\n",
              "    </tr>\n",
              "    <tr>\n",
              "      <th>2014</th>\n",
              "      <td>2.792778e+07</td>\n",
              "      <td>17952.50</td>\n",
              "    </tr>\n",
              "    <tr>\n",
              "      <th>2015</th>\n",
              "      <td>9.063326e+07</td>\n",
              "      <td>7196756.00</td>\n",
              "    </tr>\n",
              "    <tr>\n",
              "      <th>2016</th>\n",
              "      <td>9.871758e+07</td>\n",
              "      <td>5281042.10</td>\n",
              "    </tr>\n",
              "    <tr>\n",
              "      <th>2017</th>\n",
              "      <td>1.389172e+08</td>\n",
              "      <td>10668801.50</td>\n",
              "    </tr>\n",
              "    <tr>\n",
              "      <th>2018</th>\n",
              "      <td>1.056891e+08</td>\n",
              "      <td>10484019.76</td>\n",
              "    </tr>\n",
              "    <tr>\n",
              "      <th>2019</th>\n",
              "      <td>1.016682e+08</td>\n",
              "      <td>5731405.10</td>\n",
              "    </tr>\n",
              "  </tbody>\n",
              "</table>\n",
              "</div>\n",
              "    <div class=\"colab-df-buttons\">\n",
              "\n",
              "  <div class=\"colab-df-container\">\n",
              "    <button class=\"colab-df-convert\" onclick=\"convertToInteractive('df-0b42f6fc-fbe4-4ab9-ab54-40fc7daa7897')\"\n",
              "            title=\"Convert this dataframe to an interactive table.\"\n",
              "            style=\"display:none;\">\n",
              "\n",
              "  <svg xmlns=\"http://www.w3.org/2000/svg\" height=\"24px\" viewBox=\"0 -960 960 960\">\n",
              "    <path d=\"M120-120v-720h720v720H120Zm60-500h600v-160H180v160Zm220 220h160v-160H400v160Zm0 220h160v-160H400v160ZM180-400h160v-160H180v160Zm440 0h160v-160H620v160ZM180-180h160v-160H180v160Zm440 0h160v-160H620v160Z\"/>\n",
              "  </svg>\n",
              "    </button>\n",
              "\n",
              "  <style>\n",
              "    .colab-df-container {\n",
              "      display:flex;\n",
              "      gap: 12px;\n",
              "    }\n",
              "\n",
              "    .colab-df-convert {\n",
              "      background-color: #E8F0FE;\n",
              "      border: none;\n",
              "      border-radius: 50%;\n",
              "      cursor: pointer;\n",
              "      display: none;\n",
              "      fill: #1967D2;\n",
              "      height: 32px;\n",
              "      padding: 0 0 0 0;\n",
              "      width: 32px;\n",
              "    }\n",
              "\n",
              "    .colab-df-convert:hover {\n",
              "      background-color: #E2EBFA;\n",
              "      box-shadow: 0px 1px 2px rgba(60, 64, 67, 0.3), 0px 1px 3px 1px rgba(60, 64, 67, 0.15);\n",
              "      fill: #174EA6;\n",
              "    }\n",
              "\n",
              "    .colab-df-buttons div {\n",
              "      margin-bottom: 4px;\n",
              "    }\n",
              "\n",
              "    [theme=dark] .colab-df-convert {\n",
              "      background-color: #3B4455;\n",
              "      fill: #D2E3FC;\n",
              "    }\n",
              "\n",
              "    [theme=dark] .colab-df-convert:hover {\n",
              "      background-color: #434B5C;\n",
              "      box-shadow: 0px 1px 3px 1px rgba(0, 0, 0, 0.15);\n",
              "      filter: drop-shadow(0px 1px 2px rgba(0, 0, 0, 0.3));\n",
              "      fill: #FFFFFF;\n",
              "    }\n",
              "  </style>\n",
              "\n",
              "    <script>\n",
              "      const buttonEl =\n",
              "        document.querySelector('#df-0b42f6fc-fbe4-4ab9-ab54-40fc7daa7897 button.colab-df-convert');\n",
              "      buttonEl.style.display =\n",
              "        google.colab.kernel.accessAllowed ? 'block' : 'none';\n",
              "\n",
              "      async function convertToInteractive(key) {\n",
              "        const element = document.querySelector('#df-0b42f6fc-fbe4-4ab9-ab54-40fc7daa7897');\n",
              "        const dataTable =\n",
              "          await google.colab.kernel.invokeFunction('convertToInteractive',\n",
              "                                                    [key], {});\n",
              "        if (!dataTable) return;\n",
              "\n",
              "        const docLinkHtml = 'Like what you see? Visit the ' +\n",
              "          '<a target=\"_blank\" href=https://colab.research.google.com/notebooks/data_table.ipynb>data table notebook</a>'\n",
              "          + ' to learn more about interactive tables.';\n",
              "        element.innerHTML = '';\n",
              "        dataTable['output_type'] = 'display_data';\n",
              "        await google.colab.output.renderOutput(dataTable, element);\n",
              "        const docLink = document.createElement('div');\n",
              "        docLink.innerHTML = docLinkHtml;\n",
              "        element.appendChild(docLink);\n",
              "      }\n",
              "    </script>\n",
              "  </div>\n",
              "\n",
              "\n",
              "<div id=\"df-088d653a-4895-4339-8878-d906640be03a\">\n",
              "  <button class=\"colab-df-quickchart\" onclick=\"quickchart('df-088d653a-4895-4339-8878-d906640be03a')\"\n",
              "            title=\"Suggest charts\"\n",
              "            style=\"display:none;\">\n",
              "\n",
              "<svg xmlns=\"http://www.w3.org/2000/svg\" height=\"24px\"viewBox=\"0 0 24 24\"\n",
              "     width=\"24px\">\n",
              "    <g>\n",
              "        <path d=\"M19 3H5c-1.1 0-2 .9-2 2v14c0 1.1.9 2 2 2h14c1.1 0 2-.9 2-2V5c0-1.1-.9-2-2-2zM9 17H7v-7h2v7zm4 0h-2V7h2v10zm4 0h-2v-4h2v4z\"/>\n",
              "    </g>\n",
              "</svg>\n",
              "  </button>\n",
              "\n",
              "<style>\n",
              "  .colab-df-quickchart {\n",
              "      --bg-color: #E8F0FE;\n",
              "      --fill-color: #1967D2;\n",
              "      --hover-bg-color: #E2EBFA;\n",
              "      --hover-fill-color: #174EA6;\n",
              "      --disabled-fill-color: #AAA;\n",
              "      --disabled-bg-color: #DDD;\n",
              "  }\n",
              "\n",
              "  [theme=dark] .colab-df-quickchart {\n",
              "      --bg-color: #3B4455;\n",
              "      --fill-color: #D2E3FC;\n",
              "      --hover-bg-color: #434B5C;\n",
              "      --hover-fill-color: #FFFFFF;\n",
              "      --disabled-bg-color: #3B4455;\n",
              "      --disabled-fill-color: #666;\n",
              "  }\n",
              "\n",
              "  .colab-df-quickchart {\n",
              "    background-color: var(--bg-color);\n",
              "    border: none;\n",
              "    border-radius: 50%;\n",
              "    cursor: pointer;\n",
              "    display: none;\n",
              "    fill: var(--fill-color);\n",
              "    height: 32px;\n",
              "    padding: 0;\n",
              "    width: 32px;\n",
              "  }\n",
              "\n",
              "  .colab-df-quickchart:hover {\n",
              "    background-color: var(--hover-bg-color);\n",
              "    box-shadow: 0 1px 2px rgba(60, 64, 67, 0.3), 0 1px 3px 1px rgba(60, 64, 67, 0.15);\n",
              "    fill: var(--button-hover-fill-color);\n",
              "  }\n",
              "\n",
              "  .colab-df-quickchart-complete:disabled,\n",
              "  .colab-df-quickchart-complete:disabled:hover {\n",
              "    background-color: var(--disabled-bg-color);\n",
              "    fill: var(--disabled-fill-color);\n",
              "    box-shadow: none;\n",
              "  }\n",
              "\n",
              "  .colab-df-spinner {\n",
              "    border: 2px solid var(--fill-color);\n",
              "    border-color: transparent;\n",
              "    border-bottom-color: var(--fill-color);\n",
              "    animation:\n",
              "      spin 1s steps(1) infinite;\n",
              "  }\n",
              "\n",
              "  @keyframes spin {\n",
              "    0% {\n",
              "      border-color: transparent;\n",
              "      border-bottom-color: var(--fill-color);\n",
              "      border-left-color: var(--fill-color);\n",
              "    }\n",
              "    20% {\n",
              "      border-color: transparent;\n",
              "      border-left-color: var(--fill-color);\n",
              "      border-top-color: var(--fill-color);\n",
              "    }\n",
              "    30% {\n",
              "      border-color: transparent;\n",
              "      border-left-color: var(--fill-color);\n",
              "      border-top-color: var(--fill-color);\n",
              "      border-right-color: var(--fill-color);\n",
              "    }\n",
              "    40% {\n",
              "      border-color: transparent;\n",
              "      border-right-color: var(--fill-color);\n",
              "      border-top-color: var(--fill-color);\n",
              "    }\n",
              "    60% {\n",
              "      border-color: transparent;\n",
              "      border-right-color: var(--fill-color);\n",
              "    }\n",
              "    80% {\n",
              "      border-color: transparent;\n",
              "      border-right-color: var(--fill-color);\n",
              "      border-bottom-color: var(--fill-color);\n",
              "    }\n",
              "    90% {\n",
              "      border-color: transparent;\n",
              "      border-bottom-color: var(--fill-color);\n",
              "    }\n",
              "  }\n",
              "</style>\n",
              "\n",
              "  <script>\n",
              "    async function quickchart(key) {\n",
              "      const quickchartButtonEl =\n",
              "        document.querySelector('#' + key + ' button');\n",
              "      quickchartButtonEl.disabled = true;  // To prevent multiple clicks.\n",
              "      quickchartButtonEl.classList.add('colab-df-spinner');\n",
              "      try {\n",
              "        const charts = await google.colab.kernel.invokeFunction(\n",
              "            'suggestCharts', [key], {});\n",
              "      } catch (error) {\n",
              "        console.error('Error during call to suggestCharts:', error);\n",
              "      }\n",
              "      quickchartButtonEl.classList.remove('colab-df-spinner');\n",
              "      quickchartButtonEl.classList.add('colab-df-quickchart-complete');\n",
              "    }\n",
              "    (() => {\n",
              "      let quickchartButtonEl =\n",
              "        document.querySelector('#df-088d653a-4895-4339-8878-d906640be03a button');\n",
              "      quickchartButtonEl.style.display =\n",
              "        google.colab.kernel.accessAllowed ? 'block' : 'none';\n",
              "    })();\n",
              "  </script>\n",
              "</div>\n",
              "    </div>\n",
              "  </div>\n"
            ],
            "application/vnd.google.colaboratory.intrinsic+json": {
              "type": "dataframe",
              "summary": "{\n  \"name\": \"df\",\n  \"rows\": 10,\n  \"fields\": [\n    {\n      \"column\": \"start_year\",\n      \"properties\": {\n        \"dtype\": \"int32\",\n        \"num_unique_values\": 10,\n        \"samples\": [\n          2018,\n          2011,\n          2015\n        ],\n        \"semantic_type\": \"\",\n        \"description\": \"\"\n      }\n    },\n    {\n      \"column\": \"mean\",\n      \"properties\": {\n        \"dtype\": \"number\",\n        \"std\": 55532879.5393034,\n        \"min\": 19775.096153846152,\n        \"max\": 138917249.01054215,\n        \"num_unique_values\": 10,\n        \"samples\": [\n          105689131.64665915,\n          19775.096153846152,\n          90633259.33486748\n        ],\n        \"semantic_type\": \"\",\n        \"description\": \"\"\n      }\n    },\n    {\n      \"column\": \"median\",\n      \"properties\": {\n        \"dtype\": \"number\",\n        \"std\": 4485563.317213822,\n        \"min\": 1700.0,\n        \"max\": 10668801.5,\n        \"num_unique_values\": 10,\n        \"samples\": [\n          10484019.76,\n          2995.0,\n          7196756.0\n        ],\n        \"semantic_type\": \"\",\n        \"description\": \"\"\n      }\n    }\n  ]\n}"
            }
          },
          "metadata": {},
          "execution_count": 209
        }
      ],
      "source": [
        "df.groupby('start_year')['box_office'].agg(['mean', 'median'])"
      ]
    },
    {
      "cell_type": "code",
      "source": [
        "# Строим линейный график\n",
        "plt.plot(df.groupby('start_year')['box_office'].agg(['mean', 'median']))\n",
        "\n",
        "# Добавляем название для оси x\n",
        "plt.xlabel('Год')\n",
        "\n",
        "# Добавляем название для оси y\n",
        "plt.ylabel('Рубли')\n",
        "\n",
        "# Добавляем заголовок графика\n",
        "plt.title('Сумма кассовых сборов фильмов по годам')\n",
        "\n",
        "# Отображаем график\n",
        "plt.show()"
      ],
      "metadata": {
        "colab": {
          "base_uri": "https://localhost:8080/",
          "height": 472
        },
        "id": "FuPL2iis0EQr",
        "outputId": "def41d68-1e5a-4699-99a4-2e24d7327278"
      },
      "execution_count": 210,
      "outputs": [
        {
          "output_type": "display_data",
          "data": {
            "text/plain": [
              "<Figure size 640x480 with 1 Axes>"
            ],
            "image/png": "[encoded data removed]"
          },
          "metadata": {}
        }
      ]
    },
    {
      "cell_type": "markdown",
      "source": [
        "**Вывод**\n",
        "\n",
        "Мы видим, что данные о сборах сильно различаются. Это заметно по разрыву между средним значением и медианой. Это указывает на то, что в данных есть значения, соответствующие невероятно высоким сборам по сравнению с остальными. Для киноиндустрии это вполне обычное явление.\n",
        "\n",
        "Судя по всему, самым прибыльным годом для кинопроката стал 2017 год. Это подтверждается как средним значением, так и медианой."
      ],
      "metadata": {
        "id": "M0KYRHnY0Epi"
      }
    },
    {
      "cell_type": "markdown",
      "metadata": {
        "id": "Ok89WFwJgFyZ"
      },
      "source": [
        "- Определите, влияет ли возрастное ограничение аудитории («6+», «12+», «16+», «18+» и т. д.) на сборы фильма в прокате в период с 2015 по 2019 год? Фильмы с каким возрастным ограничением собрали больше всего денег в прокате? Меняется ли картина в зависимости от года? Если да, предположите, с чем это может быть связано."
      ]
    },
    {
      "cell_type": "code",
      "execution_count": 211,
      "metadata": {
        "id": "jsSbEqfjgFya",
        "colab": {
          "base_uri": "https://localhost:8080/"
        },
        "outputId": "54c1ed56-5ba3-4503-b07a-3867df7e5e80"
      },
      "outputs": [
        {
          "output_type": "execute_result",
          "data": {
            "text/plain": [
              "age_restriction\n",
              "«0+» - для любой зрительской аудитории    6.542488e+08\n",
              "«18+» - запрещено для детей               4.046732e+10\n",
              "«6+» - для детей старше 6 лет             5.214915e+10\n",
              "«12+» - для детей старше 12 лет           5.829102e+10\n",
              "«16+» - для детей старше 16 лет           7.308923e+10\n",
              "Name: box_office, dtype: float64"
            ]
          },
          "metadata": {},
          "execution_count": 211
        }
      ],
      "source": [
        "df.loc[df['start_year'] >= 2015].groupby('age_restriction')['box_office'].sum().sort_values()"
      ]
    },
    {
      "cell_type": "code",
      "source": [
        "df_group_by_year = df.query('2015 <= start_year').groupby(['start_year', 'age_restriction'])['box_office'].agg('sum').reset_index()\n",
        "df_group_by_year.head()"
      ],
      "metadata": {
        "colab": {
          "base_uri": "https://localhost:8080/",
          "height": 206
        },
        "id": "rOJTXQwVK9mF",
        "outputId": "f1d9558e-09f9-4391-ba91-34d8f53d1fa2"
      },
      "execution_count": 215,
      "outputs": [
        {
          "output_type": "execute_result",
          "data": {
            "text/plain": [
              "   start_year                         age_restriction    box_office\n",
              "0        2015  «0+» - для любой зрительской аудитории  3.275774e+08\n",
              "1        2015         «12+» - для детей старше 12 лет  1.361551e+10\n",
              "2        2015         «16+» - для детей старше 16 лет  1.106221e+10\n",
              "3        2015             «18+» - запрещено для детей  5.270763e+09\n",
              "4        2015           «6+» - для детей старше 6 лет  7.336735e+09"
            ],
            "text/html": [
              "\n",
              "  <div id=\"df-607fc1e8-40df-492c-b633-a2dca7285dda\" class=\"colab-df-container\">\n",
              "    <div>\n",
              "<style scoped>\n",
              "    .dataframe tbody tr th:only-of-type {\n",
              "        vertical-align: middle;\n",
              "    }\n",
              "\n",
              "    .dataframe tbody tr th {\n",
              "        vertical-align: top;\n",
              "    }\n",
              "\n",
              "    .dataframe thead th {\n",
              "        text-align: right;\n",
              "    }\n",
              "</style>\n",
              "<table border=\"1\" class=\"dataframe\">\n",
              "  <thead>\n",
              "    <tr style=\"text-align: right;\">\n",
              "      <th></th>\n",
              "      <th>start_year</th>\n",
              "      <th>age_restriction</th>\n",
              "      <th>box_office</th>\n",
              "    </tr>\n",
              "  </thead>\n",
              "  <tbody>\n",
              "    <tr>\n",
              "      <th>0</th>\n",
              "      <td>2015</td>\n",
              "      <td>«0+» - для любой зрительской аудитории</td>\n",
              "      <td>3.275774e+08</td>\n",
              "    </tr>\n",
              "    <tr>\n",
              "      <th>1</th>\n",
              "      <td>2015</td>\n",
              "      <td>«12+» - для детей старше 12 лет</td>\n",
              "      <td>1.361551e+10</td>\n",
              "    </tr>\n",
              "    <tr>\n",
              "      <th>2</th>\n",
              "      <td>2015</td>\n",
              "      <td>«16+» - для детей старше 16 лет</td>\n",
              "      <td>1.106221e+10</td>\n",
              "    </tr>\n",
              "    <tr>\n",
              "      <th>3</th>\n",
              "      <td>2015</td>\n",
              "      <td>«18+» - запрещено для детей</td>\n",
              "      <td>5.270763e+09</td>\n",
              "    </tr>\n",
              "    <tr>\n",
              "      <th>4</th>\n",
              "      <td>2015</td>\n",
              "      <td>«6+» - для детей старше 6 лет</td>\n",
              "      <td>7.336735e+09</td>\n",
              "    </tr>\n",
              "  </tbody>\n",
              "</table>\n",
              "</div>\n",
              "    <div class=\"colab-df-buttons\">\n",
              "\n",
              "  <div class=\"colab-df-container\">\n",
              "    <button class=\"colab-df-convert\" onclick=\"convertToInteractive('df-607fc1e8-40df-492c-b633-a2dca7285dda')\"\n",
              "            title=\"Convert this dataframe to an interactive table.\"\n",
              "            style=\"display:none;\">\n",
              "\n",
              "  <svg xmlns=\"http://www.w3.org/2000/svg\" height=\"24px\" viewBox=\"0 -960 960 960\">\n",
              "    <path d=\"M120-120v-720h720v720H120Zm60-500h600v-160H180v160Zm220 220h160v-160H400v160Zm0 220h160v-160H400v160ZM180-400h160v-160H180v160Zm440 0h160v-160H620v160ZM180-180h160v-160H180v160Zm440 0h160v-160H620v160Z\"/>\n",
              "  </svg>\n",
              "    </button>\n",
              "\n",
              "  <style>\n",
              "    .colab-df-container {\n",
              "      display:flex;\n",
              "      gap: 12px;\n",
              "    }\n",
              "\n",
              "    .colab-df-convert {\n",
              "      background-color: #E8F0FE;\n",
              "      border: none;\n",
              "      border-radius: 50%;\n",
              "      cursor: pointer;\n",
              "      display: none;\n",
              "      fill: #1967D2;\n",
              "      height: 32px;\n",
              "      padding: 0 0 0 0;\n",
              "      width: 32px;\n",
              "    }\n",
              "\n",
              "    .colab-df-convert:hover {\n",
              "      background-color: #E2EBFA;\n",
              "      box-shadow: 0px 1px 2px rgba(60, 64, 67, 0.3), 0px 1px 3px 1px rgba(60, 64, 67, 0.15);\n",
              "      fill: #174EA6;\n",
              "    }\n",
              "\n",
              "    .colab-df-buttons div {\n",
              "      margin-bottom: 4px;\n",
              "    }\n",
              "\n",
              "    [theme=dark] .colab-df-convert {\n",
              "      background-color: #3B4455;\n",
              "      fill: #D2E3FC;\n",
              "    }\n",
              "\n",
              "    [theme=dark] .colab-df-convert:hover {\n",
              "      background-color: #434B5C;\n",
              "      box-shadow: 0px 1px 3px 1px rgba(0, 0, 0, 0.15);\n",
              "      filter: drop-shadow(0px 1px 2px rgba(0, 0, 0, 0.3));\n",
              "      fill: #FFFFFF;\n",
              "    }\n",
              "  </style>\n",
              "\n",
              "    <script>\n",
              "      const buttonEl =\n",
              "        document.querySelector('#df-607fc1e8-40df-492c-b633-a2dca7285dda button.colab-df-convert');\n",
              "      buttonEl.style.display =\n",
              "        google.colab.kernel.accessAllowed ? 'block' : 'none';\n",
              "\n",
              "      async function convertToInteractive(key) {\n",
              "        const element = document.querySelector('#df-607fc1e8-40df-492c-b633-a2dca7285dda');\n",
              "        const dataTable =\n",
              "          await google.colab.kernel.invokeFunction('convertToInteractive',\n",
              "                                                    [key], {});\n",
              "        if (!dataTable) return;\n",
              "\n",
              "        const docLinkHtml = 'Like what you see? Visit the ' +\n",
              "          '<a target=\"_blank\" href=https://colab.research.google.com/notebooks/data_table.ipynb>data table notebook</a>'\n",
              "          + ' to learn more about interactive tables.';\n",
              "        element.innerHTML = '';\n",
              "        dataTable['output_type'] = 'display_data';\n",
              "        await google.colab.output.renderOutput(dataTable, element);\n",
              "        const docLink = document.createElement('div');\n",
              "        docLink.innerHTML = docLinkHtml;\n",
              "        element.appendChild(docLink);\n",
              "      }\n",
              "    </script>\n",
              "  </div>\n",
              "\n",
              "\n",
              "<div id=\"df-4b055836-e42c-4bed-b4de-ee81d9622a11\">\n",
              "  <button class=\"colab-df-quickchart\" onclick=\"quickchart('df-4b055836-e42c-4bed-b4de-ee81d9622a11')\"\n",
              "            title=\"Suggest charts\"\n",
              "            style=\"display:none;\">\n",
              "\n",
              "<svg xmlns=\"http://www.w3.org/2000/svg\" height=\"24px\"viewBox=\"0 0 24 24\"\n",
              "     width=\"24px\">\n",
              "    <g>\n",
              "        <path d=\"M19 3H5c-1.1 0-2 .9-2 2v14c0 1.1.9 2 2 2h14c1.1 0 2-.9 2-2V5c0-1.1-.9-2-2-2zM9 17H7v-7h2v7zm4 0h-2V7h2v10zm4 0h-2v-4h2v4z\"/>\n",
              "    </g>\n",
              "</svg>\n",
              "  </button>\n",
              "\n",
              "<style>\n",
              "  .colab-df-quickchart {\n",
              "      --bg-color: #E8F0FE;\n",
              "      --fill-color: #1967D2;\n",
              "      --hover-bg-color: #E2EBFA;\n",
              "      --hover-fill-color: #174EA6;\n",
              "      --disabled-fill-color: #AAA;\n",
              "      --disabled-bg-color: #DDD;\n",
              "  }\n",
              "\n",
              "  [theme=dark] .colab-df-quickchart {\n",
              "      --bg-color: #3B4455;\n",
              "      --fill-color: #D2E3FC;\n",
              "      --hover-bg-color: #434B5C;\n",
              "      --hover-fill-color: #FFFFFF;\n",
              "      --disabled-bg-color: #3B4455;\n",
              "      --disabled-fill-color: #666;\n",
              "  }\n",
              "\n",
              "  .colab-df-quickchart {\n",
              "    background-color: var(--bg-color);\n",
              "    border: none;\n",
              "    border-radius: 50%;\n",
              "    cursor: pointer;\n",
              "    display: none;\n",
              "    fill: var(--fill-color);\n",
              "    height: 32px;\n",
              "    padding: 0;\n",
              "    width: 32px;\n",
              "  }\n",
              "\n",
              "  .colab-df-quickchart:hover {\n",
              "    background-color: var(--hover-bg-color);\n",
              "    box-shadow: 0 1px 2px rgba(60, 64, 67, 0.3), 0 1px 3px 1px rgba(60, 64, 67, 0.15);\n",
              "    fill: var(--button-hover-fill-color);\n",
              "  }\n",
              "\n",
              "  .colab-df-quickchart-complete:disabled,\n",
              "  .colab-df-quickchart-complete:disabled:hover {\n",
              "    background-color: var(--disabled-bg-color);\n",
              "    fill: var(--disabled-fill-color);\n",
              "    box-shadow: none;\n",
              "  }\n",
              "\n",
              "  .colab-df-spinner {\n",
              "    border: 2px solid var(--fill-color);\n",
              "    border-color: transparent;\n",
              "    border-bottom-color: var(--fill-color);\n",
              "    animation:\n",
              "      spin 1s steps(1) infinite;\n",
              "  }\n",
              "\n",
              "  @keyframes spin {\n",
              "    0% {\n",
              "      border-color: transparent;\n",
              "      border-bottom-color: var(--fill-color);\n",
              "      border-left-color: var(--fill-color);\n",
              "    }\n",
              "    20% {\n",
              "      border-color: transparent;\n",
              "      border-left-color: var(--fill-color);\n",
              "      border-top-color: var(--fill-color);\n",
              "    }\n",
              "    30% {\n",
              "      border-color: transparent;\n",
              "      border-left-color: var(--fill-color);\n",
              "      border-top-color: var(--fill-color);\n",
              "      border-right-color: var(--fill-color);\n",
              "    }\n",
              "    40% {\n",
              "      border-color: transparent;\n",
              "      border-right-color: var(--fill-color);\n",
              "      border-top-color: var(--fill-color);\n",
              "    }\n",
              "    60% {\n",
              "      border-color: transparent;\n",
              "      border-right-color: var(--fill-color);\n",
              "    }\n",
              "    80% {\n",
              "      border-color: transparent;\n",
              "      border-right-color: var(--fill-color);\n",
              "      border-bottom-color: var(--fill-color);\n",
              "    }\n",
              "    90% {\n",
              "      border-color: transparent;\n",
              "      border-bottom-color: var(--fill-color);\n",
              "    }\n",
              "  }\n",
              "</style>\n",
              "\n",
              "  <script>\n",
              "    async function quickchart(key) {\n",
              "      const quickchartButtonEl =\n",
              "        document.querySelector('#' + key + ' button');\n",
              "      quickchartButtonEl.disabled = true;  // To prevent multiple clicks.\n",
              "      quickchartButtonEl.classList.add('colab-df-spinner');\n",
              "      try {\n",
              "        const charts = await google.colab.kernel.invokeFunction(\n",
              "            'suggestCharts', [key], {});\n",
              "      } catch (error) {\n",
              "        console.error('Error during call to suggestCharts:', error);\n",
              "      }\n",
              "      quickchartButtonEl.classList.remove('colab-df-spinner');\n",
              "      quickchartButtonEl.classList.add('colab-df-quickchart-complete');\n",
              "    }\n",
              "    (() => {\n",
              "      let quickchartButtonEl =\n",
              "        document.querySelector('#df-4b055836-e42c-4bed-b4de-ee81d9622a11 button');\n",
              "      quickchartButtonEl.style.display =\n",
              "        google.colab.kernel.accessAllowed ? 'block' : 'none';\n",
              "    })();\n",
              "  </script>\n",
              "</div>\n",
              "    </div>\n",
              "  </div>\n"
            ],
            "application/vnd.google.colaboratory.intrinsic+json": {
              "type": "dataframe",
              "variable_name": "df_group_by_year",
              "summary": "{\n  \"name\": \"df_group_by_year\",\n  \"rows\": 25,\n  \"fields\": [\n    {\n      \"column\": \"start_year\",\n      \"properties\": {\n        \"dtype\": \"int32\",\n        \"num_unique_values\": 5,\n        \"samples\": [\n          2016,\n          2019,\n          2017\n        ],\n        \"semantic_type\": \"\",\n        \"description\": \"\"\n      }\n    },\n    {\n      \"column\": \"age_restriction\",\n      \"properties\": {\n        \"dtype\": \"category\",\n        \"num_unique_values\": 5,\n        \"samples\": [\n          \"\\u00ab12+\\u00bb - \\u0434\\u043b\\u044f \\u0434\\u0435\\u0442\\u0435\\u0439 \\u0441\\u0442\\u0430\\u0440\\u0448\\u0435 12 \\u043b\\u0435\\u0442\",\n          \"\\u00ab6+\\u00bb - \\u0434\\u043b\\u044f \\u0434\\u0435\\u0442\\u0435\\u0439 \\u0441\\u0442\\u0430\\u0440\\u0448\\u0435 6 \\u043b\\u0435\\u0442\",\n          \"\\u00ab16+\\u00bb - \\u0434\\u043b\\u044f \\u0434\\u0435\\u0442\\u0435\\u0439 \\u0441\\u0442\\u0430\\u0440\\u0448\\u0435 16 \\u043b\\u0435\\u0442\"\n        ],\n        \"semantic_type\": \"\",\n        \"description\": \"\"\n      }\n    },\n    {\n      \"column\": \"box_office\",\n      \"properties\": {\n        \"dtype\": \"number\",\n        \"std\": 5349531065.394103,\n        \"min\": 4111901.28,\n        \"max\": 17842710130.06,\n        \"num_unique_values\": 25,\n        \"samples\": [\n          6765916563.3,\n          12471624912.64,\n          327577365.24\n        ],\n        \"semantic_type\": \"\",\n        \"description\": \"\"\n      }\n    }\n  ]\n}"
            }
          },
          "metadata": {},
          "execution_count": 215
        }
      ]
    },
    {
      "cell_type": "markdown",
      "source": [
        "В период с 2015 по 2019 год наибольшие кассовые сборы были у фильмов с возрастным ограничением 16+."
      ],
      "metadata": {
        "id": "DRVEO_QIKHaM"
      }
    },
    {
      "cell_type": "code",
      "source": [
        "import seaborn as sns\n",
        "\n",
        "fg = sns.catplot(x='start_year', y='box_office', hue='age_restriction', data=df_group_by_year, kind='bar');\n",
        "plt.title('Сумма сборов фильмов');\n",
        "plt.xlabel('Год');\n",
        "plt.ylabel('Сумма сборов по годам в рублях');"
      ],
      "metadata": {
        "colab": {
          "base_uri": "https://localhost:8080/",
          "height": 514
        },
        "id": "O-NaDQmyKQRG",
        "outputId": "b23f566b-78ac-459b-d9f8-d4f6d21c3d4f"
      },
      "execution_count": 216,
      "outputs": [
        {
          "output_type": "display_data",
          "data": {
            "text/plain": [
              "<Figure size 860x500 with 1 Axes>"
            ],
            "image/png": "[encoded data removed]"
          },
          "metadata": {}
        }
      ]
    },
    {
      "cell_type": "markdown",
      "source": [
        "Согласно графику, в большинстве лет лидирует по сборам кино для зрителей старше 16 лет. В 2015 году лидерами стали фильмы для зрителей старше 12 лет, а в 2019 году — для детей от 6 лет.\n",
        "\n",
        "**Вывод**\n",
        "\n",
        "Из этого можно сделать вывод, что фильмы для взрослых зрителей собирают больше всего денег, но это не всегда так."
      ],
      "metadata": {
        "id": "5fIL8uAhLO9i"
      }
    },
    {
      "cell_type": "markdown",
      "metadata": {
        "id": "V2gYwMcPgFyd"
      },
      "source": [
        "### Шаг 5. Напишите общий вывод"
      ]
    },
    {
      "cell_type": "markdown",
      "metadata": {
        "id": "AYRg3dzXgFye"
      },
      "source": [
        "В данных было обнаружено несколько ошибок, которые были исправлены:\n",
        "\n",
        "* удалены лишние пробелы в категориальных переменных;\n",
        "* значения рейтингов в процентах для некоторых строк были заменены на NaN;\n",
        "* в датасете были найдены дубликаты названий фильмов, но у этих кинофильмов были разные номера прокатных удостоверений, поэтому данные были оставлены без дополнительной обработки;\n",
        "* также были найдены фильмы с одинаковыми номерами прокатных удостоверений. Однако после проверки на официальном сайте было подтверждено, что это действительно так.\n",
        "\n",
        "Больше всего фильмов с суммой поддержки до 100 миллионов рублей. В основном это фильмы с рейтингом чуть больше 6 баллов. При этом не было найдено плохих фильмов (с оценкой ниже 5 баллов) с суммой поддержки более 200 миллионов рублей.\n",
        "\n",
        "По количеству и по сумме поддержки на первом месте находится жанр «драма», на втором — «комедия». Самую большую сумму поддержки получил Фёдор Бондарчук."
      ]
    }
  ],
  "metadata": {
    "ExecuteTimeLog": [
      {
        "duration": 537,
        "start_time": "2021-07-07T10:12:08.634Z"
      },
      {
        "duration": 206,
        "start_time": "2021-07-07T10:12:30.191Z"
      },
      {
        "duration": 227,
        "start_time": "2021-07-07T10:12:33.078Z"
      },
      {
        "duration": 153,
        "start_time": "2021-07-07T10:13:42.146Z"
      },
      {
        "duration": 233,
        "start_time": "2021-07-07T10:30:09.252Z"
      },
      {
        "duration": 19,
        "start_time": "2021-07-07T10:30:15.577Z"
      },
      {
        "duration": 18,
        "start_time": "2021-07-07T10:30:57.348Z"
      },
      {
        "duration": 19,
        "start_time": "2021-07-07T10:31:17.452Z"
      },
      {
        "duration": 21,
        "start_time": "2021-07-07T10:31:32.227Z"
      },
      {
        "duration": 27,
        "start_time": "2021-07-07T10:32:06.588Z"
      },
      {
        "duration": 23,
        "start_time": "2021-07-07T10:32:43.645Z"
      },
      {
        "duration": 24,
        "start_time": "2021-07-07T10:33:06.948Z"
      },
      {
        "duration": 7,
        "start_time": "2021-07-07T10:33:28.558Z"
      },
      {
        "duration": 23,
        "start_time": "2021-07-07T10:33:43.761Z"
      },
      {
        "duration": 28,
        "start_time": "2021-07-07T10:34:13.466Z"
      },
      {
        "duration": 23,
        "start_time": "2021-07-07T10:35:56.187Z"
      },
      {
        "duration": 6,
        "start_time": "2021-07-07T10:36:48.182Z"
      },
      {
        "duration": 14,
        "start_time": "2021-07-07T10:37:49.641Z"
      },
      {
        "duration": 6,
        "start_time": "2021-07-07T10:38:06.694Z"
      },
      {
        "duration": 6,
        "start_time": "2021-07-07T10:38:13.493Z"
      },
      {
        "duration": 19,
        "start_time": "2021-07-07T10:38:44.056Z"
      },
      {
        "duration": 186,
        "start_time": "2021-07-07T10:48:35.618Z"
      },
      {
        "duration": 24,
        "start_time": "2021-07-07T10:48:51.498Z"
      },
      {
        "duration": 20,
        "start_time": "2021-07-07T10:48:59.415Z"
      },
      {
        "duration": 20,
        "start_time": "2021-07-07T10:53:02.195Z"
      },
      {
        "duration": 188,
        "start_time": "2021-07-07T10:54:40.486Z"
      },
      {
        "duration": 115,
        "start_time": "2021-07-07T10:54:52.552Z"
      },
      {
        "duration": 214,
        "start_time": "2021-07-07T10:54:56.354Z"
      },
      {
        "duration": 47,
        "start_time": "2021-07-07T10:54:58.282Z"
      },
      {
        "duration": 217,
        "start_time": "2021-07-07T10:59:16.075Z"
      },
      {
        "duration": 51,
        "start_time": "2021-07-07T10:59:16.243Z"
      },
      {
        "duration": 578,
        "start_time": "2021-07-07T10:59:18.774Z"
      },
      {
        "duration": 161,
        "start_time": "2021-07-07T10:59:21.238Z"
      },
      {
        "duration": 59,
        "start_time": "2021-07-07T10:59:21.453Z"
      },
      {
        "duration": 3,
        "start_time": "2021-07-07T11:02:10.786Z"
      },
      {
        "duration": 13,
        "start_time": "2021-07-07T11:07:07.722Z"
      },
      {
        "duration": 26,
        "start_time": "2021-07-07T11:07:17.958Z"
      },
      {
        "duration": 22,
        "start_time": "2021-07-07T11:08:17.939Z"
      },
      {
        "duration": 212,
        "start_time": "2021-07-07T11:08:19.665Z"
      },
      {
        "duration": 21,
        "start_time": "2021-07-07T11:08:29.945Z"
      },
      {
        "duration": 31,
        "start_time": "2021-07-07T11:08:38.899Z"
      },
      {
        "duration": 23,
        "start_time": "2021-07-07T11:08:54.527Z"
      },
      {
        "duration": 8,
        "start_time": "2021-07-07T11:18:55.974Z"
      },
      {
        "duration": 7,
        "start_time": "2021-07-07T11:19:03.639Z"
      },
      {
        "duration": 7,
        "start_time": "2021-07-07T11:19:06.444Z"
      },
      {
        "duration": 578,
        "start_time": "2021-07-07T12:09:59.576Z"
      },
      {
        "duration": 195,
        "start_time": "2021-07-07T12:10:00.156Z"
      },
      {
        "duration": 115,
        "start_time": "2021-07-07T12:10:00.353Z"
      },
      {
        "duration": 3,
        "start_time": "2021-07-07T12:10:00.470Z"
      },
      {
        "duration": 32,
        "start_time": "2021-07-07T12:10:00.474Z"
      },
      {
        "duration": 23,
        "start_time": "2021-07-07T12:10:00.508Z"
      },
      {
        "duration": 19,
        "start_time": "2021-07-07T12:10:00.533Z"
      },
      {
        "duration": 44,
        "start_time": "2021-07-07T12:10:00.553Z"
      },
      {
        "duration": 7,
        "start_time": "2021-07-07T12:10:00.600Z"
      },
      {
        "duration": 7,
        "start_time": "2021-07-07T12:19:45.761Z"
      },
      {
        "duration": 21,
        "start_time": "2021-07-07T12:21:35.482Z"
      },
      {
        "duration": 21,
        "start_time": "2021-07-07T12:29:23.569Z"
      },
      {
        "duration": 525,
        "start_time": "2021-07-07T12:29:44.542Z"
      },
      {
        "duration": 214,
        "start_time": "2021-07-07T12:29:45.069Z"
      },
      {
        "duration": 92,
        "start_time": "2021-07-07T12:29:45.285Z"
      },
      {
        "duration": 3,
        "start_time": "2021-07-07T12:29:45.379Z"
      },
      {
        "duration": 28,
        "start_time": "2021-07-07T12:29:45.384Z"
      },
      {
        "duration": 23,
        "start_time": "2021-07-07T12:29:45.413Z"
      },
      {
        "duration": 21,
        "start_time": "2021-07-07T12:29:45.437Z"
      },
      {
        "duration": 41,
        "start_time": "2021-07-07T12:29:45.460Z"
      },
      {
        "duration": 7,
        "start_time": "2021-07-07T12:29:45.502Z"
      },
      {
        "duration": 20,
        "start_time": "2021-07-07T12:29:45.511Z"
      },
      {
        "duration": 12,
        "start_time": "2021-07-07T12:34:02.800Z"
      },
      {
        "duration": 7,
        "start_time": "2021-07-07T12:35:10.479Z"
      },
      {
        "duration": 8,
        "start_time": "2021-07-07T12:35:22.440Z"
      },
      {
        "duration": 6,
        "start_time": "2021-07-07T12:35:35.649Z"
      },
      {
        "duration": 6,
        "start_time": "2021-07-07T12:35:43.107Z"
      },
      {
        "duration": 22,
        "start_time": "2021-07-07T12:38:03.029Z"
      },
      {
        "duration": 10,
        "start_time": "2021-07-07T12:38:06.592Z"
      },
      {
        "duration": 563,
        "start_time": "2021-07-07T12:38:46.493Z"
      },
      {
        "duration": 265,
        "start_time": "2021-07-07T12:38:47.058Z"
      },
      {
        "duration": 94,
        "start_time": "2021-07-07T12:38:47.325Z"
      },
      {
        "duration": 3,
        "start_time": "2021-07-07T12:38:47.422Z"
      },
      {
        "duration": 30,
        "start_time": "2021-07-07T12:38:47.427Z"
      },
      {
        "duration": 16,
        "start_time": "2021-07-07T12:38:53.305Z"
      },
      {
        "duration": 10,
        "start_time": "2021-07-07T12:38:53.499Z"
      },
      {
        "duration": 8,
        "start_time": "2021-07-07T12:39:48.161Z"
      },
      {
        "duration": 27,
        "start_time": "2021-07-07T12:41:17.629Z"
      },
      {
        "duration": 17,
        "start_time": "2021-07-07T12:41:17.867Z"
      },
      {
        "duration": 21,
        "start_time": "2021-07-07T12:41:19.310Z"
      },
      {
        "duration": 7,
        "start_time": "2021-07-07T12:41:19.544Z"
      },
      {
        "duration": 20,
        "start_time": "2021-07-07T12:41:20.504Z"
      },
      {
        "duration": 554,
        "start_time": "2021-07-07T12:56:23.696Z"
      },
      {
        "duration": 200,
        "start_time": "2021-07-07T12:56:25.234Z"
      },
      {
        "duration": 119,
        "start_time": "2021-07-07T12:56:25.480Z"
      },
      {
        "duration": 4,
        "start_time": "2021-07-07T12:56:25.762Z"
      },
      {
        "duration": 26,
        "start_time": "2021-07-07T12:56:27.172Z"
      },
      {
        "duration": 12,
        "start_time": "2021-07-07T12:56:29.051Z"
      },
      {
        "duration": 10,
        "start_time": "2021-07-07T12:56:29.291Z"
      },
      {
        "duration": 8,
        "start_time": "2021-07-07T12:56:29.623Z"
      },
      {
        "duration": 28,
        "start_time": "2021-07-07T12:56:32.137Z"
      },
      {
        "duration": 19,
        "start_time": "2021-07-07T12:56:39.785Z"
      },
      {
        "duration": 20,
        "start_time": "2021-07-07T12:56:44.297Z"
      },
      {
        "duration": 7,
        "start_time": "2021-07-07T12:56:45.392Z"
      },
      {
        "duration": 23,
        "start_time": "2021-07-07T12:56:46.615Z"
      },
      {
        "duration": 4,
        "start_time": "2021-07-07T12:57:06.625Z"
      },
      {
        "duration": 32,
        "start_time": "2021-07-07T12:57:36.690Z"
      },
      {
        "duration": 18,
        "start_time": "2021-07-07T12:58:00.149Z"
      },
      {
        "duration": 15,
        "start_time": "2021-07-07T12:59:16.793Z"
      },
      {
        "duration": 7,
        "start_time": "2021-07-07T13:19:22.624Z"
      },
      {
        "duration": 6,
        "start_time": "2021-07-07T14:17:33.527Z"
      },
      {
        "duration": 9,
        "start_time": "2021-07-07T14:17:48.409Z"
      },
      {
        "duration": 8,
        "start_time": "2021-07-07T14:20:13.060Z"
      },
      {
        "duration": 8,
        "start_time": "2021-07-07T14:20:37.957Z"
      },
      {
        "duration": 8,
        "start_time": "2021-07-07T14:20:47.470Z"
      },
      {
        "duration": 9,
        "start_time": "2021-07-07T14:20:54.503Z"
      },
      {
        "duration": 10,
        "start_time": "2021-07-07T14:28:57.763Z"
      },
      {
        "duration": 3,
        "start_time": "2021-07-07T14:30:23.377Z"
      },
      {
        "duration": 3,
        "start_time": "2021-07-07T14:30:36.489Z"
      },
      {
        "duration": 103,
        "start_time": "2021-07-07T14:30:52.351Z"
      },
      {
        "duration": 8,
        "start_time": "2021-07-07T14:30:54.763Z"
      },
      {
        "duration": 8,
        "start_time": "2021-07-07T14:31:29.301Z"
      },
      {
        "duration": 13,
        "start_time": "2021-07-07T14:31:44.516Z"
      },
      {
        "duration": 7,
        "start_time": "2021-07-07T14:33:10.972Z"
      },
      {
        "duration": 11,
        "start_time": "2021-07-07T14:33:27.780Z"
      },
      {
        "duration": 8,
        "start_time": "2021-07-07T14:34:44.588Z"
      },
      {
        "duration": 57,
        "start_time": "2021-07-07T14:35:59.042Z"
      },
      {
        "duration": 3,
        "start_time": "2021-07-07T14:36:28.168Z"
      },
      {
        "duration": 5,
        "start_time": "2021-07-07T14:36:46.254Z"
      },
      {
        "duration": 4,
        "start_time": "2021-07-07T14:36:52.714Z"
      },
      {
        "duration": 3,
        "start_time": "2021-07-07T14:36:56.612Z"
      },
      {
        "duration": 4,
        "start_time": "2021-07-07T14:36:57.049Z"
      },
      {
        "duration": 3,
        "start_time": "2021-07-07T14:39:21.214Z"
      },
      {
        "duration": 7,
        "start_time": "2021-07-07T14:39:52.406Z"
      },
      {
        "duration": 11,
        "start_time": "2021-07-07T14:39:58.576Z"
      },
      {
        "duration": 9,
        "start_time": "2021-07-07T14:40:26.301Z"
      },
      {
        "duration": 10,
        "start_time": "2021-07-07T14:40:31.704Z"
      },
      {
        "duration": 11,
        "start_time": "2021-07-07T14:40:36.249Z"
      },
      {
        "duration": 10,
        "start_time": "2021-07-07T14:40:39.783Z"
      },
      {
        "duration": 9,
        "start_time": "2021-07-07T14:40:48.558Z"
      },
      {
        "duration": 10,
        "start_time": "2021-07-07T14:40:57.143Z"
      },
      {
        "duration": 9,
        "start_time": "2021-07-07T14:41:06.074Z"
      },
      {
        "duration": 4324,
        "start_time": "2021-07-07T14:41:22.004Z"
      },
      {
        "duration": 11,
        "start_time": "2021-07-07T14:41:33.392Z"
      },
      {
        "duration": 9,
        "start_time": "2021-07-07T14:41:39.288Z"
      },
      {
        "duration": 569,
        "start_time": "2021-07-07T14:42:14.387Z"
      },
      {
        "duration": 197,
        "start_time": "2021-07-07T14:42:14.959Z"
      },
      {
        "duration": 84,
        "start_time": "2021-07-07T14:42:16.052Z"
      },
      {
        "duration": 4,
        "start_time": "2021-07-07T14:42:16.900Z"
      },
      {
        "duration": 27,
        "start_time": "2021-07-07T14:42:19.898Z"
      },
      {
        "duration": 12,
        "start_time": "2021-07-07T14:42:21.577Z"
      },
      {
        "duration": 9,
        "start_time": "2021-07-07T14:42:21.813Z"
      },
      {
        "duration": 9,
        "start_time": "2021-07-07T14:42:22.569Z"
      },
      {
        "duration": 29,
        "start_time": "2021-07-07T14:42:25.837Z"
      },
      {
        "duration": 20,
        "start_time": "2021-07-07T14:42:27.003Z"
      },
      {
        "duration": 21,
        "start_time": "2021-07-07T14:42:28.767Z"
      },
      {
        "duration": 7,
        "start_time": "2021-07-07T14:42:29.838Z"
      },
      {
        "duration": 4,
        "start_time": "2021-07-07T14:43:25.493Z"
      },
      {
        "duration": 7,
        "start_time": "2021-07-07T14:43:26.573Z"
      },
      {
        "duration": 10,
        "start_time": "2021-07-07T14:43:31.639Z"
      },
      {
        "duration": 9,
        "start_time": "2021-07-07T14:43:32.046Z"
      },
      {
        "duration": 10,
        "start_time": "2021-07-07T14:43:33.301Z"
      },
      {
        "duration": 12,
        "start_time": "2021-07-07T14:43:33.658Z"
      },
      {
        "duration": 8,
        "start_time": "2021-07-07T14:43:34.552Z"
      },
      {
        "duration": 9,
        "start_time": "2021-07-07T14:43:35.058Z"
      },
      {
        "duration": 12,
        "start_time": "2021-07-07T14:43:35.914Z"
      },
      {
        "duration": 17,
        "start_time": "2021-07-07T14:45:34.368Z"
      },
      {
        "duration": 512,
        "start_time": "2021-07-07T14:51:58.236Z"
      },
      {
        "duration": 223,
        "start_time": "2021-07-07T14:51:58.750Z"
      },
      {
        "duration": 93,
        "start_time": "2021-07-07T14:51:58.977Z"
      },
      {
        "duration": 4,
        "start_time": "2021-07-07T14:51:59.071Z"
      },
      {
        "duration": 37,
        "start_time": "2021-07-07T14:51:59.077Z"
      },
      {
        "duration": 18,
        "start_time": "2021-07-07T14:51:59.116Z"
      },
      {
        "duration": 10,
        "start_time": "2021-07-07T14:51:59.137Z"
      },
      {
        "duration": 8,
        "start_time": "2021-07-07T14:51:59.149Z"
      },
      {
        "duration": 54,
        "start_time": "2021-07-07T14:51:59.158Z"
      },
      {
        "duration": 18,
        "start_time": "2021-07-07T14:51:59.213Z"
      },
      {
        "duration": 22,
        "start_time": "2021-07-07T14:51:59.232Z"
      },
      {
        "duration": 36,
        "start_time": "2021-07-07T14:51:59.255Z"
      },
      {
        "duration": 7,
        "start_time": "2021-07-07T14:51:59.293Z"
      },
      {
        "duration": 10,
        "start_time": "2021-07-07T14:51:59.302Z"
      },
      {
        "duration": 9,
        "start_time": "2021-07-07T14:51:59.313Z"
      },
      {
        "duration": 11,
        "start_time": "2021-07-07T14:51:59.324Z"
      },
      {
        "duration": 8,
        "start_time": "2021-07-07T14:51:59.337Z"
      },
      {
        "duration": 46,
        "start_time": "2021-07-07T14:51:59.347Z"
      },
      {
        "duration": 22,
        "start_time": "2021-07-07T14:51:59.395Z"
      },
      {
        "duration": 24,
        "start_time": "2021-07-07T14:57:32.911Z"
      },
      {
        "duration": 7,
        "start_time": "2021-07-07T14:58:22.070Z"
      },
      {
        "duration": 4,
        "start_time": "2021-07-07T14:59:11.239Z"
      },
      {
        "duration": 25,
        "start_time": "2021-07-07T15:07:22.208Z"
      },
      {
        "duration": 16,
        "start_time": "2021-07-07T15:08:25.560Z"
      },
      {
        "duration": 15,
        "start_time": "2021-07-07T15:08:40.647Z"
      },
      {
        "duration": 14,
        "start_time": "2021-07-07T15:08:46.669Z"
      },
      {
        "duration": 533,
        "start_time": "2021-07-07T15:18:07.440Z"
      },
      {
        "duration": 173,
        "start_time": "2021-07-07T15:18:07.974Z"
      },
      {
        "duration": 84,
        "start_time": "2021-07-07T15:18:08.149Z"
      },
      {
        "duration": 3,
        "start_time": "2021-07-07T15:18:08.235Z"
      },
      {
        "duration": 30,
        "start_time": "2021-07-07T15:18:08.240Z"
      },
      {
        "duration": 22,
        "start_time": "2021-07-07T15:18:08.272Z"
      },
      {
        "duration": 11,
        "start_time": "2021-07-07T15:18:08.295Z"
      },
      {
        "duration": 11,
        "start_time": "2021-07-07T15:18:08.309Z"
      },
      {
        "duration": 40,
        "start_time": "2021-07-07T15:18:08.322Z"
      },
      {
        "duration": 42,
        "start_time": "2021-07-07T15:18:08.364Z"
      },
      {
        "duration": 22,
        "start_time": "2021-07-07T15:18:08.408Z"
      },
      {
        "duration": 5,
        "start_time": "2021-07-07T15:18:08.432Z"
      },
      {
        "duration": 13,
        "start_time": "2021-07-07T15:18:08.439Z"
      },
      {
        "duration": 9,
        "start_time": "2021-07-07T15:18:08.454Z"
      },
      {
        "duration": 32,
        "start_time": "2021-07-07T15:18:08.465Z"
      },
      {
        "duration": 10,
        "start_time": "2021-07-07T15:18:08.501Z"
      },
      {
        "duration": 7,
        "start_time": "2021-07-07T15:18:08.513Z"
      },
      {
        "duration": 11,
        "start_time": "2021-07-07T15:18:08.521Z"
      },
      {
        "duration": 17,
        "start_time": "2021-07-07T15:18:08.534Z"
      },
      {
        "duration": 44,
        "start_time": "2021-07-07T15:18:08.553Z"
      },
      {
        "duration": 22,
        "start_time": "2021-07-07T15:18:08.599Z"
      },
      {
        "duration": 61,
        "start_time": "2021-07-07T15:18:08.622Z"
      },
      {
        "duration": 7,
        "start_time": "2021-07-07T15:18:39.457Z"
      },
      {
        "duration": 5,
        "start_time": "2021-07-07T16:05:17.020Z"
      },
      {
        "duration": 5,
        "start_time": "2021-07-07T16:51:28.794Z"
      },
      {
        "duration": 546,
        "start_time": "2021-07-07T16:52:26.306Z"
      },
      {
        "duration": 203,
        "start_time": "2021-07-07T16:52:27.523Z"
      },
      {
        "duration": 85,
        "start_time": "2021-07-07T16:52:27.736Z"
      },
      {
        "duration": 4,
        "start_time": "2021-07-07T16:52:27.899Z"
      },
      {
        "duration": 25,
        "start_time": "2021-07-07T16:52:28.674Z"
      },
      {
        "duration": 8,
        "start_time": "2021-07-07T16:52:32.956Z"
      },
      {
        "duration": 18,
        "start_time": "2021-07-07T16:52:35.616Z"
      },
      {
        "duration": 6,
        "start_time": "2021-07-07T16:52:36.913Z"
      },
      {
        "duration": 11,
        "start_time": "2021-07-07T16:52:40.258Z"
      },
      {
        "duration": 10,
        "start_time": "2021-07-07T16:52:46.251Z"
      },
      {
        "duration": 8,
        "start_time": "2021-07-07T16:52:47.182Z"
      },
      {
        "duration": 27,
        "start_time": "2021-07-07T16:53:20.391Z"
      },
      {
        "duration": 20,
        "start_time": "2021-07-07T16:53:22.022Z"
      },
      {
        "duration": 23,
        "start_time": "2021-07-07T16:53:23.690Z"
      },
      {
        "duration": 8,
        "start_time": "2021-07-07T16:53:24.261Z"
      },
      {
        "duration": 4,
        "start_time": "2021-07-07T16:53:38.733Z"
      },
      {
        "duration": 7,
        "start_time": "2021-07-07T16:53:40.445Z"
      },
      {
        "duration": 11,
        "start_time": "2021-07-07T16:53:41.348Z"
      },
      {
        "duration": 13,
        "start_time": "2021-07-07T16:53:45.250Z"
      },
      {
        "duration": 12,
        "start_time": "2021-07-07T16:53:45.467Z"
      },
      {
        "duration": 4,
        "start_time": "2021-07-07T16:55:32.704Z"
      },
      {
        "duration": 12,
        "start_time": "2021-07-07T16:55:49.012Z"
      },
      {
        "duration": 18,
        "start_time": "2021-07-07T16:55:49.547Z"
      },
      {
        "duration": 611,
        "start_time": "2021-07-07T16:58:35.156Z"
      },
      {
        "duration": 200,
        "start_time": "2021-07-07T16:58:35.770Z"
      },
      {
        "duration": 86,
        "start_time": "2021-07-07T16:58:35.972Z"
      },
      {
        "duration": 3,
        "start_time": "2021-07-07T16:58:36.060Z"
      },
      {
        "duration": 27,
        "start_time": "2021-07-07T16:58:36.065Z"
      },
      {
        "duration": 8,
        "start_time": "2021-07-07T16:58:36.094Z"
      },
      {
        "duration": 17,
        "start_time": "2021-07-07T16:58:36.103Z"
      },
      {
        "duration": 5,
        "start_time": "2021-07-07T16:58:36.123Z"
      },
      {
        "duration": 11,
        "start_time": "2021-07-07T16:58:36.130Z"
      },
      {
        "duration": 7,
        "start_time": "2021-07-07T16:58:36.143Z"
      },
      {
        "duration": 37,
        "start_time": "2021-07-07T16:58:36.152Z"
      },
      {
        "duration": 27,
        "start_time": "2021-07-07T16:58:36.191Z"
      },
      {
        "duration": 19,
        "start_time": "2021-07-07T16:58:36.219Z"
      },
      {
        "duration": 49,
        "start_time": "2021-07-07T16:58:36.240Z"
      },
      {
        "duration": 6,
        "start_time": "2021-07-07T16:58:36.291Z"
      },
      {
        "duration": 3,
        "start_time": "2021-07-07T16:58:36.299Z"
      },
      {
        "duration": 13,
        "start_time": "2021-07-07T16:58:36.304Z"
      },
      {
        "duration": 10,
        "start_time": "2021-07-07T16:58:36.319Z"
      },
      {
        "duration": 10,
        "start_time": "2021-07-07T16:58:36.331Z"
      },
      {
        "duration": 44,
        "start_time": "2021-07-07T16:58:36.343Z"
      },
      {
        "duration": 4,
        "start_time": "2021-07-07T16:58:36.388Z"
      },
      {
        "duration": 13,
        "start_time": "2021-07-07T16:58:36.394Z"
      },
      {
        "duration": 16,
        "start_time": "2021-07-07T16:58:36.410Z"
      },
      {
        "duration": 8,
        "start_time": "2021-07-07T17:02:31.629Z"
      },
      {
        "duration": 8,
        "start_time": "2021-07-07T17:02:34.308Z"
      },
      {
        "duration": 6,
        "start_time": "2021-07-07T17:05:13.483Z"
      },
      {
        "duration": 17,
        "start_time": "2021-07-07T17:05:20.606Z"
      },
      {
        "duration": 7,
        "start_time": "2021-07-07T17:05:34.638Z"
      },
      {
        "duration": 3,
        "start_time": "2021-07-07T17:06:31.883Z"
      },
      {
        "duration": 570,
        "start_time": "2021-07-07T17:06:37.165Z"
      },
      {
        "duration": 174,
        "start_time": "2021-07-07T17:06:37.737Z"
      },
      {
        "duration": 47,
        "start_time": "2021-07-07T17:06:37.913Z"
      },
      {
        "duration": 3,
        "start_time": "2021-07-07T17:06:37.962Z"
      },
      {
        "duration": 27,
        "start_time": "2021-07-07T17:06:37.967Z"
      },
      {
        "duration": 7,
        "start_time": "2021-07-07T17:06:37.996Z"
      },
      {
        "duration": 16,
        "start_time": "2021-07-07T17:06:38.005Z"
      },
      {
        "duration": 6,
        "start_time": "2021-07-07T17:06:38.024Z"
      },
      {
        "duration": 12,
        "start_time": "2021-07-07T17:06:38.031Z"
      },
      {
        "duration": 41,
        "start_time": "2021-07-07T17:06:38.045Z"
      },
      {
        "duration": 8,
        "start_time": "2021-07-07T17:06:38.088Z"
      },
      {
        "duration": 26,
        "start_time": "2021-07-07T17:06:38.098Z"
      },
      {
        "duration": 17,
        "start_time": "2021-07-07T17:06:38.126Z"
      },
      {
        "duration": 43,
        "start_time": "2021-07-07T17:06:38.144Z"
      },
      {
        "duration": 6,
        "start_time": "2021-07-07T17:06:38.188Z"
      },
      {
        "duration": 5,
        "start_time": "2021-07-07T17:06:38.195Z"
      },
      {
        "duration": 9,
        "start_time": "2021-07-07T17:06:38.201Z"
      },
      {
        "duration": 12,
        "start_time": "2021-07-07T17:06:38.212Z"
      },
      {
        "duration": 11,
        "start_time": "2021-07-07T17:06:38.226Z"
      },
      {
        "duration": 47,
        "start_time": "2021-07-07T17:06:38.239Z"
      },
      {
        "duration": 4,
        "start_time": "2021-07-07T17:06:38.288Z"
      },
      {
        "duration": 13,
        "start_time": "2021-07-07T17:06:38.293Z"
      },
      {
        "duration": 5,
        "start_time": "2021-07-07T17:06:38.309Z"
      },
      {
        "duration": 18,
        "start_time": "2021-07-07T17:06:38.325Z"
      },
      {
        "duration": 20,
        "start_time": "2021-07-07T17:07:02.805Z"
      },
      {
        "duration": 19,
        "start_time": "2021-07-07T17:07:08.527Z"
      },
      {
        "duration": 19,
        "start_time": "2021-07-07T17:07:12.758Z"
      },
      {
        "duration": 22,
        "start_time": "2021-07-07T17:07:17.497Z"
      },
      {
        "duration": 19,
        "start_time": "2021-07-07T17:07:19.645Z"
      },
      {
        "duration": 10,
        "start_time": "2021-07-07T17:07:34.239Z"
      },
      {
        "duration": 17,
        "start_time": "2021-07-07T17:07:54.144Z"
      },
      {
        "duration": 14,
        "start_time": "2021-07-07T17:08:14.357Z"
      },
      {
        "duration": 616,
        "start_time": "2021-07-07T17:08:45.254Z"
      },
      {
        "duration": 178,
        "start_time": "2021-07-07T17:08:45.872Z"
      },
      {
        "duration": 60,
        "start_time": "2021-07-07T17:08:46.054Z"
      },
      {
        "duration": 3,
        "start_time": "2021-07-07T17:08:46.116Z"
      },
      {
        "duration": 26,
        "start_time": "2021-07-07T17:08:46.121Z"
      },
      {
        "duration": 7,
        "start_time": "2021-07-07T17:08:46.149Z"
      },
      {
        "duration": 17,
        "start_time": "2021-07-07T17:08:46.158Z"
      },
      {
        "duration": 14,
        "start_time": "2021-07-07T17:08:46.176Z"
      },
      {
        "duration": 17,
        "start_time": "2021-07-07T17:08:46.193Z"
      },
      {
        "duration": 9,
        "start_time": "2021-07-07T17:08:46.211Z"
      },
      {
        "duration": 21,
        "start_time": "2021-07-07T17:08:46.221Z"
      },
      {
        "duration": 49,
        "start_time": "2021-07-07T17:08:46.244Z"
      },
      {
        "duration": 24,
        "start_time": "2021-07-07T17:08:46.295Z"
      },
      {
        "duration": 22,
        "start_time": "2021-07-07T17:08:46.321Z"
      },
      {
        "duration": 6,
        "start_time": "2021-07-07T17:08:46.345Z"
      },
      {
        "duration": 5,
        "start_time": "2021-07-07T17:08:46.353Z"
      },
      {
        "duration": 13,
        "start_time": "2021-07-07T17:08:46.386Z"
      },
      {
        "duration": 12,
        "start_time": "2021-07-07T17:08:46.402Z"
      },
      {
        "duration": 10,
        "start_time": "2021-07-07T17:08:46.415Z"
      },
      {
        "duration": 7,
        "start_time": "2021-07-07T17:08:46.427Z"
      },
      {
        "duration": 8,
        "start_time": "2021-07-07T17:08:46.435Z"
      },
      {
        "duration": 68,
        "start_time": "2021-07-07T17:08:46.446Z"
      },
      {
        "duration": 13,
        "start_time": "2021-07-07T17:08:46.516Z"
      },
      {
        "duration": 78,
        "start_time": "2021-07-07T17:08:46.530Z"
      },
      {
        "duration": 40,
        "start_time": "2021-07-07T17:09:08.185Z"
      },
      {
        "duration": 16,
        "start_time": "2021-07-07T17:09:19.324Z"
      },
      {
        "duration": 21,
        "start_time": "2021-07-07T17:09:23.290Z"
      },
      {
        "duration": 13,
        "start_time": "2021-07-07T17:09:54.812Z"
      },
      {
        "duration": 13,
        "start_time": "2021-07-07T17:10:02.039Z"
      },
      {
        "duration": 10,
        "start_time": "2021-07-07T17:10:29.632Z"
      },
      {
        "duration": 13,
        "start_time": "2021-07-07T17:10:52.372Z"
      },
      {
        "duration": 13,
        "start_time": "2021-07-07T17:11:17.270Z"
      },
      {
        "duration": 13,
        "start_time": "2021-07-07T17:14:59.284Z"
      },
      {
        "duration": 547,
        "start_time": "2021-07-07T17:18:52.403Z"
      },
      {
        "duration": 163,
        "start_time": "2021-07-07T17:18:52.952Z"
      },
      {
        "duration": 44,
        "start_time": "2021-07-07T17:18:53.117Z"
      },
      {
        "duration": 3,
        "start_time": "2021-07-07T17:18:53.162Z"
      },
      {
        "duration": 26,
        "start_time": "2021-07-07T17:18:53.167Z"
      },
      {
        "duration": 6,
        "start_time": "2021-07-07T17:18:53.195Z"
      },
      {
        "duration": 15,
        "start_time": "2021-07-07T17:18:53.203Z"
      },
      {
        "duration": 5,
        "start_time": "2021-07-07T17:18:53.220Z"
      },
      {
        "duration": 11,
        "start_time": "2021-07-07T17:18:53.228Z"
      },
      {
        "duration": 9,
        "start_time": "2021-07-07T17:18:53.241Z"
      },
      {
        "duration": 41,
        "start_time": "2021-07-07T17:18:53.252Z"
      },
      {
        "duration": 33,
        "start_time": "2021-07-07T17:18:53.295Z"
      },
      {
        "duration": 19,
        "start_time": "2021-07-07T17:18:53.330Z"
      },
      {
        "duration": 49,
        "start_time": "2021-07-07T17:18:53.350Z"
      },
      {
        "duration": 5,
        "start_time": "2021-07-07T17:18:53.401Z"
      },
      {
        "duration": 5,
        "start_time": "2021-07-07T17:18:53.408Z"
      },
      {
        "duration": 11,
        "start_time": "2021-07-07T17:18:53.414Z"
      },
      {
        "duration": 9,
        "start_time": "2021-07-07T17:18:53.427Z"
      },
      {
        "duration": 10,
        "start_time": "2021-07-07T17:18:53.437Z"
      },
      {
        "duration": 39,
        "start_time": "2021-07-07T17:18:53.448Z"
      },
      {
        "duration": 26,
        "start_time": "2021-07-07T17:18:55.799Z"
      },
      {
        "duration": 598,
        "start_time": "2021-07-07T17:20:17.862Z"
      },
      {
        "duration": 161,
        "start_time": "2021-07-07T17:20:18.462Z"
      },
      {
        "duration": 45,
        "start_time": "2021-07-07T17:20:18.626Z"
      },
      {
        "duration": 4,
        "start_time": "2021-07-07T17:20:18.673Z"
      },
      {
        "duration": 38,
        "start_time": "2021-07-07T17:20:26.877Z"
      },
      {
        "duration": 7,
        "start_time": "2021-07-07T17:20:37.405Z"
      },
      {
        "duration": 19,
        "start_time": "2021-07-07T17:20:51.534Z"
      },
      {
        "duration": 5,
        "start_time": "2021-07-07T17:20:57.228Z"
      },
      {
        "duration": 7,
        "start_time": "2021-07-07T17:21:08.235Z"
      },
      {
        "duration": 19,
        "start_time": "2021-07-07T17:21:42.158Z"
      },
      {
        "duration": 14,
        "start_time": "2021-07-07T17:21:50.225Z"
      },
      {
        "duration": 22,
        "start_time": "2021-07-07T17:22:54.104Z"
      },
      {
        "duration": 5,
        "start_time": "2021-07-07T17:22:56.371Z"
      },
      {
        "duration": 14,
        "start_time": "2021-07-07T17:22:58.316Z"
      },
      {
        "duration": 5,
        "start_time": "2021-07-07T17:22:58.493Z"
      },
      {
        "duration": 35,
        "start_time": "2021-07-07T17:22:59.666Z"
      },
      {
        "duration": 6,
        "start_time": "2021-07-07T17:23:02.410Z"
      },
      {
        "duration": 611,
        "start_time": "2021-07-07T17:24:59.664Z"
      },
      {
        "duration": 178,
        "start_time": "2021-07-07T17:25:01.945Z"
      },
      {
        "duration": 47,
        "start_time": "2021-07-07T17:25:02.125Z"
      },
      {
        "duration": 2,
        "start_time": "2021-07-07T17:25:07.903Z"
      },
      {
        "duration": 254,
        "start_time": "2021-07-07T17:25:08.232Z"
      },
      {
        "duration": 182,
        "start_time": "2021-07-07T17:25:08.671Z"
      },
      {
        "duration": 6,
        "start_time": "2021-07-07T17:25:13.104Z"
      },
      {
        "duration": 36,
        "start_time": "2021-07-07T17:25:13.662Z"
      },
      {
        "duration": 7,
        "start_time": "2021-07-07T17:25:14.528Z"
      },
      {
        "duration": 24,
        "start_time": "2021-07-07T17:25:27.982Z"
      },
      {
        "duration": 3,
        "start_time": "2021-07-07T17:25:48.982Z"
      },
      {
        "duration": 165,
        "start_time": "2021-07-07T17:25:48.987Z"
      },
      {
        "duration": 50,
        "start_time": "2021-07-07T17:25:49.154Z"
      },
      {
        "duration": 4,
        "start_time": "2021-07-07T17:25:49.206Z"
      },
      {
        "duration": 26,
        "start_time": "2021-07-07T17:25:49.212Z"
      },
      {
        "duration": 7,
        "start_time": "2021-07-07T17:25:49.240Z"
      },
      {
        "duration": 16,
        "start_time": "2021-07-07T17:25:49.249Z"
      },
      {
        "duration": 22,
        "start_time": "2021-07-07T17:25:49.266Z"
      },
      {
        "duration": 16,
        "start_time": "2021-07-07T17:25:49.291Z"
      },
      {
        "duration": 9,
        "start_time": "2021-07-07T17:25:49.309Z"
      },
      {
        "duration": 7,
        "start_time": "2021-07-07T17:25:49.319Z"
      },
      {
        "duration": 28,
        "start_time": "2021-07-07T17:25:49.328Z"
      },
      {
        "duration": 44,
        "start_time": "2021-07-07T17:25:49.357Z"
      },
      {
        "duration": 22,
        "start_time": "2021-07-07T17:25:49.403Z"
      },
      {
        "duration": 7,
        "start_time": "2021-07-07T17:25:49.427Z"
      },
      {
        "duration": 3,
        "start_time": "2021-07-07T17:25:49.436Z"
      },
      {
        "duration": 44,
        "start_time": "2021-07-07T17:25:49.441Z"
      },
      {
        "duration": 12,
        "start_time": "2021-07-07T17:25:49.488Z"
      },
      {
        "duration": 13,
        "start_time": "2021-07-07T17:25:49.502Z"
      },
      {
        "duration": 10,
        "start_time": "2021-07-07T17:25:49.516Z"
      },
      {
        "duration": 62,
        "start_time": "2021-07-07T17:25:49.527Z"
      },
      {
        "duration": 26,
        "start_time": "2021-07-07T17:26:51.809Z"
      },
      {
        "duration": 26,
        "start_time": "2021-07-07T17:26:55.759Z"
      },
      {
        "duration": 26,
        "start_time": "2021-07-07T17:27:04.501Z"
      },
      {
        "duration": 25,
        "start_time": "2021-07-07T17:28:24.859Z"
      },
      {
        "duration": 21,
        "start_time": "2021-07-07T17:28:55.250Z"
      },
      {
        "duration": 21,
        "start_time": "2021-07-07T17:28:58.885Z"
      },
      {
        "duration": 7,
        "start_time": "2021-07-07T17:45:40.972Z"
      },
      {
        "duration": 13,
        "start_time": "2021-07-07T17:45:42.529Z"
      },
      {
        "duration": 27,
        "start_time": "2021-07-07T17:45:51.026Z"
      },
      {
        "duration": 518,
        "start_time": "2021-07-07T17:46:15.532Z"
      },
      {
        "duration": 235,
        "start_time": "2021-07-07T17:46:16.053Z"
      },
      {
        "duration": 80,
        "start_time": "2021-07-07T17:46:16.292Z"
      },
      {
        "duration": 5,
        "start_time": "2021-07-07T17:46:16.373Z"
      },
      {
        "duration": 26,
        "start_time": "2021-07-07T17:46:16.380Z"
      },
      {
        "duration": 7,
        "start_time": "2021-07-07T17:46:16.408Z"
      },
      {
        "duration": 16,
        "start_time": "2021-07-07T17:46:16.418Z"
      },
      {
        "duration": 5,
        "start_time": "2021-07-07T17:46:16.436Z"
      },
      {
        "duration": 13,
        "start_time": "2021-07-07T17:46:16.442Z"
      },
      {
        "duration": 35,
        "start_time": "2021-07-07T17:46:16.456Z"
      },
      {
        "duration": 8,
        "start_time": "2021-07-07T17:46:16.493Z"
      },
      {
        "duration": 28,
        "start_time": "2021-07-07T17:46:16.502Z"
      },
      {
        "duration": 17,
        "start_time": "2021-07-07T17:46:16.532Z"
      },
      {
        "duration": 44,
        "start_time": "2021-07-07T17:46:16.551Z"
      },
      {
        "duration": 6,
        "start_time": "2021-07-07T17:46:16.597Z"
      },
      {
        "duration": 4,
        "start_time": "2021-07-07T17:46:16.605Z"
      },
      {
        "duration": 9,
        "start_time": "2021-07-07T17:46:16.610Z"
      },
      {
        "duration": 9,
        "start_time": "2021-07-07T17:46:16.621Z"
      },
      {
        "duration": 10,
        "start_time": "2021-07-07T17:46:16.632Z"
      },
      {
        "duration": 43,
        "start_time": "2021-07-07T17:46:16.644Z"
      },
      {
        "duration": 26,
        "start_time": "2021-07-07T17:46:16.689Z"
      },
      {
        "duration": 19,
        "start_time": "2021-07-07T17:46:16.718Z"
      },
      {
        "duration": 8,
        "start_time": "2021-07-07T17:46:16.738Z"
      },
      {
        "duration": 43,
        "start_time": "2021-07-07T17:46:16.747Z"
      },
      {
        "duration": 19,
        "start_time": "2021-07-07T17:46:16.791Z"
      },
      {
        "duration": 9,
        "start_time": "2021-07-07T17:46:16.812Z"
      },
      {
        "duration": 60,
        "start_time": "2021-07-07T17:46:16.822Z"
      },
      {
        "duration": -8,
        "start_time": "2021-07-07T17:46:16.892Z"
      },
      {
        "duration": 12,
        "start_time": "2021-07-07T17:48:47.707Z"
      },
      {
        "duration": 553,
        "start_time": "2021-07-07T18:10:09.350Z"
      },
      {
        "duration": 230,
        "start_time": "2021-07-07T18:10:09.905Z"
      },
      {
        "duration": 97,
        "start_time": "2021-07-07T18:10:10.137Z"
      },
      {
        "duration": 5,
        "start_time": "2021-07-07T18:10:10.236Z"
      },
      {
        "duration": 29,
        "start_time": "2021-07-07T18:10:10.242Z"
      },
      {
        "duration": 7,
        "start_time": "2021-07-07T18:10:10.272Z"
      },
      {
        "duration": 15,
        "start_time": "2021-07-07T18:10:10.281Z"
      },
      {
        "duration": 4,
        "start_time": "2021-07-07T18:10:10.299Z"
      },
      {
        "duration": 14,
        "start_time": "2021-07-07T18:10:10.305Z"
      },
      {
        "duration": 8,
        "start_time": "2021-07-07T18:10:10.321Z"
      },
      {
        "duration": 8,
        "start_time": "2021-07-07T18:10:10.331Z"
      },
      {
        "duration": 56,
        "start_time": "2021-07-07T18:10:10.341Z"
      },
      {
        "duration": 19,
        "start_time": "2021-07-07T18:10:10.399Z"
      },
      {
        "duration": 23,
        "start_time": "2021-07-07T18:10:10.419Z"
      },
      {
        "duration": 6,
        "start_time": "2021-07-07T18:10:10.444Z"
      },
      {
        "duration": 9,
        "start_time": "2021-07-07T18:10:10.451Z"
      },
      {
        "duration": 30,
        "start_time": "2021-07-07T18:10:10.462Z"
      },
      {
        "duration": 9,
        "start_time": "2021-07-07T18:10:10.494Z"
      },
      {
        "duration": 14,
        "start_time": "2021-07-07T18:10:10.505Z"
      },
      {
        "duration": 7,
        "start_time": "2021-07-07T18:10:10.521Z"
      },
      {
        "duration": 26,
        "start_time": "2021-07-07T18:10:10.530Z"
      },
      {
        "duration": 44,
        "start_time": "2021-07-07T18:10:10.558Z"
      },
      {
        "duration": 7,
        "start_time": "2021-07-07T18:10:10.605Z"
      },
      {
        "duration": 11,
        "start_time": "2021-07-07T18:10:10.614Z"
      },
      {
        "duration": 19,
        "start_time": "2021-07-07T18:10:10.626Z"
      },
      {
        "duration": 44,
        "start_time": "2021-07-07T18:10:10.646Z"
      },
      {
        "duration": 516,
        "start_time": "2021-07-07T18:14:00.826Z"
      },
      {
        "duration": 230,
        "start_time": "2021-07-07T18:14:01.344Z"
      },
      {
        "duration": 105,
        "start_time": "2021-07-07T18:14:01.576Z"
      },
      {
        "duration": 5,
        "start_time": "2021-07-07T18:14:01.683Z"
      },
      {
        "duration": 46,
        "start_time": "2021-07-07T18:14:01.690Z"
      },
      {
        "duration": 7,
        "start_time": "2021-07-07T18:14:01.738Z"
      },
      {
        "duration": 20,
        "start_time": "2021-07-07T18:14:01.747Z"
      },
      {
        "duration": 16,
        "start_time": "2021-07-07T18:14:01.769Z"
      },
      {
        "duration": 14,
        "start_time": "2021-07-07T18:14:01.787Z"
      },
      {
        "duration": 15,
        "start_time": "2021-07-07T18:14:01.803Z"
      },
      {
        "duration": 12,
        "start_time": "2021-07-07T18:14:01.820Z"
      },
      {
        "duration": 35,
        "start_time": "2021-07-07T18:14:01.833Z"
      },
      {
        "duration": 31,
        "start_time": "2021-07-07T18:14:01.869Z"
      },
      {
        "duration": 37,
        "start_time": "2021-07-07T18:14:01.902Z"
      },
      {
        "duration": 8,
        "start_time": "2021-07-07T18:14:01.942Z"
      },
      {
        "duration": 16,
        "start_time": "2021-07-07T18:14:01.952Z"
      },
      {
        "duration": 13,
        "start_time": "2021-07-07T18:14:01.970Z"
      },
      {
        "duration": 32,
        "start_time": "2021-07-07T18:14:01.985Z"
      },
      {
        "duration": 11,
        "start_time": "2021-07-07T18:14:02.019Z"
      },
      {
        "duration": 22,
        "start_time": "2021-07-07T18:14:02.031Z"
      },
      {
        "duration": 27,
        "start_time": "2021-07-07T18:14:02.055Z"
      },
      {
        "duration": 18,
        "start_time": "2021-07-07T18:14:02.084Z"
      },
      {
        "duration": 18,
        "start_time": "2021-07-07T18:14:02.106Z"
      },
      {
        "duration": 11,
        "start_time": "2021-07-07T18:14:02.126Z"
      },
      {
        "duration": 21,
        "start_time": "2021-07-07T18:14:02.138Z"
      },
      {
        "duration": 32,
        "start_time": "2021-07-07T18:14:02.161Z"
      },
      {
        "duration": 28,
        "start_time": "2021-07-07T18:14:44.295Z"
      },
      {
        "duration": 6,
        "start_time": "2021-07-07T18:15:05.834Z"
      },
      {
        "duration": 511,
        "start_time": "2021-07-07T18:15:41.541Z"
      },
      {
        "duration": 183,
        "start_time": "2021-07-07T18:15:42.054Z"
      },
      {
        "duration": 50,
        "start_time": "2021-07-07T18:15:42.239Z"
      },
      {
        "duration": 5,
        "start_time": "2021-07-07T18:15:42.291Z"
      },
      {
        "duration": 48,
        "start_time": "2021-07-07T18:15:42.297Z"
      },
      {
        "duration": 8,
        "start_time": "2021-07-07T18:15:42.346Z"
      },
      {
        "duration": 17,
        "start_time": "2021-07-07T18:15:42.356Z"
      },
      {
        "duration": 15,
        "start_time": "2021-07-07T18:15:42.375Z"
      },
      {
        "duration": 12,
        "start_time": "2021-07-07T18:15:42.392Z"
      },
      {
        "duration": 7,
        "start_time": "2021-07-07T18:15:42.406Z"
      },
      {
        "duration": 7,
        "start_time": "2021-07-07T18:15:42.415Z"
      },
      {
        "duration": 29,
        "start_time": "2021-07-07T18:15:42.423Z"
      },
      {
        "duration": 43,
        "start_time": "2021-07-07T18:15:42.453Z"
      },
      {
        "duration": 18,
        "start_time": "2021-07-07T18:15:42.497Z"
      },
      {
        "duration": 6,
        "start_time": "2021-07-07T18:15:42.516Z"
      },
      {
        "duration": 3,
        "start_time": "2021-07-07T18:15:42.523Z"
      },
      {
        "duration": 18,
        "start_time": "2021-07-07T18:15:42.528Z"
      },
      {
        "duration": 10,
        "start_time": "2021-07-07T18:15:42.547Z"
      },
      {
        "duration": 36,
        "start_time": "2021-07-07T18:15:42.559Z"
      },
      {
        "duration": 8,
        "start_time": "2021-07-07T18:15:42.597Z"
      },
      {
        "duration": 28,
        "start_time": "2021-07-07T18:15:42.606Z"
      },
      {
        "duration": 52,
        "start_time": "2021-07-07T18:15:42.635Z"
      },
      {
        "duration": 7,
        "start_time": "2021-07-07T18:15:42.690Z"
      },
      {
        "duration": 10,
        "start_time": "2021-07-07T18:15:42.699Z"
      },
      {
        "duration": 19,
        "start_time": "2021-07-07T18:15:42.711Z"
      },
      {
        "duration": 9,
        "start_time": "2021-07-07T18:15:42.732Z"
      },
      {
        "duration": 5,
        "start_time": "2021-07-07T18:15:42.743Z"
      },
      {
        "duration": 1450,
        "start_time": "2021-07-07T18:15:51.984Z"
      },
      {
        "duration": 161,
        "start_time": "2021-07-07T18:15:53.435Z"
      },
      {
        "duration": 124,
        "start_time": "2021-07-07T18:15:53.598Z"
      },
      {
        "duration": 5,
        "start_time": "2021-07-07T18:15:53.724Z"
      },
      {
        "duration": 34,
        "start_time": "2021-07-07T18:15:53.730Z"
      },
      {
        "duration": 7,
        "start_time": "2021-07-07T18:15:53.765Z"
      },
      {
        "duration": 15,
        "start_time": "2021-07-07T18:15:53.773Z"
      },
      {
        "duration": 5,
        "start_time": "2021-07-07T18:15:53.791Z"
      },
      {
        "duration": 19,
        "start_time": "2021-07-07T18:15:53.798Z"
      },
      {
        "duration": 9,
        "start_time": "2021-07-07T18:15:53.818Z"
      },
      {
        "duration": 19,
        "start_time": "2021-07-07T18:15:53.828Z"
      },
      {
        "duration": 27,
        "start_time": "2021-07-07T18:15:53.848Z"
      },
      {
        "duration": 16,
        "start_time": "2021-07-07T18:15:53.884Z"
      },
      {
        "duration": 29,
        "start_time": "2021-07-07T18:15:53.901Z"
      },
      {
        "duration": 5,
        "start_time": "2021-07-07T18:15:53.932Z"
      },
      {
        "duration": 15,
        "start_time": "2021-07-07T18:15:53.939Z"
      },
      {
        "duration": 13,
        "start_time": "2021-07-07T18:15:53.956Z"
      },
      {
        "duration": 20,
        "start_time": "2021-07-07T18:15:53.971Z"
      },
      {
        "duration": 14,
        "start_time": "2021-07-07T18:15:53.992Z"
      },
      {
        "duration": 9,
        "start_time": "2021-07-07T18:15:54.009Z"
      },
      {
        "duration": 28,
        "start_time": "2021-07-07T18:15:54.020Z"
      },
      {
        "duration": 50,
        "start_time": "2021-07-07T18:15:54.051Z"
      },
      {
        "duration": 8,
        "start_time": "2021-07-07T18:15:54.105Z"
      },
      {
        "duration": 11,
        "start_time": "2021-07-07T18:15:54.115Z"
      },
      {
        "duration": 20,
        "start_time": "2021-07-07T18:15:54.128Z"
      },
      {
        "duration": 13,
        "start_time": "2021-07-07T18:15:54.184Z"
      },
      {
        "duration": 7,
        "start_time": "2021-07-07T18:15:54.199Z"
      },
      {
        "duration": 7,
        "start_time": "2021-07-07T18:17:08.042Z"
      },
      {
        "duration": 8,
        "start_time": "2021-07-07T18:17:21.008Z"
      },
      {
        "duration": 7,
        "start_time": "2021-07-07T18:17:29.003Z"
      },
      {
        "duration": 8,
        "start_time": "2021-07-07T18:17:32.492Z"
      },
      {
        "duration": 9,
        "start_time": "2021-07-07T18:17:41.758Z"
      },
      {
        "duration": 255,
        "start_time": "2021-07-07T18:20:20.897Z"
      },
      {
        "duration": 173,
        "start_time": "2021-07-07T18:20:26.636Z"
      },
      {
        "duration": 7,
        "start_time": "2021-07-07T18:21:47.164Z"
      },
      {
        "duration": 254,
        "start_time": "2021-07-07T18:23:08.703Z"
      },
      {
        "duration": 21,
        "start_time": "2021-07-07T18:23:22.506Z"
      },
      {
        "duration": 315,
        "start_time": "2021-07-07T18:25:54.801Z"
      },
      {
        "duration": 34,
        "start_time": "2021-07-07T18:26:51.817Z"
      },
      {
        "duration": 327,
        "start_time": "2021-07-07T18:26:56.147Z"
      },
      {
        "duration": 342,
        "start_time": "2021-07-07T18:27:15.887Z"
      },
      {
        "duration": 302,
        "start_time": "2021-07-07T18:28:18.569Z"
      },
      {
        "duration": 226,
        "start_time": "2021-07-07T18:29:20.879Z"
      },
      {
        "duration": 207,
        "start_time": "2021-07-07T18:29:58.114Z"
      },
      {
        "duration": 140,
        "start_time": "2021-07-07T18:32:04.372Z"
      },
      {
        "duration": 158,
        "start_time": "2021-07-07T18:32:32.508Z"
      },
      {
        "duration": 145,
        "start_time": "2021-07-07T18:32:41.365Z"
      },
      {
        "duration": 132,
        "start_time": "2021-07-07T18:32:45.199Z"
      },
      {
        "duration": 11,
        "start_time": "2021-07-07T18:35:24.679Z"
      },
      {
        "duration": 268,
        "start_time": "2021-07-07T18:36:16.145Z"
      },
      {
        "duration": 227,
        "start_time": "2021-07-07T18:37:04.918Z"
      },
      {
        "duration": 3,
        "start_time": "2021-07-07T18:37:33.012Z"
      },
      {
        "duration": 671,
        "start_time": "2021-07-07T18:37:38.295Z"
      },
      {
        "duration": 54,
        "start_time": "2021-07-07T18:37:53.406Z"
      },
      {
        "duration": 631,
        "start_time": "2021-07-07T18:37:56.463Z"
      },
      {
        "duration": 19,
        "start_time": "2021-07-07T18:39:40.535Z"
      },
      {
        "duration": 20,
        "start_time": "2021-07-07T18:40:12.236Z"
      },
      {
        "duration": 633,
        "start_time": "2021-07-07T18:42:00.398Z"
      },
      {
        "duration": 218,
        "start_time": "2021-07-07T18:42:01.033Z"
      },
      {
        "duration": 49,
        "start_time": "2021-07-07T18:42:01.253Z"
      },
      {
        "duration": 5,
        "start_time": "2021-07-07T18:42:01.303Z"
      },
      {
        "duration": 27,
        "start_time": "2021-07-07T18:42:01.310Z"
      },
      {
        "duration": 8,
        "start_time": "2021-07-07T18:42:01.339Z"
      },
      {
        "duration": 20,
        "start_time": "2021-07-07T18:42:01.348Z"
      },
      {
        "duration": 6,
        "start_time": "2021-07-07T18:42:01.386Z"
      },
      {
        "duration": 16,
        "start_time": "2021-07-07T18:42:01.394Z"
      },
      {
        "duration": 9,
        "start_time": "2021-07-07T18:42:01.411Z"
      },
      {
        "duration": 11,
        "start_time": "2021-07-07T18:42:01.421Z"
      },
      {
        "duration": 31,
        "start_time": "2021-07-07T18:42:01.434Z"
      },
      {
        "duration": 18,
        "start_time": "2021-07-07T18:42:01.485Z"
      },
      {
        "duration": 23,
        "start_time": "2021-07-07T18:42:01.505Z"
      },
      {
        "duration": 6,
        "start_time": "2021-07-07T18:42:01.530Z"
      },
      {
        "duration": 10,
        "start_time": "2021-07-07T18:42:01.538Z"
      },
      {
        "duration": 13,
        "start_time": "2021-07-07T18:42:01.550Z"
      },
      {
        "duration": 24,
        "start_time": "2021-07-07T18:42:01.564Z"
      },
      {
        "duration": 20,
        "start_time": "2021-07-07T18:42:01.590Z"
      },
      {
        "duration": 8,
        "start_time": "2021-07-07T18:42:01.611Z"
      },
      {
        "duration": 31,
        "start_time": "2021-07-07T18:42:01.620Z"
      },
      {
        "duration": 39,
        "start_time": "2021-07-07T18:42:01.653Z"
      },
      {
        "duration": 8,
        "start_time": "2021-07-07T18:42:01.696Z"
      },
      {
        "duration": 13,
        "start_time": "2021-07-07T18:42:01.705Z"
      },
      {
        "duration": 20,
        "start_time": "2021-07-07T18:42:01.720Z"
      },
      {
        "duration": 12,
        "start_time": "2021-07-07T18:42:01.741Z"
      },
      {
        "duration": 35,
        "start_time": "2021-07-07T18:42:01.755Z"
      },
      {
        "duration": 14,
        "start_time": "2021-07-07T18:42:01.792Z"
      },
      {
        "duration": 188,
        "start_time": "2021-07-07T18:42:01.808Z"
      },
      {
        "duration": 19,
        "start_time": "2021-07-07T18:42:01.998Z"
      },
      {
        "duration": 175,
        "start_time": "2021-07-07T18:42:02.019Z"
      },
      {
        "duration": 134,
        "start_time": "2021-07-07T18:42:02.196Z"
      },
      {
        "duration": 10,
        "start_time": "2021-07-07T18:42:02.331Z"
      },
      {
        "duration": 19,
        "start_time": "2021-07-07T18:42:02.343Z"
      },
      {
        "duration": 628,
        "start_time": "2021-07-07T18:46:30.701Z"
      },
      {
        "duration": 183,
        "start_time": "2021-07-07T18:46:31.331Z"
      },
      {
        "duration": 48,
        "start_time": "2021-07-07T18:46:31.516Z"
      },
      {
        "duration": 5,
        "start_time": "2021-07-07T18:46:31.566Z"
      },
      {
        "duration": 28,
        "start_time": "2021-07-07T18:46:31.572Z"
      },
      {
        "duration": 8,
        "start_time": "2021-07-07T18:46:31.602Z"
      },
      {
        "duration": 19,
        "start_time": "2021-07-07T18:46:31.611Z"
      },
      {
        "duration": 6,
        "start_time": "2021-07-07T18:46:31.633Z"
      },
      {
        "duration": 17,
        "start_time": "2021-07-07T18:46:31.642Z"
      },
      {
        "duration": 10,
        "start_time": "2021-07-07T18:46:31.684Z"
      },
      {
        "duration": 9,
        "start_time": "2021-07-07T18:46:31.695Z"
      },
      {
        "duration": 28,
        "start_time": "2021-07-07T18:46:31.705Z"
      },
      {
        "duration": 18,
        "start_time": "2021-07-07T18:46:31.735Z"
      },
      {
        "duration": 48,
        "start_time": "2021-07-07T18:46:31.755Z"
      },
      {
        "duration": 6,
        "start_time": "2021-07-07T18:46:31.804Z"
      },
      {
        "duration": 4,
        "start_time": "2021-07-07T18:46:31.812Z"
      },
      {
        "duration": 9,
        "start_time": "2021-07-07T18:46:31.817Z"
      },
      {
        "duration": 10,
        "start_time": "2021-07-07T18:46:31.827Z"
      },
      {
        "duration": 12,
        "start_time": "2021-07-07T18:46:31.838Z"
      },
      {
        "duration": 39,
        "start_time": "2021-07-07T18:46:31.851Z"
      },
      {
        "duration": 24,
        "start_time": "2021-07-07T18:46:31.892Z"
      },
      {
        "duration": 15,
        "start_time": "2021-07-07T18:46:31.918Z"
      },
      {
        "duration": 7,
        "start_time": "2021-07-07T18:46:31.936Z"
      },
      {
        "duration": 8,
        "start_time": "2021-07-07T18:46:31.944Z"
      },
      {
        "duration": 19,
        "start_time": "2021-07-07T18:46:31.984Z"
      },
      {
        "duration": 10,
        "start_time": "2021-07-07T18:46:32.004Z"
      },
      {
        "duration": 5,
        "start_time": "2021-07-07T18:46:32.016Z"
      },
      {
        "duration": 9,
        "start_time": "2021-07-07T18:46:32.023Z"
      },
      {
        "duration": 199,
        "start_time": "2021-07-07T18:46:32.033Z"
      },
      {
        "duration": 19,
        "start_time": "2021-07-07T18:46:32.234Z"
      },
      {
        "duration": 159,
        "start_time": "2021-07-07T18:46:32.255Z"
      },
      {
        "duration": 134,
        "start_time": "2021-07-07T18:46:32.416Z"
      },
      {
        "duration": 10,
        "start_time": "2021-07-07T18:46:32.552Z"
      },
      {
        "duration": 34,
        "start_time": "2021-07-07T18:46:32.563Z"
      },
      {
        "duration": 1039,
        "start_time": "2021-07-08T08:41:09.419Z"
      },
      {
        "duration": 333,
        "start_time": "2021-07-08T08:41:10.459Z"
      },
      {
        "duration": 173,
        "start_time": "2021-07-08T08:41:10.794Z"
      },
      {
        "duration": 5,
        "start_time": "2021-07-08T08:41:10.968Z"
      },
      {
        "duration": 25,
        "start_time": "2021-07-08T08:41:10.975Z"
      },
      {
        "duration": 9,
        "start_time": "2021-07-08T08:41:11.002Z"
      },
      {
        "duration": 18,
        "start_time": "2021-07-08T08:41:11.013Z"
      },
      {
        "duration": 6,
        "start_time": "2021-07-08T08:41:11.033Z"
      },
      {
        "duration": 44,
        "start_time": "2021-07-08T08:41:11.042Z"
      },
      {
        "duration": 10,
        "start_time": "2021-07-08T08:41:11.088Z"
      },
      {
        "duration": 9,
        "start_time": "2021-07-08T08:41:11.100Z"
      },
      {
        "duration": 27,
        "start_time": "2021-07-08T08:41:11.111Z"
      },
      {
        "duration": 46,
        "start_time": "2021-07-08T08:41:11.140Z"
      },
      {
        "duration": 17,
        "start_time": "2021-07-08T08:41:11.187Z"
      },
      {
        "duration": 6,
        "start_time": "2021-07-08T08:41:11.206Z"
      },
      {
        "duration": 5,
        "start_time": "2021-07-08T08:41:11.213Z"
      },
      {
        "duration": 10,
        "start_time": "2021-07-08T08:41:11.219Z"
      },
      {
        "duration": 9,
        "start_time": "2021-07-08T08:41:11.230Z"
      },
      {
        "duration": 45,
        "start_time": "2021-07-08T08:41:11.241Z"
      },
      {
        "duration": 7,
        "start_time": "2021-07-08T08:41:11.287Z"
      },
      {
        "duration": 24,
        "start_time": "2021-07-08T08:41:11.296Z"
      },
      {
        "duration": 16,
        "start_time": "2021-07-08T08:41:11.322Z"
      },
      {
        "duration": 7,
        "start_time": "2021-07-08T08:41:11.341Z"
      },
      {
        "duration": 41,
        "start_time": "2021-07-08T08:41:11.349Z"
      },
      {
        "duration": 17,
        "start_time": "2021-07-08T08:41:11.391Z"
      },
      {
        "duration": 9,
        "start_time": "2021-07-08T08:41:11.410Z"
      },
      {
        "duration": 5,
        "start_time": "2021-07-08T08:41:11.421Z"
      },
      {
        "duration": 6,
        "start_time": "2021-07-08T08:41:11.428Z"
      },
      {
        "duration": 198,
        "start_time": "2021-07-08T08:41:11.435Z"
      },
      {
        "duration": 18,
        "start_time": "2021-07-08T08:41:11.635Z"
      },
      {
        "duration": 155,
        "start_time": "2021-07-08T08:41:11.655Z"
      },
      {
        "duration": 138,
        "start_time": "2021-07-08T08:41:11.811Z"
      },
      {
        "duration": 10,
        "start_time": "2021-07-08T08:41:11.950Z"
      },
      {
        "duration": 29,
        "start_time": "2021-07-08T08:41:11.961Z"
      },
      {
        "duration": 171,
        "start_time": "2021-07-08T08:47:44.522Z"
      },
      {
        "duration": 124,
        "start_time": "2021-07-08T08:47:46.872Z"
      },
      {
        "duration": 191,
        "start_time": "2021-07-08T08:47:58.148Z"
      },
      {
        "duration": 191,
        "start_time": "2021-07-08T08:48:07.412Z"
      },
      {
        "duration": 261,
        "start_time": "2021-07-08T08:48:10.385Z"
      },
      {
        "duration": 255,
        "start_time": "2021-07-08T08:48:14.494Z"
      },
      {
        "duration": 219,
        "start_time": "2021-07-08T08:48:22.752Z"
      },
      {
        "duration": 173,
        "start_time": "2021-07-08T08:49:06.395Z"
      },
      {
        "duration": 180,
        "start_time": "2021-07-08T08:49:21.011Z"
      },
      {
        "duration": 6,
        "start_time": "2021-07-08T08:50:31.697Z"
      },
      {
        "duration": 10,
        "start_time": "2021-07-08T08:50:47.394Z"
      },
      {
        "duration": 11,
        "start_time": "2021-07-08T08:53:49.332Z"
      },
      {
        "duration": 171,
        "start_time": "2021-07-08T08:54:28.408Z"
      },
      {
        "duration": 636,
        "start_time": "2021-07-08T09:02:48.385Z"
      },
      {
        "duration": 227,
        "start_time": "2021-07-08T09:02:49.023Z"
      },
      {
        "duration": 104,
        "start_time": "2021-07-08T09:02:49.252Z"
      },
      {
        "duration": 5,
        "start_time": "2021-07-08T09:02:49.358Z"
      },
      {
        "duration": 27,
        "start_time": "2021-07-08T09:02:49.365Z"
      },
      {
        "duration": 8,
        "start_time": "2021-07-08T09:02:49.394Z"
      },
      {
        "duration": 18,
        "start_time": "2021-07-08T09:02:49.404Z"
      },
      {
        "duration": 6,
        "start_time": "2021-07-08T09:02:49.424Z"
      },
      {
        "duration": 11,
        "start_time": "2021-07-08T09:02:49.433Z"
      },
      {
        "duration": 13,
        "start_time": "2021-07-08T09:02:49.485Z"
      },
      {
        "duration": 9,
        "start_time": "2021-07-08T09:02:49.500Z"
      },
      {
        "duration": 38,
        "start_time": "2021-07-08T09:02:49.511Z"
      },
      {
        "duration": 42,
        "start_time": "2021-07-08T09:02:49.551Z"
      },
      {
        "duration": 21,
        "start_time": "2021-07-08T09:02:49.594Z"
      },
      {
        "duration": 6,
        "start_time": "2021-07-08T09:02:49.616Z"
      },
      {
        "duration": 3,
        "start_time": "2021-07-08T09:02:49.623Z"
      },
      {
        "duration": 9,
        "start_time": "2021-07-08T09:02:49.628Z"
      },
      {
        "duration": 52,
        "start_time": "2021-07-08T09:02:49.638Z"
      },
      {
        "duration": 11,
        "start_time": "2021-07-08T09:02:49.692Z"
      },
      {
        "duration": 8,
        "start_time": "2021-07-08T09:02:49.704Z"
      },
      {
        "duration": 27,
        "start_time": "2021-07-08T09:02:49.713Z"
      },
      {
        "duration": 59,
        "start_time": "2021-07-08T09:02:49.741Z"
      },
      {
        "duration": 8,
        "start_time": "2021-07-08T09:02:49.803Z"
      },
      {
        "duration": 14,
        "start_time": "2021-07-08T09:02:49.813Z"
      },
      {
        "duration": 20,
        "start_time": "2021-07-08T09:02:49.829Z"
      },
      {
        "duration": 44,
        "start_time": "2021-07-08T09:02:49.851Z"
      },
      {
        "duration": 14,
        "start_time": "2021-07-08T09:02:49.896Z"
      },
      {
        "duration": 221,
        "start_time": "2021-07-08T09:02:49.912Z"
      },
      {
        "duration": 6,
        "start_time": "2021-07-08T09:02:50.134Z"
      },
      {
        "duration": 206,
        "start_time": "2021-07-08T09:02:50.142Z"
      },
      {
        "duration": 19,
        "start_time": "2021-07-08T09:02:50.350Z"
      },
      {
        "duration": 21,
        "start_time": "2021-07-08T09:02:50.370Z"
      },
      {
        "duration": 20,
        "start_time": "2021-07-08T09:02:50.393Z"
      },
      {
        "duration": 5,
        "start_time": "2021-07-08T09:02:50.414Z"
      },
      {
        "duration": 5,
        "start_time": "2021-07-08T09:03:34.173Z"
      },
      {
        "duration": 6,
        "start_time": "2021-07-08T09:04:49.062Z"
      },
      {
        "duration": 9,
        "start_time": "2021-07-08T09:04:50.118Z"
      },
      {
        "duration": 14,
        "start_time": "2021-07-08T09:04:58.512Z"
      },
      {
        "duration": 9,
        "start_time": "2021-07-08T09:05:10.988Z"
      },
      {
        "duration": 11,
        "start_time": "2021-07-08T09:05:11.743Z"
      },
      {
        "duration": 7,
        "start_time": "2021-07-08T09:05:25.677Z"
      },
      {
        "duration": 13,
        "start_time": "2021-07-08T09:05:47.189Z"
      },
      {
        "duration": 13,
        "start_time": "2021-07-08T09:05:54.755Z"
      },
      {
        "duration": 4,
        "start_time": "2021-07-08T09:06:29.189Z"
      },
      {
        "duration": 244,
        "start_time": "2021-07-08T09:06:29.195Z"
      },
      {
        "duration": 91,
        "start_time": "2021-07-08T09:06:29.441Z"
      },
      {
        "duration": 4,
        "start_time": "2021-07-08T09:06:29.534Z"
      },
      {
        "duration": 28,
        "start_time": "2021-07-08T09:06:29.540Z"
      },
      {
        "duration": 6,
        "start_time": "2021-07-08T09:06:29.570Z"
      },
      {
        "duration": 18,
        "start_time": "2021-07-08T09:06:29.578Z"
      },
      {
        "duration": 5,
        "start_time": "2021-07-08T09:06:29.597Z"
      },
      {
        "duration": 13,
        "start_time": "2021-07-08T09:06:29.605Z"
      },
      {
        "duration": 8,
        "start_time": "2021-07-08T09:06:29.620Z"
      },
      {
        "duration": 7,
        "start_time": "2021-07-08T09:06:29.630Z"
      },
      {
        "duration": 63,
        "start_time": "2021-07-08T09:06:29.639Z"
      },
      {
        "duration": 17,
        "start_time": "2021-07-08T09:06:29.704Z"
      },
      {
        "duration": 20,
        "start_time": "2021-07-08T09:06:29.723Z"
      },
      {
        "duration": 6,
        "start_time": "2021-07-08T09:06:29.745Z"
      },
      {
        "duration": 3,
        "start_time": "2021-07-08T09:06:29.752Z"
      },
      {
        "duration": 7,
        "start_time": "2021-07-08T09:06:29.785Z"
      },
      {
        "duration": 11,
        "start_time": "2021-07-08T09:06:29.794Z"
      },
      {
        "duration": 15,
        "start_time": "2021-07-08T09:06:29.807Z"
      },
      {
        "duration": 8,
        "start_time": "2021-07-08T09:06:29.823Z"
      },
      {
        "duration": 70,
        "start_time": "2021-07-08T09:06:29.832Z"
      },
      {
        "duration": 17,
        "start_time": "2021-07-08T09:06:29.903Z"
      },
      {
        "duration": 9,
        "start_time": "2021-07-08T09:06:29.921Z"
      },
      {
        "duration": 9,
        "start_time": "2021-07-08T09:06:29.932Z"
      },
      {
        "duration": 57,
        "start_time": "2021-07-08T09:06:29.942Z"
      },
      {
        "duration": 11,
        "start_time": "2021-07-08T09:06:30.001Z"
      },
      {
        "duration": 19,
        "start_time": "2021-07-08T09:06:30.016Z"
      },
      {
        "duration": 217,
        "start_time": "2021-07-08T09:06:30.037Z"
      },
      {
        "duration": 6,
        "start_time": "2021-07-08T09:06:30.255Z"
      },
      {
        "duration": 205,
        "start_time": "2021-07-08T09:06:30.263Z"
      },
      {
        "duration": 27,
        "start_time": "2021-07-08T09:06:30.470Z"
      },
      {
        "duration": 11,
        "start_time": "2021-07-08T09:06:30.500Z"
      },
      {
        "duration": 31,
        "start_time": "2021-07-08T09:06:30.513Z"
      },
      {
        "duration": 18,
        "start_time": "2021-07-08T09:06:30.546Z"
      },
      {
        "duration": 11,
        "start_time": "2021-07-08T09:06:30.566Z"
      },
      {
        "duration": 19,
        "start_time": "2021-07-08T09:06:30.579Z"
      },
      {
        "duration": 20,
        "start_time": "2021-07-08T09:06:49.466Z"
      },
      {
        "duration": 9,
        "start_time": "2021-07-08T09:06:51.994Z"
      },
      {
        "duration": 20,
        "start_time": "2021-07-08T09:06:52.273Z"
      },
      {
        "duration": 246,
        "start_time": "2021-07-08T09:10:21.272Z"
      },
      {
        "duration": 84,
        "start_time": "2021-07-08T09:10:21.436Z"
      },
      {
        "duration": 7,
        "start_time": "2021-07-08T09:10:37.608Z"
      },
      {
        "duration": 189,
        "start_time": "2021-07-08T09:10:38.573Z"
      },
      {
        "duration": 185,
        "start_time": "2021-07-08T09:10:53.181Z"
      },
      {
        "duration": 11,
        "start_time": "2021-07-08T09:10:59.549Z"
      },
      {
        "duration": 42,
        "start_time": "2021-07-08T09:10:59.709Z"
      },
      {
        "duration": 12,
        "start_time": "2021-07-08T09:11:02.857Z"
      },
      {
        "duration": 28,
        "start_time": "2021-07-08T09:11:10.062Z"
      },
      {
        "duration": 249,
        "start_time": "2021-07-08T09:11:37.388Z"
      },
      {
        "duration": 232,
        "start_time": "2021-07-08T09:11:49.485Z"
      },
      {
        "duration": 453,
        "start_time": "2021-07-08T09:12:01.546Z"
      },
      {
        "duration": 440,
        "start_time": "2021-07-08T09:12:12.347Z"
      },
      {
        "duration": 213,
        "start_time": "2021-07-08T09:13:32.196Z"
      },
      {
        "duration": 172,
        "start_time": "2021-07-08T09:14:07.400Z"
      },
      {
        "duration": 185,
        "start_time": "2021-07-08T09:14:14.905Z"
      },
      {
        "duration": 209,
        "start_time": "2021-07-08T09:14:40.109Z"
      },
      {
        "duration": 201,
        "start_time": "2021-07-08T09:14:54.506Z"
      },
      {
        "duration": 622,
        "start_time": "2021-07-08T09:18:14.497Z"
      },
      {
        "duration": 220,
        "start_time": "2021-07-08T09:18:15.121Z"
      },
      {
        "duration": 79,
        "start_time": "2021-07-08T09:18:15.343Z"
      },
      {
        "duration": 4,
        "start_time": "2021-07-08T09:18:15.425Z"
      },
      {
        "duration": 24,
        "start_time": "2021-07-08T09:18:15.431Z"
      },
      {
        "duration": 8,
        "start_time": "2021-07-08T09:18:15.457Z"
      },
      {
        "duration": 16,
        "start_time": "2021-07-08T09:18:15.466Z"
      },
      {
        "duration": 5,
        "start_time": "2021-07-08T09:18:15.484Z"
      },
      {
        "duration": 10,
        "start_time": "2021-07-08T09:18:15.493Z"
      },
      {
        "duration": 8,
        "start_time": "2021-07-08T09:18:15.504Z"
      },
      {
        "duration": 7,
        "start_time": "2021-07-08T09:18:15.513Z"
      },
      {
        "duration": 26,
        "start_time": "2021-07-08T09:18:15.522Z"
      },
      {
        "duration": 49,
        "start_time": "2021-07-08T09:18:15.550Z"
      },
      {
        "duration": 21,
        "start_time": "2021-07-08T09:18:15.601Z"
      },
      {
        "duration": 8,
        "start_time": "2021-07-08T09:18:15.624Z"
      },
      {
        "duration": 3,
        "start_time": "2021-07-08T09:18:15.634Z"
      },
      {
        "duration": 8,
        "start_time": "2021-07-08T09:18:15.639Z"
      },
      {
        "duration": 45,
        "start_time": "2021-07-08T09:18:15.649Z"
      },
      {
        "duration": 13,
        "start_time": "2021-07-08T09:18:15.696Z"
      },
      {
        "duration": 10,
        "start_time": "2021-07-08T09:18:15.711Z"
      },
      {
        "duration": 64,
        "start_time": "2021-07-08T09:18:15.722Z"
      },
      {
        "duration": 19,
        "start_time": "2021-07-08T09:18:15.788Z"
      },
      {
        "duration": 9,
        "start_time": "2021-07-08T09:18:15.809Z"
      },
      {
        "duration": 9,
        "start_time": "2021-07-08T09:18:15.820Z"
      },
      {
        "duration": 18,
        "start_time": "2021-07-08T09:18:15.831Z"
      },
      {
        "duration": 43,
        "start_time": "2021-07-08T09:18:15.851Z"
      },
      {
        "duration": 12,
        "start_time": "2021-07-08T09:18:15.897Z"
      },
      {
        "duration": 219,
        "start_time": "2021-07-08T09:18:15.911Z"
      },
      {
        "duration": 8,
        "start_time": "2021-07-08T09:18:16.132Z"
      },
      {
        "duration": 199,
        "start_time": "2021-07-08T09:18:16.141Z"
      },
      {
        "duration": 18,
        "start_time": "2021-07-08T09:18:16.341Z"
      },
      {
        "duration": 24,
        "start_time": "2021-07-08T09:18:16.361Z"
      },
      {
        "duration": 24,
        "start_time": "2021-07-08T09:18:16.387Z"
      },
      {
        "duration": 211,
        "start_time": "2021-07-08T09:18:16.413Z"
      },
      {
        "duration": 18,
        "start_time": "2021-07-08T09:18:16.626Z"
      },
      {
        "duration": 596,
        "start_time": "2021-07-08T10:06:33.623Z"
      },
      {
        "duration": 181,
        "start_time": "2021-07-08T10:06:34.221Z"
      },
      {
        "duration": 176,
        "start_time": "2021-07-08T10:06:34.635Z"
      },
      {
        "duration": 239,
        "start_time": "2021-07-08T10:06:55.572Z"
      },
      {
        "duration": 6,
        "start_time": "2021-07-08T10:06:57.687Z"
      },
      {
        "duration": 4,
        "start_time": "2021-07-08T10:07:03.956Z"
      },
      {
        "duration": 4,
        "start_time": "2021-07-08T10:07:10.376Z"
      },
      {
        "duration": 4,
        "start_time": "2021-07-08T10:17:19.889Z"
      },
      {
        "duration": 3,
        "start_time": "2021-07-08T10:19:19.407Z"
      },
      {
        "duration": 197,
        "start_time": "2021-07-08T10:19:19.412Z"
      },
      {
        "duration": 127,
        "start_time": "2021-07-08T10:19:19.611Z"
      },
      {
        "duration": 4,
        "start_time": "2021-07-08T10:19:19.740Z"
      },
      {
        "duration": 27,
        "start_time": "2021-07-08T10:19:19.746Z"
      },
      {
        "duration": 7,
        "start_time": "2021-07-08T10:19:19.775Z"
      },
      {
        "duration": 30,
        "start_time": "2021-07-08T10:19:19.784Z"
      },
      {
        "duration": 7,
        "start_time": "2021-07-08T10:19:19.817Z"
      },
      {
        "duration": 26,
        "start_time": "2021-07-08T10:19:19.826Z"
      },
      {
        "duration": 18,
        "start_time": "2021-07-08T10:19:19.854Z"
      },
      {
        "duration": 14,
        "start_time": "2021-07-08T10:19:19.874Z"
      },
      {
        "duration": 48,
        "start_time": "2021-07-08T10:19:19.890Z"
      },
      {
        "duration": 17,
        "start_time": "2021-07-08T10:19:19.940Z"
      },
      {
        "duration": 38,
        "start_time": "2021-07-08T10:19:19.959Z"
      },
      {
        "duration": 8,
        "start_time": "2021-07-08T10:19:19.999Z"
      },
      {
        "duration": 15,
        "start_time": "2021-07-08T10:19:20.009Z"
      },
      {
        "duration": 22,
        "start_time": "2021-07-08T10:19:20.026Z"
      },
      {
        "duration": 10,
        "start_time": "2021-07-08T10:19:20.050Z"
      },
      {
        "duration": 10,
        "start_time": "2021-07-08T10:19:20.062Z"
      },
      {
        "duration": 20,
        "start_time": "2021-07-08T10:19:20.073Z"
      },
      {
        "duration": 29,
        "start_time": "2021-07-08T10:19:20.095Z"
      },
      {
        "duration": 17,
        "start_time": "2021-07-08T10:19:20.126Z"
      },
      {
        "duration": 40,
        "start_time": "2021-07-08T10:19:20.146Z"
      },
      {
        "duration": 15,
        "start_time": "2021-07-08T10:19:20.189Z"
      },
      {
        "duration": 19,
        "start_time": "2021-07-08T10:19:20.206Z"
      },
      {
        "duration": 10,
        "start_time": "2021-07-08T10:19:20.226Z"
      },
      {
        "duration": 11,
        "start_time": "2021-07-08T10:19:20.238Z"
      },
      {
        "duration": 297,
        "start_time": "2021-07-08T10:19:20.250Z"
      },
      {
        "duration": 6,
        "start_time": "2021-07-08T10:19:20.549Z"
      },
      {
        "duration": 191,
        "start_time": "2021-07-08T10:19:20.557Z"
      },
      {
        "duration": 19,
        "start_time": "2021-07-08T10:19:20.750Z"
      },
      {
        "duration": 20,
        "start_time": "2021-07-08T10:19:20.771Z"
      },
      {
        "duration": 15,
        "start_time": "2021-07-08T10:19:20.793Z"
      },
      {
        "duration": 222,
        "start_time": "2021-07-08T10:19:20.809Z"
      },
      {
        "duration": 20,
        "start_time": "2021-07-08T10:19:21.033Z"
      },
      {
        "duration": 27,
        "start_time": "2021-07-08T10:45:04.055Z"
      },
      {
        "duration": 8,
        "start_time": "2021-07-08T10:45:08.478Z"
      },
      {
        "duration": 8,
        "start_time": "2021-07-08T10:45:31.982Z"
      },
      {
        "duration": 10,
        "start_time": "2021-07-08T10:46:01.221Z"
      },
      {
        "duration": 17,
        "start_time": "2021-07-08T10:46:40.011Z"
      },
      {
        "duration": 193,
        "start_time": "2021-07-08T10:48:19.471Z"
      },
      {
        "duration": 225,
        "start_time": "2021-07-08T10:49:26.480Z"
      },
      {
        "duration": 204,
        "start_time": "2021-07-08T10:49:59.992Z"
      },
      {
        "duration": 435,
        "start_time": "2021-07-08T10:50:06.779Z"
      },
      {
        "duration": 199,
        "start_time": "2021-07-08T10:50:14.891Z"
      },
      {
        "duration": 204,
        "start_time": "2021-07-08T10:50:18.501Z"
      },
      {
        "duration": 244,
        "start_time": "2021-07-08T10:50:23.359Z"
      },
      {
        "duration": 192,
        "start_time": "2021-07-08T10:50:29.135Z"
      },
      {
        "duration": 218,
        "start_time": "2021-07-08T10:50:33.092Z"
      },
      {
        "duration": 207,
        "start_time": "2021-07-08T10:52:45.381Z"
      },
      {
        "duration": 5,
        "start_time": "2021-07-08T10:53:34.641Z"
      },
      {
        "duration": 196,
        "start_time": "2021-07-08T10:53:41.478Z"
      },
      {
        "duration": 43,
        "start_time": "2021-07-08T10:53:50.335Z"
      },
      {
        "duration": 32,
        "start_time": "2021-07-08T10:53:55.294Z"
      },
      {
        "duration": 55,
        "start_time": "2021-07-08T10:54:09.675Z"
      },
      {
        "duration": 16,
        "start_time": "2021-07-08T10:54:12.260Z"
      },
      {
        "duration": 15,
        "start_time": "2021-07-08T10:54:49.150Z"
      },
      {
        "duration": 20,
        "start_time": "2021-07-08T10:56:07.596Z"
      },
      {
        "duration": 16,
        "start_time": "2021-07-08T10:58:26.276Z"
      },
      {
        "duration": 22,
        "start_time": "2021-07-08T10:59:00.486Z"
      },
      {
        "duration": 18,
        "start_time": "2021-07-08T11:02:09.653Z"
      },
      {
        "duration": 10,
        "start_time": "2021-07-08T11:03:44.331Z"
      },
      {
        "duration": 10,
        "start_time": "2021-07-08T11:03:54.055Z"
      },
      {
        "duration": 12,
        "start_time": "2021-07-08T11:04:41.967Z"
      },
      {
        "duration": 24,
        "start_time": "2021-07-08T11:07:30.732Z"
      },
      {
        "duration": 6,
        "start_time": "2021-07-08T11:07:37.364Z"
      },
      {
        "duration": 16,
        "start_time": "2021-07-08T11:08:01.819Z"
      },
      {
        "duration": 17,
        "start_time": "2021-07-08T11:09:47.488Z"
      },
      {
        "duration": 246,
        "start_time": "2021-07-08T11:10:00.830Z"
      },
      {
        "duration": 18,
        "start_time": "2021-07-08T11:13:55.195Z"
      },
      {
        "duration": 204,
        "start_time": "2021-07-08T11:14:04.951Z"
      },
      {
        "duration": 19,
        "start_time": "2021-07-08T11:15:10.613Z"
      },
      {
        "duration": 680,
        "start_time": "2021-07-08T11:16:25.793Z"
      },
      {
        "duration": 451,
        "start_time": "2021-07-08T11:16:40.313Z"
      },
      {
        "duration": 469,
        "start_time": "2021-07-08T11:17:21.286Z"
      },
      {
        "duration": 20,
        "start_time": "2021-07-08T11:19:12.554Z"
      },
      {
        "duration": 35,
        "start_time": "2021-07-08T11:20:05.484Z"
      },
      {
        "duration": 53,
        "start_time": "2021-07-08T11:21:40.050Z"
      },
      {
        "duration": 13,
        "start_time": "2021-07-08T11:22:26.059Z"
      },
      {
        "duration": 19,
        "start_time": "2021-07-08T11:22:47.419Z"
      },
      {
        "duration": 25,
        "start_time": "2021-07-08T11:23:19.958Z"
      },
      {
        "duration": 29,
        "start_time": "2021-07-08T11:23:25.415Z"
      },
      {
        "duration": 10,
        "start_time": "2021-07-08T11:24:45.138Z"
      },
      {
        "duration": 19,
        "start_time": "2021-07-08T11:24:54.498Z"
      },
      {
        "duration": 12,
        "start_time": "2021-07-08T11:25:32.225Z"
      },
      {
        "duration": 19,
        "start_time": "2021-07-08T11:25:37.092Z"
      },
      {
        "duration": 17,
        "start_time": "2021-07-08T11:25:58.116Z"
      },
      {
        "duration": 15,
        "start_time": "2021-07-08T11:26:02.258Z"
      },
      {
        "duration": 8,
        "start_time": "2021-07-08T11:26:59.682Z"
      },
      {
        "duration": 184,
        "start_time": "2021-07-08T11:27:21.894Z"
      },
      {
        "duration": 8,
        "start_time": "2021-07-08T11:27:23.824Z"
      },
      {
        "duration": 202,
        "start_time": "2021-07-08T11:27:23.962Z"
      },
      {
        "duration": 360,
        "start_time": "2021-07-08T11:28:33.215Z"
      },
      {
        "duration": 231,
        "start_time": "2021-07-08T11:32:05.542Z"
      },
      {
        "duration": 607,
        "start_time": "2021-07-08T11:36:27.854Z"
      },
      {
        "duration": 241,
        "start_time": "2021-07-08T11:36:28.463Z"
      },
      {
        "duration": 67,
        "start_time": "2021-07-08T11:36:28.709Z"
      },
      {
        "duration": 5,
        "start_time": "2021-07-08T11:36:28.778Z"
      },
      {
        "duration": 32,
        "start_time": "2021-07-08T11:36:28.784Z"
      },
      {
        "duration": 11,
        "start_time": "2021-07-08T11:36:28.819Z"
      },
      {
        "duration": 20,
        "start_time": "2021-07-08T11:36:28.834Z"
      },
      {
        "duration": 36,
        "start_time": "2021-07-08T11:36:28.857Z"
      },
      {
        "duration": 16,
        "start_time": "2021-07-08T11:36:28.895Z"
      },
      {
        "duration": 14,
        "start_time": "2021-07-08T11:36:28.913Z"
      },
      {
        "duration": 9,
        "start_time": "2021-07-08T11:36:28.930Z"
      },
      {
        "duration": 55,
        "start_time": "2021-07-08T11:36:28.941Z"
      },
      {
        "duration": 27,
        "start_time": "2021-07-08T11:36:28.999Z"
      },
      {
        "duration": 30,
        "start_time": "2021-07-08T11:36:29.028Z"
      },
      {
        "duration": 31,
        "start_time": "2021-07-08T11:36:29.060Z"
      },
      {
        "duration": 3,
        "start_time": "2021-07-08T11:36:29.093Z"
      },
      {
        "duration": 12,
        "start_time": "2021-07-08T11:36:29.099Z"
      },
      {
        "duration": 11,
        "start_time": "2021-07-08T11:36:29.112Z"
      },
      {
        "duration": 12,
        "start_time": "2021-07-08T11:36:29.125Z"
      },
      {
        "duration": 9,
        "start_time": "2021-07-08T11:36:29.139Z"
      },
      {
        "duration": 31,
        "start_time": "2021-07-08T11:36:29.191Z"
      },
      {
        "duration": 17,
        "start_time": "2021-07-08T11:36:29.226Z"
      },
      {
        "duration": 7,
        "start_time": "2021-07-08T11:36:29.245Z"
      },
      {
        "duration": 10,
        "start_time": "2021-07-08T11:36:29.254Z"
      },
      {
        "duration": 30,
        "start_time": "2021-07-08T11:36:29.292Z"
      },
      {
        "duration": 11,
        "start_time": "2021-07-08T11:36:29.324Z"
      },
      {
        "duration": 11,
        "start_time": "2021-07-08T11:36:29.337Z"
      },
      {
        "duration": 230,
        "start_time": "2021-07-08T11:36:29.349Z"
      },
      {
        "duration": 13,
        "start_time": "2021-07-08T11:36:29.588Z"
      },
      {
        "duration": 205,
        "start_time": "2021-07-08T11:36:29.603Z"
      },
      {
        "duration": 20,
        "start_time": "2021-07-08T11:36:29.810Z"
      },
      {
        "duration": 9,
        "start_time": "2021-07-08T11:36:29.832Z"
      },
      {
        "duration": 16,
        "start_time": "2021-07-08T11:36:29.843Z"
      },
      {
        "duration": 283,
        "start_time": "2021-07-08T11:36:29.861Z"
      },
      {
        "duration": 50,
        "start_time": "2021-07-08T11:36:30.146Z"
      },
      {
        "duration": 14,
        "start_time": "2021-07-08T11:36:30.198Z"
      },
      {
        "duration": 11,
        "start_time": "2021-07-08T11:36:30.214Z"
      },
      {
        "duration": 245,
        "start_time": "2021-07-08T11:36:30.227Z"
      },
      {
        "duration": 439,
        "start_time": "2021-07-08T11:36:30.474Z"
      },
      {
        "duration": 210,
        "start_time": "2021-07-08T11:36:30.915Z"
      },
      {
        "duration": 15,
        "start_time": "2021-07-08T11:36:31.127Z"
      },
      {
        "duration": 17,
        "start_time": "2021-07-08T11:38:20.451Z"
      },
      {
        "duration": 642,
        "start_time": "2021-07-08T11:46:17.881Z"
      },
      {
        "duration": 210,
        "start_time": "2021-07-08T11:46:18.525Z"
      },
      {
        "duration": 104,
        "start_time": "2021-07-08T11:46:18.741Z"
      },
      {
        "duration": 8,
        "start_time": "2021-07-08T11:46:18.847Z"
      },
      {
        "duration": 25,
        "start_time": "2021-07-08T11:46:18.857Z"
      },
      {
        "duration": 14,
        "start_time": "2021-07-08T11:46:18.884Z"
      },
      {
        "duration": 22,
        "start_time": "2021-07-08T11:46:18.900Z"
      },
      {
        "duration": 5,
        "start_time": "2021-07-08T11:46:18.924Z"
      },
      {
        "duration": 13,
        "start_time": "2021-07-08T11:46:18.931Z"
      },
      {
        "duration": 45,
        "start_time": "2021-07-08T11:46:18.946Z"
      },
      {
        "duration": 12,
        "start_time": "2021-07-08T11:46:18.993Z"
      },
      {
        "duration": 38,
        "start_time": "2021-07-08T11:46:19.006Z"
      },
      {
        "duration": 50,
        "start_time": "2021-07-08T11:46:19.046Z"
      },
      {
        "duration": 29,
        "start_time": "2021-07-08T11:46:19.099Z"
      },
      {
        "duration": 7,
        "start_time": "2021-07-08T11:46:19.130Z"
      },
      {
        "duration": 3,
        "start_time": "2021-07-08T11:46:19.139Z"
      },
      {
        "duration": 11,
        "start_time": "2021-07-08T11:46:19.144Z"
      },
      {
        "duration": 40,
        "start_time": "2021-07-08T11:46:19.157Z"
      },
      {
        "duration": 15,
        "start_time": "2021-07-08T11:46:19.199Z"
      },
      {
        "duration": 10,
        "start_time": "2021-07-08T11:46:19.217Z"
      },
      {
        "duration": 68,
        "start_time": "2021-07-08T11:46:19.230Z"
      },
      {
        "duration": 17,
        "start_time": "2021-07-08T11:46:19.301Z"
      },
      {
        "duration": 7,
        "start_time": "2021-07-08T11:46:19.321Z"
      },
      {
        "duration": 11,
        "start_time": "2021-07-08T11:46:19.330Z"
      },
      {
        "duration": 59,
        "start_time": "2021-07-08T11:46:19.343Z"
      },
      {
        "duration": 17,
        "start_time": "2021-07-08T11:46:19.405Z"
      },
      {
        "duration": 16,
        "start_time": "2021-07-08T11:46:19.424Z"
      },
      {
        "duration": 252,
        "start_time": "2021-07-08T11:46:19.443Z"
      },
      {
        "duration": 9,
        "start_time": "2021-07-08T11:46:19.697Z"
      },
      {
        "duration": 224,
        "start_time": "2021-07-08T11:46:19.708Z"
      },
      {
        "duration": 21,
        "start_time": "2021-07-08T11:46:19.934Z"
      },
      {
        "duration": 9,
        "start_time": "2021-07-08T11:46:19.956Z"
      },
      {
        "duration": 32,
        "start_time": "2021-07-08T11:46:19.967Z"
      },
      {
        "duration": 288,
        "start_time": "2021-07-08T11:46:20.004Z"
      },
      {
        "duration": 23,
        "start_time": "2021-07-08T11:46:20.300Z"
      },
      {
        "duration": 11,
        "start_time": "2021-07-08T11:46:20.325Z"
      },
      {
        "duration": 11,
        "start_time": "2021-07-08T11:46:20.339Z"
      },
      {
        "duration": 259,
        "start_time": "2021-07-08T11:46:20.352Z"
      },
      {
        "duration": 438,
        "start_time": "2021-07-08T11:46:20.613Z"
      },
      {
        "duration": 207,
        "start_time": "2021-07-08T11:46:21.054Z"
      },
      {
        "duration": 27,
        "start_time": "2021-07-08T11:46:21.262Z"
      },
      {
        "duration": 19,
        "start_time": "2021-07-08T11:46:21.291Z"
      },
      {
        "duration": 820,
        "start_time": "2021-07-08T11:49:01.655Z"
      },
      {
        "duration": 372,
        "start_time": "2021-07-08T11:49:02.478Z"
      },
      {
        "duration": 98,
        "start_time": "2021-07-08T11:49:02.853Z"
      },
      {
        "duration": 6,
        "start_time": "2021-07-08T11:49:02.953Z"
      },
      {
        "duration": 39,
        "start_time": "2021-07-08T11:49:02.960Z"
      },
      {
        "duration": 9,
        "start_time": "2021-07-08T11:49:03.003Z"
      },
      {
        "duration": 23,
        "start_time": "2021-07-08T11:49:03.014Z"
      },
      {
        "duration": 6,
        "start_time": "2021-07-08T11:49:03.041Z"
      },
      {
        "duration": 20,
        "start_time": "2021-07-08T11:49:03.049Z"
      },
      {
        "duration": 18,
        "start_time": "2021-07-08T11:49:03.084Z"
      },
      {
        "duration": 14,
        "start_time": "2021-07-08T11:49:03.104Z"
      },
      {
        "duration": 39,
        "start_time": "2021-07-08T11:49:03.119Z"
      },
      {
        "duration": 38,
        "start_time": "2021-07-08T11:49:03.160Z"
      },
      {
        "duration": 26,
        "start_time": "2021-07-08T11:49:03.200Z"
      },
      {
        "duration": 7,
        "start_time": "2021-07-08T11:49:03.227Z"
      },
      {
        "duration": 4,
        "start_time": "2021-07-08T11:49:03.236Z"
      },
      {
        "duration": 15,
        "start_time": "2021-07-08T11:49:03.243Z"
      },
      {
        "duration": 21,
        "start_time": "2021-07-08T11:49:03.285Z"
      },
      {
        "duration": 17,
        "start_time": "2021-07-08T11:49:03.309Z"
      },
      {
        "duration": 10,
        "start_time": "2021-07-08T11:49:03.328Z"
      },
      {
        "duration": 65,
        "start_time": "2021-07-08T11:49:03.340Z"
      },
      {
        "duration": 18,
        "start_time": "2021-07-08T11:49:03.407Z"
      },
      {
        "duration": 8,
        "start_time": "2021-07-08T11:49:03.428Z"
      },
      {
        "duration": 15,
        "start_time": "2021-07-08T11:49:03.438Z"
      },
      {
        "duration": 40,
        "start_time": "2021-07-08T11:49:03.455Z"
      },
      {
        "duration": 12,
        "start_time": "2021-07-08T11:49:03.497Z"
      },
      {
        "duration": 29,
        "start_time": "2021-07-08T11:49:03.511Z"
      },
      {
        "duration": 285,
        "start_time": "2021-07-08T11:49:03.542Z"
      },
      {
        "duration": 8,
        "start_time": "2021-07-08T11:49:03.829Z"
      },
      {
        "duration": 227,
        "start_time": "2021-07-08T11:49:03.838Z"
      },
      {
        "duration": 40,
        "start_time": "2021-07-08T11:49:04.066Z"
      },
      {
        "duration": 10,
        "start_time": "2021-07-08T11:49:04.108Z"
      },
      {
        "duration": 26,
        "start_time": "2021-07-08T11:49:04.121Z"
      },
      {
        "duration": 290,
        "start_time": "2021-07-08T11:49:04.149Z"
      },
      {
        "duration": 26,
        "start_time": "2021-07-08T11:49:04.441Z"
      },
      {
        "duration": 31,
        "start_time": "2021-07-08T11:49:04.470Z"
      },
      {
        "duration": 14,
        "start_time": "2021-07-08T11:49:04.503Z"
      },
      {
        "duration": 259,
        "start_time": "2021-07-08T11:49:04.521Z"
      },
      {
        "duration": 480,
        "start_time": "2021-07-08T11:49:04.782Z"
      },
      {
        "duration": 225,
        "start_time": "2021-07-08T11:49:05.264Z"
      },
      {
        "duration": 22,
        "start_time": "2021-07-08T11:49:05.491Z"
      },
      {
        "duration": 24,
        "start_time": "2021-07-08T11:49:05.515Z"
      },
      {
        "duration": 634,
        "start_time": "2021-07-08T11:52:24.960Z"
      },
      {
        "duration": 199,
        "start_time": "2021-07-08T11:52:25.599Z"
      },
      {
        "duration": 106,
        "start_time": "2021-07-08T11:52:25.803Z"
      },
      {
        "duration": 7,
        "start_time": "2021-07-08T11:52:25.911Z"
      },
      {
        "duration": 29,
        "start_time": "2021-07-08T11:52:25.920Z"
      },
      {
        "duration": 7,
        "start_time": "2021-07-08T11:52:25.951Z"
      },
      {
        "duration": 26,
        "start_time": "2021-07-08T11:52:25.961Z"
      },
      {
        "duration": 11,
        "start_time": "2021-07-08T11:52:25.990Z"
      },
      {
        "duration": 29,
        "start_time": "2021-07-08T11:52:26.005Z"
      },
      {
        "duration": 9,
        "start_time": "2021-07-08T11:52:26.036Z"
      },
      {
        "duration": 8,
        "start_time": "2021-07-08T11:52:26.047Z"
      },
      {
        "duration": 63,
        "start_time": "2021-07-08T11:52:26.057Z"
      },
      {
        "duration": 17,
        "start_time": "2021-07-08T11:52:26.122Z"
      },
      {
        "duration": 43,
        "start_time": "2021-07-08T11:52:26.142Z"
      },
      {
        "duration": 17,
        "start_time": "2021-07-08T11:52:26.187Z"
      },
      {
        "duration": 5,
        "start_time": "2021-07-08T11:52:26.206Z"
      },
      {
        "duration": 12,
        "start_time": "2021-07-08T11:52:26.212Z"
      },
      {
        "duration": 11,
        "start_time": "2021-07-08T11:52:26.226Z"
      },
      {
        "duration": 12,
        "start_time": "2021-07-08T11:52:26.238Z"
      },
      {
        "duration": 38,
        "start_time": "2021-07-08T11:52:26.252Z"
      },
      {
        "duration": 40,
        "start_time": "2021-07-08T11:52:26.292Z"
      },
      {
        "duration": 17,
        "start_time": "2021-07-08T11:52:26.336Z"
      },
      {
        "duration": 39,
        "start_time": "2021-07-08T11:52:26.355Z"
      },
      {
        "duration": 11,
        "start_time": "2021-07-08T11:52:26.395Z"
      },
      {
        "duration": 23,
        "start_time": "2021-07-08T11:52:26.408Z"
      },
      {
        "duration": 12,
        "start_time": "2021-07-08T11:52:26.432Z"
      },
      {
        "duration": 41,
        "start_time": "2021-07-08T11:52:26.446Z"
      },
      {
        "duration": 215,
        "start_time": "2021-07-08T11:52:26.493Z"
      },
      {
        "duration": 8,
        "start_time": "2021-07-08T11:52:26.710Z"
      },
      {
        "duration": 228,
        "start_time": "2021-07-08T11:52:26.720Z"
      },
      {
        "duration": 18,
        "start_time": "2021-07-08T11:52:26.950Z"
      },
      {
        "duration": 35,
        "start_time": "2021-07-08T11:52:26.969Z"
      },
      {
        "duration": 23,
        "start_time": "2021-07-08T11:52:27.006Z"
      },
      {
        "duration": 258,
        "start_time": "2021-07-08T11:52:27.030Z"
      },
      {
        "duration": 24,
        "start_time": "2021-07-08T11:52:27.290Z"
      },
      {
        "duration": 12,
        "start_time": "2021-07-08T11:52:27.316Z"
      },
      {
        "duration": 10,
        "start_time": "2021-07-08T11:52:27.329Z"
      },
      {
        "duration": 298,
        "start_time": "2021-07-08T11:52:27.341Z"
      },
      {
        "duration": 436,
        "start_time": "2021-07-08T11:52:27.641Z"
      },
      {
        "duration": 216,
        "start_time": "2021-07-08T11:52:28.079Z"
      },
      {
        "duration": 20,
        "start_time": "2021-07-08T11:52:28.297Z"
      },
      {
        "duration": 17,
        "start_time": "2021-07-08T11:52:28.319Z"
      }
    ],
    "colab": {
      "provenance": [],
      "toc_visible": true
    },
    "kernelspec": {
      "display_name": "Python 3 (ipykernel)",
      "language": "python",
      "name": "python3"
    },
    "language_info": {
      "codemirror_mode": {
        "name": "ipython",
        "version": 3
      },
      "file_extension": ".py",
      "mimetype": "text/x-python",
      "name": "python",
      "nbconvert_exporter": "python",
      "pygments_lexer": "ipython3",
      "version": "3.9.5"
    },
    "toc": {
      "base_numbering": 1,
      "nav_menu": {},
      "number_sections": true,
      "sideBar": true,
      "skip_h1_title": true,
      "title_cell": "Table of Contents",
      "title_sidebar": "Contents",
      "toc_cell": false,
      "toc_position": {
        "height": "calc(100% - 180px)",
        "left": "10px",
        "top": "150px",
        "width": "375.391px"
      },
      "toc_section_display": true,
      "toc_window_display": false
    }
  },
  "nbformat": 4,
  "nbformat_minor": 0
}